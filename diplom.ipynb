{
  "nbformat": 4,
  "nbformat_minor": 0,
  "metadata": {
    "colab": {
      "name": "diplom.ipynb",
      "provenance": [],
      "collapsed_sections": [],
      "authorship_tag": "ABX9TyMSzVCMWY9VLWTu4oHjn0EK",
      "include_colab_link": true
    },
    "kernelspec": {
      "name": "python3",
      "display_name": "Python 3"
    },
    "language_info": {
      "name": "python"
    }
  },
  "cells": [
    {
      "cell_type": "markdown",
      "metadata": {
        "id": "view-in-github",
        "colab_type": "text"
      },
      "source": [
        "<a href=\"https://colab.research.google.com/github/TimeryaevaM/new_rep/blob/master/diplom.ipynb\" target=\"_parent\"><img src=\"https://colab.research.google.com/assets/colab-badge.svg\" alt=\"Open In Colab\"/></a>"
      ]
    },
    {
      "cell_type": "code",
      "metadata": {
        "id": "1w30m-Auk6Ki"
      },
      "source": [
        "import pandas as pd\n",
        "import os\n",
        "import csv\n",
        "import numpy as np"
      ],
      "execution_count": null,
      "outputs": []
    },
    {
      "cell_type": "code",
      "metadata": {
        "id": "MhmxFpvSlJYX"
      },
      "source": [
        "# df = pd.read_csv(\"/data_new.csv\", sep=\",\", quoting=csv.QUOTE_ALL, encoding='utf-8')\n",
        "\n",
        "df = pd.read_csv(\"/data_new.csv\")"
      ],
      "execution_count": null,
      "outputs": []
    },
    {
      "cell_type": "code",
      "metadata": {
        "colab": {
          "base_uri": "https://localhost:8080/",
          "height": 391
        },
        "id": "mLaEOsPh-cZe",
        "outputId": "338dd290-8613-498a-8b68-c22f60eff695"
      },
      "source": [
        "df.head()"
      ],
      "execution_count": null,
      "outputs": [
        {
          "output_type": "execute_result",
          "data": {
            "text/html": [
              "<div>\n",
              "<style scoped>\n",
              "    .dataframe tbody tr th:only-of-type {\n",
              "        vertical-align: middle;\n",
              "    }\n",
              "\n",
              "    .dataframe tbody tr th {\n",
              "        vertical-align: top;\n",
              "    }\n",
              "\n",
              "    .dataframe thead th {\n",
              "        text-align: right;\n",
              "    }\n",
              "</style>\n",
              "<table border=\"1\" class=\"dataframe\">\n",
              "  <thead>\n",
              "    <tr style=\"text-align: right;\">\n",
              "      <th></th>\n",
              "      <th>status</th>\n",
              "      <th>private pool</th>\n",
              "      <th>propertyType</th>\n",
              "      <th>street</th>\n",
              "      <th>baths</th>\n",
              "      <th>homeFacts</th>\n",
              "      <th>fireplace</th>\n",
              "      <th>city</th>\n",
              "      <th>schools</th>\n",
              "      <th>sqft</th>\n",
              "      <th>zipcode</th>\n",
              "      <th>beds</th>\n",
              "      <th>state</th>\n",
              "      <th>stories</th>\n",
              "      <th>mls-id</th>\n",
              "      <th>PrivatePool</th>\n",
              "      <th>MlsId</th>\n",
              "      <th>target</th>\n",
              "    </tr>\n",
              "  </thead>\n",
              "  <tbody>\n",
              "    <tr>\n",
              "      <th>0</th>\n",
              "      <td>Active</td>\n",
              "      <td>NaN</td>\n",
              "      <td>Single Family Home</td>\n",
              "      <td>240 Heather Ln</td>\n",
              "      <td>3.5</td>\n",
              "      <td>{'atAGlanceFacts': [{'factValue': '2019', 'fac...</td>\n",
              "      <td>Gas Logs</td>\n",
              "      <td>Southern Pines</td>\n",
              "      <td>[{'rating': ['4', '4', '7', 'NR', '4', '7', 'N...</td>\n",
              "      <td>2900</td>\n",
              "      <td>28387</td>\n",
              "      <td>4</td>\n",
              "      <td>NC</td>\n",
              "      <td>NaN</td>\n",
              "      <td>NaN</td>\n",
              "      <td>NaN</td>\n",
              "      <td>611019</td>\n",
              "      <td>$418,000</td>\n",
              "    </tr>\n",
              "    <tr>\n",
              "      <th>1</th>\n",
              "      <td>for sale</td>\n",
              "      <td>NaN</td>\n",
              "      <td>single-family home</td>\n",
              "      <td>12911 E Heroy Ave</td>\n",
              "      <td>3 Baths</td>\n",
              "      <td>{'atAGlanceFacts': [{'factValue': '2019', 'fac...</td>\n",
              "      <td>NaN</td>\n",
              "      <td>Spokane Valley</td>\n",
              "      <td>[{'rating': ['4/10', 'None/10', '4/10'], 'data...</td>\n",
              "      <td>1,947 sqft</td>\n",
              "      <td>99216</td>\n",
              "      <td>3 Beds</td>\n",
              "      <td>WA</td>\n",
              "      <td>2.0</td>\n",
              "      <td>NaN</td>\n",
              "      <td>NaN</td>\n",
              "      <td>201916904</td>\n",
              "      <td>$310,000</td>\n",
              "    </tr>\n",
              "    <tr>\n",
              "      <th>2</th>\n",
              "      <td>for sale</td>\n",
              "      <td>NaN</td>\n",
              "      <td>single-family home</td>\n",
              "      <td>2005 Westridge Rd</td>\n",
              "      <td>2 Baths</td>\n",
              "      <td>{'atAGlanceFacts': [{'factValue': '1961', 'fac...</td>\n",
              "      <td>yes</td>\n",
              "      <td>Los Angeles</td>\n",
              "      <td>[{'rating': ['8/10', '4/10', '8/10'], 'data': ...</td>\n",
              "      <td>3,000 sqft</td>\n",
              "      <td>90049</td>\n",
              "      <td>3 Beds</td>\n",
              "      <td>CA</td>\n",
              "      <td>1.0</td>\n",
              "      <td>NaN</td>\n",
              "      <td>yes</td>\n",
              "      <td>FR19221027</td>\n",
              "      <td>$2,895,000</td>\n",
              "    </tr>\n",
              "    <tr>\n",
              "      <th>3</th>\n",
              "      <td>for sale</td>\n",
              "      <td>NaN</td>\n",
              "      <td>single-family home</td>\n",
              "      <td>4311 Livingston Ave</td>\n",
              "      <td>8 Baths</td>\n",
              "      <td>{'atAGlanceFacts': [{'factValue': '2006', 'fac...</td>\n",
              "      <td>yes</td>\n",
              "      <td>Dallas</td>\n",
              "      <td>[{'rating': ['9/10', '9/10', '10/10', '9/10'],...</td>\n",
              "      <td>6,457 sqft</td>\n",
              "      <td>75205</td>\n",
              "      <td>5 Beds</td>\n",
              "      <td>TX</td>\n",
              "      <td>3.0</td>\n",
              "      <td>NaN</td>\n",
              "      <td>NaN</td>\n",
              "      <td>14191809</td>\n",
              "      <td>$2,395,000</td>\n",
              "    </tr>\n",
              "    <tr>\n",
              "      <th>4</th>\n",
              "      <td>for sale</td>\n",
              "      <td>NaN</td>\n",
              "      <td>lot/land</td>\n",
              "      <td>1524 Kiscoe St</td>\n",
              "      <td>NaN</td>\n",
              "      <td>{'atAGlanceFacts': [{'factValue': '', 'factLab...</td>\n",
              "      <td>NaN</td>\n",
              "      <td>Palm Bay</td>\n",
              "      <td>[{'rating': ['4/10', '5/10', '5/10'], 'data': ...</td>\n",
              "      <td>NaN</td>\n",
              "      <td>32908</td>\n",
              "      <td>NaN</td>\n",
              "      <td>FL</td>\n",
              "      <td>NaN</td>\n",
              "      <td>NaN</td>\n",
              "      <td>NaN</td>\n",
              "      <td>861745</td>\n",
              "      <td>$5,000</td>\n",
              "    </tr>\n",
              "  </tbody>\n",
              "</table>\n",
              "</div>"
            ],
            "text/plain": [
              "     status private pool  ...       MlsId      target\n",
              "0    Active          NaN  ...      611019    $418,000\n",
              "1  for sale          NaN  ...   201916904    $310,000\n",
              "2  for sale          NaN  ...  FR19221027  $2,895,000\n",
              "3  for sale          NaN  ...    14191809  $2,395,000\n",
              "4  for sale          NaN  ...      861745      $5,000\n",
              "\n",
              "[5 rows x 18 columns]"
            ]
          },
          "metadata": {
            "tags": []
          },
          "execution_count": 3
        }
      ]
    },
    {
      "cell_type": "code",
      "metadata": {
        "colab": {
          "base_uri": "https://localhost:8080/"
        },
        "id": "KO0u_3EW-okk",
        "outputId": "ec14d778-7648-4f90-e4f6-d526dddcc5c6"
      },
      "source": [
        "df.shape"
      ],
      "execution_count": null,
      "outputs": [
        {
          "output_type": "execute_result",
          "data": {
            "text/plain": [
              "(377185, 18)"
            ]
          },
          "metadata": {
            "tags": []
          },
          "execution_count": 4
        }
      ]
    },
    {
      "cell_type": "code",
      "metadata": {
        "id": "Egyx7KRmlMc9",
        "colab": {
          "base_uri": "https://localhost:8080/"
        },
        "outputId": "cf6da908-180d-4e68-8baa-a586e55a248b"
      },
      "source": [
        "df[df['target'].isna()].shape"
      ],
      "execution_count": null,
      "outputs": [
        {
          "output_type": "execute_result",
          "data": {
            "text/plain": [
              "(2481, 18)"
            ]
          },
          "metadata": {
            "tags": []
          },
          "execution_count": 5
        }
      ]
    },
    {
      "cell_type": "code",
      "metadata": {
        "colab": {
          "base_uri": "https://localhost:8080/"
        },
        "id": "nP1wSjr_vQfi",
        "outputId": "857f3ca4-e4a7-4830-adca-0ee5791d7044"
      },
      "source": [
        "df.info()"
      ],
      "execution_count": null,
      "outputs": [
        {
          "output_type": "stream",
          "text": [
            "<class 'pandas.core.frame.DataFrame'>\n",
            "RangeIndex: 377185 entries, 0 to 377184\n",
            "Data columns (total 18 columns):\n",
            " #   Column        Non-Null Count   Dtype \n",
            "---  ------        --------------   ----- \n",
            " 0   status        337267 non-null  object\n",
            " 1   private pool  4181 non-null    object\n",
            " 2   propertyType  342452 non-null  object\n",
            " 3   street        377183 non-null  object\n",
            " 4   baths         270847 non-null  object\n",
            " 5   homeFacts     377185 non-null  object\n",
            " 6   fireplace     103115 non-null  object\n",
            " 7   city          377151 non-null  object\n",
            " 8   schools       377185 non-null  object\n",
            " 9   sqft          336608 non-null  object\n",
            " 10  zipcode       377185 non-null  object\n",
            " 11  beds          285903 non-null  object\n",
            " 12  state         377185 non-null  object\n",
            " 13  stories       226470 non-null  object\n",
            " 14  mls-id        24942 non-null   object\n",
            " 15  PrivatePool   40311 non-null   object\n",
            " 16  MlsId         310305 non-null  object\n",
            " 17  target        374704 non-null  object\n",
            "dtypes: object(18)\n",
            "memory usage: 51.8+ MB\n"
          ],
          "name": "stdout"
        }
      ]
    },
    {
      "cell_type": "code",
      "metadata": {
        "colab": {
          "base_uri": "https://localhost:8080/"
        },
        "id": "DmT4P5r82xb5",
        "outputId": "a89fb3a5-b1da-4a8f-aa6e-5273510502f1"
      },
      "source": [
        "print(\"Percent NULL values\\n\")\n",
        "round(df.isna().sum() / df.shape[0] * 100, 2)"
      ],
      "execution_count": null,
      "outputs": [
        {
          "output_type": "stream",
          "text": [
            "Percent NULL values\n",
            "\n"
          ],
          "name": "stdout"
        },
        {
          "output_type": "execute_result",
          "data": {
            "text/plain": [
              "status          10.58\n",
              "private pool    98.89\n",
              "propertyType     9.21\n",
              "street           0.00\n",
              "baths           28.19\n",
              "homeFacts        0.00\n",
              "fireplace       72.66\n",
              "city             0.01\n",
              "schools          0.00\n",
              "sqft            10.76\n",
              "zipcode          0.00\n",
              "beds            24.20\n",
              "state            0.00\n",
              "stories         39.96\n",
              "mls-id          93.39\n",
              "PrivatePool     89.31\n",
              "MlsId           17.73\n",
              "target           0.66\n",
              "dtype: float64"
            ]
          },
          "metadata": {
            "tags": []
          },
          "execution_count": 7
        }
      ]
    },
    {
      "cell_type": "markdown",
      "metadata": {
        "id": "4SsjYfyy3ecP"
      },
      "source": [
        "Удаляем столбцы, где процент NULL значений больше 40%"
      ]
    },
    {
      "cell_type": "code",
      "metadata": {
        "id": "11b4aa6dK7q2"
      },
      "source": [
        "df.drop(['private pool', 'fireplace', 'mls-id', 'PrivatePool'], axis=1, inplace=True)"
      ],
      "execution_count": null,
      "outputs": []
    },
    {
      "cell_type": "code",
      "metadata": {
        "colab": {
          "base_uri": "https://localhost:8080/"
        },
        "id": "HlT7wWfZ39we",
        "outputId": "73d0c9eb-d02a-42a8-f1fc-fa98df8a0f19"
      },
      "source": [
        "df.nunique()"
      ],
      "execution_count": null,
      "outputs": [
        {
          "output_type": "execute_result",
          "data": {
            "text/plain": [
              "status             159\n",
              "propertyType      1280\n",
              "street          337076\n",
              "baths              229\n",
              "homeFacts       321009\n",
              "city              2026\n",
              "schools         297365\n",
              "sqft             25405\n",
              "zipcode           4549\n",
              "beds              1184\n",
              "state               39\n",
              "stories            348\n",
              "MlsId           232944\n",
              "target           43939\n",
              "dtype: int64"
            ]
          },
          "metadata": {
            "tags": []
          },
          "execution_count": 9
        }
      ]
    },
    {
      "cell_type": "markdown",
      "metadata": {
        "id": "jHEzEYMH1LyF"
      },
      "source": [
        "status"
      ]
    },
    {
      "cell_type": "code",
      "metadata": {
        "id": "2n1c-t7p4C-0"
      },
      "source": [
        "df['status'] = df['status'].str.lower()"
      ],
      "execution_count": null,
      "outputs": []
    },
    {
      "cell_type": "code",
      "metadata": {
        "colab": {
          "base_uri": "https://localhost:8080/",
          "height": 35
        },
        "id": "9NBV6zdI95QT",
        "outputId": "2f9a8c1d-ff41-406b-f6a2-8ea34733eec5"
      },
      "source": [
        "import string\n",
        "string.punctuation\n",
        "string.digits"
      ],
      "execution_count": null,
      "outputs": [
        {
          "output_type": "execute_result",
          "data": {
            "application/vnd.google.colaboratory.intrinsic+json": {
              "type": "string"
            },
            "text/plain": [
              "'0123456789'"
            ]
          },
          "metadata": {
            "tags": []
          },
          "execution_count": 11
        }
      ]
    },
    {
      "cell_type": "code",
      "metadata": {
        "colab": {
          "base_uri": "https://localhost:8080/"
        },
        "id": "gjVBpAcj_hvK",
        "outputId": "cd820259-f013-4543-f26a-04a9ecbaf766"
      },
      "source": [
        "df['status'] = df['status'].str.replace('[{}]'.format(string.punctuation), ' ').str.replace('[{}]'.format(string.digits), ' ').apply(lambda x: \" \".join(str(x).split()))\n",
        "df['status'].value_counts()"
      ],
      "execution_count": null,
      "outputs": [
        {
          "output_type": "execute_result",
          "data": {
            "text/plain": [
              "for sale                   199571\n",
              "active                     105207\n",
              "nan                         39918\n",
              "foreclosure                  6769\n",
              "new construction             5475\n",
              "                            ...  \n",
              "contingent no show              1\n",
              "lease purchase                  1\n",
              "contingent sale of home         1\n",
              "reactivated                     1\n",
              "pending take backups            1\n",
              "Name: status, Length: 104, dtype: int64"
            ]
          },
          "metadata": {
            "tags": []
          },
          "execution_count": 12
        }
      ]
    },
    {
      "cell_type": "code",
      "metadata": {
        "colab": {
          "base_uri": "https://localhost:8080/"
        },
        "id": "JwQBiVTSibVQ",
        "outputId": "b0935391-582c-45dc-bd1c-0668a4aa1053"
      },
      "source": [
        "df['status'].nunique()"
      ],
      "execution_count": null,
      "outputs": [
        {
          "output_type": "execute_result",
          "data": {
            "text/plain": [
              "104"
            ]
          },
          "metadata": {
            "tags": []
          },
          "execution_count": 13
        }
      ]
    },
    {
      "cell_type": "markdown",
      "metadata": {
        "id": "Vfiig-gf1Ix2"
      },
      "source": [
        "propertyType "
      ]
    },
    {
      "cell_type": "code",
      "metadata": {
        "id": "2drMoTn31Sv0"
      },
      "source": [
        "df['propertyType'] = df['propertyType'].str.lower()\n",
        "df['propertyType'] = df['propertyType'].str.replace('[{}]'.format(string.punctuation), ' ').apply(lambda x: \" \".join(str(x).split()))\n",
        "df['propertyType'] = df['propertyType'].str.replace('one', '1').str.replace('two', '2')"
      ],
      "execution_count": null,
      "outputs": []
    },
    {
      "cell_type": "code",
      "metadata": {
        "colab": {
          "base_uri": "https://localhost:8080/"
        },
        "id": "6adUWZNnCEu4",
        "outputId": "e5a0799b-e271-4141-dd53-3628cac38075"
      },
      "source": [
        "df['propertyType'].value_counts()[20:40]"
      ],
      "execution_count": null,
      "outputs": [
        {
          "output_type": "execute_result",
          "data": {
            "text/plain": [
              "contemporary modern           1010\n",
              "apartment                      922\n",
              "2 stories                      911\n",
              "mfd mobile home                792\n",
              "single detached                751\n",
              "detached 2 story               638\n",
              "2 story                        596\n",
              "transitional                   560\n",
              "cooperative                    535\n",
              "florida                        530\n",
              "bungalow                       442\n",
              "farms ranches                  371\n",
              "garden home                    305\n",
              "cape cod                       281\n",
              "2 stories traditional          280\n",
              "spanish mediterranean          272\n",
              "other style                    249\n",
              "1 story traditional            238\n",
              "other                          232\n",
              "condo townhome traditional     225\n",
              "Name: propertyType, dtype: int64"
            ]
          },
          "metadata": {
            "tags": []
          },
          "execution_count": 15
        }
      ]
    },
    {
      "cell_type": "code",
      "metadata": {
        "colab": {
          "base_uri": "https://localhost:8080/"
        },
        "id": "bUIKI--bHHOm",
        "outputId": "df21cb8c-03f1-4eb9-a10b-86413b93726d"
      },
      "source": [
        "df['stories_dop'] = df['propertyType'].str.findall(r'[a-z0-9]+ story|[a-z0-9]+ stories').apply(lambda x: None if len(x) == 0 else x[-1])\n",
        "#.str.replace('one', '1').str.replace('two', '2')\n",
        "df['stories_dop'].value_counts(dropna=False)"
      ],
      "execution_count": null,
      "outputs": [
        {
          "output_type": "execute_result",
          "data": {
            "text/plain": [
              "NaN          369527\n",
              "1 story        4440\n",
              "2 stories      1558\n",
              "2 story        1466\n",
              "3 stories       134\n",
              "8 stories        38\n",
              "7 stories        15\n",
              "3 story           6\n",
              "5 story           1\n",
              "Name: stories_dop, dtype: int64"
            ]
          },
          "metadata": {
            "tags": []
          },
          "execution_count": 16
        }
      ]
    },
    {
      "cell_type": "code",
      "metadata": {
        "id": "W1zAHyISN2sg"
      },
      "source": [
        "set_story = set(df['stories_dop'].dropna())\n",
        "for y in set_story:\n",
        "  df['propertyType'] = df['propertyType'].str.replace(y, '')"
      ],
      "execution_count": null,
      "outputs": []
    },
    {
      "cell_type": "code",
      "metadata": {
        "colab": {
          "base_uri": "https://localhost:8080/"
        },
        "id": "MWm2qcUB27s8",
        "outputId": "fc0c5a8d-c40b-42bf-d04f-44cc054b6fb9"
      },
      "source": [
        "df[df['propertyType'].str.contains('home')]['propertyType'].value_counts()"
      ],
      "execution_count": null,
      "outputs": [
        {
          "output_type": "execute_result",
          "data": {
            "text/plain": [
              "single family home                                                                        123934\n",
              "condo townhome row home co op                                                               7701\n",
              "multi family home                                                                           1501\n",
              "mfd mobile home                                                                              792\n",
              "garden home                                                                                  305\n",
              "                                                                                           ...  \n",
              "condo townhome hi rise historical conservation district mid century modern traditional         1\n",
              "condo townhome single detached                                                                 1\n",
              "condo townhome studio                                                                          1\n",
              "condo townhome contemporary modern mediterranean spanish                                       1\n",
              "manufactured home double wide                                                                  1\n",
              "Name: propertyType, Length: 137, dtype: int64"
            ]
          },
          "metadata": {
            "tags": []
          },
          "execution_count": 18
        }
      ]
    },
    {
      "cell_type": "code",
      "metadata": {
        "id": "VNsnUVuBX64m"
      },
      "source": [
        "df['propertyType'] = df['propertyType'].str.replace('home', '')\n",
        "df['propertyType'] = df['propertyType'].apply(lambda x: None if x == '' else  \" \".join(str(x).split()))"
      ],
      "execution_count": null,
      "outputs": []
    },
    {
      "cell_type": "code",
      "metadata": {
        "colab": {
          "base_uri": "https://localhost:8080/"
        },
        "id": "dZ-XFKT9XRqE",
        "outputId": "41d18107-585f-4c21-b06f-277d09937759"
      },
      "source": [
        "df['propertyType'].nunique()"
      ],
      "execution_count": null,
      "outputs": [
        {
          "output_type": "execute_result",
          "data": {
            "text/plain": [
              "1113"
            ]
          },
          "metadata": {
            "tags": []
          },
          "execution_count": 20
        }
      ]
    },
    {
      "cell_type": "markdown",
      "metadata": {
        "id": "dp5t10jcZCCK"
      },
      "source": [
        "street"
      ]
    },
    {
      "cell_type": "code",
      "metadata": {
        "colab": {
          "base_uri": "https://localhost:8080/"
        },
        "id": "17rgvZ3JXw-8",
        "outputId": "c6e3461c-c74a-44e0-85c1-ec3c3f901ffc"
      },
      "source": [
        "df['street'].value_counts(dropna=False)[1200:]"
      ],
      "execution_count": null,
      "outputs": [
        {
          "output_type": "execute_result",
          "data": {
            "text/plain": [
              "2339 3rd St NE                           3\n",
              "1800 146th Ave SE                        3\n",
              "2206 Bailey Ave                          3\n",
              "1919 Cornett Pl                          3\n",
              "8638 Ruthby St                           3\n",
              "                                        ..\n",
              "10427 Lennox Ln                          1\n",
              "Trinity II Plan in Swiss Ave Crossing    1\n",
              "12754 Highwick Cir                       1\n",
              "13048 Ambaum Blvd SW                     1\n",
              "Franklin Plan in The Trellises           1\n",
              "Name: street, Length: 335877, dtype: int64"
            ]
          },
          "metadata": {
            "tags": []
          },
          "execution_count": 21
        }
      ]
    },
    {
      "cell_type": "code",
      "metadata": {
        "id": "-sHPD6TZ6l48"
      },
      "source": [
        "df['street'] = df['street'].str.lower()\n",
        "df['street'] = df['street'].apply(lambda x: None if 'not disclosed' in str(x) else \n",
        "                                  None if 'undisclosed' in str(x) else\n",
        "                                  None if 'not available' in str(x) else\n",
        "                                  None if 'unknown' in str(x) else str(x))"
      ],
      "execution_count": null,
      "outputs": []
    },
    {
      "cell_type": "code",
      "metadata": {
        "colab": {
          "base_uri": "https://localhost:8080/",
          "height": 35
        },
        "id": "GbgWmS1esbxU",
        "outputId": "d6c244cc-c398-4966-a103-305437daa24f"
      },
      "source": [
        "df.loc[153487, 'street']"
      ],
      "execution_count": null,
      "outputs": [
        {
          "output_type": "execute_result",
          "data": {
            "application/vnd.google.colaboratory.intrinsic+json": {
              "type": "string"
            },
            "text/plain": [
              "'e 93rd lot2 st '"
            ]
          },
          "metadata": {
            "tags": []
          },
          "execution_count": 23
        }
      ]
    },
    {
      "cell_type": "code",
      "metadata": {
        "id": "Lezwat9yAWuu"
      },
      "source": [
        "df['street'] = df['street'].str.replace('\\.', '').str.replace('#', '').str.replace('&', ' ').str.replace(r'\\bi{2,}\\b', '')\n",
        "df['street'] = df['street'].str.replace('\\'', ' ').str.replace('\\\"', ' ').str.replace('+', ' ').str.replace('  ', ' ')\n",
        "df['street'] = df['street'].str.replace(';', ' ').str.replace(',', ' ').str.replace('@', ' ').str.replace('/', ' ').str.replace('~', ' ')\n",
        "df['street'] = df['street'].str.replace('  ', ' ').str.strip()"
      ],
      "execution_count": null,
      "outputs": []
    },
    {
      "cell_type": "code",
      "metadata": {
        "id": "qsH0C7XmJmwv"
      },
      "source": [
        "df['street'] = df['street'].str.replace(r'\\b[0-9]+\\b', '').str.replace('  ', ' ').str.strip()\n",
        "df['street'] = df['street'].str.replace(r'\\([a-z0-9, $/]*\\)', '')\n",
        "df.loc[(df['street'].isna()==False) & (df['street'].str.contains(r'mls :')), 'street'] = None"
      ],
      "execution_count": null,
      "outputs": []
    },
    {
      "cell_type": "code",
      "metadata": {
        "id": "TrR95tcOhXAZ"
      },
      "source": [
        "# Записать dropwords и удалить их\n",
        "dropwords = []"
      ],
      "execution_count": null,
      "outputs": []
    },
    {
      "cell_type": "code",
      "metadata": {
        "id": "zIj1LeBMRHcX"
      },
      "source": [
        "street_list_tuple = [('st', 'street'), ('dr', 'drive'), ('ave', 'avenue'), ('rd', 'road'), ('rdg', 'ridge'), ('blvd', 'boulevard'), ('pkwy', 'parkway'), \n",
        "                   ('cir', 'circle'), ('hwy', 'highway'), ('ln', 'lane'), ('lndg', 'landing'), ('trl', 'trail'), ('ter', 'terrace'), ('ct', 'court'), \n",
        "                   ('crk', 'creek'), ('pl', 'place'), ('rds', 'roads'), ('bnd', 'bend'), ('fls', 'falls'), ('clf', 'cliff'), ('clfs', 'cliff'), ('mtn', 'mountain'), \n",
        "                   ('crst', 'crest'), ('hl', 'hill'), ('ml', 'mill'), ('mnr', 'manor'), ('hts', 'heights')]       \n",
        "                          \n",
        "street_list_2 = ['street', 'drive', 'avenue', 'road', 'ridge', 'way', 'boulevard', 'parkway', 'circle', 'highway', 'lane', \n",
        "                 'landing', 'trail', 'terrace', 'court', 'creek', 'place', 'roads', 'bend', 'falls', 'cliff', 'mountain', \n",
        "                 'crest', 'hill', 'mill', 'point', 'loop', 'court', 'manor', 'heights', 'oaks', 'park']"
      ],
      "execution_count": null,
      "outputs": []
    },
    {
      "cell_type": "code",
      "metadata": {
        "id": "1E-BO1T0-TP9"
      },
      "source": [
        "def street_replace(df, st_tupl):\n",
        "\n",
        "  df['street'] = df['street'].str.replace(f' {st_tupl[0]} ', f' {st_tupl[1]} ').str.replace(f' {st_tupl[0]}$', f' {st_tupl[1]}').str.replace(\n",
        "      f' {st_tupl[1]} {st_tupl[1]}', f' {st_tupl[1]}').str.strip()\n",
        "  df['street'] = df['street'].str.replace(f' {st_tupl[1]} {st_tupl[0]} ', f' {st_tupl[1]} ')\n",
        "\n",
        "  # print(f'replace {st_tupl[0]} to {st_tupl[1]}')"
      ],
      "execution_count": null,
      "outputs": []
    },
    {
      "cell_type": "code",
      "metadata": {
        "id": "-TXrE9VA9y-V",
        "colab": {
          "base_uri": "https://localhost:8080/"
        },
        "outputId": "d1981f9c-ec24-455f-fbb9-ffbcbe1d5e35"
      },
      "source": [
        "for x in street_list_tuple:\n",
        "  street_replace(df, x)"
      ],
      "execution_count": null,
      "outputs": [
        {
          "output_type": "stream",
          "text": [
            "replace st to street\n",
            "replace dr to drive\n",
            "replace ave to avenue\n",
            "replace rd to road\n",
            "replace rdg to ridge\n",
            "replace blvd to boulevard\n",
            "replace pkwy to parkway\n",
            "replace cir to circle\n",
            "replace hwy to highway\n",
            "replace ln to lane\n",
            "replace lndg to landing\n",
            "replace trl to trail\n",
            "replace ter to terrace\n",
            "replace ct to court\n",
            "replace crk to creek\n",
            "replace pl to place\n",
            "replace rds to roads\n",
            "replace bnd to bend\n",
            "replace fls to falls\n",
            "replace clf to cliff\n",
            "replace clfs to cliff\n",
            "replace mtn to mountain\n",
            "replace crst to crest\n",
            "replace hl to hill\n",
            "replace ml to mill\n",
            "replace mnr to manor\n",
            "replace hts to heights\n"
          ],
          "name": "stdout"
        }
      ]
    },
    {
      "cell_type": "code",
      "metadata": {
        "id": "PtEsZXfg_YW4"
      },
      "source": [
        "df['street'] = df['street'].str.replace(r'\\b[a-z]{1,2}\\b', '').str.replace('  ', ' ').str.strip()"
      ],
      "execution_count": null,
      "outputs": []
    },
    {
      "cell_type": "code",
      "metadata": {
        "id": "AI9Eok4OFAoW"
      },
      "source": [
        "def street_var(df, street_var):\n",
        "  #### Создаем новые столбцы для значений параметров улиц\n",
        "\n",
        "  # print(street_var + \" :\")\n",
        "  street_col = street_var + '_v'\n",
        "  df[street_col] = None\n",
        "\n",
        "  df[street_col] = df['street'].apply(lambda x: None if x is None else 1 if x.endswith(' ' + street_var) else \n",
        "                                      1 if ' ' + street_var + ' ' in x else 0)\n",
        "\n",
        "  # print(f'New columm {street_col} is ready')"
      ],
      "execution_count": null,
      "outputs": []
    },
    {
      "cell_type": "code",
      "metadata": {
        "colab": {
          "base_uri": "https://localhost:8080/"
        },
        "id": "4CPAOHIUJL2x",
        "outputId": "4428a6dd-a050-4854-baa7-58a85fd20879"
      },
      "source": [
        "for x in street_list_2:\n",
        "  street_var(df, x)"
      ],
      "execution_count": null,
      "outputs": [
        {
          "output_type": "stream",
          "text": [
            "street :\n",
            "New columm street_v is ready\n",
            "drive :\n",
            "New columm drive_v is ready\n",
            "avenue :\n",
            "New columm avenue_v is ready\n",
            "road :\n",
            "New columm road_v is ready\n",
            "ridge :\n",
            "New columm ridge_v is ready\n",
            "way :\n",
            "New columm way_v is ready\n",
            "boulevard :\n",
            "New columm boulevard_v is ready\n",
            "parkway :\n",
            "New columm parkway_v is ready\n",
            "circle :\n",
            "New columm circle_v is ready\n",
            "highway :\n",
            "New columm highway_v is ready\n",
            "lane :\n",
            "New columm lane_v is ready\n",
            "landing :\n",
            "New columm landing_v is ready\n",
            "trail :\n",
            "New columm trail_v is ready\n",
            "terrace :\n",
            "New columm terrace_v is ready\n",
            "court :\n",
            "New columm court_v is ready\n",
            "creek :\n",
            "New columm creek_v is ready\n",
            "place :\n",
            "New columm place_v is ready\n",
            "roads :\n",
            "New columm roads_v is ready\n",
            "bend :\n",
            "New columm bend_v is ready\n",
            "falls :\n",
            "New columm falls_v is ready\n",
            "cliff :\n",
            "New columm cliff_v is ready\n",
            "mountain :\n",
            "New columm mountain_v is ready\n",
            "crest :\n",
            "New columm crest_v is ready\n",
            "hill :\n",
            "New columm hill_v is ready\n",
            "mill :\n",
            "New columm mill_v is ready\n",
            "point :\n",
            "New columm point_v is ready\n",
            "loop :\n",
            "New columm loop_v is ready\n",
            "court :\n",
            "New columm court_v is ready\n",
            "manor :\n",
            "New columm manor_v is ready\n",
            "heights :\n",
            "New columm heights_v is ready\n",
            "oaks :\n",
            "New columm oaks_v is ready\n",
            "park :\n",
            "New columm park_v is ready\n"
          ],
          "name": "stdout"
        }
      ]
    },
    {
      "cell_type": "code",
      "metadata": {
        "id": "jZ6ifHXpSjs-"
      },
      "source": [
        "def change_street(df, spec_str):\n",
        "\n",
        "  ### Преобразуем улицы согласно паттернам\n",
        "\n",
        "  new_street = df.loc[(df['street'].isna()==False) & (df['street'].str.contains(r'\\b[a-z]{3,}\\b \\b[a-z]{2,}\\b ' + spec_str)), 'street']\n",
        "  new_street = new_street.str.findall(r'\\b[a-z]{3,}\\b \\b[a-z]{2,}\\b ' + spec_str).apply(lambda x: None if len(x) == 0 else x[0])\n",
        "  df.loc[new_street.index, 'street'] = new_street\n",
        "\n",
        "  new_street = df.loc[(df['street'].isna()==False) & (df['street'].str.contains('[0-9]+[a-z]+ ' + spec_str)), 'street']\n",
        "  new_street = new_street.str.findall('[0-9]+[a-z]+ ' + spec_str).apply(lambda x: None if len(x) == 0 else x[0])\n",
        "  df.loc[new_street.index, 'street'] = new_street\n",
        "\n",
        "  new_street = df.loc[(df['street'].isna()==False) & (df['street'].str.contains('[0-9]+[a-z]+ [a-z]+ ' + spec_str)), 'street']\n",
        "  new_street = new_street.str.findall('[0-9]+[a-z]+ [a-z]+ ' + spec_str).apply(lambda x: None if len(x) == 0 else x[0])\n",
        "  df.loc[new_street.index, 'street'] = new_street\n",
        "\n",
        "  new_street = df.loc[(df['street'].isna()==False) & (df['street'].str.contains(r'\\b[a-z]{3,}-[a-z]{3,}\\b '+ spec_str)), 'street']\n",
        "  new_street = new_street.str.findall(r'\\b[a-z]{3,}-[a-z]{3,}\\b '+ spec_str).apply(lambda x: None if len(x) == 0 else x[0])\n",
        "  df.loc[new_street.index, 'street'] = new_street\n",
        "\n",
        "  new_street = df.loc[(df['street'].isna()==False) & (df['street'].str.contains(r'^\\b[a-z]{3,}\\b '+ spec_str)), 'street']\n",
        "  new_street = new_street.str.findall(r'^\\b[a-z]{3,}\\b '+ spec_str).apply(lambda x: None if len(x) == 0 else x[0])\n",
        "  df.loc[new_street.index, 'street'] = new_street\n",
        "  \n",
        "  # print('Change', spec_str)"
      ],
      "execution_count": null,
      "outputs": []
    },
    {
      "cell_type": "code",
      "metadata": {
        "id": "jYKsoSbzEHNN",
        "colab": {
          "base_uri": "https://localhost:8080/"
        },
        "outputId": "93229a2e-8185-4453-8c29-fb6136016ca8"
      },
      "source": [
        "for x in street_list_2:\n",
        "  change_street(df, x)"
      ],
      "execution_count": null,
      "outputs": [
        {
          "output_type": "stream",
          "text": [
            "Change street\n",
            "Change drive\n",
            "Change avenue\n",
            "Change road\n",
            "Change ridge\n",
            "Change way\n",
            "Change boulevard\n",
            "Change parkway\n",
            "Change circle\n",
            "Change highway\n",
            "Change lane\n",
            "Change landing\n",
            "Change trail\n",
            "Change terrace\n",
            "Change court\n",
            "Change creek\n",
            "Change place\n",
            "Change roads\n",
            "Change bend\n",
            "Change falls\n",
            "Change cliff\n",
            "Change mountain\n",
            "Change crest\n",
            "Change hill\n",
            "Change mill\n",
            "Change point\n",
            "Change loop\n",
            "Change court\n",
            "Change manor\n",
            "Change heights\n",
            "Change oaks\n",
            "Change park\n"
          ],
          "name": "stdout"
        }
      ]
    },
    {
      "cell_type": "code",
      "metadata": {
        "id": "2h-0AO0bDAoo"
      },
      "source": [
        "# Костыть чтобы убрать ненужные длинные тексты в улицах\n",
        "\n",
        "df.loc[(df['street'].isna()==False) & (df['street'].str.contains(r' plan:')), 'street'] = df['street'].apply(lambda x: str(x).split(' plan:')[-1])\n",
        "df.loc[(df['street'].isna()==False) & (df['street'].str.contains(r' plan :,')), 'street'] = df['street'].apply(lambda x: str(x).split(' plan :,')[-1])\n",
        "df.loc[(df['street'].isna()==False) & (df['street'].str.contains(r' plan ')), 'street'] = df['street'].apply(lambda x: str(x).split(' plan ')[-1])\n",
        "df.loc[(df['street'].isna()==False) & (df['street'].str.contains(r':')), 'street'] = df['street'].apply(lambda x: str(x).split(':')[0])\n",
        "df.loc[(df['street'].isna()==False) & (df['street'].str.contains(r' - ')), 'street'] = df['street'].apply(lambda x: str(x).split(' - ')[0])\n",
        "df['street'] = df['street'].str.replace('-', ' ').str.strip()\n",
        "df['street'] = df['street'].str.replace('  ', ' ').str.strip()"
      ],
      "execution_count": null,
      "outputs": []
    },
    {
      "cell_type": "code",
      "metadata": {
        "id": "koQTyQqJGAG4"
      },
      "source": [
        "# Костыль по дропсловам !!! переместить наверх!!!\n",
        "\n",
        "df['street'] = df['street'].apply(lambda x: str(x).split(' apt ')[0]).apply(lambda x: str(x).split(' apt')[0]).apply(lambda x: str(x).split('apt ')[0])\n",
        "df['street'] = df['street'].apply(lambda x: None if x == 'apt' else x)\n",
        "\n",
        "df['street'] = df['street'].str.replace(' unit ', '').str.replace(r'^unit ', '').str.replace(' unit$', '')\n",
        "df['street'] = df['street'].apply(lambda x: None if x == 'unit' else x)\n",
        "\n",
        "df['street'] = df['street'].str.replace(' lot ', '').str.replace(r'^lot ', '').str.replace(' lot$', '')\n",
        "df['street'] = df['street'].apply(lambda x: None if x == 'lot' else x)\n",
        "\n",
        "df['street'] = df['street'].str.replace(' lots ', '').str.replace(r'^lots ', '').str.replace(' lots$', '')\n",
        "df['street'] = df['street'].apply(lambda x: None if x == 'lots' else x)\n",
        "\n",
        "df['street'] = df['street'].str.replace('collection', '')\n",
        "\n",
        "# Костыть по другим дропсловам\n",
        "\n",
        "df['street'] = df['street'].str.replace(r'[0-9]+[a-z] ', '').str.replace(r'[0-9]+[a-z]$', '')\n",
        "df['street'] = df['street'].str.replace(r'[a-z]+[0-9] ', '')\n",
        "df['street'] = df['street'].str.replace(r'[0-9]+ft', '')\n",
        "df['street'] = df['street'].str.replace('  ', ' ').str.strip()"
      ],
      "execution_count": null,
      "outputs": []
    },
    {
      "cell_type": "code",
      "metadata": {
        "id": "2asPOkWyRoT5"
      },
      "source": [
        "df['street'] = df['street'].apply(lambda x: str(x).split('|')[-1]).apply(lambda x: str(x).split(')')[-1])\n",
        "df['street'] = df['street'].str.replace('  ', ' ').str.strip()"
      ],
      "execution_count": null,
      "outputs": []
    },
    {
      "cell_type": "code",
      "metadata": {
        "id": "3F7zIPXPac6l"
      },
      "source": [
        "# Создаем столбец длины улиц, чтобы ими управлять если что\n",
        "\n",
        "df['street_length'] = df['street'].apply(lambda x: 0 if x is None else len(x.split()) )"
      ],
      "execution_count": null,
      "outputs": []
    },
    {
      "cell_type": "code",
      "metadata": {
        "colab": {
          "base_uri": "https://localhost:8080/"
        },
        "id": "zzxzimVqf8E8",
        "outputId": "95cf4354-cdaa-4a6a-b79c-ee086fe5e6d2"
      },
      "source": [
        "df['street_length'].value_counts()"
      ],
      "execution_count": null,
      "outputs": [
        {
          "output_type": "execute_result",
          "data": {
            "text/plain": [
              "2    298724\n",
              "3     59304\n",
              "1     16979\n",
              "0      1010\n",
              "4       831\n",
              "5       261\n",
              "6        39\n",
              "7        18\n",
              "8        14\n",
              "9         5\n",
              "Name: street_length, dtype: int64"
            ]
          },
          "metadata": {
            "tags": []
          },
          "execution_count": 68
        }
      ]
    },
    {
      "cell_type": "code",
      "metadata": {
        "id": "CUt8qfsScftW"
      },
      "source": [
        "def del_var_from_street(df, street_var):\n",
        "\n",
        "  df['street'] = df['street'].str.replace(f' {street_var} ', '').str.replace(f'^{street_var}  ', '').str.replace(f' {street_var}$', '').str.replace('  ', ' ').str.strip()\n",
        "  df['street'] = df['street'].apply(lambda x: None if x == street_var  else x)\n",
        "\n",
        "  print(f'Del {street_var} from street')"
      ],
      "execution_count": null,
      "outputs": []
    },
    {
      "cell_type": "code",
      "metadata": {
        "colab": {
          "base_uri": "https://localhost:8080/"
        },
        "id": "A23hJ6CSeyox",
        "outputId": "6a7bb603-54cc-4a1f-9f24-8a58735fcae8"
      },
      "source": [
        "for x in street_list_2:\n",
        "  del_var_from_street(df, x)"
      ],
      "execution_count": null,
      "outputs": [
        {
          "output_type": "stream",
          "text": [
            "Del street from street\n",
            "Del drive from street\n",
            "Del avenue from street\n",
            "Del road from street\n",
            "Del ridge from street\n",
            "Del way from street\n",
            "Del boulevard from street\n",
            "Del parkway from street\n",
            "Del circle from street\n",
            "Del highway from street\n",
            "Del lane from street\n",
            "Del landing from street\n",
            "Del trail from street\n",
            "Del terrace from street\n",
            "Del court from street\n",
            "Del creek from street\n",
            "Del place from street\n",
            "Del roads from street\n",
            "Del bend from street\n",
            "Del falls from street\n",
            "Del cliff from street\n",
            "Del mountain from street\n",
            "Del crest from street\n",
            "Del hill from street\n",
            "Del mill from street\n",
            "Del point from street\n",
            "Del loop from street\n",
            "Del court from street\n",
            "Del manor from street\n",
            "Del heights from street\n",
            "Del oaks from street\n",
            "Del park from street\n"
          ],
          "name": "stdout"
        }
      ]
    },
    {
      "cell_type": "code",
      "metadata": {
        "colab": {
          "base_uri": "https://localhost:8080/"
        },
        "id": "4uSmI5qkgn2x",
        "outputId": "23e1e225-3c0a-4d4e-dc6f-5bd1602bc689"
      },
      "source": [
        "df[df['street_length'] == 1]['street'].sample(20)"
      ],
      "execution_count": null,
      "outputs": [
        {
          "output_type": "execute_result",
          "data": {
            "text/plain": [
              "141690              None\n",
              "251120              None\n",
              "348884          broadway\n",
              "87903             geyser\n",
              "156245              None\n",
              "304839              None\n",
              "262989              None\n",
              "273594              None\n",
              "320949          affinity\n",
              "165899             canty\n",
              "193120              None\n",
              "358985              None\n",
              "145778              None\n",
              "82333         geddington\n",
              "259208              None\n",
              "69433               None\n",
              "238985    elizabethdrive\n",
              "105100              None\n",
              "277456            dunbar\n",
              "346170           sangria\n",
              "Name: street, dtype: object"
            ]
          },
          "metadata": {
            "tags": []
          },
          "execution_count": 75
        }
      ]
    },
    {
      "cell_type": "code",
      "metadata": {
        "id": "SRkykXDeZptT",
        "colab": {
          "base_uri": "https://localhost:8080/"
        },
        "outputId": "1599f412-5c6b-4609-dc41-8c20e3b46f58"
      },
      "source": [
        "df[df['street_length'] == 2]['street'].nunique()\n",
        "# Нужно использовать токенайзер"
      ],
      "execution_count": null,
      "outputs": [
        {
          "output_type": "execute_result",
          "data": {
            "text/plain": [
              "33901"
            ]
          },
          "metadata": {
            "tags": []
          },
          "execution_count": 73
        }
      ]
    },
    {
      "cell_type": "markdown",
      "metadata": {
        "id": "x-vwUj9Tirgi"
      },
      "source": [
        "baths"
      ]
    },
    {
      "cell_type": "code",
      "metadata": {
        "colab": {
          "base_uri": "https://localhost:8080/"
        },
        "id": "72-rA4zkcziq",
        "outputId": "51409341-e049-4b06-da45-c7acc0d50589"
      },
      "source": [
        "df['baths'] = df['baths'].apply(lambda x: None if x is np.nan else x)\n",
        "df['baths'].value_counts(dropna=False)"
      ],
      "execution_count": null,
      "outputs": [
        {
          "output_type": "execute_result",
          "data": {
            "text/plain": [
              "NaN                      106338\n",
              "2 Baths                   52466\n",
              "3 Baths                   35506\n",
              "2                         20452\n",
              "2.0                       16576\n",
              "                          ...  \n",
              "39 Baths                      1\n",
              "2-1 / 2-1 / 1-1 / 1-1         1\n",
              "3.3 Baths                     1\n",
              "11.5 Baths                    1\n",
              "Bathrooms: 15                 1\n",
              "Name: baths, Length: 230, dtype: int64"
            ]
          },
          "metadata": {
            "tags": []
          },
          "execution_count": 593
        }
      ]
    },
    {
      "cell_type": "code",
      "metadata": {
        "id": "dB_Ii709XnKe"
      },
      "source": [
        "punct = '~—\\-:'"
      ],
      "execution_count": null,
      "outputs": []
    },
    {
      "cell_type": "code",
      "metadata": {
        "id": "jmhHX5o4iv-f"
      },
      "source": [
        "df['baths'] = df['baths'].str.lower().str.replace('[a-z]+\\.?', '').str.replace(',', '.').str.replace('[{}]'.format(punct), ' ')\n",
        "df['baths'] = df['baths'].apply(lambda x: None if str(x).strip() =='' else x)"
      ],
      "execution_count": null,
      "outputs": []
    },
    {
      "cell_type": "code",
      "metadata": {
        "colab": {
          "base_uri": "https://localhost:8080/"
        },
        "id": "OM9QISiVi9Rp",
        "outputId": "16dc13bf-9d3b-4810-a550-297988ca2ee8"
      },
      "source": [
        "df['baths_new'] = df['baths'].str.findall('[0-9]+\\.?[0-9]*')\n",
        "df['baths_new'] = df['baths_new'].apply(lambda x: None if x is None else x[0]).astype(float)\n",
        "df['baths_new'].value_counts()\n",
        "\n",
        "# df['baths_new'].to_csv('out.csv')\n",
        "# ванна 0.5 проверить"
      ],
      "execution_count": null,
      "outputs": [
        {
          "output_type": "execute_result",
          "data": {
            "text/plain": [
              "2.0     103519\n",
              "3.0      66683\n",
              "4.0      26333\n",
              "1.0      17787\n",
              "2.5      13786\n",
              "         ...  \n",
              "1.8          1\n",
              "64.0         1\n",
              "14.5         1\n",
              "0.5          1\n",
              "42.0         1\n",
              "Name: baths_new, Length: 84, dtype: int64"
            ]
          },
          "metadata": {
            "tags": []
          },
          "execution_count": 596
        }
      ]
    },
    {
      "cell_type": "markdown",
      "metadata": {
        "id": "Z8H573yK-5Ra"
      },
      "source": [
        "city"
      ]
    },
    {
      "cell_type": "code",
      "metadata": {
        "id": "tx4GJMim-xfC"
      },
      "source": [
        "df['city'] = df['city'].str.lower().str.strip()\n",
        "df['city'] = df['city'].str.replace('\\-', ' ')"
      ],
      "execution_count": null,
      "outputs": []
    },
    {
      "cell_type": "code",
      "metadata": {
        "id": "50sSBa0CCy35"
      },
      "source": [
        "df['city'] = df['city'].str.replace(' city', '').str.replace(' town+[a-z]*', '')\n",
        "df['city'] = df['city'].str.replace('st\\.', 'saint').str.replace(' twp.', '').str.replace('e. ', '').str.replace('ft.', 'fort').str.replace('s.a.', 'san antonio')\n",
        "df['city'] = df['city'].str.replace(' twp', '').str.replace(' vlg', ' village')\n",
        "df['city'] = df['city'].str.replace(' hts', 'heights').str.replace(' pt', 'point').str.replace('pt ', 'port ')\n",
        "df['city'] = df['city'].str.replace('^st ', 'saint ')"
      ],
      "execution_count": null,
      "outputs": []
    },
    {
      "cell_type": "code",
      "metadata": {
        "id": "fQ9mVNQdLtvv"
      },
      "source": [
        "df.loc[(df['city'].isna()==False) & (df['city'].str.contains('san antonio')), 'city'] = 'san antonio'"
      ],
      "execution_count": null,
      "outputs": []
    },
    {
      "cell_type": "code",
      "metadata": {
        "id": "X_UHuzr2NcFB"
      },
      "source": [
        "df['city'] = df['city'].str.replace('p c ', 'panama ').str.replace('^n ', 'north ').str.replace(\"town 'n' country\", 'town north country')\n",
        "df['city'] = df['city'].str.replace('nyork', 'new york').str.replace('nyc', 'new york')\n",
        "df['city'] = df['city'].str.replace('bed-stuy', 'brooklyn').str.replace('collegepoint', 'college point')\n",
        "df['city'] = df['city'].str.replace('othvalue [ a-z]*', 'othvalue')"
      ],
      "execution_count": null,
      "outputs": []
    },
    {
      "cell_type": "code",
      "metadata": {
        "id": "127ZGrVM_PHv"
      },
      "source": [
        "df['city'] = df['city'].apply(lambda x: \" \".join(str(x).split()))"
      ],
      "execution_count": null,
      "outputs": []
    },
    {
      "cell_type": "markdown",
      "metadata": {
        "id": "T7pcOLqTWbxg"
      },
      "source": [
        "sqft"
      ]
    },
    {
      "cell_type": "code",
      "metadata": {
        "colab": {
          "base_uri": "https://localhost:8080/"
        },
        "id": "RER3b6qMWJMn",
        "outputId": "8eac22a0-acab-4514-c5ca-2bb9a6a1f890"
      },
      "source": [
        "df['sqft'].value_counts()"
      ],
      "execution_count": null,
      "outputs": [
        {
          "output_type": "execute_result",
          "data": {
            "text/plain": [
              "0                                          11854\n",
              "1,200 sqft                                   839\n",
              "1,000 sqft                                   654\n",
              "1,100 sqft                                   573\n",
              "1,800 sqft                                   563\n",
              "                                           ...  \n",
              "Total interior livable area: 5,099 sqft        1\n",
              "Total interior livable area: 5,507 sqft        1\n",
              "74,300 sqft                                    1\n",
              "6,623 sqft                                     1\n",
              "7,834 sqft                                     1\n",
              "Name: sqft, Length: 25405, dtype: int64"
            ]
          },
          "metadata": {
            "tags": []
          },
          "execution_count": 602
        }
      ]
    },
    {
      "cell_type": "code",
      "metadata": {
        "id": "GP4EeNuxWd-v"
      },
      "source": [
        "df['sqft'] = df['sqft'].apply(lambda x: None if x is np.nan else x)"
      ],
      "execution_count": null,
      "outputs": []
    },
    {
      "cell_type": "code",
      "metadata": {
        "id": "GDNi00qLYEs9"
      },
      "source": [
        "df['sqft'] = df['sqft'].str.replace('[a-z ]*: ', '')\n",
        "df['sqft'] = df['sqft'].str.replace('-','').str.replace('[A-Za-z]+','').str.replace(',','')"
      ],
      "execution_count": null,
      "outputs": []
    },
    {
      "cell_type": "code",
      "metadata": {
        "id": "MgP1MPahpfUc"
      },
      "source": [
        "df['sqft'] = df['sqft'].str.strip().apply(lambda x: None if x is None else \n",
        "                                          None if x == '' else int(x))"
      ],
      "execution_count": null,
      "outputs": []
    },
    {
      "cell_type": "code",
      "metadata": {
        "colab": {
          "base_uri": "https://localhost:8080/"
        },
        "id": "NsuUp4aIXmZe",
        "outputId": "1fc44f0e-c917-4e00-fa3a-16451489026f"
      },
      "source": [
        "df['sqft'].value_counts()"
      ],
      "execution_count": null,
      "outputs": [
        {
          "output_type": "execute_result",
          "data": {
            "text/plain": [
              "0.0         11854\n",
              "1200.0       1426\n",
              "1000.0       1027\n",
              "1500.0       1014\n",
              "1800.0        988\n",
              "            ...  \n",
              "8966.0          1\n",
              "11089.0         1\n",
              "123275.0        1\n",
              "44351.0         1\n",
              "32767.0         1\n",
              "Name: sqft, Length: 9897, dtype: int64"
            ]
          },
          "metadata": {
            "tags": []
          },
          "execution_count": 606
        }
      ]
    },
    {
      "cell_type": "markdown",
      "metadata": {
        "id": "QGaLQyherF6A"
      },
      "source": [
        "zipcode"
      ]
    },
    {
      "cell_type": "code",
      "metadata": {
        "colab": {
          "base_uri": "https://localhost:8080/"
        },
        "id": "ebx3JkAsrA8G",
        "outputId": "0a4d0407-4af4-4907-fcaa-378e81f27a68"
      },
      "source": [
        "df['zipcode'].value_counts()"
      ],
      "execution_count": null,
      "outputs": [
        {
          "output_type": "execute_result",
          "data": {
            "text/plain": [
              "32137         2141\n",
              "33131         1563\n",
              "34747         1488\n",
              "78245         1390\n",
              "34759         1333\n",
              "              ... \n",
              "44101            1\n",
              "38028            1\n",
              "30805            1\n",
              "32362            1\n",
              "27615-1910       1\n",
              "Name: zipcode, Length: 4549, dtype: int64"
            ]
          },
          "metadata": {
            "tags": []
          },
          "execution_count": 607
        }
      ]
    },
    {
      "cell_type": "code",
      "metadata": {
        "id": "S2ogd09Sx6ar"
      },
      "source": [
        "df['zipcode'] = df['zipcode'].str.replace('\\-[0-9]*', '').apply(lambda x: None if x is None else None if x == '' else int(x))"
      ],
      "execution_count": null,
      "outputs": []
    },
    {
      "cell_type": "markdown",
      "metadata": {
        "id": "tUy9qm4JywQ8"
      },
      "source": [
        "beds"
      ]
    },
    {
      "cell_type": "code",
      "metadata": {
        "id": "wvpHVzR-xYi7"
      },
      "source": [
        "df['beds'] = df['beds'].apply(lambda x: None if x is np.nan else x).str.lower()"
      ],
      "execution_count": null,
      "outputs": []
    },
    {
      "cell_type": "code",
      "metadata": {
        "colab": {
          "base_uri": "https://localhost:8080/"
        },
        "id": "BwACF0KWzBvB",
        "outputId": "d2336673-d703-4949-d1d2-7402e245e5dd"
      },
      "source": [
        "df['beds'].value_counts(dropna=False)"
      ],
      "execution_count": null,
      "outputs": [
        {
          "output_type": "execute_result",
          "data": {
            "text/plain": [
              "NaN           91282\n",
              "3 beds        53459\n",
              "4 beds        35418\n",
              "3             31406\n",
              "2 beds        26362\n",
              "              ...  \n",
              "4,647 sqft        1\n",
              "2.79 acres        1\n",
              "9,465 sqft        1\n",
              "2.15 acres        1\n",
              "4.97 acres        1\n",
              "Name: beds, Length: 1185, dtype: int64"
            ]
          },
          "metadata": {
            "tags": []
          },
          "execution_count": 610
        }
      ]
    },
    {
      "cell_type": "code",
      "metadata": {
        "id": "2iO9cAP-zPl6"
      },
      "source": [
        "index_sqft = df.loc[(df['sqft'].isna()) & (df['beds'].str.contains('sqft')), ['sqft','beds']].index\n",
        "new_sqft = df.loc[(df['sqft'].isna()) & (df['beds'].str.contains('sqft')), ['sqft','beds']]\n",
        "new_sqft['sqft'] = new_sqft['beds'].str.strip().str.replace(',', '.').str.findall('[0-9]+\\.*[0-9]*').apply(lambda x: None if len(x) == 0 else x[0]).astype(float)\n",
        "\n",
        "df.loc[(df['sqft'].isna()) & (df['beds'].str.contains('sqft')), 'sqft'] = new_sqft['sqft']\n",
        "df.loc[(df['beds'].isna()==False) & (df['beds'].str.contains('sqft')), 'beds'] = None"
      ],
      "execution_count": null,
      "outputs": []
    },
    {
      "cell_type": "code",
      "metadata": {
        "id": "DNruJWw8z5z7"
      },
      "source": [
        "index_sqft = df.loc[(df['sqft'].isna()) & (df['beds'].str.contains('acre')), ['sqft','beds']].index\n",
        "new_sqft = df.loc[(df['sqft'].isna()) & (df['beds'].str.contains('acre')), ['sqft','beds']]\n",
        "new_sqft['sqft'] = new_sqft['beds'].str.strip().str.replace(',', '.').str.findall('[0-9]+\\.*[0-9]*').apply(lambda x: None if len(x) == 0 else x[0]).astype(float)\n",
        "new_sqft['sqft'] = (new_sqft['sqft'] * 43560).astype(int)\n",
        "\n",
        "df.loc[(df['sqft'].isna()) & (df['beds'].str.contains('acre')), 'sqft'] = new_sqft['sqft']\n",
        "df.loc[(df['beds'].isna()==False) & (df['beds'].str.contains('acre')), 'beds'] = None"
      ],
      "execution_count": null,
      "outputs": []
    },
    {
      "cell_type": "code",
      "metadata": {
        "id": "ce4-zy-Zfl0d"
      },
      "source": [
        "df['beds'] = df['beds'].str.replace('bedrooms', 'beds').str.replace('bd', 'beds')"
      ],
      "execution_count": null,
      "outputs": []
    },
    {
      "cell_type": "code",
      "metadata": {
        "id": "Pq61g_IU0YZk"
      },
      "source": [
        "df.loc[(df['beds'].isna()==False) & (df['beds'].str.strip().str.contains('^[a-z,\\-%@#_:;~ ]+$')), 'beds'] = None"
      ],
      "execution_count": null,
      "outputs": []
    },
    {
      "cell_type": "code",
      "metadata": {
        "colab": {
          "base_uri": "https://localhost:8080/"
        },
        "id": "kfjeW_UVcLQm",
        "outputId": "e052ec18-1961-48ac-89d8-600cadcfbe75"
      },
      "source": [
        "df['beds'].value_counts(dropna=False)[:20]"
      ],
      "execution_count": null,
      "outputs": [
        {
          "output_type": "execute_result",
          "data": {
            "text/plain": [
              "NaN       111390\n",
              "3 beds     66336\n",
              "4 beds     43683\n",
              "2 beds     31605\n",
              "3          31406\n",
              "4          20030\n",
              "2          16110\n",
              "5 beds     13904\n",
              "3.0         8088\n",
              "5           6424\n",
              "4.0         5231\n",
              "1           4610\n",
              "6 beds      4466\n",
              "2.0         2430\n",
              "6           1806\n",
              "5.0         1372\n",
              "7 beds      1247\n",
              "0           1230\n",
              "1 beds      1081\n",
              "8 beds       856\n",
              "Name: beds, dtype: int64"
            ]
          },
          "metadata": {
            "tags": []
          },
          "execution_count": 615
        }
      ]
    },
    {
      "cell_type": "code",
      "metadata": {
        "colab": {
          "base_uri": "https://localhost:8080/"
        },
        "id": "2kdMd2lk1deC",
        "outputId": "810c6e87-881b-4bd5-a394-612cbd5490c6"
      },
      "source": [
        "new_bath = df.loc[(df['baths_new'].isna()) & (df['beds'].str.contains('bath')), 'beds'].str.findall('[0-9a-z ]+ bath').apply(lambda x: x[0].split()[0]).astype(float)\n",
        "df.loc[new_bath.index, 'baths_new'] = new_bath\n",
        "df.loc[new_bath.index, 'baths_new']"
      ],
      "execution_count": null,
      "outputs": [
        {
          "output_type": "execute_result",
          "data": {
            "text/plain": [
              "18787     1.0\n",
              "124819    1.0\n",
              "172605    1.0\n",
              "238222    1.0\n",
              "279149    2.0\n",
              "325249    1.0\n",
              "Name: baths_new, dtype: float64"
            ]
          },
          "metadata": {
            "tags": []
          },
          "execution_count": 616
        }
      ]
    },
    {
      "cell_type": "code",
      "metadata": {
        "colab": {
          "base_uri": "https://localhost:8080/"
        },
        "id": "eWo-mftActlm",
        "outputId": "e7daa20e-1f60-43f8-ba45-994f0ed178e0"
      },
      "source": [
        "new_beds = pd.concat([(df.loc[(df['beds'].isna()==False) & (df['beds'].str.strip().str.contains('[0-9 a-z]+bed[a-z]*,')), 'beds']),\n",
        "                      df.loc[(df['beds'].isna()==False) & (df['beds'].str.strip().str.contains(',[0-9 a-z]+bed[a-z]*')), 'beds']\n",
        "                      ],\n",
        "                     ).reset_index()\n",
        "new_beds = new_beds.drop_duplicates().set_index('index')\n",
        "new_beds['beds'] = new_beds['beds'].str.replace('or more ', '').str.findall('[0-9 ]+bed').apply(lambda x: x[0].split()[0]).astype(float)\n",
        "\n",
        "df.loc[new_beds.index, 'beds'] = new_beds['beds']\n",
        "df.loc[new_beds.index, 'beds']"
      ],
      "execution_count": null,
      "outputs": [
        {
          "output_type": "execute_result",
          "data": {
            "text/plain": [
              "index\n",
              "18787     2\n",
              "172605    2\n",
              "200331    3\n",
              "238222    3\n",
              "325249    2\n",
              "124819    2\n",
              "279149    3\n",
              "Name: beds, dtype: object"
            ]
          },
          "metadata": {
            "tags": []
          },
          "execution_count": 617
        }
      ]
    },
    {
      "cell_type": "code",
      "metadata": {
        "colab": {
          "base_uri": "https://localhost:8080/"
        },
        "id": "aRH-Z607JfVy",
        "outputId": "20a6d620-8669-4561-b081-22eb6b077a81"
      },
      "source": [
        "punct = '!@#_,:;&'\n",
        "df.loc[(df['beds'].isna()==False) & (df['beds'].str.contains('[{}]'.format(punct))), 'beds'] = None\n",
        "punct = '\\-'\n",
        "new_beds = df.loc[(df['beds'].isna()==False) & (df['beds'].str.contains('[{}]'.format(punct))), 'beds'].str.findall('[0-9]+').apply(lambda x: x[-1]).astype(float)\n",
        "df.loc[new_beds.index, 'beds'] = new_beds\n",
        "df.loc[new_beds.index, 'beds']"
      ],
      "execution_count": null,
      "outputs": [
        {
          "output_type": "execute_result",
          "data": {
            "text/plain": [
              "330468    2\n",
              "Name: beds, dtype: object"
            ]
          },
          "metadata": {
            "tags": []
          },
          "execution_count": 618
        }
      ]
    },
    {
      "cell_type": "code",
      "metadata": {
        "id": "zgBvOZk4Gh8s"
      },
      "source": [
        "df['beds'] = df['beds'].str.replace('or more ', '')\n",
        "df['beds'] = df['beds'].str.replace('beds','').str.strip().apply(lambda x: None if x is None else\n",
        "                                                                 None if x == '' else x).astype(float)"
      ],
      "execution_count": null,
      "outputs": []
    },
    {
      "cell_type": "markdown",
      "metadata": {
        "id": "JwsNx8q4Ph1M"
      },
      "source": [
        "state"
      ]
    },
    {
      "cell_type": "code",
      "metadata": {
        "colab": {
          "base_uri": "https://localhost:8080/"
        },
        "id": "eXqI6_T-NP66",
        "outputId": "e1b97ab3-3104-4aef-e030-2dceb2fcf893"
      },
      "source": [
        "df['state'].value_counts(dropna=False)[-20:]"
      ],
      "execution_count": null,
      "outputs": [
        {
          "output_type": "execute_result",
          "data": {
            "text/plain": [
              "UT    1325\n",
              "MD    1090\n",
              "VT     868\n",
              "MO     866\n",
              "VA     801\n",
              "WI     452\n",
              "NJ     436\n",
              "ME     259\n",
              "IA     242\n",
              "KY      90\n",
              "OK      49\n",
              "MS      40\n",
              "SC      28\n",
              "MT       7\n",
              "DE       5\n",
              "OT       1\n",
              "AL       1\n",
              "BA       1\n",
              "OS       1\n",
              "Fl       1\n",
              "Name: state, dtype: int64"
            ]
          },
          "metadata": {
            "tags": []
          },
          "execution_count": 620
        }
      ]
    },
    {
      "cell_type": "markdown",
      "metadata": {
        "id": "zFf8WBnrPr_e"
      },
      "source": [
        "stories"
      ]
    },
    {
      "cell_type": "code",
      "metadata": {
        "colab": {
          "base_uri": "https://localhost:8080/"
        },
        "id": "eSiNvWsVPkzx",
        "outputId": "be151eb5-b515-4e07-f313-714e287700b6"
      },
      "source": [
        "df['stories_dop'] = df['stories_dop'].apply(lambda x: None if x is None else x.split()[0]).astype(float)\n",
        "df['stories_dop'].value_counts(dropna=False)"
      ],
      "execution_count": null,
      "outputs": [
        {
          "output_type": "execute_result",
          "data": {
            "text/plain": [
              "NaN    369527\n",
              "1.0      4440\n",
              "2.0      3024\n",
              "3.0       140\n",
              "8.0        38\n",
              "7.0        15\n",
              "5.0         1\n",
              "Name: stories_dop, dtype: int64"
            ]
          },
          "metadata": {
            "tags": []
          },
          "execution_count": 621
        }
      ]
    },
    {
      "cell_type": "code",
      "metadata": {
        "colab": {
          "base_uri": "https://localhost:8080/"
        },
        "id": "gLytSAWDP4gg",
        "outputId": "a67cf247-5d5f-4afd-da4b-a788b37dc321"
      },
      "source": [
        "df['stories'] = df['stories'].str.lower()\n",
        "df['stories'].value_counts(dropna=False)"
      ],
      "execution_count": null,
      "outputs": [
        {
          "output_type": "execute_result",
          "data": {
            "text/plain": [
              "NaN                      150715\n",
              "1.0                       67454\n",
              "2.0                       55283\n",
              "1                         23086\n",
              "2                         18146\n",
              "                          ...  \n",
              "federal                       1\n",
              "site built, townhouse         1\n",
              "2 story or 2 level            1\n",
              "3 story, multi level          1\n",
              "64.0                          1\n",
              "Name: stories, Length: 349, dtype: int64"
            ]
          },
          "metadata": {
            "tags": []
          },
          "execution_count": 622
        }
      ]
    },
    {
      "cell_type": "code",
      "metadata": {
        "colab": {
          "base_uri": "https://localhost:8080/"
        },
        "id": "nFpTZ8ShSWtH",
        "outputId": "3a0ab8fe-b720-4204-e5bc-3b4c784781da"
      },
      "source": [
        "punct = '!|/_\\-:;'\n",
        "df.loc[(df['stories'].isna()==False) & (df['stories'].str.contains('[{}]'.format(punct))), 'stories'].value_counts()\n",
        "df.loc[(df['stories'].isna()==False) & (df['stories'].str.contains('[0-9 ]/[0-9 ]')), 'stories'].value_counts()\n",
        "df.loc[(df['stories'].isna()==False) & (df['stories'].str.contains('half')), 'stories'].value_counts()\n",
        "df.loc[(df['stories'].isna()==False) & (df['stories'].str.contains('multi')), 'stories'].value_counts()\n",
        "\n",
        "# много пустых значений, не знаю, обрабатывать ли их"
      ],
      "execution_count": null,
      "outputs": [
        {
          "output_type": "execute_result",
          "data": {
            "text/plain": [
              "multi/split                   271\n",
              "multi-level                    57\n",
              "other multi-unit               19\n",
              "three or more, multi/split      7\n",
              "multi level                     6\n",
              "multi-story                     3\n",
              "two, multi/split                3\n",
              "multi level, three or more      1\n",
              "multi level, tri level          1\n",
              "multi-level, new englander      1\n",
              "2 story, multi level            1\n",
              "3 story, multi level            1\n",
              "one, two, multi/split           1\n",
              "other, two, multi/split         1\n",
              "1 story, multi level            1\n",
              "multi/split, two                1\n",
              "tri/multi level                 1\n",
              "Name: stories, dtype: int64"
            ]
          },
          "metadata": {
            "tags": []
          },
          "execution_count": 623
        }
      ]
    },
    {
      "cell_type": "markdown",
      "metadata": {
        "id": "poldPvKAo53Z"
      },
      "source": [
        "MlsId"
      ]
    },
    {
      "cell_type": "code",
      "metadata": {
        "id": "mfQfEG2-S23g"
      },
      "source": [
        "df = df.drop('MlsId', axis=1)"
      ],
      "execution_count": null,
      "outputs": []
    },
    {
      "cell_type": "markdown",
      "metadata": {
        "id": "DLfZodXWpR6H"
      },
      "source": [
        "target"
      ]
    },
    {
      "cell_type": "code",
      "metadata": {
        "colab": {
          "base_uri": "https://localhost:8080/"
        },
        "id": "y1USgncfo-Qt",
        "outputId": "b1124bfe-4d9b-4467-c844-f2b8188971a1"
      },
      "source": [
        "df['target'].value_counts(dropna=False)"
      ],
      "execution_count": null,
      "outputs": [
        {
          "output_type": "execute_result",
          "data": {
            "text/plain": [
              "NaN         2481\n",
              "$225,000    1462\n",
              "$275,000    1355\n",
              "$250,000    1312\n",
              "$350,000    1296\n",
              "            ... \n",
              "$219,108       1\n",
              "$202,882       1\n",
              "$63,198        1\n",
              "$306,108       1\n",
              "$473,486       1\n",
              "Name: target, Length: 43940, dtype: int64"
            ]
          },
          "metadata": {
            "tags": []
          },
          "execution_count": 625
        }
      ]
    },
    {
      "cell_type": "code",
      "metadata": {
        "id": "HFnwGMOopVE1"
      },
      "source": [
        "df['target'] = df['target'].apply(lambda x: None if x is np.nan else x)"
      ],
      "execution_count": null,
      "outputs": []
    },
    {
      "cell_type": "code",
      "metadata": {
        "colab": {
          "base_uri": "https://localhost:8080/"
        },
        "id": "NfFvxqkHpdh9",
        "outputId": "a3e2d4fc-295d-423e-b37b-e3bc4f2c3f59"
      },
      "source": [
        "df[(df['target'].isna()==False) & (df['target'].str.isdigit())]['target'].value_counts()"
      ],
      "execution_count": null,
      "outputs": [
        {
          "output_type": "execute_result",
          "data": {
            "text/plain": [
              "1      2\n",
              "3      2\n",
              "800    2\n",
              "8      1\n",
              "20     1\n",
              "25     1\n",
              "29     1\n",
              "825    1\n",
              "750    1\n",
              "30     1\n",
              "Name: target, dtype: int64"
            ]
          },
          "metadata": {
            "tags": []
          },
          "execution_count": 627
        }
      ]
    },
    {
      "cell_type": "code",
      "metadata": {
        "id": "0xQnwkKanhpT"
      },
      "source": [
        "punct = '$,+\\-/'\n",
        "df['target'] = df['target'].str.replace('[a-z]', '').str.replace('[{}]'.format(punct), '').str.strip()"
      ],
      "execution_count": null,
      "outputs": []
    },
    {
      "cell_type": "code",
      "metadata": {
        "id": "QqIPaufFn3_K"
      },
      "source": [
        "df['target'] = df['target'].apply(lambda x: None if x is None else int(x.split()[0]))"
      ],
      "execution_count": null,
      "outputs": []
    },
    {
      "cell_type": "code",
      "metadata": {
        "id": "t8F1vVeKsu_8",
        "colab": {
          "base_uri": "https://localhost:8080/"
        },
        "outputId": "5a6f0e73-76d1-4133-938e-fd9efff6a44c"
      },
      "source": [
        "df.loc[330468]['target']"
      ],
      "execution_count": null,
      "outputs": [
        {
          "output_type": "execute_result",
          "data": {
            "text/plain": [
              "1215.0"
            ]
          },
          "metadata": {
            "tags": []
          },
          "execution_count": 630
        }
      ]
    },
    {
      "cell_type": "code",
      "metadata": {
        "colab": {
          "base_uri": "https://localhost:8080/"
        },
        "id": "nm6LI-D6mtYh",
        "outputId": "7ce15eab-e6cd-4f98-ba98-86483c9ecaf0"
      },
      "source": [
        "df['target'].value_counts(dropna=False)"
      ],
      "execution_count": null,
      "outputs": [
        {
          "output_type": "execute_result",
          "data": {
            "text/plain": [
              "NaN         2481\n",
              "225000.0    1806\n",
              "275000.0    1650\n",
              "250000.0    1644\n",
              "350000.0    1641\n",
              "            ... \n",
              "9100.0         1\n",
              "515530.0       1\n",
              "195050.0       1\n",
              "780226.0       1\n",
              "374521.0       1\n",
              "Name: target, Length: 34233, dtype: int64"
            ]
          },
          "metadata": {
            "tags": []
          },
          "execution_count": 631
        }
      ]
    },
    {
      "cell_type": "markdown",
      "metadata": {
        "id": "OiX9sC8e5DUi"
      },
      "source": [
        "future engeneer"
      ]
    },
    {
      "cell_type": "code",
      "metadata": {
        "colab": {
          "base_uri": "https://localhost:8080/",
          "height": 289
        },
        "id": "6SUBDZONnW6I",
        "outputId": "a4d76f93-8d94-4b77-831c-1b4a22cebbd8"
      },
      "source": [
        "df.sample(5)"
      ],
      "execution_count": null,
      "outputs": [
        {
          "output_type": "execute_result",
          "data": {
            "text/html": [
              "<div>\n",
              "<style scoped>\n",
              "    .dataframe tbody tr th:only-of-type {\n",
              "        vertical-align: middle;\n",
              "    }\n",
              "\n",
              "    .dataframe tbody tr th {\n",
              "        vertical-align: top;\n",
              "    }\n",
              "\n",
              "    .dataframe thead th {\n",
              "        text-align: right;\n",
              "    }\n",
              "</style>\n",
              "<table border=\"1\" class=\"dataframe\">\n",
              "  <thead>\n",
              "    <tr style=\"text-align: right;\">\n",
              "      <th></th>\n",
              "      <th>status</th>\n",
              "      <th>propertyType</th>\n",
              "      <th>street</th>\n",
              "      <th>baths</th>\n",
              "      <th>homeFacts</th>\n",
              "      <th>city</th>\n",
              "      <th>schools</th>\n",
              "      <th>sqft</th>\n",
              "      <th>zipcode</th>\n",
              "      <th>beds</th>\n",
              "      <th>state</th>\n",
              "      <th>stories</th>\n",
              "      <th>target</th>\n",
              "      <th>stories_dop</th>\n",
              "      <th>baths_new</th>\n",
              "    </tr>\n",
              "  </thead>\n",
              "  <tbody>\n",
              "    <tr>\n",
              "      <th>172458</th>\n",
              "      <td>for sale</td>\n",
              "      <td>condo</td>\n",
              "      <td>2385 village at bexley dr</td>\n",
              "      <td>3</td>\n",
              "      <td>{'atAGlanceFacts': [{'factValue': '2002', 'fac...</td>\n",
              "      <td>columbus</td>\n",
              "      <td>[{'rating': ['4/10', '2/10'], 'data': {'Distan...</td>\n",
              "      <td>1960.0</td>\n",
              "      <td>43209.0</td>\n",
              "      <td>3.0</td>\n",
              "      <td>OH</td>\n",
              "      <td>2.0</td>\n",
              "      <td>207000.0</td>\n",
              "      <td>NaN</td>\n",
              "      <td>3.0</td>\n",
              "    </tr>\n",
              "    <tr>\n",
              "      <th>352735</th>\n",
              "      <td>active</td>\n",
              "      <td>single family</td>\n",
              "      <td>3391 summerdale way</td>\n",
              "      <td>2</td>\n",
              "      <td>{'atAGlanceFacts': [{'factValue': '2019', 'fac...</td>\n",
              "      <td>kissimmee</td>\n",
              "      <td>[{'rating': ['3', '5', '3', '4', '4', 'NR', 'N...</td>\n",
              "      <td>1828.0</td>\n",
              "      <td>34746.0</td>\n",
              "      <td>4.0</td>\n",
              "      <td>FL</td>\n",
              "      <td>1</td>\n",
              "      <td>259490.0</td>\n",
              "      <td>NaN</td>\n",
              "      <td>2.0</td>\n",
              "    </tr>\n",
              "    <tr>\n",
              "      <th>336589</th>\n",
              "      <td>recently sold</td>\n",
              "      <td>single family</td>\n",
              "      <td>11327 courville st</td>\n",
              "      <td>None</td>\n",
              "      <td>{'atAGlanceFacts': [{'factValue': '1940', 'fac...</td>\n",
              "      <td>detroit</td>\n",
              "      <td>[{'rating': ['4/10', '4/10', '4/10', '4/10', '...</td>\n",
              "      <td>1249.0</td>\n",
              "      <td>48224.0</td>\n",
              "      <td>NaN</td>\n",
              "      <td>MI</td>\n",
              "      <td>2</td>\n",
              "      <td>NaN</td>\n",
              "      <td>NaN</td>\n",
              "      <td>NaN</td>\n",
              "    </tr>\n",
              "    <tr>\n",
              "      <th>200160</th>\n",
              "      <td>active</td>\n",
              "      <td>ranch</td>\n",
              "      <td>6422 w carol ave</td>\n",
              "      <td>None</td>\n",
              "      <td>{'atAGlanceFacts': [{'factValue': '1979', 'fac...</td>\n",
              "      <td>glendale</td>\n",
              "      <td>[{'rating': ['6', 'NR', '8', 'NR'], 'data': {'...</td>\n",
              "      <td>1542.0</td>\n",
              "      <td>85302.0</td>\n",
              "      <td>NaN</td>\n",
              "      <td>AZ</td>\n",
              "      <td>NaN</td>\n",
              "      <td>245000.0</td>\n",
              "      <td>NaN</td>\n",
              "      <td>NaN</td>\n",
              "    </tr>\n",
              "    <tr>\n",
              "      <th>369860</th>\n",
              "      <td>for sale</td>\n",
              "      <td>multi family</td>\n",
              "      <td>None</td>\n",
              "      <td>2</td>\n",
              "      <td>{'atAGlanceFacts': [{'factValue': '1945', 'fac...</td>\n",
              "      <td>oakland</td>\n",
              "      <td>[{'rating': ['1/10', '4/10'], 'data': {'Distan...</td>\n",
              "      <td>1800.0</td>\n",
              "      <td>94605.0</td>\n",
              "      <td>4.0</td>\n",
              "      <td>CA</td>\n",
              "      <td>NaN</td>\n",
              "      <td>690000.0</td>\n",
              "      <td>NaN</td>\n",
              "      <td>2.0</td>\n",
              "    </tr>\n",
              "  </tbody>\n",
              "</table>\n",
              "</div>"
            ],
            "text/plain": [
              "               status   propertyType  ... stories_dop baths_new\n",
              "172458       for sale          condo  ...         NaN       3.0\n",
              "352735         active  single family  ...         NaN       2.0\n",
              "336589  recently sold  single family  ...         NaN       NaN\n",
              "200160         active          ranch  ...         NaN       NaN\n",
              "369860       for sale   multi family  ...         NaN       2.0\n",
              "\n",
              "[5 rows x 15 columns]"
            ]
          },
          "metadata": {
            "tags": []
          },
          "execution_count": 632
        }
      ]
    },
    {
      "cell_type": "code",
      "metadata": {
        "id": "s8vgdv095Ift"
      },
      "source": [
        ""
      ],
      "execution_count": null,
      "outputs": []
    }
  ]
}