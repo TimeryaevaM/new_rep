{
  "nbformat": 4,
  "nbformat_minor": 0,
  "metadata": {
    "colab": {
      "name": "diplom_2v.ipynb",
      "provenance": [],
      "collapsed_sections": [],
      "authorship_tag": "ABX9TyMygc2khNEy5mwMSuaC/yQB",
      "include_colab_link": true
    },
    "kernelspec": {
      "name": "python3",
      "display_name": "Python 3"
    },
    "language_info": {
      "name": "python"
    }
  },
  "cells": [
    {
      "cell_type": "markdown",
      "metadata": {
        "id": "view-in-github",
        "colab_type": "text"
      },
      "source": [
        "<a href=\"https://colab.research.google.com/github/TimeryaevaM/new_rep/blob/master/diplom_2v.ipynb\" target=\"_parent\"><img src=\"https://colab.research.google.com/assets/colab-badge.svg\" alt=\"Open In Colab\"/></a>"
      ]
    },
    {
      "cell_type": "code",
      "metadata": {
        "id": "1w30m-Auk6Ki"
      },
      "source": [
        "import pandas as pd\n",
        "import os\n",
        "import csv\n",
        "import numpy as np"
      ],
      "execution_count": 235,
      "outputs": []
    },
    {
      "cell_type": "code",
      "metadata": {
        "id": "MhmxFpvSlJYX"
      },
      "source": [
        "# df = pd.read_csv(\"/data_new.csv\", sep=\",\", quoting=csv.QUOTE_ALL, encoding='utf-8')\n",
        "\n",
        "df = pd.read_csv(\"/data_new.csv\")"
      ],
      "execution_count": 236,
      "outputs": []
    },
    {
      "cell_type": "code",
      "metadata": {
        "colab": {
          "base_uri": "https://localhost:8080/",
          "height": 391
        },
        "id": "mLaEOsPh-cZe",
        "outputId": "50a9dd37-63e3-4443-98b3-2cc7d09afe02"
      },
      "source": [
        "df.head()"
      ],
      "execution_count": 237,
      "outputs": [
        {
          "output_type": "execute_result",
          "data": {
            "text/html": [
              "<div>\n",
              "<style scoped>\n",
              "    .dataframe tbody tr th:only-of-type {\n",
              "        vertical-align: middle;\n",
              "    }\n",
              "\n",
              "    .dataframe tbody tr th {\n",
              "        vertical-align: top;\n",
              "    }\n",
              "\n",
              "    .dataframe thead th {\n",
              "        text-align: right;\n",
              "    }\n",
              "</style>\n",
              "<table border=\"1\" class=\"dataframe\">\n",
              "  <thead>\n",
              "    <tr style=\"text-align: right;\">\n",
              "      <th></th>\n",
              "      <th>status</th>\n",
              "      <th>private pool</th>\n",
              "      <th>propertyType</th>\n",
              "      <th>street</th>\n",
              "      <th>baths</th>\n",
              "      <th>homeFacts</th>\n",
              "      <th>fireplace</th>\n",
              "      <th>city</th>\n",
              "      <th>schools</th>\n",
              "      <th>sqft</th>\n",
              "      <th>zipcode</th>\n",
              "      <th>beds</th>\n",
              "      <th>state</th>\n",
              "      <th>stories</th>\n",
              "      <th>mls-id</th>\n",
              "      <th>PrivatePool</th>\n",
              "      <th>MlsId</th>\n",
              "      <th>target</th>\n",
              "    </tr>\n",
              "  </thead>\n",
              "  <tbody>\n",
              "    <tr>\n",
              "      <th>0</th>\n",
              "      <td>Active</td>\n",
              "      <td>NaN</td>\n",
              "      <td>Single Family Home</td>\n",
              "      <td>240 Heather Ln</td>\n",
              "      <td>3.5</td>\n",
              "      <td>{'atAGlanceFacts': [{'factValue': '2019', 'fac...</td>\n",
              "      <td>Gas Logs</td>\n",
              "      <td>Southern Pines</td>\n",
              "      <td>[{'rating': ['4', '4', '7', 'NR', '4', '7', 'N...</td>\n",
              "      <td>2900</td>\n",
              "      <td>28387</td>\n",
              "      <td>4</td>\n",
              "      <td>NC</td>\n",
              "      <td>NaN</td>\n",
              "      <td>NaN</td>\n",
              "      <td>NaN</td>\n",
              "      <td>611019</td>\n",
              "      <td>$418,000</td>\n",
              "    </tr>\n",
              "    <tr>\n",
              "      <th>1</th>\n",
              "      <td>for sale</td>\n",
              "      <td>NaN</td>\n",
              "      <td>single-family home</td>\n",
              "      <td>12911 E Heroy Ave</td>\n",
              "      <td>3 Baths</td>\n",
              "      <td>{'atAGlanceFacts': [{'factValue': '2019', 'fac...</td>\n",
              "      <td>NaN</td>\n",
              "      <td>Spokane Valley</td>\n",
              "      <td>[{'rating': ['4/10', 'None/10', '4/10'], 'data...</td>\n",
              "      <td>1,947 sqft</td>\n",
              "      <td>99216</td>\n",
              "      <td>3 Beds</td>\n",
              "      <td>WA</td>\n",
              "      <td>2.0</td>\n",
              "      <td>NaN</td>\n",
              "      <td>NaN</td>\n",
              "      <td>201916904</td>\n",
              "      <td>$310,000</td>\n",
              "    </tr>\n",
              "    <tr>\n",
              "      <th>2</th>\n",
              "      <td>for sale</td>\n",
              "      <td>NaN</td>\n",
              "      <td>single-family home</td>\n",
              "      <td>2005 Westridge Rd</td>\n",
              "      <td>2 Baths</td>\n",
              "      <td>{'atAGlanceFacts': [{'factValue': '1961', 'fac...</td>\n",
              "      <td>yes</td>\n",
              "      <td>Los Angeles</td>\n",
              "      <td>[{'rating': ['8/10', '4/10', '8/10'], 'data': ...</td>\n",
              "      <td>3,000 sqft</td>\n",
              "      <td>90049</td>\n",
              "      <td>3 Beds</td>\n",
              "      <td>CA</td>\n",
              "      <td>1.0</td>\n",
              "      <td>NaN</td>\n",
              "      <td>yes</td>\n",
              "      <td>FR19221027</td>\n",
              "      <td>$2,895,000</td>\n",
              "    </tr>\n",
              "    <tr>\n",
              "      <th>3</th>\n",
              "      <td>for sale</td>\n",
              "      <td>NaN</td>\n",
              "      <td>single-family home</td>\n",
              "      <td>4311 Livingston Ave</td>\n",
              "      <td>8 Baths</td>\n",
              "      <td>{'atAGlanceFacts': [{'factValue': '2006', 'fac...</td>\n",
              "      <td>yes</td>\n",
              "      <td>Dallas</td>\n",
              "      <td>[{'rating': ['9/10', '9/10', '10/10', '9/10'],...</td>\n",
              "      <td>6,457 sqft</td>\n",
              "      <td>75205</td>\n",
              "      <td>5 Beds</td>\n",
              "      <td>TX</td>\n",
              "      <td>3.0</td>\n",
              "      <td>NaN</td>\n",
              "      <td>NaN</td>\n",
              "      <td>14191809</td>\n",
              "      <td>$2,395,000</td>\n",
              "    </tr>\n",
              "    <tr>\n",
              "      <th>4</th>\n",
              "      <td>for sale</td>\n",
              "      <td>NaN</td>\n",
              "      <td>lot/land</td>\n",
              "      <td>1524 Kiscoe St</td>\n",
              "      <td>NaN</td>\n",
              "      <td>{'atAGlanceFacts': [{'factValue': '', 'factLab...</td>\n",
              "      <td>NaN</td>\n",
              "      <td>Palm Bay</td>\n",
              "      <td>[{'rating': ['4/10', '5/10', '5/10'], 'data': ...</td>\n",
              "      <td>NaN</td>\n",
              "      <td>32908</td>\n",
              "      <td>NaN</td>\n",
              "      <td>FL</td>\n",
              "      <td>NaN</td>\n",
              "      <td>NaN</td>\n",
              "      <td>NaN</td>\n",
              "      <td>861745</td>\n",
              "      <td>$5,000</td>\n",
              "    </tr>\n",
              "  </tbody>\n",
              "</table>\n",
              "</div>"
            ],
            "text/plain": [
              "     status private pool  ...       MlsId      target\n",
              "0    Active          NaN  ...      611019    $418,000\n",
              "1  for sale          NaN  ...   201916904    $310,000\n",
              "2  for sale          NaN  ...  FR19221027  $2,895,000\n",
              "3  for sale          NaN  ...    14191809  $2,395,000\n",
              "4  for sale          NaN  ...      861745      $5,000\n",
              "\n",
              "[5 rows x 18 columns]"
            ]
          },
          "metadata": {
            "tags": []
          },
          "execution_count": 237
        }
      ]
    },
    {
      "cell_type": "code",
      "metadata": {
        "colab": {
          "base_uri": "https://localhost:8080/"
        },
        "id": "KO0u_3EW-okk",
        "outputId": "ad386eb8-da1a-4f32-e5ac-daa0bcfac1bc"
      },
      "source": [
        "df.shape"
      ],
      "execution_count": 238,
      "outputs": [
        {
          "output_type": "execute_result",
          "data": {
            "text/plain": [
              "(377185, 18)"
            ]
          },
          "metadata": {
            "tags": []
          },
          "execution_count": 238
        }
      ]
    },
    {
      "cell_type": "code",
      "metadata": {
        "id": "Egyx7KRmlMc9",
        "colab": {
          "base_uri": "https://localhost:8080/"
        },
        "outputId": "b4bb096a-32d6-432f-d4ca-ecaf300fef0b"
      },
      "source": [
        "df[df['target'].isna()].shape"
      ],
      "execution_count": 239,
      "outputs": [
        {
          "output_type": "execute_result",
          "data": {
            "text/plain": [
              "(2481, 18)"
            ]
          },
          "metadata": {
            "tags": []
          },
          "execution_count": 239
        }
      ]
    },
    {
      "cell_type": "code",
      "metadata": {
        "colab": {
          "base_uri": "https://localhost:8080/"
        },
        "id": "nP1wSjr_vQfi",
        "outputId": "d2eb7cb8-f6d8-48f3-994c-a667e4159ad0"
      },
      "source": [
        "df.info()"
      ],
      "execution_count": 240,
      "outputs": [
        {
          "output_type": "stream",
          "text": [
            "<class 'pandas.core.frame.DataFrame'>\n",
            "RangeIndex: 377185 entries, 0 to 377184\n",
            "Data columns (total 18 columns):\n",
            " #   Column        Non-Null Count   Dtype \n",
            "---  ------        --------------   ----- \n",
            " 0   status        337267 non-null  object\n",
            " 1   private pool  4181 non-null    object\n",
            " 2   propertyType  342452 non-null  object\n",
            " 3   street        377183 non-null  object\n",
            " 4   baths         270847 non-null  object\n",
            " 5   homeFacts     377185 non-null  object\n",
            " 6   fireplace     103115 non-null  object\n",
            " 7   city          377151 non-null  object\n",
            " 8   schools       377185 non-null  object\n",
            " 9   sqft          336608 non-null  object\n",
            " 10  zipcode       377185 non-null  object\n",
            " 11  beds          285903 non-null  object\n",
            " 12  state         377185 non-null  object\n",
            " 13  stories       226470 non-null  object\n",
            " 14  mls-id        24942 non-null   object\n",
            " 15  PrivatePool   40311 non-null   object\n",
            " 16  MlsId         310305 non-null  object\n",
            " 17  target        374704 non-null  object\n",
            "dtypes: object(18)\n",
            "memory usage: 51.8+ MB\n"
          ],
          "name": "stdout"
        }
      ]
    },
    {
      "cell_type": "code",
      "metadata": {
        "colab": {
          "base_uri": "https://localhost:8080/"
        },
        "id": "DmT4P5r82xb5",
        "outputId": "1a5bbc9c-27c9-462b-ba2e-c86032effdf0"
      },
      "source": [
        "print(\"Percent NULL values\\n\")\n",
        "round(df.isna().sum() / df.shape[0] * 100, 2)"
      ],
      "execution_count": 241,
      "outputs": [
        {
          "output_type": "stream",
          "text": [
            "Percent NULL values\n",
            "\n"
          ],
          "name": "stdout"
        },
        {
          "output_type": "execute_result",
          "data": {
            "text/plain": [
              "status          10.58\n",
              "private pool    98.89\n",
              "propertyType     9.21\n",
              "street           0.00\n",
              "baths           28.19\n",
              "homeFacts        0.00\n",
              "fireplace       72.66\n",
              "city             0.01\n",
              "schools          0.00\n",
              "sqft            10.76\n",
              "zipcode          0.00\n",
              "beds            24.20\n",
              "state            0.00\n",
              "stories         39.96\n",
              "mls-id          93.39\n",
              "PrivatePool     89.31\n",
              "MlsId           17.73\n",
              "target           0.66\n",
              "dtype: float64"
            ]
          },
          "metadata": {
            "tags": []
          },
          "execution_count": 241
        }
      ]
    },
    {
      "cell_type": "markdown",
      "metadata": {
        "id": "4SsjYfyy3ecP"
      },
      "source": [
        "Удаляем столбцы, где процент NULL значений больше 40%"
      ]
    },
    {
      "cell_type": "code",
      "metadata": {
        "id": "11b4aa6dK7q2"
      },
      "source": [
        "df.drop(['private pool', 'fireplace', 'mls-id', 'PrivatePool'], axis=1, inplace=True)"
      ],
      "execution_count": 242,
      "outputs": []
    },
    {
      "cell_type": "code",
      "metadata": {
        "colab": {
          "base_uri": "https://localhost:8080/"
        },
        "id": "HlT7wWfZ39we",
        "outputId": "8d1912d9-7ec3-463f-f91b-ac57fd1e1bd3"
      },
      "source": [
        "df.nunique()"
      ],
      "execution_count": 243,
      "outputs": [
        {
          "output_type": "execute_result",
          "data": {
            "text/plain": [
              "status             159\n",
              "propertyType      1280\n",
              "street          337076\n",
              "baths              229\n",
              "homeFacts       321009\n",
              "city              2026\n",
              "schools         297365\n",
              "sqft             25405\n",
              "zipcode           4549\n",
              "beds              1184\n",
              "state               39\n",
              "stories            348\n",
              "MlsId           232944\n",
              "target           43939\n",
              "dtype: int64"
            ]
          },
          "metadata": {
            "tags": []
          },
          "execution_count": 243
        }
      ]
    },
    {
      "cell_type": "markdown",
      "metadata": {
        "id": "jHEzEYMH1LyF"
      },
      "source": [
        "status"
      ]
    },
    {
      "cell_type": "code",
      "metadata": {
        "id": "2n1c-t7p4C-0"
      },
      "source": [
        "df['status'] = df['status'].str.lower()"
      ],
      "execution_count": 244,
      "outputs": []
    },
    {
      "cell_type": "code",
      "metadata": {
        "colab": {
          "base_uri": "https://localhost:8080/",
          "height": 35
        },
        "id": "9NBV6zdI95QT",
        "outputId": "390d4f7c-61bf-45f1-bd0b-6c4f025b348a"
      },
      "source": [
        "import string\n",
        "string.punctuation\n",
        "string.digits"
      ],
      "execution_count": 245,
      "outputs": [
        {
          "output_type": "execute_result",
          "data": {
            "application/vnd.google.colaboratory.intrinsic+json": {
              "type": "string"
            },
            "text/plain": [
              "'0123456789'"
            ]
          },
          "metadata": {
            "tags": []
          },
          "execution_count": 245
        }
      ]
    },
    {
      "cell_type": "code",
      "metadata": {
        "colab": {
          "base_uri": "https://localhost:8080/"
        },
        "id": "gjVBpAcj_hvK",
        "outputId": "b7d45932-627d-422a-e5f4-4157ccc5e840"
      },
      "source": [
        "df['status'] = df['status'].str.replace('[{}]'.format(string.punctuation), ' ').str.replace('[{}]'.format(string.digits), ' ').apply(lambda x: \" \".join(str(x).split()))\n",
        "df['status'].value_counts()"
      ],
      "execution_count": 246,
      "outputs": [
        {
          "output_type": "execute_result",
          "data": {
            "text/plain": [
              "for sale                   199571\n",
              "active                     105207\n",
              "nan                         39918\n",
              "foreclosure                  6769\n",
              "new construction             5475\n",
              "                            ...  \n",
              "pending backups wanted          1\n",
              "contingent sale of home         1\n",
              "pending take backups            1\n",
              "conting accpt backups           1\n",
              "under contract w bckp           1\n",
              "Name: status, Length: 104, dtype: int64"
            ]
          },
          "metadata": {
            "tags": []
          },
          "execution_count": 246
        }
      ]
    },
    {
      "cell_type": "code",
      "metadata": {
        "colab": {
          "base_uri": "https://localhost:8080/"
        },
        "id": "JwQBiVTSibVQ",
        "outputId": "52fe3b5c-386e-4d32-a902-ad625579e3fb"
      },
      "source": [
        "df['status'].nunique()"
      ],
      "execution_count": 247,
      "outputs": [
        {
          "output_type": "execute_result",
          "data": {
            "text/plain": [
              "104"
            ]
          },
          "metadata": {
            "tags": []
          },
          "execution_count": 247
        }
      ]
    },
    {
      "cell_type": "markdown",
      "metadata": {
        "id": "Vfiig-gf1Ix2"
      },
      "source": [
        "propertyType "
      ]
    },
    {
      "cell_type": "code",
      "metadata": {
        "id": "2drMoTn31Sv0"
      },
      "source": [
        "df['propertyType'] = df['propertyType'].str.lower()\n",
        "df['propertyType'] = df['propertyType'].str.replace('[{}]'.format(string.punctuation), ' ').apply(lambda x: \" \".join(str(x).split()))\n",
        "df['propertyType'] = df['propertyType'].str.replace('one', '1').str.replace('two', '2')"
      ],
      "execution_count": 248,
      "outputs": []
    },
    {
      "cell_type": "code",
      "metadata": {
        "colab": {
          "base_uri": "https://localhost:8080/"
        },
        "id": "6adUWZNnCEu4",
        "outputId": "7838db04-6627-4fe4-9078-9a80003721e8"
      },
      "source": [
        "df['propertyType'].value_counts()[20:40]"
      ],
      "execution_count": 249,
      "outputs": [
        {
          "output_type": "execute_result",
          "data": {
            "text/plain": [
              "contemporary modern           1010\n",
              "apartment                      922\n",
              "2 stories                      911\n",
              "mfd mobile home                792\n",
              "single detached                751\n",
              "detached 2 story               638\n",
              "2 story                        596\n",
              "transitional                   560\n",
              "cooperative                    535\n",
              "florida                        530\n",
              "bungalow                       442\n",
              "farms ranches                  371\n",
              "garden home                    305\n",
              "cape cod                       281\n",
              "2 stories traditional          280\n",
              "spanish mediterranean          272\n",
              "other style                    249\n",
              "1 story traditional            238\n",
              "other                          232\n",
              "condo townhome traditional     225\n",
              "Name: propertyType, dtype: int64"
            ]
          },
          "metadata": {
            "tags": []
          },
          "execution_count": 249
        }
      ]
    },
    {
      "cell_type": "code",
      "metadata": {
        "colab": {
          "base_uri": "https://localhost:8080/"
        },
        "id": "bUIKI--bHHOm",
        "outputId": "b35f8213-9026-4e16-c546-76a0da79b495"
      },
      "source": [
        "df['stories_dop'] = df['propertyType'].str.findall(r'[a-z0-9]+ story|[a-z0-9]+ stories').apply(lambda x: None if len(x) == 0 else x[-1])\n",
        "#.str.replace('one', '1').str.replace('two', '2')\n",
        "df['stories_dop'].value_counts(dropna=False)"
      ],
      "execution_count": 250,
      "outputs": [
        {
          "output_type": "execute_result",
          "data": {
            "text/plain": [
              "NaN          369527\n",
              "1 story        4440\n",
              "2 stories      1558\n",
              "2 story        1466\n",
              "3 stories       134\n",
              "8 stories        38\n",
              "7 stories        15\n",
              "3 story           6\n",
              "5 story           1\n",
              "Name: stories_dop, dtype: int64"
            ]
          },
          "metadata": {
            "tags": []
          },
          "execution_count": 250
        }
      ]
    },
    {
      "cell_type": "code",
      "metadata": {
        "id": "W1zAHyISN2sg"
      },
      "source": [
        "set_story = set(df['stories_dop'].dropna())\n",
        "for y in set_story:\n",
        "  df['propertyType'] = df['propertyType'].str.replace(y, '')"
      ],
      "execution_count": 251,
      "outputs": []
    },
    {
      "cell_type": "code",
      "metadata": {
        "colab": {
          "base_uri": "https://localhost:8080/"
        },
        "id": "MWm2qcUB27s8",
        "outputId": "ba6e34e6-93d8-4e3b-eec6-991df8a42c6d"
      },
      "source": [
        "df[df['propertyType'].str.contains('home')]['propertyType'].value_counts()"
      ],
      "execution_count": 252,
      "outputs": [
        {
          "output_type": "execute_result",
          "data": {
            "text/plain": [
              "single family home                                           123934\n",
              "condo townhome row home co op                                  7701\n",
              "multi family home                                              1501\n",
              "mfd mobile home                                                 792\n",
              "garden home                                                     305\n",
              "                                                              ...  \n",
              "condo townhome spanish                                            1\n",
              "condo townhome a frame traditional                                1\n",
              "single detached vacation home                                     1\n",
              "designated historical home colonial traditional victorian         1\n",
              "apartment condo townhome garden zero lot line                     1\n",
              "Name: propertyType, Length: 137, dtype: int64"
            ]
          },
          "metadata": {
            "tags": []
          },
          "execution_count": 252
        }
      ]
    },
    {
      "cell_type": "code",
      "metadata": {
        "id": "VNsnUVuBX64m"
      },
      "source": [
        "df['propertyType'] = df['propertyType'].str.replace('home', '')\n",
        "df['propertyType'] = df['propertyType'].apply(lambda x: None if x == '' else  \" \".join(str(x).split()))"
      ],
      "execution_count": 253,
      "outputs": []
    },
    {
      "cell_type": "code",
      "metadata": {
        "colab": {
          "base_uri": "https://localhost:8080/"
        },
        "id": "dZ-XFKT9XRqE",
        "outputId": "aa3161b4-c173-4529-c78e-ce0b6e3ea9aa"
      },
      "source": [
        "df['propertyType'].nunique()"
      ],
      "execution_count": 254,
      "outputs": [
        {
          "output_type": "execute_result",
          "data": {
            "text/plain": [
              "1113"
            ]
          },
          "metadata": {
            "tags": []
          },
          "execution_count": 254
        }
      ]
    },
    {
      "cell_type": "markdown",
      "metadata": {
        "id": "dp5t10jcZCCK"
      },
      "source": [
        "street"
      ]
    },
    {
      "cell_type": "code",
      "metadata": {
        "colab": {
          "base_uri": "https://localhost:8080/"
        },
        "id": "17rgvZ3JXw-8",
        "outputId": "da76c119-c008-4aa0-f98d-d6113c5b7a74"
      },
      "source": [
        "df['street'].value_counts(dropna=False)[1200:]"
      ],
      "execution_count": 255,
      "outputs": [
        {
          "output_type": "execute_result",
          "data": {
            "text/plain": [
              "2964 Rusk St               3\n",
              "3617 W 155th St            3\n",
              "18 Hermann Park Ct         3\n",
              "3124 W 88th St             3\n",
              "7210 Granvia Dr            3\n",
              "                          ..\n",
              "101 Mulberry St APT 220    1\n",
              "34 S Grande Pointe Dr      1\n",
              "12720 Banting Ter          1\n",
              "12233 Pheon St             1\n",
              "821 Kodak Dr               1\n",
              "Name: street, Length: 335877, dtype: int64"
            ]
          },
          "metadata": {
            "tags": []
          },
          "execution_count": 255
        }
      ]
    },
    {
      "cell_type": "code",
      "metadata": {
        "id": "-sHPD6TZ6l48"
      },
      "source": [
        "df['street'] = df['street'].str.lower()\n",
        "df['street'] = df['street'].apply(lambda x: None if 'not disclosed' in str(x) else \n",
        "                                  None if 'undisclosed' in str(x) else\n",
        "                                  None if 'not available' in str(x) else\n",
        "                                  None if 'unknown' in str(x) else str(x))"
      ],
      "execution_count": 256,
      "outputs": []
    },
    {
      "cell_type": "code",
      "metadata": {
        "id": "J-963uSjL8iB"
      },
      "source": [
        "df.loc[(df['street'].isna()==False) & (df['street'].str.contains(r'mls ')), 'street'] = None"
      ],
      "execution_count": 257,
      "outputs": []
    },
    {
      "cell_type": "code",
      "metadata": {
        "colab": {
          "base_uri": "https://localhost:8080/",
          "height": 35
        },
        "id": "GbgWmS1esbxU",
        "outputId": "804be29a-4378-4c3f-820e-91a887e12940"
      },
      "source": [
        "df.loc[81361, 'street']"
      ],
      "execution_count": 258,
      "outputs": [
        {
          "output_type": "execute_result",
          "data": {
            "application/vnd.google.colaboratory.intrinsic+json": {
              "type": "string"
            },
            "text/plain": [
              "'1131 w 24th street st unit c '"
            ]
          },
          "metadata": {
            "tags": []
          },
          "execution_count": 258
        }
      ]
    },
    {
      "cell_type": "code",
      "metadata": {
        "id": "Lezwat9yAWuu"
      },
      "source": [
        "punct = string.punctuation\n",
        "df['street'] = df['street'].str.replace('[{}]'.format(string.punctuation), ' ').str.replace(r'\\b[0-9]+\\b', '').str.replace('  ', ' ').str.strip()"
      ],
      "execution_count": 259,
      "outputs": []
    },
    {
      "cell_type": "code",
      "metadata": {
        "id": "zIj1LeBMRHcX"
      },
      "source": [
        "street_list_tuple = [('st', 'street'), ('dr', 'drive'), ('ave', 'avenue'), ('rd', 'road'), ('rdg', 'ridge'), ('blvd', 'boulevard'), ('pkwy', 'parkway'), \n",
        "                   ('cir', 'circle'), ('hwy', 'highway'), ('ln', 'lane'), ('lndg', 'landing'), ('trl', 'trail'), ('ter', 'terrace'), ('ct', 'court'), \n",
        "                   ('crk', 'creek'), ('pl', 'place'), ('rds', 'roads'), ('bnd', 'bend'), ('fls', 'falls'), ('clf', 'cliff'), ('clfs', 'cliff'), ('mtn', 'mountain'), \n",
        "                   ('crst', 'crest'), ('hl', 'hill'), ('ml', 'mill'), ('mnr', 'manor'), ('hts', 'heights')]       \n",
        "                          \n",
        "street_list_2 = ['street', 'drive', 'avenue', 'road', 'ridge', 'way', 'boulevard', 'parkway', 'circle', 'highway', 'lane', \n",
        "                 'landing', 'trail', 'terrace', 'court', 'creek', 'place', 'roads', 'bend', 'falls', 'cliff', 'mountain', \n",
        "                 'crest', 'hill', 'mill', 'point', 'loop', 'court', 'manor', 'heights', 'oaks', 'park']"
      ],
      "execution_count": 260,
      "outputs": []
    },
    {
      "cell_type": "code",
      "metadata": {
        "id": "1E-BO1T0-TP9"
      },
      "source": [
        "def street_replace(df, st_tupl):\n",
        "\n",
        "  # Функция замены коротких синонимов на полные названия и удаление дубликатов\n",
        "\n",
        "  df['street'] = df['street'].str.replace(rf'\\b{st_tupl[0]}\\b', st_tupl[1]).str.replace(rf'\\b{st_tupl[1]}\\b \\b{st_tupl[1]}\\b', st_tupl[1])\n",
        "  df['street'] = df['street'].str.replace('  ', ' ').str.strip()\n",
        "\n",
        "  # print(f'replace {st_tupl[0]} to {st_tupl[1]}')"
      ],
      "execution_count": 261,
      "outputs": []
    },
    {
      "cell_type": "code",
      "metadata": {
        "id": "-TXrE9VA9y-V"
      },
      "source": [
        "for x in street_list_tuple:\n",
        "  street_replace(df, x)"
      ],
      "execution_count": 262,
      "outputs": []
    },
    {
      "cell_type": "code",
      "metadata": {
        "colab": {
          "base_uri": "https://localhost:8080/"
        },
        "id": "tAZ6W7CnMjjV",
        "outputId": "aae136ce-39b9-42ee-99d4-55106fa24875"
      },
      "source": [
        "df['street'].sample(20)"
      ],
      "execution_count": 263,
      "outputs": [
        {
          "output_type": "execute_result",
          "data": {
            "text/plain": [
              "273628            addlestone road\n",
              "271966                broadway 2b\n",
              "82989            riversedge drive\n",
              "229817      new leatherwood drive\n",
              "192896               arpana drive\n",
              "83614                needle grass\n",
              "247531         n dearborn parkway\n",
              "159866               apollo trail\n",
              "96486            vaughns gap road\n",
              "148962     waterfront court units\n",
              "355358            trailwood drive\n",
              "357488              coachmans way\n",
              "199352           yorkshire street\n",
              "279865          and endicott lane\n",
              "81830                        None\n",
              "212598            hemingway drive\n",
              "101364    s harrison street lot12\n",
              "105803              drexel street\n",
              "343344            davis boulevard\n",
              "295720            clearwood drive\n",
              "Name: street, dtype: object"
            ]
          },
          "metadata": {
            "tags": []
          },
          "execution_count": 263
        }
      ]
    },
    {
      "cell_type": "code",
      "metadata": {
        "id": "IFBTRMTnP5MM"
      },
      "source": [
        "def del_dropwords_street(df, dropword):\n",
        "\n",
        "  # Удаляем dropword из признака street\n",
        "  df['street'] = df['street'].str.replace(rf'\\b{dropword}\\b', '').str.replace(r'  ', ' ').str.strip()\n",
        "\n",
        "  print(f\"Drop {dropword}\")"
      ],
      "execution_count": 264,
      "outputs": []
    },
    {
      "cell_type": "code",
      "metadata": {
        "colab": {
          "base_uri": "https://localhost:8080/"
        },
        "id": "qwv2r3M6MiJE",
        "outputId": "a9159ba7-b25e-46f0-ee69-3d8164c1025b"
      },
      "source": [
        "dropwords = ['lot', 'lots', 'collections', 'collection', 'plan', 'apt', 'unit', 'buildable', 'the']\n",
        "\n",
        "for x in dropwords:\n",
        "  del_dropwords_street(df, x)"
      ],
      "execution_count": 265,
      "outputs": [
        {
          "output_type": "stream",
          "text": [
            "Drop lot\n",
            "Drop lots\n",
            "Drop collections\n",
            "Drop collection\n",
            "Drop plan\n",
            "Drop apt\n",
            "Drop unit\n",
            "Drop buildable\n",
            "Drop the\n"
          ],
          "name": "stdout"
        }
      ]
    },
    {
      "cell_type": "code",
      "metadata": {
        "id": "PtEsZXfg_YW4"
      },
      "source": [
        "# Удаляем мусор из строк, чтобы легче паттерны было выделять\n",
        "df['street'] = df['street'].str.replace(r'\\b[a-z]{1,2}\\b', '').str.replace('  ', ' ').str.strip()\n",
        "df['street'] = df['street'].str.replace(r'\\b[0-9]+[a-z]\\b', '').str.replace(r'\\b[a-z]+[0-9]\\b', '').str.replace(r'\\b[0-9]+ft\\b', '')\n",
        "df['street'] = df['street'].str.replace(r'  ', ' ').str.strip()"
      ],
      "execution_count": 266,
      "outputs": []
    },
    {
      "cell_type": "code",
      "metadata": {
        "id": "AI9Eok4OFAoW"
      },
      "source": [
        "def street_var(df, street_var):\n",
        "  #### Создаем новые столбцы для значений параметров улиц\n",
        "\n",
        "  # print(street_var + \" :\")\n",
        "  street_col = street_var + '_v'\n",
        "  df[street_col] = None\n",
        "\n",
        "  df[street_col] = df['street'].apply(lambda x: None if x is None else 1 if x.endswith(' ' + street_var) else \n",
        "                                      1 if ' ' + street_var + ' ' in x else 0)\n",
        "\n",
        "  # print(f'New columm {street_col} is ready')"
      ],
      "execution_count": 267,
      "outputs": []
    },
    {
      "cell_type": "code",
      "metadata": {
        "id": "4CPAOHIUJL2x"
      },
      "source": [
        "for x in street_list_2:\n",
        "  street_var(df, x)"
      ],
      "execution_count": 268,
      "outputs": []
    },
    {
      "cell_type": "code",
      "metadata": {
        "id": "M7mp668lXZ7n"
      },
      "source": [
        "df['street'] = df['street'].apply(lambda x: None if x is None else\n",
        "                                  None if x.strip() == '' else x)"
      ],
      "execution_count": 269,
      "outputs": []
    },
    {
      "cell_type": "code",
      "metadata": {
        "id": "jZ6ifHXpSjs-"
      },
      "source": [
        "def change_street(df, spec_str):\n",
        "\n",
        "  ### Преобразуем улицы согласно паттернам\n",
        "\n",
        "  new_street = df.loc[(df['street'].isna()==False) & (df['street'].str.contains(r'\\b[a-z]{3,}\\b \\b[a-z]{2,}\\b ' + spec_str)), 'street']\n",
        "  new_street = new_street.str.findall(r'\\b[a-z]{3,}\\b \\b[a-z]{2,}\\b ' + spec_str).apply(lambda x: None if len(x) == 0 else x[0])\n",
        "  df.loc[new_street.index, 'street'] = new_street\n",
        "\n",
        "  new_street = df.loc[(df['street'].isna()==False) & (df['street'].str.contains('[0-9]+[a-z]+ ' + spec_str)), 'street']\n",
        "  new_street = new_street.str.findall('[0-9]+[a-z]+ ' + spec_str).apply(lambda x: None if len(x) == 0 else x[0])\n",
        "  df.loc[new_street.index, 'street'] = new_street\n",
        "\n",
        "  new_street = df.loc[(df['street'].isna()==False) & (df['street'].str.contains('[0-9]+[a-z]+ [a-z]+ ' + spec_str)), 'street']\n",
        "  new_street = new_street.str.findall('[0-9]+[a-z]+ [a-z]+ ' + spec_str).apply(lambda x: None if len(x) == 0 else x[0])\n",
        "  df.loc[new_street.index, 'street'] = new_street\n",
        "\n",
        "  # new_street = df.loc[(df['street'].isna()==False) & (df['street'].str.contains(r'\\b[a-z]{3,}-[a-z]{3,}\\b '+ spec_str)), 'street']\n",
        "  # new_street = new_street.str.findall(r'\\b[a-z]{3,}-[a-z]{3,}\\b '+ spec_str).apply(lambda x: None if len(x) == 0 else x[0])\n",
        "  # df.loc[new_street.index, 'street'] = new_street\n",
        "\n",
        "  new_street = df.loc[(df['street'].isna()==False) & (df['street'].str.contains(r'^\\b[a-z]{3,}\\b '+ spec_str)), 'street']\n",
        "  new_street = new_street.str.findall(r'^\\b[a-z]{3,}\\b '+ spec_str).apply(lambda x: None if len(x) == 0 else x[0])\n",
        "  df.loc[new_street.index, 'street'] = new_street\n",
        "  \n",
        "  # print('Change', spec_str)"
      ],
      "execution_count": 270,
      "outputs": []
    },
    {
      "cell_type": "code",
      "metadata": {
        "id": "jYKsoSbzEHNN"
      },
      "source": [
        "for x in street_list_2:\n",
        "  change_street(df, x)"
      ],
      "execution_count": 271,
      "outputs": []
    },
    {
      "cell_type": "code",
      "metadata": {
        "id": "3F7zIPXPac6l"
      },
      "source": [
        "# Создаем столбец длины улиц, чтобы ими управлять если что\n",
        "\n",
        "df['street_length'] = df['street'].apply(lambda x: 0 if x is None else len(x.split()) )"
      ],
      "execution_count": 272,
      "outputs": []
    },
    {
      "cell_type": "code",
      "metadata": {
        "id": "CUt8qfsScftW"
      },
      "source": [
        "def del_var_from_street(df, street_var):\n",
        "\n",
        "  # Функция удаления переменных улиц для уменьшения количества уникальных значений\n",
        "\n",
        "  df['street'] = df['street'].str.replace(rf'\\b{street_var}\\b', '').str.replace('  ', ' ').str.strip()\n",
        "  df['street'] = df['street'].apply(lambda x: None if x == ''  else x)\n",
        "\n",
        "  # print(f'Del {street_var} from street')"
      ],
      "execution_count": 273,
      "outputs": []
    },
    {
      "cell_type": "code",
      "metadata": {
        "id": "A23hJ6CSeyox"
      },
      "source": [
        "for x in street_list_2:\n",
        "  del_var_from_street(df, x)"
      ],
      "execution_count": 274,
      "outputs": []
    },
    {
      "cell_type": "code",
      "metadata": {
        "id": "SRkykXDeZptT",
        "colab": {
          "base_uri": "https://localhost:8080/"
        },
        "outputId": "1cb33771-7bfa-46b6-be86-9abc4e64ca69"
      },
      "source": [
        "df[df['street_length'] == 2]['street'].nunique()\n",
        "# Нужно использовать токенайзер"
      ],
      "execution_count": 275,
      "outputs": [
        {
          "output_type": "execute_result",
          "data": {
            "text/plain": [
              "34070"
            ]
          },
          "metadata": {
            "tags": []
          },
          "execution_count": 275
        }
      ]
    },
    {
      "cell_type": "code",
      "metadata": {
        "id": "8-GSHAcAZ8zu"
      },
      "source": [
        "# Слишком много уникальных значений даже с учетом паттернов\n",
        "# Уменьшим их количество по объему"
      ],
      "execution_count": 276,
      "outputs": []
    },
    {
      "cell_type": "code",
      "metadata": {
        "id": "b7abKbEXaPd7"
      },
      "source": [
        "# df['street'].value_counts()[df['street'].value_counts() >= 50]"
      ],
      "execution_count": 277,
      "outputs": []
    },
    {
      "cell_type": "code",
      "metadata": {
        "id": "1JbarXzsuA_-"
      },
      "source": [
        "# Проверить данный способ, если нет, использовать tokenizer"
      ],
      "execution_count": 278,
      "outputs": []
    },
    {
      "cell_type": "code",
      "metadata": {
        "colab": {
          "base_uri": "https://localhost:8080/",
          "height": 581
        },
        "id": "dSeXPgMarg7p",
        "outputId": "ceae1de8-5520-44b8-f485-28f80b48ef78"
      },
      "source": [
        "df.sample(5)"
      ],
      "execution_count": 279,
      "outputs": [
        {
          "output_type": "execute_result",
          "data": {
            "text/html": [
              "<div>\n",
              "<style scoped>\n",
              "    .dataframe tbody tr th:only-of-type {\n",
              "        vertical-align: middle;\n",
              "    }\n",
              "\n",
              "    .dataframe tbody tr th {\n",
              "        vertical-align: top;\n",
              "    }\n",
              "\n",
              "    .dataframe thead th {\n",
              "        text-align: right;\n",
              "    }\n",
              "</style>\n",
              "<table border=\"1\" class=\"dataframe\">\n",
              "  <thead>\n",
              "    <tr style=\"text-align: right;\">\n",
              "      <th></th>\n",
              "      <th>status</th>\n",
              "      <th>propertyType</th>\n",
              "      <th>street</th>\n",
              "      <th>baths</th>\n",
              "      <th>homeFacts</th>\n",
              "      <th>city</th>\n",
              "      <th>schools</th>\n",
              "      <th>sqft</th>\n",
              "      <th>zipcode</th>\n",
              "      <th>beds</th>\n",
              "      <th>state</th>\n",
              "      <th>stories</th>\n",
              "      <th>MlsId</th>\n",
              "      <th>target</th>\n",
              "      <th>stories_dop</th>\n",
              "      <th>street_v</th>\n",
              "      <th>drive_v</th>\n",
              "      <th>avenue_v</th>\n",
              "      <th>road_v</th>\n",
              "      <th>ridge_v</th>\n",
              "      <th>way_v</th>\n",
              "      <th>boulevard_v</th>\n",
              "      <th>parkway_v</th>\n",
              "      <th>circle_v</th>\n",
              "      <th>highway_v</th>\n",
              "      <th>lane_v</th>\n",
              "      <th>landing_v</th>\n",
              "      <th>trail_v</th>\n",
              "      <th>terrace_v</th>\n",
              "      <th>court_v</th>\n",
              "      <th>creek_v</th>\n",
              "      <th>place_v</th>\n",
              "      <th>roads_v</th>\n",
              "      <th>bend_v</th>\n",
              "      <th>falls_v</th>\n",
              "      <th>cliff_v</th>\n",
              "      <th>mountain_v</th>\n",
              "      <th>crest_v</th>\n",
              "      <th>hill_v</th>\n",
              "      <th>mill_v</th>\n",
              "      <th>point_v</th>\n",
              "      <th>loop_v</th>\n",
              "      <th>manor_v</th>\n",
              "      <th>heights_v</th>\n",
              "      <th>oaks_v</th>\n",
              "      <th>park_v</th>\n",
              "      <th>street_length</th>\n",
              "    </tr>\n",
              "  </thead>\n",
              "  <tbody>\n",
              "    <tr>\n",
              "      <th>338100</th>\n",
              "      <td>for sale</td>\n",
              "      <td>single family</td>\n",
              "      <td>citron</td>\n",
              "      <td>2 Baths</td>\n",
              "      <td>{'atAGlanceFacts': [{'factValue': '1974', 'fac...</td>\n",
              "      <td>Irvine</td>\n",
              "      <td>[{'rating': ['9/10', '10/10', '7/10'], 'data':...</td>\n",
              "      <td>1,224 sqft</td>\n",
              "      <td>92612</td>\n",
              "      <td>2 Beds</td>\n",
              "      <td>CA</td>\n",
              "      <td>1</td>\n",
              "      <td>PW19227857</td>\n",
              "      <td>$687,000</td>\n",
              "      <td>None</td>\n",
              "      <td>0.0</td>\n",
              "      <td>0.0</td>\n",
              "      <td>0.0</td>\n",
              "      <td>0.0</td>\n",
              "      <td>0.0</td>\n",
              "      <td>0.0</td>\n",
              "      <td>0.0</td>\n",
              "      <td>0.0</td>\n",
              "      <td>0.0</td>\n",
              "      <td>0.0</td>\n",
              "      <td>0.0</td>\n",
              "      <td>0.0</td>\n",
              "      <td>0.0</td>\n",
              "      <td>0.0</td>\n",
              "      <td>0.0</td>\n",
              "      <td>0.0</td>\n",
              "      <td>0.0</td>\n",
              "      <td>0.0</td>\n",
              "      <td>0.0</td>\n",
              "      <td>0.0</td>\n",
              "      <td>0.0</td>\n",
              "      <td>0.0</td>\n",
              "      <td>0.0</td>\n",
              "      <td>0.0</td>\n",
              "      <td>0.0</td>\n",
              "      <td>0.0</td>\n",
              "      <td>0.0</td>\n",
              "      <td>0.0</td>\n",
              "      <td>0.0</td>\n",
              "      <td>0.0</td>\n",
              "      <td>0.0</td>\n",
              "      <td>1</td>\n",
              "    </tr>\n",
              "    <tr>\n",
              "      <th>313545</th>\n",
              "      <td>for sale</td>\n",
              "      <td>single family</td>\n",
              "      <td>40th</td>\n",
              "      <td>Bathrooms: 2</td>\n",
              "      <td>{'atAGlanceFacts': [{'factValue': '1981', 'fac...</td>\n",
              "      <td>Cape Coral</td>\n",
              "      <td>[{'rating': ['3/10', '7/10', '7/10'], 'data': ...</td>\n",
              "      <td>Total interior livable area: 147 sqft</td>\n",
              "      <td>33904</td>\n",
              "      <td>3 bd</td>\n",
              "      <td>FL</td>\n",
              "      <td>1.0</td>\n",
              "      <td>NaN</td>\n",
              "      <td>$339,900</td>\n",
              "      <td>None</td>\n",
              "      <td>1.0</td>\n",
              "      <td>0.0</td>\n",
              "      <td>0.0</td>\n",
              "      <td>0.0</td>\n",
              "      <td>0.0</td>\n",
              "      <td>0.0</td>\n",
              "      <td>0.0</td>\n",
              "      <td>0.0</td>\n",
              "      <td>0.0</td>\n",
              "      <td>0.0</td>\n",
              "      <td>0.0</td>\n",
              "      <td>0.0</td>\n",
              "      <td>0.0</td>\n",
              "      <td>0.0</td>\n",
              "      <td>0.0</td>\n",
              "      <td>0.0</td>\n",
              "      <td>0.0</td>\n",
              "      <td>0.0</td>\n",
              "      <td>0.0</td>\n",
              "      <td>0.0</td>\n",
              "      <td>0.0</td>\n",
              "      <td>0.0</td>\n",
              "      <td>0.0</td>\n",
              "      <td>0.0</td>\n",
              "      <td>0.0</td>\n",
              "      <td>0.0</td>\n",
              "      <td>0.0</td>\n",
              "      <td>0.0</td>\n",
              "      <td>0.0</td>\n",
              "      <td>0.0</td>\n",
              "      <td>0.0</td>\n",
              "      <td>2</td>\n",
              "    </tr>\n",
              "    <tr>\n",
              "      <th>159283</th>\n",
              "      <td>for sale</td>\n",
              "      <td>condo</td>\n",
              "      <td>royal</td>\n",
              "      <td>NaN</td>\n",
              "      <td>{'atAGlanceFacts': [{'factValue': '1977', 'fac...</td>\n",
              "      <td>King City</td>\n",
              "      <td>[{'rating': ['7/10', '7/10', '6/10'], 'data': ...</td>\n",
              "      <td>784 sqft</td>\n",
              "      <td>97224</td>\n",
              "      <td>NaN</td>\n",
              "      <td>OR</td>\n",
              "      <td>1.0</td>\n",
              "      <td>19048363</td>\n",
              "      <td>$165,000</td>\n",
              "      <td>None</td>\n",
              "      <td>0.0</td>\n",
              "      <td>0.0</td>\n",
              "      <td>0.0</td>\n",
              "      <td>0.0</td>\n",
              "      <td>0.0</td>\n",
              "      <td>0.0</td>\n",
              "      <td>0.0</td>\n",
              "      <td>0.0</td>\n",
              "      <td>0.0</td>\n",
              "      <td>0.0</td>\n",
              "      <td>0.0</td>\n",
              "      <td>0.0</td>\n",
              "      <td>0.0</td>\n",
              "      <td>0.0</td>\n",
              "      <td>1.0</td>\n",
              "      <td>0.0</td>\n",
              "      <td>0.0</td>\n",
              "      <td>0.0</td>\n",
              "      <td>0.0</td>\n",
              "      <td>0.0</td>\n",
              "      <td>0.0</td>\n",
              "      <td>0.0</td>\n",
              "      <td>0.0</td>\n",
              "      <td>0.0</td>\n",
              "      <td>0.0</td>\n",
              "      <td>0.0</td>\n",
              "      <td>0.0</td>\n",
              "      <td>0.0</td>\n",
              "      <td>0.0</td>\n",
              "      <td>0.0</td>\n",
              "      <td>0.0</td>\n",
              "      <td>2</td>\n",
              "    </tr>\n",
              "    <tr>\n",
              "      <th>301140</th>\n",
              "      <td>for sale</td>\n",
              "      <td>lot land</td>\n",
              "      <td>bancroft</td>\n",
              "      <td>NaN</td>\n",
              "      <td>{'atAGlanceFacts': [{'factValue': '', 'factLab...</td>\n",
              "      <td>Orlando</td>\n",
              "      <td>[{'rating': ['5/10', '7/10', '7/10'], 'data': ...</td>\n",
              "      <td>NaN</td>\n",
              "      <td>32833</td>\n",
              "      <td>NaN</td>\n",
              "      <td>FL</td>\n",
              "      <td>NaN</td>\n",
              "      <td>O5828155</td>\n",
              "      <td>$59,000</td>\n",
              "      <td>None</td>\n",
              "      <td>0.0</td>\n",
              "      <td>0.0</td>\n",
              "      <td>0.0</td>\n",
              "      <td>0.0</td>\n",
              "      <td>0.0</td>\n",
              "      <td>0.0</td>\n",
              "      <td>1.0</td>\n",
              "      <td>0.0</td>\n",
              "      <td>0.0</td>\n",
              "      <td>0.0</td>\n",
              "      <td>0.0</td>\n",
              "      <td>0.0</td>\n",
              "      <td>0.0</td>\n",
              "      <td>0.0</td>\n",
              "      <td>0.0</td>\n",
              "      <td>0.0</td>\n",
              "      <td>0.0</td>\n",
              "      <td>0.0</td>\n",
              "      <td>0.0</td>\n",
              "      <td>0.0</td>\n",
              "      <td>0.0</td>\n",
              "      <td>0.0</td>\n",
              "      <td>0.0</td>\n",
              "      <td>0.0</td>\n",
              "      <td>0.0</td>\n",
              "      <td>0.0</td>\n",
              "      <td>0.0</td>\n",
              "      <td>0.0</td>\n",
              "      <td>0.0</td>\n",
              "      <td>0.0</td>\n",
              "      <td>0.0</td>\n",
              "      <td>2</td>\n",
              "    </tr>\n",
              "    <tr>\n",
              "      <th>104644</th>\n",
              "      <td>for sale</td>\n",
              "      <td>single family</td>\n",
              "      <td>greismer</td>\n",
              "      <td>3 Baths</td>\n",
              "      <td>{'atAGlanceFacts': [{'factValue': '1923', 'fac...</td>\n",
              "      <td>Cincinnati</td>\n",
              "      <td>[{'rating': ['2/10', '2/10'], 'data': {'Distan...</td>\n",
              "      <td>2,009 sqft</td>\n",
              "      <td>45239</td>\n",
              "      <td>4 Beds</td>\n",
              "      <td>OH</td>\n",
              "      <td>1.0</td>\n",
              "      <td>1642138</td>\n",
              "      <td>$149,900</td>\n",
              "      <td>None</td>\n",
              "      <td>0.0</td>\n",
              "      <td>0.0</td>\n",
              "      <td>1.0</td>\n",
              "      <td>0.0</td>\n",
              "      <td>0.0</td>\n",
              "      <td>0.0</td>\n",
              "      <td>0.0</td>\n",
              "      <td>0.0</td>\n",
              "      <td>0.0</td>\n",
              "      <td>0.0</td>\n",
              "      <td>0.0</td>\n",
              "      <td>0.0</td>\n",
              "      <td>0.0</td>\n",
              "      <td>0.0</td>\n",
              "      <td>0.0</td>\n",
              "      <td>0.0</td>\n",
              "      <td>0.0</td>\n",
              "      <td>0.0</td>\n",
              "      <td>0.0</td>\n",
              "      <td>0.0</td>\n",
              "      <td>0.0</td>\n",
              "      <td>0.0</td>\n",
              "      <td>0.0</td>\n",
              "      <td>0.0</td>\n",
              "      <td>0.0</td>\n",
              "      <td>0.0</td>\n",
              "      <td>0.0</td>\n",
              "      <td>0.0</td>\n",
              "      <td>0.0</td>\n",
              "      <td>0.0</td>\n",
              "      <td>0.0</td>\n",
              "      <td>2</td>\n",
              "    </tr>\n",
              "  </tbody>\n",
              "</table>\n",
              "</div>"
            ],
            "text/plain": [
              "          status   propertyType    street  ... oaks_v park_v street_length\n",
              "338100  for sale  single family    citron  ...    0.0    0.0             1\n",
              "313545  for sale  single family      40th  ...    0.0    0.0             2\n",
              "159283  for sale          condo     royal  ...    0.0    0.0             2\n",
              "301140  for sale       lot land  bancroft  ...    0.0    0.0             2\n",
              "104644  for sale  single family  greismer  ...    0.0    0.0             2\n",
              "\n",
              "[5 rows x 47 columns]"
            ]
          },
          "metadata": {
            "tags": []
          },
          "execution_count": 279
        }
      ]
    },
    {
      "cell_type": "markdown",
      "metadata": {
        "id": "x-vwUj9Tirgi"
      },
      "source": [
        "baths"
      ]
    },
    {
      "cell_type": "code",
      "metadata": {
        "colab": {
          "base_uri": "https://localhost:8080/"
        },
        "id": "72-rA4zkcziq",
        "outputId": "b5fc95b6-7a88-4512-8ee1-3fad2c417d58"
      },
      "source": [
        "df['baths'] = df['baths'].apply(lambda x: None if x is np.nan else x)\n",
        "df['baths'].value_counts(dropna=False)"
      ],
      "execution_count": 280,
      "outputs": [
        {
          "output_type": "execute_result",
          "data": {
            "text/plain": [
              "NaN                      106338\n",
              "2 Baths                   52466\n",
              "3 Baths                   35506\n",
              "2                         20452\n",
              "2.0                       16576\n",
              "                          ...  \n",
              "2.25 ba                       1\n",
              "1.8 Baths                     1\n",
              "2-1 / 2-1 / 1-1 / 1-1         1\n",
              "23                            1\n",
              "5.25 Baths                    1\n",
              "Name: baths, Length: 230, dtype: int64"
            ]
          },
          "metadata": {
            "tags": []
          },
          "execution_count": 280
        }
      ]
    },
    {
      "cell_type": "code",
      "metadata": {
        "id": "dB_Ii709XnKe"
      },
      "source": [
        "punct = '~—\\-:'"
      ],
      "execution_count": 281,
      "outputs": []
    },
    {
      "cell_type": "code",
      "metadata": {
        "id": "jmhHX5o4iv-f"
      },
      "source": [
        "df['baths'] = df['baths'].str.lower().str.replace('[a-z]+\\.?', '').str.replace(',', '.').str.replace('[{}]'.format(punct), ' ')\n",
        "df['baths'] = df['baths'].apply(lambda x: None if str(x).strip() =='' else x)"
      ],
      "execution_count": 282,
      "outputs": []
    },
    {
      "cell_type": "code",
      "metadata": {
        "colab": {
          "base_uri": "https://localhost:8080/"
        },
        "id": "OM9QISiVi9Rp",
        "outputId": "01b503bb-d690-4869-927d-11e7117a3565"
      },
      "source": [
        "df['baths_new'] = df['baths'].str.findall('[0-9]+\\.?[0-9]*')\n",
        "df['baths_new'] = df['baths_new'].apply(lambda x: None if x is None else x[0]).astype(float)\n",
        "df['baths_new'].value_counts()\n",
        "\n",
        "# df['baths_new'].to_csv('out.csv')\n",
        "# ванна 0.5 проверить"
      ],
      "execution_count": 283,
      "outputs": [
        {
          "output_type": "execute_result",
          "data": {
            "text/plain": [
              "2.0     103519\n",
              "3.0      66683\n",
              "4.0      26333\n",
              "1.0      17787\n",
              "2.5      13786\n",
              "         ...  \n",
              "1.8          1\n",
              "64.0         1\n",
              "14.5         1\n",
              "0.5          1\n",
              "42.0         1\n",
              "Name: baths_new, Length: 84, dtype: int64"
            ]
          },
          "metadata": {
            "tags": []
          },
          "execution_count": 283
        }
      ]
    },
    {
      "cell_type": "markdown",
      "metadata": {
        "id": "Z8H573yK-5Ra"
      },
      "source": [
        "city"
      ]
    },
    {
      "cell_type": "code",
      "metadata": {
        "id": "tx4GJMim-xfC"
      },
      "source": [
        "df['city'] = df['city'].str.lower().str.strip()\n",
        "df['city'] = df['city'].str.replace('\\-', ' ')"
      ],
      "execution_count": 284,
      "outputs": []
    },
    {
      "cell_type": "code",
      "metadata": {
        "id": "50sSBa0CCy35"
      },
      "source": [
        "df['city'] = df['city'].str.replace(' city', '').str.replace(' town+[a-z]*', '')\n",
        "df['city'] = df['city'].str.replace('st\\.', 'saint').str.replace(' twp.', '').str.replace('e. ', '').str.replace('ft.', 'fort').str.replace('s.a.', 'san antonio')\n",
        "df['city'] = df['city'].str.replace(' twp', '').str.replace(' vlg', ' village')\n",
        "df['city'] = df['city'].str.replace(' hts', 'heights').str.replace(' pt', 'point').str.replace('pt ', 'port ')\n",
        "df['city'] = df['city'].str.replace('^st ', 'saint ')"
      ],
      "execution_count": 285,
      "outputs": []
    },
    {
      "cell_type": "code",
      "metadata": {
        "id": "fQ9mVNQdLtvv"
      },
      "source": [
        "df.loc[(df['city'].isna()==False) & (df['city'].str.contains('san antonio')), 'city'] = 'san antonio'"
      ],
      "execution_count": 286,
      "outputs": []
    },
    {
      "cell_type": "code",
      "metadata": {
        "id": "X_UHuzr2NcFB"
      },
      "source": [
        "df['city'] = df['city'].str.replace('p c ', 'panama ').str.replace('^n ', 'north ').str.replace(\"town 'n' country\", 'town north country')\n",
        "df['city'] = df['city'].str.replace('nyork', 'new york').str.replace('nyc', 'new york')\n",
        "df['city'] = df['city'].str.replace('bed-stuy', 'brooklyn').str.replace('collegepoint', 'college point')\n",
        "df['city'] = df['city'].str.replace('othvalue [ a-z]*', 'othvalue')"
      ],
      "execution_count": 287,
      "outputs": []
    },
    {
      "cell_type": "code",
      "metadata": {
        "id": "127ZGrVM_PHv"
      },
      "source": [
        "df['city'] = df['city'].apply(lambda x: \" \".join(str(x).split()))"
      ],
      "execution_count": 288,
      "outputs": []
    },
    {
      "cell_type": "code",
      "metadata": {
        "colab": {
          "base_uri": "https://localhost:8080/"
        },
        "id": "Zjiaw16guWeV",
        "outputId": "ae51d146-5c02-48bc-ac02-5db8e88d47ef"
      },
      "source": [
        "df['city'].value_counts()"
      ],
      "execution_count": 289,
      "outputs": [
        {
          "output_type": "execute_result",
          "data": {
            "text/plain": [
              "san antonio        30033\n",
              "houston            24442\n",
              "miami              15528\n",
              "jacksonville       10032\n",
              "dallas              8858\n",
              "                   ...  \n",
              "hollywood hills        1\n",
              "downtown pgh           1\n",
              "sand lake              1\n",
              "plato center           1\n",
              "prairie grove          1\n",
              "Name: city, Length: 1785, dtype: int64"
            ]
          },
          "metadata": {
            "tags": []
          },
          "execution_count": 289
        }
      ]
    },
    {
      "cell_type": "markdown",
      "metadata": {
        "id": "T7pcOLqTWbxg"
      },
      "source": [
        "sqft"
      ]
    },
    {
      "cell_type": "code",
      "metadata": {
        "colab": {
          "base_uri": "https://localhost:8080/"
        },
        "id": "RER3b6qMWJMn",
        "outputId": "fe63891e-3079-4ce2-fbb8-c4bcd2c59ae2"
      },
      "source": [
        "df['sqft'].value_counts()"
      ],
      "execution_count": 290,
      "outputs": [
        {
          "output_type": "execute_result",
          "data": {
            "text/plain": [
              "0             11854\n",
              "1,200 sqft      839\n",
              "1,000 sqft      654\n",
              "1,100 sqft      573\n",
              "1,800 sqft      563\n",
              "              ...  \n",
              "35 sqft           1\n",
              "9,893             1\n",
              "5,825             1\n",
              "4664              1\n",
              "7,049 sqft        1\n",
              "Name: sqft, Length: 25405, dtype: int64"
            ]
          },
          "metadata": {
            "tags": []
          },
          "execution_count": 290
        }
      ]
    },
    {
      "cell_type": "code",
      "metadata": {
        "id": "GP4EeNuxWd-v"
      },
      "source": [
        "df['sqft'] = df['sqft'].apply(lambda x: None if x is np.nan else x)"
      ],
      "execution_count": 291,
      "outputs": []
    },
    {
      "cell_type": "code",
      "metadata": {
        "id": "GDNi00qLYEs9"
      },
      "source": [
        "df['sqft'] = df['sqft'].str.replace('[a-z ]*: ', '')\n",
        "df['sqft'] = df['sqft'].str.replace('-','').str.replace('[A-Za-z]+','').str.replace(',','')"
      ],
      "execution_count": 292,
      "outputs": []
    },
    {
      "cell_type": "code",
      "metadata": {
        "id": "MgP1MPahpfUc"
      },
      "source": [
        "df['sqft'] = df['sqft'].str.strip().apply(lambda x: None if x is None else \n",
        "                                          None if x == '' else int(x))"
      ],
      "execution_count": 293,
      "outputs": []
    },
    {
      "cell_type": "code",
      "metadata": {
        "colab": {
          "base_uri": "https://localhost:8080/"
        },
        "id": "NsuUp4aIXmZe",
        "outputId": "898a6f6c-63ec-459c-876e-0205e07d8d49"
      },
      "source": [
        "df['sqft'].value_counts()"
      ],
      "execution_count": 294,
      "outputs": [
        {
          "output_type": "execute_result",
          "data": {
            "text/plain": [
              "0.0         11854\n",
              "1200.0       1426\n",
              "1000.0       1027\n",
              "1500.0       1014\n",
              "1800.0        988\n",
              "            ...  \n",
              "8966.0          1\n",
              "11089.0         1\n",
              "123275.0        1\n",
              "44351.0         1\n",
              "32767.0         1\n",
              "Name: sqft, Length: 9897, dtype: int64"
            ]
          },
          "metadata": {
            "tags": []
          },
          "execution_count": 294
        }
      ]
    },
    {
      "cell_type": "markdown",
      "metadata": {
        "id": "QGaLQyherF6A"
      },
      "source": [
        "zipcode"
      ]
    },
    {
      "cell_type": "code",
      "metadata": {
        "colab": {
          "base_uri": "https://localhost:8080/"
        },
        "id": "ebx3JkAsrA8G",
        "outputId": "08030e8a-5de7-467d-e33f-a57a2b16bebb"
      },
      "source": [
        "df['zipcode'].value_counts()"
      ],
      "execution_count": 295,
      "outputs": [
        {
          "output_type": "execute_result",
          "data": {
            "text/plain": [
              "32137         2141\n",
              "33131         1563\n",
              "34747         1488\n",
              "78245         1390\n",
              "34759         1333\n",
              "              ... \n",
              "3316             1\n",
              "27712-3137       1\n",
              "77613            1\n",
              "27617-8314       1\n",
              "79755            1\n",
              "Name: zipcode, Length: 4549, dtype: int64"
            ]
          },
          "metadata": {
            "tags": []
          },
          "execution_count": 295
        }
      ]
    },
    {
      "cell_type": "code",
      "metadata": {
        "id": "S2ogd09Sx6ar"
      },
      "source": [
        "df['zipcode'] = df['zipcode'].str.replace('\\-[0-9]*', '').apply(lambda x: None if x is None else None if x == '' else int(x))"
      ],
      "execution_count": 296,
      "outputs": []
    },
    {
      "cell_type": "markdown",
      "metadata": {
        "id": "tUy9qm4JywQ8"
      },
      "source": [
        "beds"
      ]
    },
    {
      "cell_type": "code",
      "metadata": {
        "id": "wvpHVzR-xYi7"
      },
      "source": [
        "df['beds'] = df['beds'].apply(lambda x: None if x is np.nan else x).str.lower()"
      ],
      "execution_count": 297,
      "outputs": []
    },
    {
      "cell_type": "code",
      "metadata": {
        "colab": {
          "base_uri": "https://localhost:8080/"
        },
        "id": "BwACF0KWzBvB",
        "outputId": "d649d05c-25c4-4f7d-f01b-937353d55dcd"
      },
      "source": [
        "df['beds'].value_counts(dropna=False)"
      ],
      "execution_count": 298,
      "outputs": [
        {
          "output_type": "execute_result",
          "data": {
            "text/plain": [
              "NaN            91282\n",
              "3 beds         53459\n",
              "4 beds         35418\n",
              "3              31406\n",
              "2 beds         26362\n",
              "               ...  \n",
              "540 sqft           1\n",
              "2.71 acres         1\n",
              "1,385 sqft         1\n",
              "10,367 sqft        1\n",
              "8,023 sqft         1\n",
              "Name: beds, Length: 1185, dtype: int64"
            ]
          },
          "metadata": {
            "tags": []
          },
          "execution_count": 298
        }
      ]
    },
    {
      "cell_type": "code",
      "metadata": {
        "id": "2iO9cAP-zPl6"
      },
      "source": [
        "index_sqft = df.loc[(df['sqft'].isna()) & (df['beds'].str.contains('sqft')), ['sqft','beds']].index\n",
        "new_sqft = df.loc[(df['sqft'].isna()) & (df['beds'].str.contains('sqft')), ['sqft','beds']]\n",
        "new_sqft['sqft'] = new_sqft['beds'].str.strip().str.replace(',', '.').str.findall('[0-9]+\\.*[0-9]*').apply(lambda x: None if len(x) == 0 else x[0]).astype(float)\n",
        "\n",
        "df.loc[(df['sqft'].isna()) & (df['beds'].str.contains('sqft')), 'sqft'] = new_sqft['sqft']\n",
        "df.loc[(df['beds'].isna()==False) & (df['beds'].str.contains('sqft')), 'beds'] = None"
      ],
      "execution_count": 299,
      "outputs": []
    },
    {
      "cell_type": "code",
      "metadata": {
        "id": "DNruJWw8z5z7"
      },
      "source": [
        "index_sqft = df.loc[(df['sqft'].isna()) & (df['beds'].str.contains('acre')), ['sqft','beds']].index\n",
        "new_sqft = df.loc[(df['sqft'].isna()) & (df['beds'].str.contains('acre')), ['sqft','beds']]\n",
        "new_sqft['sqft'] = new_sqft['beds'].str.strip().str.replace(',', '.').str.findall('[0-9]+\\.*[0-9]*').apply(lambda x: None if len(x) == 0 else x[0]).astype(float)\n",
        "new_sqft['sqft'] = (new_sqft['sqft'] * 43560).astype(int)\n",
        "\n",
        "df.loc[(df['sqft'].isna()) & (df['beds'].str.contains('acre')), 'sqft'] = new_sqft['sqft']\n",
        "df.loc[(df['beds'].isna()==False) & (df['beds'].str.contains('acre')), 'beds'] = None"
      ],
      "execution_count": 300,
      "outputs": []
    },
    {
      "cell_type": "code",
      "metadata": {
        "id": "ce4-zy-Zfl0d"
      },
      "source": [
        "df['beds'] = df['beds'].str.replace('bedrooms', 'beds').str.replace('bd', 'beds')"
      ],
      "execution_count": 301,
      "outputs": []
    },
    {
      "cell_type": "code",
      "metadata": {
        "id": "Pq61g_IU0YZk"
      },
      "source": [
        "df.loc[(df['beds'].isna()==False) & (df['beds'].str.strip().str.contains('^[a-z,\\-%@#_:;~ ]+$')), 'beds'] = None"
      ],
      "execution_count": 302,
      "outputs": []
    },
    {
      "cell_type": "code",
      "metadata": {
        "colab": {
          "base_uri": "https://localhost:8080/"
        },
        "id": "kfjeW_UVcLQm",
        "outputId": "f4ac3b0c-a5b5-4e32-b22d-00c869269864"
      },
      "source": [
        "df['beds'].value_counts(dropna=False)[:20]"
      ],
      "execution_count": 303,
      "outputs": [
        {
          "output_type": "execute_result",
          "data": {
            "text/plain": [
              "NaN       111390\n",
              "3 beds     66336\n",
              "4 beds     43683\n",
              "2 beds     31605\n",
              "3          31406\n",
              "4          20030\n",
              "2          16110\n",
              "5 beds     13904\n",
              "3.0         8088\n",
              "5           6424\n",
              "4.0         5231\n",
              "1           4610\n",
              "6 beds      4466\n",
              "2.0         2430\n",
              "6           1806\n",
              "5.0         1372\n",
              "7 beds      1247\n",
              "0           1230\n",
              "1 beds      1081\n",
              "8 beds       856\n",
              "Name: beds, dtype: int64"
            ]
          },
          "metadata": {
            "tags": []
          },
          "execution_count": 303
        }
      ]
    },
    {
      "cell_type": "code",
      "metadata": {
        "colab": {
          "base_uri": "https://localhost:8080/"
        },
        "id": "2kdMd2lk1deC",
        "outputId": "bd4ae336-93c2-48aa-edc3-9b2e842867ea"
      },
      "source": [
        "new_bath = df.loc[(df['baths_new'].isna()) & (df['beds'].str.contains('bath')), 'beds'].str.findall('[0-9a-z ]+ bath').apply(lambda x: x[0].split()[0]).astype(float)\n",
        "df.loc[new_bath.index, 'baths_new'] = new_bath\n",
        "df.loc[new_bath.index, 'baths_new']"
      ],
      "execution_count": 304,
      "outputs": [
        {
          "output_type": "execute_result",
          "data": {
            "text/plain": [
              "18787     1.0\n",
              "124819    1.0\n",
              "172605    1.0\n",
              "238222    1.0\n",
              "279149    2.0\n",
              "325249    1.0\n",
              "Name: baths_new, dtype: float64"
            ]
          },
          "metadata": {
            "tags": []
          },
          "execution_count": 304
        }
      ]
    },
    {
      "cell_type": "code",
      "metadata": {
        "colab": {
          "base_uri": "https://localhost:8080/"
        },
        "id": "eWo-mftActlm",
        "outputId": "2e9650c4-6dca-460b-a012-4799f8f244e3"
      },
      "source": [
        "new_beds = pd.concat([(df.loc[(df['beds'].isna()==False) & (df['beds'].str.strip().str.contains('[0-9 a-z]+bed[a-z]*,')), 'beds']),\n",
        "                      df.loc[(df['beds'].isna()==False) & (df['beds'].str.strip().str.contains(',[0-9 a-z]+bed[a-z]*')), 'beds']\n",
        "                      ],\n",
        "                     ).reset_index()\n",
        "new_beds = new_beds.drop_duplicates().set_index('index')\n",
        "new_beds['beds'] = new_beds['beds'].str.replace('or more ', '').str.findall('[0-9 ]+bed').apply(lambda x: x[0].split()[0]).astype(float)\n",
        "\n",
        "df.loc[new_beds.index, 'beds'] = new_beds['beds']\n",
        "df.loc[new_beds.index, 'beds']"
      ],
      "execution_count": 305,
      "outputs": [
        {
          "output_type": "execute_result",
          "data": {
            "text/plain": [
              "index\n",
              "18787     2\n",
              "172605    2\n",
              "200331    3\n",
              "238222    3\n",
              "325249    2\n",
              "124819    2\n",
              "279149    3\n",
              "Name: beds, dtype: object"
            ]
          },
          "metadata": {
            "tags": []
          },
          "execution_count": 305
        }
      ]
    },
    {
      "cell_type": "code",
      "metadata": {
        "colab": {
          "base_uri": "https://localhost:8080/"
        },
        "id": "aRH-Z607JfVy",
        "outputId": "80381f45-0fa3-46ba-8de4-02985ae421cc"
      },
      "source": [
        "punct = '!@#_,:;&'\n",
        "df.loc[(df['beds'].isna()==False) & (df['beds'].str.contains('[{}]'.format(punct))), 'beds'] = None\n",
        "punct = '\\-'\n",
        "new_beds = df.loc[(df['beds'].isna()==False) & (df['beds'].str.contains('[{}]'.format(punct))), 'beds'].str.findall('[0-9]+').apply(lambda x: x[-1]).astype(float)\n",
        "df.loc[new_beds.index, 'beds'] = new_beds\n",
        "df.loc[new_beds.index, 'beds']"
      ],
      "execution_count": 306,
      "outputs": [
        {
          "output_type": "execute_result",
          "data": {
            "text/plain": [
              "330468    2\n",
              "Name: beds, dtype: object"
            ]
          },
          "metadata": {
            "tags": []
          },
          "execution_count": 306
        }
      ]
    },
    {
      "cell_type": "code",
      "metadata": {
        "id": "zgBvOZk4Gh8s"
      },
      "source": [
        "df['beds'] = df['beds'].str.replace('or more ', '')\n",
        "df['beds'] = df['beds'].str.replace('beds','').str.strip().apply(lambda x: None if x is None else\n",
        "                                                                 None if x == '' else x).astype(float)"
      ],
      "execution_count": 307,
      "outputs": []
    },
    {
      "cell_type": "markdown",
      "metadata": {
        "id": "JwsNx8q4Ph1M"
      },
      "source": [
        "state"
      ]
    },
    {
      "cell_type": "code",
      "metadata": {
        "colab": {
          "base_uri": "https://localhost:8080/"
        },
        "id": "eXqI6_T-NP66",
        "outputId": "6c7bb422-11b4-4443-b52b-cf48ccd439d4"
      },
      "source": [
        "df['state'].value_counts(dropna=False)[-20:]"
      ],
      "execution_count": 308,
      "outputs": [
        {
          "output_type": "execute_result",
          "data": {
            "text/plain": [
              "UT    1325\n",
              "MD    1090\n",
              "VT     868\n",
              "MO     866\n",
              "VA     801\n",
              "WI     452\n",
              "NJ     436\n",
              "ME     259\n",
              "IA     242\n",
              "KY      90\n",
              "OK      49\n",
              "MS      40\n",
              "SC      28\n",
              "MT       7\n",
              "DE       5\n",
              "OS       1\n",
              "AL       1\n",
              "Fl       1\n",
              "OT       1\n",
              "BA       1\n",
              "Name: state, dtype: int64"
            ]
          },
          "metadata": {
            "tags": []
          },
          "execution_count": 308
        }
      ]
    },
    {
      "cell_type": "markdown",
      "metadata": {
        "id": "zFf8WBnrPr_e"
      },
      "source": [
        "stories"
      ]
    },
    {
      "cell_type": "code",
      "metadata": {
        "colab": {
          "base_uri": "https://localhost:8080/"
        },
        "id": "eSiNvWsVPkzx",
        "outputId": "7401d9ed-5b99-4ea9-e018-583290fe2c5b"
      },
      "source": [
        "df['stories_dop'] = df['stories_dop'].apply(lambda x: None if x is None else x.split()[0]).astype(float)\n",
        "df['stories_dop'].value_counts(dropna=False)"
      ],
      "execution_count": 309,
      "outputs": [
        {
          "output_type": "execute_result",
          "data": {
            "text/plain": [
              "NaN    369527\n",
              "1.0      4440\n",
              "2.0      3024\n",
              "3.0       140\n",
              "8.0        38\n",
              "7.0        15\n",
              "5.0         1\n",
              "Name: stories_dop, dtype: int64"
            ]
          },
          "metadata": {
            "tags": []
          },
          "execution_count": 309
        }
      ]
    },
    {
      "cell_type": "code",
      "metadata": {
        "colab": {
          "base_uri": "https://localhost:8080/"
        },
        "id": "gLytSAWDP4gg",
        "outputId": "07df7440-30d9-4d11-fce6-3a500b729179"
      },
      "source": [
        "df['stories'] = df['stories'].str.lower()\n",
        "df['stories'].value_counts(dropna=False)"
      ],
      "execution_count": 310,
      "outputs": [
        {
          "output_type": "execute_result",
          "data": {
            "text/plain": [
              "NaN                                150715\n",
              "1.0                                 67454\n",
              "2.0                                 55283\n",
              "1                                   23086\n",
              "2                                   18146\n",
              "                                    ...  \n",
              "65.0                                    1\n",
              "2.20                                    1\n",
              "t3-townhouse 3+ stories                 1\n",
              "one and one half, three or more         1\n",
              "ground level, two                       1\n",
              "Name: stories, Length: 349, dtype: int64"
            ]
          },
          "metadata": {
            "tags": []
          },
          "execution_count": 310
        }
      ]
    },
    {
      "cell_type": "code",
      "metadata": {
        "colab": {
          "base_uri": "https://localhost:8080/"
        },
        "id": "nFpTZ8ShSWtH",
        "outputId": "4aa59744-60c8-4ca1-fd8c-b8d5dc2c50b6"
      },
      "source": [
        "punct = '!|/_\\-:;'\n",
        "df.loc[(df['stories'].isna()==False) & (df['stories'].str.contains('[{}]'.format(punct))), 'stories'].value_counts()\n",
        "df.loc[(df['stories'].isna()==False) & (df['stories'].str.contains('[0-9 ]/[0-9 ]')), 'stories'].value_counts()\n",
        "df.loc[(df['stories'].isna()==False) & (df['stories'].str.contains('half')), 'stories'].value_counts()\n",
        "df.loc[(df['stories'].isna()==False) & (df['stories'].str.contains('multi')), 'stories'].value_counts()\n",
        "\n",
        "# много пустых значений, не знаю, обрабатывать ли их"
      ],
      "execution_count": 311,
      "outputs": [
        {
          "output_type": "execute_result",
          "data": {
            "text/plain": [
              "multi/split                   271\n",
              "multi-level                    57\n",
              "other multi-unit               19\n",
              "three or more, multi/split      7\n",
              "multi level                     6\n",
              "multi-story                     3\n",
              "two, multi/split                3\n",
              "multi level, three or more      1\n",
              "2 story, multi level            1\n",
              "multi-level, new englander      1\n",
              "multi/split, two                1\n",
              "one, two, multi/split           1\n",
              "other, two, multi/split         1\n",
              "tri/multi level                 1\n",
              "1 story, multi level            1\n",
              "3 story, multi level            1\n",
              "multi level, tri level          1\n",
              "Name: stories, dtype: int64"
            ]
          },
          "metadata": {
            "tags": []
          },
          "execution_count": 311
        }
      ]
    },
    {
      "cell_type": "markdown",
      "metadata": {
        "id": "poldPvKAo53Z"
      },
      "source": [
        "MlsId"
      ]
    },
    {
      "cell_type": "code",
      "metadata": {
        "id": "mfQfEG2-S23g"
      },
      "source": [
        "df = df.drop('MlsId', axis=1)"
      ],
      "execution_count": 312,
      "outputs": []
    },
    {
      "cell_type": "markdown",
      "metadata": {
        "id": "pjTtXvHrw8d8"
      },
      "source": [
        "homeFacts"
      ]
    },
    {
      "cell_type": "code",
      "metadata": {
        "id": "YgIQbmEow96n"
      },
      "source": [
        "df['homeFacts'] = df['homeFacts'].apply(lambda x: eval(x))"
      ],
      "execution_count": 313,
      "outputs": []
    },
    {
      "cell_type": "code",
      "metadata": {
        "id": "CAmvgZMGzmuy"
      },
      "source": [
        "df['homeFacts_new'] = df['homeFacts'].apply(lambda x: list(x.values())[0])"
      ],
      "execution_count": 314,
      "outputs": []
    },
    {
      "cell_type": "code",
      "metadata": {
        "id": "FYgPExig5f6_"
      },
      "source": [
        "list_columns = ['Year built', 'Remodeled year', 'Heating', 'Cooling', 'Parking', 'lotsize', 'Price/sqft']\n",
        "\n",
        "for column in enumerate(list_columns):\n",
        "  df[column[1]] = None\n",
        "  df[column[1]] = df['homeFacts_new'].apply(lambda x: None if x[column[0]].get('factValue') == '' else  x[column[0]].get('factValue'))"
      ],
      "execution_count": 315,
      "outputs": []
    },
    {
      "cell_type": "markdown",
      "metadata": {
        "id": "rGfddbo3WybK"
      },
      "source": [
        "Year built"
      ]
    },
    {
      "cell_type": "code",
      "metadata": {
        "colab": {
          "base_uri": "https://localhost:8080/"
        },
        "id": "hyqY1vbGW0rA",
        "outputId": "fb1b9ebb-44de-44cb-b891-0e2d7a78fd75"
      },
      "source": [
        "df['Year built'].value_counts(dropna=False)"
      ],
      "execution_count": 317,
      "outputs": [
        {
          "output_type": "execute_result",
          "data": {
            "text/plain": [
              "NaN     62374\n",
              "2019    32171\n",
              "2006     8008\n",
              "2005     7503\n",
              "2007     7152\n",
              "        ...  \n",
              "1735        1\n",
              "1208        1\n",
              "1804        1\n",
              "1809        1\n",
              "1807        1\n",
              "Name: Year built, Length: 230, dtype: int64"
            ]
          },
          "metadata": {
            "tags": []
          },
          "execution_count": 317
        }
      ]
    },
    {
      "cell_type": "code",
      "metadata": {
        "id": "-w-EQyn0W8U3"
      },
      "source": [
        "df['Year built'] = df['Year built'].apply(lambda x: None if x is None else\n",
        "                                          None if 'No' in x else int(x))"
      ],
      "execution_count": 318,
      "outputs": []
    },
    {
      "cell_type": "code",
      "metadata": {
        "colab": {
          "base_uri": "https://localhost:8080/"
        },
        "id": "BbaaJe9LYJsz",
        "outputId": "745c3fa0-88f5-410b-c16a-e429ccb0b1df"
      },
      "source": [
        "df['Year built'].value_counts(dropna=False)"
      ],
      "execution_count": 319,
      "outputs": [
        {
          "output_type": "execute_result",
          "data": {
            "text/plain": [
              "NaN       63596\n",
              "2019.0    32171\n",
              "2006.0     8008\n",
              "2005.0     7503\n",
              "2007.0     7152\n",
              "          ...  \n",
              "1805.0        1\n",
              "1807.0        1\n",
              "1808.0        1\n",
              "1809.0        1\n",
              "1019.0        1\n",
              "Name: Year built, Length: 229, dtype: int64"
            ]
          },
          "metadata": {
            "tags": []
          },
          "execution_count": 319
        }
      ]
    },
    {
      "cell_type": "markdown",
      "metadata": {
        "id": "KPJobTwLXyA4"
      },
      "source": [
        "Remodeled year"
      ]
    },
    {
      "cell_type": "code",
      "metadata": {
        "colab": {
          "base_uri": "https://localhost:8080/"
        },
        "id": "OT1jC79bX0kE",
        "outputId": "9c4413b0-ae11-45dd-d488-6a66ba3f6282"
      },
      "source": [
        "df['Remodeled year'].value_counts(dropna=False)\n",
        "\n",
        "# Слишком много пропусков, удалим потом столбец"
      ],
      "execution_count": 320,
      "outputs": [
        {
          "output_type": "execute_result",
          "data": {
            "text/plain": [
              "NaN     226110\n",
              "2006      5538\n",
              "2005      4817\n",
              "2007      4387\n",
              "2008      3796\n",
              "         ...  \n",
              "1888         1\n",
              "1853         1\n",
              "1845         1\n",
              "1870         1\n",
              "1738         1\n",
              "Name: Remodeled year, Length: 154, dtype: int64"
            ]
          },
          "metadata": {
            "tags": []
          },
          "execution_count": 320
        }
      ]
    },
    {
      "cell_type": "markdown",
      "metadata": {
        "id": "bmoNgA0WYBEF"
      },
      "source": [
        "Heating"
      ]
    },
    {
      "cell_type": "code",
      "metadata": {
        "colab": {
          "base_uri": "https://localhost:8080/"
        },
        "id": "itw_ArrnYbsW",
        "outputId": "ece4fae3-0796-45ce-81ba-57be5cf77749"
      },
      "source": [
        "df['Heating'].value_counts(dropna=False)[:10]\n",
        "\n",
        "# Слишком много пропусков и непоказательных данных, удалим потом столбец"
      ],
      "execution_count": 321,
      "outputs": [
        {
          "output_type": "execute_result",
          "data": {
            "text/plain": [
              "NaN                 109332\n",
              "Forced Air           82807\n",
              "Forced air           51506\n",
              "Other                29623\n",
              "Electric             10211\n",
              "Gas                   9296\n",
              "No Data               8611\n",
              "Central Air           7814\n",
              "Central Electric      7112\n",
              "Central               6247\n",
              "Name: Heating, dtype: int64"
            ]
          },
          "metadata": {
            "tags": []
          },
          "execution_count": 321
        }
      ]
    },
    {
      "cell_type": "markdown",
      "metadata": {
        "id": "zXExzL_sYz0S"
      },
      "source": [
        "Cooling"
      ]
    },
    {
      "cell_type": "code",
      "metadata": {
        "colab": {
          "base_uri": "https://localhost:8080/"
        },
        "id": "S6jLqyULY2df",
        "outputId": "28b09bdf-a7c8-4393-e858-8fbb043d3002"
      },
      "source": [
        "df['Cooling'].value_counts(dropna=False)\n",
        "\n",
        "# Слишком много пропусков и непоказательных данных, удалим потом столбец"
      ],
      "execution_count": 322,
      "outputs": [
        {
          "output_type": "execute_result",
          "data": {
            "text/plain": [
              "Central                                                                                         158754\n",
              "NaN                                                                                             123967\n",
              "Central Air                                                                                      14384\n",
              "No Data                                                                                          10616\n",
              "Has Cooling                                                                                       9730\n",
              "                                                                                                 ...  \n",
              "Gas (Hot Air), Window Unit                                                                           1\n",
              "2 Air Conditioners                                                                                   1\n",
              "Central Air, Electric Hot Air, Gas (Hot Air), Heat Pump for A/C, Heat Pump for Heat, Propane         1\n",
              "Central Air, Heat Pump - AC, Humidifier, Multizone A/C, Natural Gas                                  1\n",
              "Space Heater, Stove Heat                                                                             1\n",
              "Name: Cooling, Length: 1445, dtype: int64"
            ]
          },
          "metadata": {
            "tags": []
          },
          "execution_count": 322
        }
      ]
    },
    {
      "cell_type": "markdown",
      "metadata": {
        "id": "LyHFZsVjZ1Lz"
      },
      "source": [
        "Parking"
      ]
    },
    {
      "cell_type": "code",
      "metadata": {
        "colab": {
          "base_uri": "https://localhost:8080/"
        },
        "id": "TFUQ7Ke-Z5ln",
        "outputId": "9c81d28f-6fce-41e4-acc7-6f097e0b8e4f"
      },
      "source": [
        "df['Parking'].value_counts(dropna=False)[:10]\n",
        "\n",
        "# Слишком много пропусков и непоказательных данных, удалим потом столбец"
      ],
      "execution_count": 323,
      "outputs": [
        {
          "output_type": "execute_result",
          "data": {
            "text/plain": [
              "NaN                         175420\n",
              "Attached Garage              70752\n",
              "2 spaces                     28063\n",
              "1 space                      14252\n",
              "No Data                      13334\n",
              "Detached Garage              13201\n",
              "Carport                       7743\n",
              "3 spaces                      4724\n",
              "Off Street                    3622\n",
              "Carport, Attached Garage      3025\n",
              "Name: Parking, dtype: int64"
            ]
          },
          "metadata": {
            "tags": []
          },
          "execution_count": 323
        }
      ]
    },
    {
      "cell_type": "markdown",
      "metadata": {
        "id": "6dRCkB31aHLg"
      },
      "source": [
        "lotsize sqft"
      ]
    },
    {
      "cell_type": "code",
      "metadata": {
        "colab": {
          "base_uri": "https://localhost:8080/",
          "height": 204
        },
        "id": "drAc8prEaIJn",
        "outputId": "f1fe1a6f-2573-4271-a259-15ade5b0d002"
      },
      "source": [
        "df[['lotsize', 'sqft']].sample(5)"
      ],
      "execution_count": 324,
      "outputs": [
        {
          "output_type": "execute_result",
          "data": {
            "text/html": [
              "<div>\n",
              "<style scoped>\n",
              "    .dataframe tbody tr th:only-of-type {\n",
              "        vertical-align: middle;\n",
              "    }\n",
              "\n",
              "    .dataframe tbody tr th {\n",
              "        vertical-align: top;\n",
              "    }\n",
              "\n",
              "    .dataframe thead th {\n",
              "        text-align: right;\n",
              "    }\n",
              "</style>\n",
              "<table border=\"1\" class=\"dataframe\">\n",
              "  <thead>\n",
              "    <tr style=\"text-align: right;\">\n",
              "      <th></th>\n",
              "      <th>lotsize</th>\n",
              "      <th>sqft</th>\n",
              "    </tr>\n",
              "  </thead>\n",
              "  <tbody>\n",
              "    <tr>\n",
              "      <th>834</th>\n",
              "      <td>66647</td>\n",
              "      <td>0.0</td>\n",
              "    </tr>\n",
              "    <tr>\n",
              "      <th>325731</th>\n",
              "      <td>—</td>\n",
              "      <td>1040.0</td>\n",
              "    </tr>\n",
              "    <tr>\n",
              "      <th>349240</th>\n",
              "      <td>0.37 Acres</td>\n",
              "      <td>NaN</td>\n",
              "    </tr>\n",
              "    <tr>\n",
              "      <th>172665</th>\n",
              "      <td>11326</td>\n",
              "      <td>3408.0</td>\n",
              "    </tr>\n",
              "    <tr>\n",
              "      <th>128549</th>\n",
              "      <td>—</td>\n",
              "      <td>1776.0</td>\n",
              "    </tr>\n",
              "  </tbody>\n",
              "</table>\n",
              "</div>"
            ],
            "text/plain": [
              "           lotsize    sqft\n",
              "834          66647     0.0\n",
              "325731           —  1040.0\n",
              "349240  0.37 Acres     NaN\n",
              "172665       11326  3408.0\n",
              "128549           —  1776.0"
            ]
          },
          "metadata": {
            "tags": []
          },
          "execution_count": 324
        }
      ]
    },
    {
      "cell_type": "code",
      "metadata": {
        "id": "I9Cl84xiA0d7"
      },
      "source": [
        "df['lotsize'] = df['lotsize'].str.lower().str.replace(r'[\\-,—]', '').str.strip().apply(lambda x: None if x is None else\n",
        "                                                                                      None if 'no' in x else\n",
        "                                                                                      None if x == '' else x)"
      ],
      "execution_count": 325,
      "outputs": []
    },
    {
      "cell_type": "code",
      "metadata": {
        "id": "k7gRKmIqbaKo"
      },
      "source": [
        "# Заполним те значения признака sqft которые пустые из признака lotsize\n",
        "\n",
        "# acres\n",
        "new_lot_size = df.loc[(df['sqft'].isna()) & (df['lotsize'].isna()==False) & (df['lotsize'].str.contains('sq'))]['lotsize']\n",
        "new_lot_size = new_lot_size.str.lower().str.replace(r'[a-z \\.]', '').str.strip()\n",
        "new_lot_size = new_lot_size.apply(lambda x: None if x is None else \n",
        "                                  None if x is np.nan else\n",
        "                                  None if x == '' else int(float(x)))\n",
        "df.loc[new_lot_size.index, 'sqft'] = new_lot_size\n",
        "\n",
        "# acres\n",
        "new_lot_size = df.loc[(df['sqft'].isna()) & (df['lotsize'].isna()==False) & (df['lotsize'].str.contains('acre'))]['lotsize']\n",
        "new_lot_size = new_lot_size.str.lower().str.replace('[a-z ]', '').str.strip()\n",
        "new_lot_size = new_lot_size.apply(lambda x: None if x is None else float(x) * 43560).astype(int)\n",
        "df.loc[new_lot_size.index, 'sqft'] = new_lot_size\n",
        "\n",
        "# Другие!"
      ],
      "execution_count": 326,
      "outputs": []
    },
    {
      "cell_type": "code",
      "metadata": {
        "colab": {
          "base_uri": "https://localhost:8080/"
        },
        "id": "Oc0YXT4xADlA",
        "outputId": "c198f6c5-85ab-4347-cb21-152de6fae6fa"
      },
      "source": [
        "df['sqft'].isna().sum()"
      ],
      "execution_count": 327,
      "outputs": [
        {
          "output_type": "execute_result",
          "data": {
            "text/plain": [
              "11890"
            ]
          },
          "metadata": {
            "tags": []
          },
          "execution_count": 327
        }
      ]
    },
    {
      "cell_type": "markdown",
      "metadata": {
        "id": "IQpRDrrzF19-"
      },
      "source": [
        "Price/sqft"
      ]
    },
    {
      "cell_type": "code",
      "metadata": {
        "colab": {
          "base_uri": "https://localhost:8080/"
        },
        "id": "z4cyDzjnF3CJ",
        "outputId": "00638df9-0a14-4421-9883-02a25b929037"
      },
      "source": [
        "df['Price/sqft'].sample(10)"
      ],
      "execution_count": 328,
      "outputs": [
        {
          "output_type": "execute_result",
          "data": {
            "text/plain": [
              "165896              None\n",
              "288545         $511/sqft\n",
              "334766    $401 / Sq. Ft.\n",
              "70369               None\n",
              "298789               $30\n",
              "166241         $151/sqft\n",
              "266667              $104\n",
              "230646         $633/sqft\n",
              "291475              None\n",
              "221174              None\n",
              "Name: Price/sqft, dtype: object"
            ]
          },
          "metadata": {
            "tags": []
          },
          "execution_count": 328
        }
      ]
    },
    {
      "cell_type": "code",
      "metadata": {
        "id": "iA25_OCnGccm"
      },
      "source": [
        "df['Price/sqft'] = df['Price/sqft'].str.lower().str.replace(r'[,/$a-z\\. ]', '').str.strip().apply(lambda x: None if x is None else\n",
        "                                                                                      None if x == '' else int(x))"
      ],
      "execution_count": 329,
      "outputs": []
    },
    {
      "cell_type": "markdown",
      "metadata": {
        "id": "_7ZOy6-K8q2j"
      },
      "source": [
        "schools"
      ]
    },
    {
      "cell_type": "code",
      "metadata": {
        "id": "5OB1V2m_Ei4T"
      },
      "source": [
        "df['schools'] = df['schools'].apply(lambda x: eval(x)[0])"
      ],
      "execution_count": 330,
      "outputs": []
    },
    {
      "cell_type": "code",
      "metadata": {
        "id": "75m0QOHg83So"
      },
      "source": [
        "list_keys = ['data', 'name', 'rating']\n",
        "# name не будем брать\n",
        "\n",
        "list_columns = ['Distance', 'Grades', 'rating']\n",
        "# Grades не будем брать слишком запутано\n",
        "\n",
        "df['Distance'] = df['schools'].apply(lambda x: None if x.get('data').get('Distance') is None else x.get('data').get('Distance'))\n",
        "df['rating'] = df['schools'].apply(lambda x: None if x.get('rating') is None else x.get('rating'))"
      ],
      "execution_count": 331,
      "outputs": []
    },
    {
      "cell_type": "code",
      "metadata": {
        "id": "Y1LcCu6kPZgM"
      },
      "source": [
        "df['Distance'] = df['Distance'].apply(lambda x: [float(y.replace('mi', '').strip()) for y in x])"
      ],
      "execution_count": 332,
      "outputs": []
    },
    {
      "cell_type": "code",
      "metadata": {
        "id": "SbZpxHY6QJNw"
      },
      "source": [
        "df['rating'] = df['rating'].apply(lambda x: [np.nan if \"NR\" in str(y) else\n",
        "                                             np.nan if \"None\" in str(y) else\n",
        "                                             np.nan if \"NA\" in str(y) else\n",
        "                                             np.nan if str(y) == '' else\n",
        "                                             int(str(y).split('/')[0]) if \"/\" in str(y) else\n",
        "                                             int(y) for y in x])"
      ],
      "execution_count": 333,
      "outputs": []
    },
    {
      "cell_type": "code",
      "metadata": {
        "id": "p0_jkrGKG_Az",
        "colab": {
          "base_uri": "https://localhost:8080/"
        },
        "outputId": "0fbf20ea-c5ec-4497-eb6c-651ce693aa0c"
      },
      "source": [
        "df['rating'].sample(10)"
      ],
      "execution_count": 334,
      "outputs": [
        {
          "output_type": "execute_result",
          "data": {
            "text/plain": [
              "113578                                            [4, 6, 5]\n",
              "162100    [3, 8, 5, 4, 5, 7, 5, 7, 7, 4, 3, 5, 7, 8, 5, ...\n",
              "226975                                               [2, 1]\n",
              "149263                                               [6, 7]\n",
              "235357                                           [10, 7, 8]\n",
              "186157                                           [10, 4, 5]\n",
              "77094                                       [2, 2, 3, 7, 7]\n",
              "16370                                          [7, 6, 5, 7]\n",
              "369860                                               [1, 4]\n",
              "305769                                                  [5]\n",
              "Name: rating, dtype: object"
            ]
          },
          "metadata": {
            "tags": []
          },
          "execution_count": 334
        }
      ]
    },
    {
      "cell_type": "markdown",
      "metadata": {
        "id": "DLfZodXWpR6H"
      },
      "source": [
        "target"
      ]
    },
    {
      "cell_type": "code",
      "metadata": {
        "colab": {
          "base_uri": "https://localhost:8080/"
        },
        "id": "y1USgncfo-Qt",
        "outputId": "35e12e2c-74ff-4d0f-b614-7e4d005a6860"
      },
      "source": [
        "df['target'].value_counts(dropna=False)"
      ],
      "execution_count": 335,
      "outputs": [
        {
          "output_type": "execute_result",
          "data": {
            "text/plain": [
              "NaN           2481\n",
              "$225,000      1462\n",
              "$275,000      1355\n",
              "$250,000      1312\n",
              "$350,000      1296\n",
              "              ... \n",
              "$418,464         1\n",
              "$54,472          1\n",
              "18,800,000       1\n",
              "$372,078         1\n",
              "$3,396,000       1\n",
              "Name: target, Length: 43940, dtype: int64"
            ]
          },
          "metadata": {
            "tags": []
          },
          "execution_count": 335
        }
      ]
    },
    {
      "cell_type": "code",
      "metadata": {
        "id": "HFnwGMOopVE1"
      },
      "source": [
        "df['target'] = df['target'].apply(lambda x: None if x is np.nan else x)"
      ],
      "execution_count": 336,
      "outputs": []
    },
    {
      "cell_type": "code",
      "metadata": {
        "colab": {
          "base_uri": "https://localhost:8080/"
        },
        "id": "NfFvxqkHpdh9",
        "outputId": "e9f92700-22e3-4a0e-991d-e26bc8bc773d"
      },
      "source": [
        "df[(df['target'].isna()==False) & (df['target'].str.isdigit())]['target'].value_counts()"
      ],
      "execution_count": 337,
      "outputs": [
        {
          "output_type": "execute_result",
          "data": {
            "text/plain": [
              "800    2\n",
              "3      2\n",
              "1      2\n",
              "825    1\n",
              "20     1\n",
              "29     1\n",
              "8      1\n",
              "750    1\n",
              "25     1\n",
              "30     1\n",
              "Name: target, dtype: int64"
            ]
          },
          "metadata": {
            "tags": []
          },
          "execution_count": 337
        }
      ]
    },
    {
      "cell_type": "code",
      "metadata": {
        "id": "0xQnwkKanhpT"
      },
      "source": [
        "punct = '$,+\\-/'\n",
        "df['target'] = df['target'].str.replace('[a-z]', '').str.replace('[{}]'.format(punct), '').str.strip()"
      ],
      "execution_count": 338,
      "outputs": []
    },
    {
      "cell_type": "code",
      "metadata": {
        "id": "QqIPaufFn3_K"
      },
      "source": [
        "df['target'] = df['target'].apply(lambda x: None if x is None else int(x.split()[0]))"
      ],
      "execution_count": 339,
      "outputs": []
    },
    {
      "cell_type": "code",
      "metadata": {
        "id": "t8F1vVeKsu_8",
        "colab": {
          "base_uri": "https://localhost:8080/"
        },
        "outputId": "a7bb2770-071d-48f1-c78f-19fea1fbc6c4"
      },
      "source": [
        "df.loc[330468]['target']"
      ],
      "execution_count": 340,
      "outputs": [
        {
          "output_type": "execute_result",
          "data": {
            "text/plain": [
              "1215.0"
            ]
          },
          "metadata": {
            "tags": []
          },
          "execution_count": 340
        }
      ]
    },
    {
      "cell_type": "code",
      "metadata": {
        "colab": {
          "base_uri": "https://localhost:8080/"
        },
        "id": "nm6LI-D6mtYh",
        "outputId": "5cbd95b7-12e0-4b4c-9981-78cb2f71ad43"
      },
      "source": [
        "df['target'].value_counts(dropna=False)"
      ],
      "execution_count": 341,
      "outputs": [
        {
          "output_type": "execute_result",
          "data": {
            "text/plain": [
              "NaN         2481\n",
              "225000.0    1806\n",
              "275000.0    1650\n",
              "250000.0    1644\n",
              "350000.0    1641\n",
              "            ... \n",
              "9100.0         1\n",
              "515530.0       1\n",
              "195050.0       1\n",
              "780226.0       1\n",
              "374521.0       1\n",
              "Name: target, Length: 34233, dtype: int64"
            ]
          },
          "metadata": {
            "tags": []
          },
          "execution_count": 341
        }
      ]
    },
    {
      "cell_type": "markdown",
      "metadata": {
        "id": "DR0jxCf7HgZl"
      },
      "source": [
        "target Price/sqft"
      ]
    },
    {
      "cell_type": "code",
      "metadata": {
        "id": "76n0Rxq6Hf8I"
      },
      "source": [
        "# Заполним те значения признака sqft которые пустые из признака Price/sqft и признака target\n",
        "\n",
        "new_lot_size = df.loc[(df['sqft'].isna()) & (df['target'].isna()==False) & (df['Price/sqft'].isna()==False)][['Price/sqft', 'target']]\n",
        "new_lot_size['sqft'] = (new_lot_size['target'] / new_lot_size['Price/sqft']).astype(int)\n",
        "df.loc[new_lot_size.index, 'sqft'] = new_lot_size['sqft']"
      ],
      "execution_count": 349,
      "outputs": []
    },
    {
      "cell_type": "markdown",
      "metadata": {
        "id": "OiX9sC8e5DUi"
      },
      "source": [
        "future engeneer"
      ]
    },
    {
      "cell_type": "code",
      "metadata": {
        "colab": {
          "base_uri": "https://localhost:8080/",
          "height": 581
        },
        "id": "6SUBDZONnW6I",
        "outputId": "92b5762e-95cf-481c-9459-23a730317e33"
      },
      "source": [
        "df.sample(5)"
      ],
      "execution_count": 352,
      "outputs": [
        {
          "output_type": "execute_result",
          "data": {
            "text/html": [
              "<div>\n",
              "<style scoped>\n",
              "    .dataframe tbody tr th:only-of-type {\n",
              "        vertical-align: middle;\n",
              "    }\n",
              "\n",
              "    .dataframe tbody tr th {\n",
              "        vertical-align: top;\n",
              "    }\n",
              "\n",
              "    .dataframe thead th {\n",
              "        text-align: right;\n",
              "    }\n",
              "</style>\n",
              "<table border=\"1\" class=\"dataframe\">\n",
              "  <thead>\n",
              "    <tr style=\"text-align: right;\">\n",
              "      <th></th>\n",
              "      <th>status</th>\n",
              "      <th>propertyType</th>\n",
              "      <th>street</th>\n",
              "      <th>baths</th>\n",
              "      <th>homeFacts</th>\n",
              "      <th>city</th>\n",
              "      <th>schools</th>\n",
              "      <th>sqft</th>\n",
              "      <th>zipcode</th>\n",
              "      <th>beds</th>\n",
              "      <th>state</th>\n",
              "      <th>stories</th>\n",
              "      <th>target</th>\n",
              "      <th>stories_dop</th>\n",
              "      <th>street_v</th>\n",
              "      <th>drive_v</th>\n",
              "      <th>avenue_v</th>\n",
              "      <th>road_v</th>\n",
              "      <th>ridge_v</th>\n",
              "      <th>way_v</th>\n",
              "      <th>boulevard_v</th>\n",
              "      <th>parkway_v</th>\n",
              "      <th>circle_v</th>\n",
              "      <th>highway_v</th>\n",
              "      <th>lane_v</th>\n",
              "      <th>landing_v</th>\n",
              "      <th>trail_v</th>\n",
              "      <th>terrace_v</th>\n",
              "      <th>court_v</th>\n",
              "      <th>creek_v</th>\n",
              "      <th>place_v</th>\n",
              "      <th>roads_v</th>\n",
              "      <th>bend_v</th>\n",
              "      <th>falls_v</th>\n",
              "      <th>cliff_v</th>\n",
              "      <th>mountain_v</th>\n",
              "      <th>crest_v</th>\n",
              "      <th>hill_v</th>\n",
              "      <th>mill_v</th>\n",
              "      <th>point_v</th>\n",
              "      <th>loop_v</th>\n",
              "      <th>manor_v</th>\n",
              "      <th>heights_v</th>\n",
              "      <th>oaks_v</th>\n",
              "      <th>park_v</th>\n",
              "      <th>street_length</th>\n",
              "      <th>baths_new</th>\n",
              "      <th>homeFacts_new</th>\n",
              "      <th>Year built</th>\n",
              "      <th>Remodeled year</th>\n",
              "      <th>Heating</th>\n",
              "      <th>Cooling</th>\n",
              "      <th>Parking</th>\n",
              "      <th>lotsize</th>\n",
              "      <th>Price/sqft</th>\n",
              "      <th>Distance</th>\n",
              "      <th>rating</th>\n",
              "    </tr>\n",
              "  </thead>\n",
              "  <tbody>\n",
              "    <tr>\n",
              "      <th>284589</th>\n",
              "      <td>for sale</td>\n",
              "      <td>single family</td>\n",
              "      <td>touchton</td>\n",
              "      <td>2</td>\n",
              "      <td>{'atAGlanceFacts': [{'factValue': '2005', 'fac...</td>\n",
              "      <td>jacksonville</td>\n",
              "      <td>{'rating': ['7/10', '2/10', '4/10'], 'data': {...</td>\n",
              "      <td>1059.0</td>\n",
              "      <td>32216.0</td>\n",
              "      <td>2.0</td>\n",
              "      <td>FL</td>\n",
              "      <td>NaN</td>\n",
              "      <td>149900.0</td>\n",
              "      <td>NaN</td>\n",
              "      <td>0.0</td>\n",
              "      <td>0.0</td>\n",
              "      <td>0.0</td>\n",
              "      <td>1.0</td>\n",
              "      <td>0.0</td>\n",
              "      <td>0.0</td>\n",
              "      <td>0.0</td>\n",
              "      <td>0.0</td>\n",
              "      <td>0.0</td>\n",
              "      <td>0.0</td>\n",
              "      <td>0.0</td>\n",
              "      <td>0.0</td>\n",
              "      <td>0.0</td>\n",
              "      <td>0.0</td>\n",
              "      <td>0.0</td>\n",
              "      <td>0.0</td>\n",
              "      <td>0.0</td>\n",
              "      <td>0.0</td>\n",
              "      <td>0.0</td>\n",
              "      <td>0.0</td>\n",
              "      <td>0.0</td>\n",
              "      <td>0.0</td>\n",
              "      <td>0.0</td>\n",
              "      <td>0.0</td>\n",
              "      <td>0.0</td>\n",
              "      <td>0.0</td>\n",
              "      <td>0.0</td>\n",
              "      <td>0.0</td>\n",
              "      <td>0.0</td>\n",
              "      <td>0.0</td>\n",
              "      <td>0.0</td>\n",
              "      <td>2</td>\n",
              "      <td>2.0</td>\n",
              "      <td>[{'factValue': '2005', 'factLabel': 'Year buil...</td>\n",
              "      <td>2005.0</td>\n",
              "      <td>2005</td>\n",
              "      <td>Forced air, Heat pump</td>\n",
              "      <td>Central</td>\n",
              "      <td>Detached Garage</td>\n",
              "      <td>225 sqft lot</td>\n",
              "      <td>142.0</td>\n",
              "      <td>[2.2, 2.1, 3.1]</td>\n",
              "      <td>[7, 2, 4]</td>\n",
              "    </tr>\n",
              "    <tr>\n",
              "      <th>162485</th>\n",
              "      <td>nan</td>\n",
              "      <td>single family</td>\n",
              "      <td>alaro</td>\n",
              "      <td>3.0</td>\n",
              "      <td>{'atAGlanceFacts': [{'factValue': '1953', 'fac...</td>\n",
              "      <td>jacksonville</td>\n",
              "      <td>{'rating': ['2/10', '2/10', '3/10'], 'data': {...</td>\n",
              "      <td>2041.0</td>\n",
              "      <td>32209.0</td>\n",
              "      <td>4.0</td>\n",
              "      <td>FL</td>\n",
              "      <td>1</td>\n",
              "      <td>141250.0</td>\n",
              "      <td>NaN</td>\n",
              "      <td>0.0</td>\n",
              "      <td>0.0</td>\n",
              "      <td>0.0</td>\n",
              "      <td>1.0</td>\n",
              "      <td>0.0</td>\n",
              "      <td>0.0</td>\n",
              "      <td>0.0</td>\n",
              "      <td>0.0</td>\n",
              "      <td>0.0</td>\n",
              "      <td>0.0</td>\n",
              "      <td>0.0</td>\n",
              "      <td>0.0</td>\n",
              "      <td>0.0</td>\n",
              "      <td>0.0</td>\n",
              "      <td>0.0</td>\n",
              "      <td>0.0</td>\n",
              "      <td>0.0</td>\n",
              "      <td>0.0</td>\n",
              "      <td>0.0</td>\n",
              "      <td>0.0</td>\n",
              "      <td>0.0</td>\n",
              "      <td>0.0</td>\n",
              "      <td>0.0</td>\n",
              "      <td>0.0</td>\n",
              "      <td>0.0</td>\n",
              "      <td>0.0</td>\n",
              "      <td>0.0</td>\n",
              "      <td>0.0</td>\n",
              "      <td>0.0</td>\n",
              "      <td>0.0</td>\n",
              "      <td>0.0</td>\n",
              "      <td>2</td>\n",
              "      <td>3.0</td>\n",
              "      <td>[{'factValue': '1953', 'factLabel': 'Year buil...</td>\n",
              "      <td>1953.0</td>\n",
              "      <td>1970</td>\n",
              "      <td>Forced air</td>\n",
              "      <td>Central</td>\n",
              "      <td>Carport</td>\n",
              "      <td>0.35 acres</td>\n",
              "      <td>NaN</td>\n",
              "      <td>[0.7, 1.6, 0.4]</td>\n",
              "      <td>[2, 2, 3]</td>\n",
              "    </tr>\n",
              "    <tr>\n",
              "      <th>156501</th>\n",
              "      <td>for sale</td>\n",
              "      <td>single family</td>\n",
              "      <td>legacy arrowhead southern dunes</td>\n",
              "      <td>2.5</td>\n",
              "      <td>{'atAGlanceFacts': [{'factValue': '', 'factLab...</td>\n",
              "      <td>indianapolis</td>\n",
              "      <td>{'rating': ['5/10', '5/10', '6/10', '6/10'], '...</td>\n",
              "      <td>2307.0</td>\n",
              "      <td>46217.0</td>\n",
              "      <td>3.0</td>\n",
              "      <td>IN</td>\n",
              "      <td>2.0</td>\n",
              "      <td>192990.0</td>\n",
              "      <td>NaN</td>\n",
              "      <td>0.0</td>\n",
              "      <td>0.0</td>\n",
              "      <td>0.0</td>\n",
              "      <td>0.0</td>\n",
              "      <td>0.0</td>\n",
              "      <td>0.0</td>\n",
              "      <td>0.0</td>\n",
              "      <td>0.0</td>\n",
              "      <td>0.0</td>\n",
              "      <td>0.0</td>\n",
              "      <td>0.0</td>\n",
              "      <td>0.0</td>\n",
              "      <td>0.0</td>\n",
              "      <td>0.0</td>\n",
              "      <td>0.0</td>\n",
              "      <td>0.0</td>\n",
              "      <td>0.0</td>\n",
              "      <td>0.0</td>\n",
              "      <td>0.0</td>\n",
              "      <td>0.0</td>\n",
              "      <td>0.0</td>\n",
              "      <td>0.0</td>\n",
              "      <td>0.0</td>\n",
              "      <td>0.0</td>\n",
              "      <td>0.0</td>\n",
              "      <td>0.0</td>\n",
              "      <td>0.0</td>\n",
              "      <td>0.0</td>\n",
              "      <td>0.0</td>\n",
              "      <td>0.0</td>\n",
              "      <td>0.0</td>\n",
              "      <td>4</td>\n",
              "      <td>2.5</td>\n",
              "      <td>[{'factValue': '', 'factLabel': 'Year built'},...</td>\n",
              "      <td>NaN</td>\n",
              "      <td>None</td>\n",
              "      <td>None</td>\n",
              "      <td>None</td>\n",
              "      <td>None</td>\n",
              "      <td>None</td>\n",
              "      <td>84.0</td>\n",
              "      <td>[0.87, 2.63, 2.37, 2.63]</td>\n",
              "      <td>[5, 5, 6, 6]</td>\n",
              "    </tr>\n",
              "    <tr>\n",
              "      <th>150318</th>\n",
              "      <td>for sale</td>\n",
              "      <td>lot land</td>\n",
              "      <td>seven winds</td>\n",
              "      <td>None</td>\n",
              "      <td>{'atAGlanceFacts': [{'factValue': '', 'factLab...</td>\n",
              "      <td>san antonio</td>\n",
              "      <td>{'rating': ['10/10', '9/10', '8/10'], 'data': ...</td>\n",
              "      <td>9583.0</td>\n",
              "      <td>78258.0</td>\n",
              "      <td>NaN</td>\n",
              "      <td>TX</td>\n",
              "      <td>NaN</td>\n",
              "      <td>64000.0</td>\n",
              "      <td>NaN</td>\n",
              "      <td>0.0</td>\n",
              "      <td>0.0</td>\n",
              "      <td>0.0</td>\n",
              "      <td>0.0</td>\n",
              "      <td>0.0</td>\n",
              "      <td>0.0</td>\n",
              "      <td>0.0</td>\n",
              "      <td>0.0</td>\n",
              "      <td>0.0</td>\n",
              "      <td>0.0</td>\n",
              "      <td>0.0</td>\n",
              "      <td>0.0</td>\n",
              "      <td>0.0</td>\n",
              "      <td>0.0</td>\n",
              "      <td>0.0</td>\n",
              "      <td>0.0</td>\n",
              "      <td>0.0</td>\n",
              "      <td>0.0</td>\n",
              "      <td>0.0</td>\n",
              "      <td>0.0</td>\n",
              "      <td>0.0</td>\n",
              "      <td>0.0</td>\n",
              "      <td>0.0</td>\n",
              "      <td>0.0</td>\n",
              "      <td>0.0</td>\n",
              "      <td>0.0</td>\n",
              "      <td>0.0</td>\n",
              "      <td>0.0</td>\n",
              "      <td>0.0</td>\n",
              "      <td>0.0</td>\n",
              "      <td>0.0</td>\n",
              "      <td>2</td>\n",
              "      <td>NaN</td>\n",
              "      <td>[{'factValue': '', 'factLabel': 'Year built'},...</td>\n",
              "      <td>NaN</td>\n",
              "      <td>None</td>\n",
              "      <td>Gas</td>\n",
              "      <td>None</td>\n",
              "      <td>None</td>\n",
              "      <td>9583 sqft</td>\n",
              "      <td>NaN</td>\n",
              "      <td>[1.52, 3.12, 1.05]</td>\n",
              "      <td>[10, 9, 8]</td>\n",
              "    </tr>\n",
              "    <tr>\n",
              "      <th>37555</th>\n",
              "      <td>nan</td>\n",
              "      <td>condo</td>\n",
              "      <td>87th</td>\n",
              "      <td>4.0</td>\n",
              "      <td>{'atAGlanceFacts': [{'factValue': '2007', 'fac...</td>\n",
              "      <td>doral</td>\n",
              "      <td>{'rating': ['10/10', '8/10'], 'data': {'Distan...</td>\n",
              "      <td>2070.0</td>\n",
              "      <td>33178.0</td>\n",
              "      <td>3.0</td>\n",
              "      <td>FL</td>\n",
              "      <td>2.0</td>\n",
              "      <td>299900.0</td>\n",
              "      <td>NaN</td>\n",
              "      <td>0.0</td>\n",
              "      <td>0.0</td>\n",
              "      <td>1.0</td>\n",
              "      <td>0.0</td>\n",
              "      <td>0.0</td>\n",
              "      <td>0.0</td>\n",
              "      <td>0.0</td>\n",
              "      <td>0.0</td>\n",
              "      <td>0.0</td>\n",
              "      <td>0.0</td>\n",
              "      <td>0.0</td>\n",
              "      <td>0.0</td>\n",
              "      <td>0.0</td>\n",
              "      <td>0.0</td>\n",
              "      <td>0.0</td>\n",
              "      <td>0.0</td>\n",
              "      <td>0.0</td>\n",
              "      <td>0.0</td>\n",
              "      <td>0.0</td>\n",
              "      <td>0.0</td>\n",
              "      <td>0.0</td>\n",
              "      <td>0.0</td>\n",
              "      <td>0.0</td>\n",
              "      <td>0.0</td>\n",
              "      <td>0.0</td>\n",
              "      <td>0.0</td>\n",
              "      <td>0.0</td>\n",
              "      <td>0.0</td>\n",
              "      <td>0.0</td>\n",
              "      <td>0.0</td>\n",
              "      <td>0.0</td>\n",
              "      <td>2</td>\n",
              "      <td>4.0</td>\n",
              "      <td>[{'factValue': '2007', 'factLabel': 'Year buil...</td>\n",
              "      <td>2007.0</td>\n",
              "      <td>2007</td>\n",
              "      <td>Forced air</td>\n",
              "      <td>Central</td>\n",
              "      <td>1 space</td>\n",
              "      <td>None</td>\n",
              "      <td>145.0</td>\n",
              "      <td>[19.8, 2.6]</td>\n",
              "      <td>[10, 8]</td>\n",
              "    </tr>\n",
              "  </tbody>\n",
              "</table>\n",
              "</div>"
            ],
            "text/plain": [
              "          status   propertyType  ...                  Distance        rating\n",
              "284589  for sale  single family  ...           [2.2, 2.1, 3.1]     [7, 2, 4]\n",
              "162485       nan  single family  ...           [0.7, 1.6, 0.4]     [2, 2, 3]\n",
              "156501  for sale  single family  ...  [0.87, 2.63, 2.37, 2.63]  [5, 5, 6, 6]\n",
              "150318  for sale       lot land  ...        [1.52, 3.12, 1.05]    [10, 9, 8]\n",
              "37555        nan          condo  ...               [19.8, 2.6]       [10, 8]\n",
              "\n",
              "[5 rows x 57 columns]"
            ]
          },
          "metadata": {
            "tags": []
          },
          "execution_count": 352
        }
      ]
    },
    {
      "cell_type": "code",
      "metadata": {
        "id": "s8vgdv095Ift",
        "colab": {
          "base_uri": "https://localhost:8080/"
        },
        "outputId": "09c1bf4f-b71f-4adc-85b1-7f52266d567b"
      },
      "source": [
        "round(df.isna().sum() / df.shape[0] * 100, 1)"
      ],
      "execution_count": 362,
      "outputs": [
        {
          "output_type": "execute_result",
          "data": {
            "text/plain": [
              "status             0.0\n",
              "propertyType       0.9\n",
              "street             3.7\n",
              "baths             28.6\n",
              "homeFacts          0.0\n",
              "city               0.0\n",
              "schools            0.0\n",
              "sqft               3.1\n",
              "zipcode            0.0\n",
              "beds              29.7\n",
              "state              0.0\n",
              "stories           40.0\n",
              "target             0.7\n",
              "stories_dop       98.0\n",
              "street_v           1.7\n",
              "drive_v            1.7\n",
              "avenue_v           1.7\n",
              "road_v             1.7\n",
              "ridge_v            1.7\n",
              "way_v              1.7\n",
              "boulevard_v        1.7\n",
              "parkway_v          1.7\n",
              "circle_v           1.7\n",
              "highway_v          1.7\n",
              "lane_v             1.7\n",
              "landing_v          1.7\n",
              "trail_v            1.7\n",
              "terrace_v          1.7\n",
              "court_v            1.7\n",
              "creek_v            1.7\n",
              "place_v            1.7\n",
              "roads_v            1.7\n",
              "bend_v             1.7\n",
              "falls_v            1.7\n",
              "cliff_v            1.7\n",
              "mountain_v         1.7\n",
              "crest_v            1.7\n",
              "hill_v             1.7\n",
              "mill_v             1.7\n",
              "point_v            1.7\n",
              "loop_v             1.7\n",
              "manor_v            1.7\n",
              "heights_v          1.7\n",
              "oaks_v             1.7\n",
              "park_v             1.7\n",
              "street_length      0.0\n",
              "baths_new         28.6\n",
              "homeFacts_new      0.0\n",
              "Year built        16.9\n",
              "Remodeled year    59.9\n",
              "Heating           29.0\n",
              "Cooling           32.9\n",
              "Parking           46.5\n",
              "lotsize           24.4\n",
              "Price/sqft        17.5\n",
              "Distance           0.0\n",
              "rating             0.0\n",
              "dtype: float64"
            ]
          },
          "metadata": {
            "tags": []
          },
          "execution_count": 362
        }
      ]
    },
    {
      "cell_type": "code",
      "metadata": {
        "id": "N8THFBamMwtt"
      },
      "source": [
        ""
      ],
      "execution_count": null,
      "outputs": []
    }
  ]
}