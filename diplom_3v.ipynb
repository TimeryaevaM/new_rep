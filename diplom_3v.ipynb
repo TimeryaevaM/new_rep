{
  "nbformat": 4,
  "nbformat_minor": 0,
  "metadata": {
    "colab": {
      "name": "diplom_3v.ipynb",
      "provenance": [],
      "collapsed_sections": [],
      "authorship_tag": "ABX9TyMNiESI5WpMpU9oDSgbIL2H",
      "include_colab_link": true
    },
    "kernelspec": {
      "name": "python3",
      "display_name": "Python 3"
    },
    "language_info": {
      "name": "python"
    }
  },
  "cells": [
    {
      "cell_type": "markdown",
      "metadata": {
        "id": "view-in-github",
        "colab_type": "text"
      },
      "source": [
        "<a href=\"https://colab.research.google.com/github/TimeryaevaM/new_rep/blob/master/diplom_3v.ipynb\" target=\"_parent\"><img src=\"https://colab.research.google.com/assets/colab-badge.svg\" alt=\"Open In Colab\"/></a>"
      ]
    },
    {
      "cell_type": "code",
      "metadata": {
        "id": "1w30m-Auk6Ki"
      },
      "source": [
        "import pandas as pd\n",
        "import os\n",
        "import csv\n",
        "import numpy as np\n",
        "from matplotlib import pyplot as plt\n",
        "import seaborn as sns\n",
        "from numpy import percentile"
      ],
      "execution_count": 1192,
      "outputs": []
    },
    {
      "cell_type": "code",
      "metadata": {
        "id": "XNPVkS17kOtH"
      },
      "source": [
        "def data_outlier(columns_list, df):\n",
        "\n",
        "    data_out = pd.DataFrame(data = {'name': [], 'count': [], 'min': [], 'mean': [], 'max': [], \n",
        "                                    'low_range': [], 'upper_range': [], 'out_count': []\n",
        "                                   })\n",
        "    for column_name in columns_list:\n",
        "        perc25 = percentile(df[column_name], 25)\n",
        "        perc75 = percentile(df[column_name], 75)\n",
        "        iqr = perc75 - perc25\n",
        "        low_range = perc25 - 1.5 * iqr\n",
        "        upper_range = perc75 + 1.5 * iqr\n",
        "        out_count = df[column_name].apply(\n",
        "            lambda x: None if x < low_range or x > upper_range else x).isna().sum()\n",
        "        \n",
        "        to_append = [column_name, df[column_name].count(), round(df[column_name].min(), 2), \n",
        "                     round(df[column_name].mean(), 2), round(df[column_name].max(), 2), \n",
        "                     round(low_range, 2), round(upper_range, 2), out_count]\n",
        "        data_out_length = len(data_out)\n",
        "        data_out.loc[data_out_length] = to_append\n",
        "        \n",
        "    return data_out"
      ],
      "execution_count": 1185,
      "outputs": []
    },
    {
      "cell_type": "code",
      "metadata": {
        "id": "MhmxFpvSlJYX"
      },
      "source": [
        "# df = pd.read_csv(\"/data_new.csv\", sep=\",\", quoting=csv.QUOTE_ALL, encoding='utf-8')\n",
        "\n",
        "df = pd.read_csv(\"/data_new.csv\")"
      ],
      "execution_count": 1032,
      "outputs": []
    },
    {
      "cell_type": "code",
      "metadata": {
        "colab": {
          "base_uri": "https://localhost:8080/",
          "height": 391
        },
        "id": "mLaEOsPh-cZe",
        "outputId": "cb84f90a-e22c-447b-8402-9616372d6c73"
      },
      "source": [
        "df.head()"
      ],
      "execution_count": 1033,
      "outputs": [
        {
          "output_type": "execute_result",
          "data": {
            "text/html": [
              "<div>\n",
              "<style scoped>\n",
              "    .dataframe tbody tr th:only-of-type {\n",
              "        vertical-align: middle;\n",
              "    }\n",
              "\n",
              "    .dataframe tbody tr th {\n",
              "        vertical-align: top;\n",
              "    }\n",
              "\n",
              "    .dataframe thead th {\n",
              "        text-align: right;\n",
              "    }\n",
              "</style>\n",
              "<table border=\"1\" class=\"dataframe\">\n",
              "  <thead>\n",
              "    <tr style=\"text-align: right;\">\n",
              "      <th></th>\n",
              "      <th>status</th>\n",
              "      <th>private pool</th>\n",
              "      <th>propertyType</th>\n",
              "      <th>street</th>\n",
              "      <th>baths</th>\n",
              "      <th>homeFacts</th>\n",
              "      <th>fireplace</th>\n",
              "      <th>city</th>\n",
              "      <th>schools</th>\n",
              "      <th>sqft</th>\n",
              "      <th>zipcode</th>\n",
              "      <th>beds</th>\n",
              "      <th>state</th>\n",
              "      <th>stories</th>\n",
              "      <th>mls-id</th>\n",
              "      <th>PrivatePool</th>\n",
              "      <th>MlsId</th>\n",
              "      <th>target</th>\n",
              "    </tr>\n",
              "  </thead>\n",
              "  <tbody>\n",
              "    <tr>\n",
              "      <th>0</th>\n",
              "      <td>Active</td>\n",
              "      <td>NaN</td>\n",
              "      <td>Single Family Home</td>\n",
              "      <td>240 Heather Ln</td>\n",
              "      <td>3.5</td>\n",
              "      <td>{'atAGlanceFacts': [{'factValue': '2019', 'fac...</td>\n",
              "      <td>Gas Logs</td>\n",
              "      <td>Southern Pines</td>\n",
              "      <td>[{'rating': ['4', '4', '7', 'NR', '4', '7', 'N...</td>\n",
              "      <td>2900</td>\n",
              "      <td>28387</td>\n",
              "      <td>4</td>\n",
              "      <td>NC</td>\n",
              "      <td>NaN</td>\n",
              "      <td>NaN</td>\n",
              "      <td>NaN</td>\n",
              "      <td>611019</td>\n",
              "      <td>$418,000</td>\n",
              "    </tr>\n",
              "    <tr>\n",
              "      <th>1</th>\n",
              "      <td>for sale</td>\n",
              "      <td>NaN</td>\n",
              "      <td>single-family home</td>\n",
              "      <td>12911 E Heroy Ave</td>\n",
              "      <td>3 Baths</td>\n",
              "      <td>{'atAGlanceFacts': [{'factValue': '2019', 'fac...</td>\n",
              "      <td>NaN</td>\n",
              "      <td>Spokane Valley</td>\n",
              "      <td>[{'rating': ['4/10', 'None/10', '4/10'], 'data...</td>\n",
              "      <td>1,947 sqft</td>\n",
              "      <td>99216</td>\n",
              "      <td>3 Beds</td>\n",
              "      <td>WA</td>\n",
              "      <td>2.0</td>\n",
              "      <td>NaN</td>\n",
              "      <td>NaN</td>\n",
              "      <td>201916904</td>\n",
              "      <td>$310,000</td>\n",
              "    </tr>\n",
              "    <tr>\n",
              "      <th>2</th>\n",
              "      <td>for sale</td>\n",
              "      <td>NaN</td>\n",
              "      <td>single-family home</td>\n",
              "      <td>2005 Westridge Rd</td>\n",
              "      <td>2 Baths</td>\n",
              "      <td>{'atAGlanceFacts': [{'factValue': '1961', 'fac...</td>\n",
              "      <td>yes</td>\n",
              "      <td>Los Angeles</td>\n",
              "      <td>[{'rating': ['8/10', '4/10', '8/10'], 'data': ...</td>\n",
              "      <td>3,000 sqft</td>\n",
              "      <td>90049</td>\n",
              "      <td>3 Beds</td>\n",
              "      <td>CA</td>\n",
              "      <td>1.0</td>\n",
              "      <td>NaN</td>\n",
              "      <td>yes</td>\n",
              "      <td>FR19221027</td>\n",
              "      <td>$2,895,000</td>\n",
              "    </tr>\n",
              "    <tr>\n",
              "      <th>3</th>\n",
              "      <td>for sale</td>\n",
              "      <td>NaN</td>\n",
              "      <td>single-family home</td>\n",
              "      <td>4311 Livingston Ave</td>\n",
              "      <td>8 Baths</td>\n",
              "      <td>{'atAGlanceFacts': [{'factValue': '2006', 'fac...</td>\n",
              "      <td>yes</td>\n",
              "      <td>Dallas</td>\n",
              "      <td>[{'rating': ['9/10', '9/10', '10/10', '9/10'],...</td>\n",
              "      <td>6,457 sqft</td>\n",
              "      <td>75205</td>\n",
              "      <td>5 Beds</td>\n",
              "      <td>TX</td>\n",
              "      <td>3.0</td>\n",
              "      <td>NaN</td>\n",
              "      <td>NaN</td>\n",
              "      <td>14191809</td>\n",
              "      <td>$2,395,000</td>\n",
              "    </tr>\n",
              "    <tr>\n",
              "      <th>4</th>\n",
              "      <td>for sale</td>\n",
              "      <td>NaN</td>\n",
              "      <td>lot/land</td>\n",
              "      <td>1524 Kiscoe St</td>\n",
              "      <td>NaN</td>\n",
              "      <td>{'atAGlanceFacts': [{'factValue': '', 'factLab...</td>\n",
              "      <td>NaN</td>\n",
              "      <td>Palm Bay</td>\n",
              "      <td>[{'rating': ['4/10', '5/10', '5/10'], 'data': ...</td>\n",
              "      <td>NaN</td>\n",
              "      <td>32908</td>\n",
              "      <td>NaN</td>\n",
              "      <td>FL</td>\n",
              "      <td>NaN</td>\n",
              "      <td>NaN</td>\n",
              "      <td>NaN</td>\n",
              "      <td>861745</td>\n",
              "      <td>$5,000</td>\n",
              "    </tr>\n",
              "  </tbody>\n",
              "</table>\n",
              "</div>"
            ],
            "text/plain": [
              "     status private pool  ...       MlsId      target\n",
              "0    Active          NaN  ...      611019    $418,000\n",
              "1  for sale          NaN  ...   201916904    $310,000\n",
              "2  for sale          NaN  ...  FR19221027  $2,895,000\n",
              "3  for sale          NaN  ...    14191809  $2,395,000\n",
              "4  for sale          NaN  ...      861745      $5,000\n",
              "\n",
              "[5 rows x 18 columns]"
            ]
          },
          "metadata": {
            "tags": []
          },
          "execution_count": 1033
        }
      ]
    },
    {
      "cell_type": "code",
      "metadata": {
        "colab": {
          "base_uri": "https://localhost:8080/"
        },
        "id": "KO0u_3EW-okk",
        "outputId": "e4a79292-e914-452c-e031-ea7970a53815"
      },
      "source": [
        "df.shape"
      ],
      "execution_count": 1034,
      "outputs": [
        {
          "output_type": "execute_result",
          "data": {
            "text/plain": [
              "(377185, 18)"
            ]
          },
          "metadata": {
            "tags": []
          },
          "execution_count": 1034
        }
      ]
    },
    {
      "cell_type": "code",
      "metadata": {
        "id": "Egyx7KRmlMc9",
        "colab": {
          "base_uri": "https://localhost:8080/"
        },
        "outputId": "c82f39d2-2acb-47fc-fbcf-457055b9b713"
      },
      "source": [
        "df[df['target'].isna()].shape"
      ],
      "execution_count": 1035,
      "outputs": [
        {
          "output_type": "execute_result",
          "data": {
            "text/plain": [
              "(2481, 18)"
            ]
          },
          "metadata": {
            "tags": []
          },
          "execution_count": 1035
        }
      ]
    },
    {
      "cell_type": "code",
      "metadata": {
        "colab": {
          "base_uri": "https://localhost:8080/"
        },
        "id": "nP1wSjr_vQfi",
        "outputId": "4dd7fc8b-75f3-4bff-a3e2-b288d741bdf8"
      },
      "source": [
        "df.info()"
      ],
      "execution_count": 1036,
      "outputs": [
        {
          "output_type": "stream",
          "text": [
            "<class 'pandas.core.frame.DataFrame'>\n",
            "RangeIndex: 377185 entries, 0 to 377184\n",
            "Data columns (total 18 columns):\n",
            " #   Column        Non-Null Count   Dtype \n",
            "---  ------        --------------   ----- \n",
            " 0   status        337267 non-null  object\n",
            " 1   private pool  4181 non-null    object\n",
            " 2   propertyType  342452 non-null  object\n",
            " 3   street        377183 non-null  object\n",
            " 4   baths         270847 non-null  object\n",
            " 5   homeFacts     377185 non-null  object\n",
            " 6   fireplace     103115 non-null  object\n",
            " 7   city          377151 non-null  object\n",
            " 8   schools       377185 non-null  object\n",
            " 9   sqft          336608 non-null  object\n",
            " 10  zipcode       377185 non-null  object\n",
            " 11  beds          285903 non-null  object\n",
            " 12  state         377185 non-null  object\n",
            " 13  stories       226470 non-null  object\n",
            " 14  mls-id        24942 non-null   object\n",
            " 15  PrivatePool   40311 non-null   object\n",
            " 16  MlsId         310305 non-null  object\n",
            " 17  target        374704 non-null  object\n",
            "dtypes: object(18)\n",
            "memory usage: 51.8+ MB\n"
          ],
          "name": "stdout"
        }
      ]
    },
    {
      "cell_type": "code",
      "metadata": {
        "colab": {
          "base_uri": "https://localhost:8080/"
        },
        "id": "DmT4P5r82xb5",
        "outputId": "f8ee4816-b5aa-4e3e-e94d-42f6db5ebcb4"
      },
      "source": [
        "print(\"Percent NULL values\\n\")\n",
        "round(df.isna().sum() / df.shape[0] * 100, 2)"
      ],
      "execution_count": 1037,
      "outputs": [
        {
          "output_type": "stream",
          "text": [
            "Percent NULL values\n",
            "\n"
          ],
          "name": "stdout"
        },
        {
          "output_type": "execute_result",
          "data": {
            "text/plain": [
              "status          10.58\n",
              "private pool    98.89\n",
              "propertyType     9.21\n",
              "street           0.00\n",
              "baths           28.19\n",
              "homeFacts        0.00\n",
              "fireplace       72.66\n",
              "city             0.01\n",
              "schools          0.00\n",
              "sqft            10.76\n",
              "zipcode          0.00\n",
              "beds            24.20\n",
              "state            0.00\n",
              "stories         39.96\n",
              "mls-id          93.39\n",
              "PrivatePool     89.31\n",
              "MlsId           17.73\n",
              "target           0.66\n",
              "dtype: float64"
            ]
          },
          "metadata": {
            "tags": []
          },
          "execution_count": 1037
        }
      ]
    },
    {
      "cell_type": "markdown",
      "metadata": {
        "id": "4SsjYfyy3ecP"
      },
      "source": [
        "Удаляем столбцы, где процент NULL значений больше 40%"
      ]
    },
    {
      "cell_type": "code",
      "metadata": {
        "id": "11b4aa6dK7q2"
      },
      "source": [
        "df.drop(['private pool', 'fireplace', 'mls-id', 'PrivatePool'], axis=1, inplace=True)"
      ],
      "execution_count": 1038,
      "outputs": []
    },
    {
      "cell_type": "code",
      "metadata": {
        "colab": {
          "base_uri": "https://localhost:8080/"
        },
        "id": "HlT7wWfZ39we",
        "outputId": "79a7087c-ea09-4f60-c6c6-491742fadcc8"
      },
      "source": [
        "df.nunique()"
      ],
      "execution_count": 1039,
      "outputs": [
        {
          "output_type": "execute_result",
          "data": {
            "text/plain": [
              "status             159\n",
              "propertyType      1280\n",
              "street          337076\n",
              "baths              229\n",
              "homeFacts       321009\n",
              "city              2026\n",
              "schools         297365\n",
              "sqft             25405\n",
              "zipcode           4549\n",
              "beds              1184\n",
              "state               39\n",
              "stories            348\n",
              "MlsId           232944\n",
              "target           43939\n",
              "dtype: int64"
            ]
          },
          "metadata": {
            "tags": []
          },
          "execution_count": 1039
        }
      ]
    },
    {
      "cell_type": "markdown",
      "metadata": {
        "id": "jHEzEYMH1LyF"
      },
      "source": [
        "status"
      ]
    },
    {
      "cell_type": "code",
      "metadata": {
        "id": "2n1c-t7p4C-0"
      },
      "source": [
        "df['status'] = df['status'].str.lower()"
      ],
      "execution_count": 1040,
      "outputs": []
    },
    {
      "cell_type": "code",
      "metadata": {
        "colab": {
          "base_uri": "https://localhost:8080/",
          "height": 35
        },
        "id": "9NBV6zdI95QT",
        "outputId": "3b0895ee-88c8-4d78-a64c-9bfcaa95f215"
      },
      "source": [
        "import string\n",
        "string.punctuation\n",
        "string.digits"
      ],
      "execution_count": 1041,
      "outputs": [
        {
          "output_type": "execute_result",
          "data": {
            "application/vnd.google.colaboratory.intrinsic+json": {
              "type": "string"
            },
            "text/plain": [
              "'0123456789'"
            ]
          },
          "metadata": {
            "tags": []
          },
          "execution_count": 1041
        }
      ]
    },
    {
      "cell_type": "code",
      "metadata": {
        "colab": {
          "base_uri": "https://localhost:8080/"
        },
        "id": "gjVBpAcj_hvK",
        "outputId": "0ce44013-5e9b-4dce-eaae-5050e0050766"
      },
      "source": [
        "df['status'] = df['status'].str.replace('[{}]'.format(string.punctuation), ' ').str.replace('[{}]'.format(string.digits), ' ').apply(lambda x: \" \".join(str(x).split()))\n",
        "df['status'].value_counts()"
      ],
      "execution_count": 1042,
      "outputs": [
        {
          "output_type": "execute_result",
          "data": {
            "text/plain": [
              "for sale                   199571\n",
              "active                     105207\n",
              "nan                         39918\n",
              "foreclosure                  6769\n",
              "new construction             5475\n",
              "                            ...  \n",
              "pending sh                      1\n",
              "pending w escape clause         1\n",
              "reactivated                     1\n",
              "backup                          1\n",
              "contract                        1\n",
              "Name: status, Length: 104, dtype: int64"
            ]
          },
          "metadata": {
            "tags": []
          },
          "execution_count": 1042
        }
      ]
    },
    {
      "cell_type": "code",
      "metadata": {
        "colab": {
          "base_uri": "https://localhost:8080/"
        },
        "id": "JwQBiVTSibVQ",
        "outputId": "1be52e0d-c0f2-4706-e6ad-66cb191dbd51"
      },
      "source": [
        "df['status'].nunique()"
      ],
      "execution_count": 1043,
      "outputs": [
        {
          "output_type": "execute_result",
          "data": {
            "text/plain": [
              "104"
            ]
          },
          "metadata": {
            "tags": []
          },
          "execution_count": 1043
        }
      ]
    },
    {
      "cell_type": "markdown",
      "metadata": {
        "id": "Vfiig-gf1Ix2"
      },
      "source": [
        "propertyType "
      ]
    },
    {
      "cell_type": "code",
      "metadata": {
        "colab": {
          "base_uri": "https://localhost:8080/"
        },
        "id": "R37PLl0L_8Lp",
        "outputId": "93c6050f-989c-4785-af58-ee077f018f56"
      },
      "source": [
        "df['propertyType'].sample(10)"
      ],
      "execution_count": 1044,
      "outputs": [
        {
          "output_type": "execute_result",
          "data": {
            "text/plain": [
              "186586                      single-family home\n",
              "361658                                     NaN\n",
              "40980                       single-family home\n",
              "257547                      single-family home\n",
              "18548            Condo/Townhome/Row Home/Co-Op\n",
              "277758                      single-family home\n",
              "134923                           Single Family\n",
              "85242                                    condo\n",
              "212866                               Townhouse\n",
              "112835    Single Detached, Contemporary/Modern\n",
              "Name: propertyType, dtype: object"
            ]
          },
          "metadata": {
            "tags": []
          },
          "execution_count": 1044
        }
      ]
    },
    {
      "cell_type": "code",
      "metadata": {
        "id": "2drMoTn31Sv0"
      },
      "source": [
        "df['propertyType'] = df['propertyType'].str.lower()\n",
        "df['propertyType'] = df['propertyType'].str.replace('[{}]'.format(string.punctuation), ' ').apply(lambda x: \" \".join(str(x).split()))\n",
        "df['propertyType'] = df['propertyType'].str.replace('one', '1').str.replace('two', '2')"
      ],
      "execution_count": 1045,
      "outputs": []
    },
    {
      "cell_type": "code",
      "metadata": {
        "colab": {
          "base_uri": "https://localhost:8080/"
        },
        "id": "6adUWZNnCEu4",
        "outputId": "7a66d2ea-dae9-4a57-eaf0-7d05bb1a5bc1"
      },
      "source": [
        "df['propertyType'].value_counts()[20:40]"
      ],
      "execution_count": 1046,
      "outputs": [
        {
          "output_type": "execute_result",
          "data": {
            "text/plain": [
              "contemporary modern           1010\n",
              "apartment                      922\n",
              "2 stories                      911\n",
              "mfd mobile home                792\n",
              "single detached                751\n",
              "detached 2 story               638\n",
              "2 story                        596\n",
              "transitional                   560\n",
              "cooperative                    535\n",
              "florida                        530\n",
              "bungalow                       442\n",
              "farms ranches                  371\n",
              "garden home                    305\n",
              "cape cod                       281\n",
              "2 stories traditional          280\n",
              "spanish mediterranean          272\n",
              "other style                    249\n",
              "1 story traditional            238\n",
              "other                          232\n",
              "condo townhome traditional     225\n",
              "Name: propertyType, dtype: int64"
            ]
          },
          "metadata": {
            "tags": []
          },
          "execution_count": 1046
        }
      ]
    },
    {
      "cell_type": "code",
      "metadata": {
        "colab": {
          "base_uri": "https://localhost:8080/"
        },
        "id": "bUIKI--bHHOm",
        "outputId": "2e6658f4-5c25-4658-bf7f-caa31e62efac"
      },
      "source": [
        "df['stories_dop'] = df['propertyType'].str.findall(r'[a-z0-9]+ story|[a-z0-9]+ stories').apply(lambda x: None if len(x) == 0 else x[-1])\n",
        "#.str.replace('one', '1').str.replace('two', '2')\n",
        "df['stories_dop'].value_counts(dropna=False)"
      ],
      "execution_count": 1047,
      "outputs": [
        {
          "output_type": "execute_result",
          "data": {
            "text/plain": [
              "NaN          369527\n",
              "1 story        4440\n",
              "2 stories      1558\n",
              "2 story        1466\n",
              "3 stories       134\n",
              "8 stories        38\n",
              "7 stories        15\n",
              "3 story           6\n",
              "5 story           1\n",
              "Name: stories_dop, dtype: int64"
            ]
          },
          "metadata": {
            "tags": []
          },
          "execution_count": 1047
        }
      ]
    },
    {
      "cell_type": "code",
      "metadata": {
        "id": "W1zAHyISN2sg"
      },
      "source": [
        "set_story = set(df['stories_dop'].dropna())\n",
        "for y in set_story:\n",
        "  df['propertyType'] = df['propertyType'].str.replace(y, '')"
      ],
      "execution_count": 1048,
      "outputs": []
    },
    {
      "cell_type": "code",
      "metadata": {
        "colab": {
          "base_uri": "https://localhost:8080/"
        },
        "id": "MWm2qcUB27s8",
        "outputId": "70c9d827-0ce3-4c23-a38c-d71bb9aad84b"
      },
      "source": [
        "df[df['propertyType'].str.contains('home')]['propertyType'].value_counts()"
      ],
      "execution_count": 1049,
      "outputs": [
        {
          "output_type": "execute_result",
          "data": {
            "text/plain": [
              "single family home                                                                       123934\n",
              "condo townhome row home co op                                                              7701\n",
              "multi family home                                                                          1501\n",
              "mfd mobile home                                                                             792\n",
              "garden home                                                                                 305\n",
              "                                                                                          ...  \n",
              "condo townhome contemporary modern mediterranean spanish                                      1\n",
              "condo townhome contemporary modern split level                                                1\n",
              "cabin lodge contemporary converted barn cottage loft with bedrooms log home post beam         1\n",
              "manufactured home double wide                                                                 1\n",
              "coach carriage garden home                                                                    1\n",
              "Name: propertyType, Length: 137, dtype: int64"
            ]
          },
          "metadata": {
            "tags": []
          },
          "execution_count": 1049
        }
      ]
    },
    {
      "cell_type": "code",
      "metadata": {
        "id": "VNsnUVuBX64m"
      },
      "source": [
        "df['propertyType'] = df['propertyType'].str.replace('home', '')\n",
        "df['propertyType'] = df['propertyType'].apply(lambda x: None if x == '' else\n",
        "                                              None if str(x) == 'nan' else \n",
        "                                              None if str(x) == 'None' else \" \".join(str(x).split()))"
      ],
      "execution_count": 1050,
      "outputs": []
    },
    {
      "cell_type": "code",
      "metadata": {
        "colab": {
          "base_uri": "https://localhost:8080/"
        },
        "id": "dZ-XFKT9XRqE",
        "outputId": "079054b1-2251-4c72-f965-2c39e9b35cd7"
      },
      "source": [
        "df['propertyType'].nunique()"
      ],
      "execution_count": 1051,
      "outputs": [
        {
          "output_type": "execute_result",
          "data": {
            "text/plain": [
              "1112"
            ]
          },
          "metadata": {
            "tags": []
          },
          "execution_count": 1051
        }
      ]
    },
    {
      "cell_type": "code",
      "metadata": {
        "colab": {
          "base_uri": "https://localhost:8080/"
        },
        "id": "lQ5CpxIXACrE",
        "outputId": "e5e149ce-3e0c-4bc3-b61a-75eb1d21bf4c"
      },
      "source": [
        "df['propertyType'].value_counts(dropna=False)"
      ],
      "execution_count": 1052,
      "outputs": [
        {
          "output_type": "execute_result",
          "data": {
            "text/plain": [
              "single family                                                                       186803\n",
              "condo                                                                                42530\n",
              "NaN                                                                                  38211\n",
              "lot land                                                                             20552\n",
              "townhouse                                                                            18401\n",
              "                                                                                     ...  \n",
              "historical conservation district single detached contemporary modern traditional         1\n",
              "less than 4 floors villa                                                                 1\n",
              "single detached colonial english                                                         1\n",
              "dutch colonial                                                                           1\n",
              "colonial contemporary multi level other yurt                                             1\n",
              "Name: propertyType, Length: 1113, dtype: int64"
            ]
          },
          "metadata": {
            "tags": []
          },
          "execution_count": 1052
        }
      ]
    },
    {
      "cell_type": "markdown",
      "metadata": {
        "id": "dp5t10jcZCCK"
      },
      "source": [
        "street"
      ]
    },
    {
      "cell_type": "code",
      "metadata": {
        "colab": {
          "base_uri": "https://localhost:8080/"
        },
        "id": "17rgvZ3JXw-8",
        "outputId": "1a06db69-23b0-4d37-99de-955eba5a91a9"
      },
      "source": [
        "df['street'].value_counts(dropna=False)[1200:]"
      ],
      "execution_count": 1053,
      "outputs": [
        {
          "output_type": "execute_result",
          "data": {
            "text/plain": [
              "3409 N Narrows Dr     3\n",
              "822 Seneca Pl         3\n",
              "12117 Bob White Dr    3\n",
              "2509 57th St SW       3\n",
              "7410 Hemlock St       3\n",
              "                     ..\n",
              "1 Hatteras Ct         1\n",
              "2601 Irma Ave N       1\n",
              "611 Muirfield Loop    1\n",
              "1412 Morris Rd SE     1\n",
              "4332 Darron Dr        1\n",
              "Name: street, Length: 335877, dtype: int64"
            ]
          },
          "metadata": {
            "tags": []
          },
          "execution_count": 1053
        }
      ]
    },
    {
      "cell_type": "code",
      "metadata": {
        "id": "-sHPD6TZ6l48"
      },
      "source": [
        "df['street'] = df['street'].str.lower()\n",
        "df['street'] = df['street'].apply(lambda x: None if 'not disclosed' in str(x) else \n",
        "                                  None if 'undisclosed' in str(x) else\n",
        "                                  None if 'not available' in str(x) else\n",
        "                                  None if 'unknown' in str(x) else str(x))"
      ],
      "execution_count": 1054,
      "outputs": []
    },
    {
      "cell_type": "code",
      "metadata": {
        "id": "J-963uSjL8iB"
      },
      "source": [
        "df.loc[(df['street'].isna()==False) & (df['street'].str.contains(r'mls ')), 'street'] = None"
      ],
      "execution_count": 1055,
      "outputs": []
    },
    {
      "cell_type": "code",
      "metadata": {
        "colab": {
          "base_uri": "https://localhost:8080/",
          "height": 35
        },
        "id": "GbgWmS1esbxU",
        "outputId": "6e7a4ae2-5356-42f2-d7dd-d89d1a709a1d"
      },
      "source": [
        "df.loc[81361, 'street']"
      ],
      "execution_count": 1056,
      "outputs": [
        {
          "output_type": "execute_result",
          "data": {
            "application/vnd.google.colaboratory.intrinsic+json": {
              "type": "string"
            },
            "text/plain": [
              "'1131 w 24th street st unit c '"
            ]
          },
          "metadata": {
            "tags": []
          },
          "execution_count": 1056
        }
      ]
    },
    {
      "cell_type": "code",
      "metadata": {
        "id": "Lezwat9yAWuu"
      },
      "source": [
        "punct = string.punctuation\n",
        "df['street'] = df['street'].str.replace('[{}]'.format(string.punctuation), ' ').str.replace(r'\\b[0-9]+\\b', '').str.replace('  ', ' ').str.strip()"
      ],
      "execution_count": 1057,
      "outputs": []
    },
    {
      "cell_type": "code",
      "metadata": {
        "id": "zIj1LeBMRHcX"
      },
      "source": [
        "street_list_tuple = [('st', 'street'), ('dr', 'drive'), ('ave', 'avenue'), ('rd', 'road'), ('rdg', 'ridge'), ('blvd', 'boulevard'), ('pkwy', 'parkway'), \n",
        "                   ('cir', 'circle'), ('hwy', 'highway'), ('ln', 'lane'), ('lndg', 'landing'), ('trl', 'trail'), ('ter', 'terrace'), ('ct', 'court'), \n",
        "                   ('crk', 'creek'), ('pl', 'place'), ('rds', 'roads'), ('bnd', 'bend'), ('fls', 'falls'), ('clf', 'cliff'), ('clfs', 'cliff'), ('mtn', 'mountain'), \n",
        "                   ('crst', 'crest'), ('hl', 'hill'), ('ml', 'mill'), ('mnr', 'manor'), ('hts', 'heights')]       \n",
        "                          "
      ],
      "execution_count": 1058,
      "outputs": []
    },
    {
      "cell_type": "code",
      "metadata": {
        "id": "1E-BO1T0-TP9"
      },
      "source": [
        "def street_replace(df, st_tupl):\n",
        "\n",
        "  # Функция замены коротких синонимов на полные названия и удаление дубликатов\n",
        "\n",
        "  df['street'] = df['street'].str.replace(rf'\\b{st_tupl[0]}\\b', st_tupl[1]).str.replace(rf'\\b{st_tupl[1]}\\b \\b{st_tupl[1]}\\b', st_tupl[1])\n",
        "  df['street'] = df['street'].str.replace('  ', ' ').str.strip()\n",
        "\n",
        "  # print(f'replace {st_tupl[0]} to {st_tupl[1]}')"
      ],
      "execution_count": 1059,
      "outputs": []
    },
    {
      "cell_type": "code",
      "metadata": {
        "id": "-TXrE9VA9y-V"
      },
      "source": [
        "for x in street_list_tuple:\n",
        "  street_replace(df, x)"
      ],
      "execution_count": 1060,
      "outputs": []
    },
    {
      "cell_type": "code",
      "metadata": {
        "id": "IFBTRMTnP5MM"
      },
      "source": [
        "def del_dropwords_street(df, dropword):\n",
        "\n",
        "  # Удаляем dropword из признака street\n",
        "  df['street'] = df['street'].str.replace(rf'\\b{dropword}\\b', '').str.replace(r'  ', ' ').str.strip()\n",
        "\n",
        "  print(f\"Drop {dropword}\")"
      ],
      "execution_count": 1061,
      "outputs": []
    },
    {
      "cell_type": "code",
      "metadata": {
        "colab": {
          "base_uri": "https://localhost:8080/"
        },
        "id": "qwv2r3M6MiJE",
        "outputId": "989a2177-89d5-45e0-a627-6d1d949627f8"
      },
      "source": [
        "dropwords = ['lot', 'lots', 'collections', 'collection', 'plan', 'apt', 'unit', 'buildable', 'the']\n",
        "\n",
        "for x in dropwords:\n",
        "  del_dropwords_street(df, x)"
      ],
      "execution_count": 1062,
      "outputs": [
        {
          "output_type": "stream",
          "text": [
            "Drop lot\n",
            "Drop lots\n",
            "Drop collections\n",
            "Drop collection\n",
            "Drop plan\n",
            "Drop apt\n",
            "Drop unit\n",
            "Drop buildable\n",
            "Drop the\n"
          ],
          "name": "stdout"
        }
      ]
    },
    {
      "cell_type": "code",
      "metadata": {
        "id": "PtEsZXfg_YW4"
      },
      "source": [
        "# Удаляем мусор из строк, чтобы легче паттерны было выделять\n",
        "df['street'] = df['street'].str.replace(r'\\b[a-z]{1,2}\\b', '').str.replace('  ', ' ').str.strip()\n",
        "df['street'] = df['street'].str.replace(r'\\b[0-9]+[a-z]\\b', '').str.replace(r'\\b[a-z]+[0-9]\\b', '').str.replace(r'\\b[0-9]+ft\\b', '')\n",
        "df['street'] = df['street'].str.replace(r'  ', ' ').str.strip()"
      ],
      "execution_count": 1063,
      "outputs": []
    },
    {
      "cell_type": "code",
      "metadata": {
        "id": "M7mp668lXZ7n"
      },
      "source": [
        "df['street'] = df['street'].apply(lambda x: None if x is None else\n",
        "                                  None if x.strip() == '' else x)"
      ],
      "execution_count": 1064,
      "outputs": []
    },
    {
      "cell_type": "code",
      "metadata": {
        "colab": {
          "base_uri": "https://localhost:8080/"
        },
        "id": "0yEgzpl9P_gC",
        "outputId": "7249cd0c-504d-4a6d-9ffd-712bc5b91085"
      },
      "source": [
        "df['street'].sample(10)"
      ],
      "execution_count": 1065,
      "outputs": [
        {
          "output_type": "execute_result",
          "data": {
            "text/plain": [
              "77521          peachtree circle\n",
              "230094    fredericksburg avenue\n",
              "149093          roselawn street\n",
              "353486              44th street\n",
              "241868           woodlake drive\n",
              "295640       kettle creek drive\n",
              "327779           madison street\n",
              "58097               vail avenue\n",
              "115563              90th avenue\n",
              "327310               7th avenue\n",
              "Name: street, dtype: object"
            ]
          },
          "metadata": {
            "tags": []
          },
          "execution_count": 1065
        }
      ]
    },
    {
      "cell_type": "code",
      "metadata": {
        "id": "bFEUQ1HMZZ3R"
      },
      "source": [
        "# tokenizer\n",
        "\n",
        "# ! pip install tokenizer\n",
        "\n",
        "from keras.preprocessing.text import Tokenizer"
      ],
      "execution_count": 1066,
      "outputs": []
    },
    {
      "cell_type": "code",
      "metadata": {
        "id": "1JbarXzsuA_-"
      },
      "source": [
        "# The maximum number of words to be used. (most frequent)\n",
        "MAX_WORDS = 10000\n",
        "# Max number of words in each complaint.\n",
        "MAX_SEQUENCE_LENGTH = 10"
      ],
      "execution_count": 1067,
      "outputs": []
    },
    {
      "cell_type": "code",
      "metadata": {
        "id": "sf8FVG5SYaPI"
      },
      "source": [
        "street_nlp = df[df['street'].isna() == False]['street'].copy()"
      ],
      "execution_count": 1068,
      "outputs": []
    },
    {
      "cell_type": "code",
      "metadata": {
        "id": "__1Pio2HY0wj"
      },
      "source": [
        "tokenize = Tokenizer(num_words=MAX_WORDS)\n",
        "tokenize.fit_on_texts(street_nlp)"
      ],
      "execution_count": 1069,
      "outputs": []
    },
    {
      "cell_type": "code",
      "metadata": {
        "id": "GFbDTDdtaw4w"
      },
      "source": [
        "# tokenize.word_index\n",
        "\n",
        "# Токенайзер введем позже"
      ],
      "execution_count": 1070,
      "outputs": []
    },
    {
      "cell_type": "markdown",
      "metadata": {
        "id": "x-vwUj9Tirgi"
      },
      "source": [
        "baths"
      ]
    },
    {
      "cell_type": "code",
      "metadata": {
        "colab": {
          "base_uri": "https://localhost:8080/"
        },
        "id": "72-rA4zkcziq",
        "outputId": "73596824-6121-4388-ee27-5fb409c04dfa"
      },
      "source": [
        "df['baths'] = df['baths'].apply(lambda x: None if x is np.nan else x)\n",
        "df['baths'].value_counts(dropna=False)"
      ],
      "execution_count": 1071,
      "outputs": [
        {
          "output_type": "execute_result",
          "data": {
            "text/plain": [
              "NaN           106338\n",
              "2 Baths        52466\n",
              "3 Baths        35506\n",
              "2              20452\n",
              "2.0            16576\n",
              "               ...  \n",
              "13 ba              1\n",
              "5.2 Baths          1\n",
              "29                 1\n",
              "1.8 Baths          1\n",
              "10.5 Baths         1\n",
              "Name: baths, Length: 230, dtype: int64"
            ]
          },
          "metadata": {
            "tags": []
          },
          "execution_count": 1071
        }
      ]
    },
    {
      "cell_type": "code",
      "metadata": {
        "id": "dB_Ii709XnKe"
      },
      "source": [
        "punct = '~—\\-:'"
      ],
      "execution_count": 1072,
      "outputs": []
    },
    {
      "cell_type": "code",
      "metadata": {
        "id": "jmhHX5o4iv-f"
      },
      "source": [
        "df['baths'] = df['baths'].str.lower().str.replace('[a-z]+\\.?', '').str.replace(',', '.').str.replace('[{}]'.format(punct), ' ')\n",
        "df['baths'] = df['baths'].apply(lambda x: None if str(x).strip() =='' else x)"
      ],
      "execution_count": 1073,
      "outputs": []
    },
    {
      "cell_type": "code",
      "metadata": {
        "colab": {
          "base_uri": "https://localhost:8080/"
        },
        "id": "OM9QISiVi9Rp",
        "outputId": "39b341ad-bcb5-44cd-8d0a-211a45bdf258"
      },
      "source": [
        "df['baths_new'] = df['baths'].str.findall('[0-9]+\\.?[0-9]*')\n",
        "df['baths_new'] = df['baths_new'].apply(lambda x: None if x is None else x[0]).astype(float)\n",
        "df['baths_new'].value_counts()\n",
        "\n",
        "# df['baths_new'].to_csv('out.csv')\n",
        "# ванна 0.5 проверить"
      ],
      "execution_count": 1074,
      "outputs": [
        {
          "output_type": "execute_result",
          "data": {
            "text/plain": [
              "2.0     103519\n",
              "3.0      66683\n",
              "4.0      26333\n",
              "1.0      17787\n",
              "2.5      13786\n",
              "         ...  \n",
              "1.8          1\n",
              "64.0         1\n",
              "14.5         1\n",
              "0.5          1\n",
              "42.0         1\n",
              "Name: baths_new, Length: 84, dtype: int64"
            ]
          },
          "metadata": {
            "tags": []
          },
          "execution_count": 1074
        }
      ]
    },
    {
      "cell_type": "markdown",
      "metadata": {
        "id": "Z8H573yK-5Ra"
      },
      "source": [
        "city"
      ]
    },
    {
      "cell_type": "code",
      "metadata": {
        "id": "tx4GJMim-xfC"
      },
      "source": [
        "df['city'] = df['city'].str.lower().str.strip()\n",
        "df['city'] = df['city'].str.replace('\\-', ' ')"
      ],
      "execution_count": 1075,
      "outputs": []
    },
    {
      "cell_type": "code",
      "metadata": {
        "id": "50sSBa0CCy35"
      },
      "source": [
        "df['city'] = df['city'].str.replace(' city', '').str.replace(' town+[a-z]*', '')\n",
        "df['city'] = df['city'].str.replace('st\\.', 'saint').str.replace(' twp.', '').str.replace('e. ', '').str.replace('ft.', 'fort').str.replace('s.a.', 'san antonio')\n",
        "df['city'] = df['city'].str.replace(' twp', '').str.replace(' vlg', ' village')\n",
        "df['city'] = df['city'].str.replace(' hts', 'heights').str.replace(' pt', 'point').str.replace('pt ', 'port ')\n",
        "df['city'] = df['city'].str.replace('^st ', 'saint ')"
      ],
      "execution_count": 1076,
      "outputs": []
    },
    {
      "cell_type": "code",
      "metadata": {
        "id": "fQ9mVNQdLtvv"
      },
      "source": [
        "df.loc[(df['city'].isna()==False) & (df['city'].str.contains('san antonio')), 'city'] = 'san antonio'"
      ],
      "execution_count": 1077,
      "outputs": []
    },
    {
      "cell_type": "code",
      "metadata": {
        "id": "X_UHuzr2NcFB"
      },
      "source": [
        "df['city'] = df['city'].str.replace('p c ', 'panama ').str.replace('^n ', 'north ').str.replace(\"town 'n' country\", 'town north country')\n",
        "df['city'] = df['city'].str.replace('nyork', 'new york').str.replace('nyc', 'new york')\n",
        "df['city'] = df['city'].str.replace('bed-stuy', 'brooklyn').str.replace('collegepoint', 'college point')\n",
        "df['city'] = df['city'].str.replace('othvalue [ a-z]*', 'othvalue')"
      ],
      "execution_count": 1078,
      "outputs": []
    },
    {
      "cell_type": "code",
      "metadata": {
        "id": "127ZGrVM_PHv"
      },
      "source": [
        "df['city'] = df['city'].apply(lambda x: \" \".join(str(x).split()))"
      ],
      "execution_count": 1079,
      "outputs": []
    },
    {
      "cell_type": "code",
      "metadata": {
        "colab": {
          "base_uri": "https://localhost:8080/"
        },
        "id": "Zjiaw16guWeV",
        "outputId": "87cd4dad-f33c-49f7-d09e-4c0117fb7290"
      },
      "source": [
        "df['city'].value_counts()"
      ],
      "execution_count": 1080,
      "outputs": [
        {
          "output_type": "execute_result",
          "data": {
            "text/plain": [
              "san antonio       30033\n",
              "houston           24442\n",
              "miami             15528\n",
              "jacksonville      10032\n",
              "dallas             8858\n",
              "                  ...  \n",
              "manvel                1\n",
              "bow mar               1\n",
              "mabank                1\n",
              "la tuna canyon        1\n",
              "celoron               1\n",
              "Name: city, Length: 1785, dtype: int64"
            ]
          },
          "metadata": {
            "tags": []
          },
          "execution_count": 1080
        }
      ]
    },
    {
      "cell_type": "markdown",
      "metadata": {
        "id": "T7pcOLqTWbxg"
      },
      "source": [
        "sqft"
      ]
    },
    {
      "cell_type": "code",
      "metadata": {
        "colab": {
          "base_uri": "https://localhost:8080/"
        },
        "id": "RER3b6qMWJMn",
        "outputId": "39488adb-6479-4162-b6e5-bdf35b65f417"
      },
      "source": [
        "df['sqft'].value_counts()"
      ],
      "execution_count": 1081,
      "outputs": [
        {
          "output_type": "execute_result",
          "data": {
            "text/plain": [
              "0                                          11854\n",
              "1,200 sqft                                   839\n",
              "1,000 sqft                                   654\n",
              "1,100 sqft                                   573\n",
              "1,800 sqft                                   563\n",
              "                                           ...  \n",
              "4542                                           1\n",
              "Total interior livable area: 5,789 sqft        1\n",
              "6,650                                          1\n",
              "8,968 sqft                                     1\n",
              "8800                                           1\n",
              "Name: sqft, Length: 25405, dtype: int64"
            ]
          },
          "metadata": {
            "tags": []
          },
          "execution_count": 1081
        }
      ]
    },
    {
      "cell_type": "code",
      "metadata": {
        "id": "GP4EeNuxWd-v"
      },
      "source": [
        "df['sqft'] = df['sqft'].apply(lambda x: None if x is np.nan else x)"
      ],
      "execution_count": 1082,
      "outputs": []
    },
    {
      "cell_type": "code",
      "metadata": {
        "id": "GDNi00qLYEs9"
      },
      "source": [
        "df['sqft'] = df['sqft'].str.replace('[a-z ]*: ', '')\n",
        "df['sqft'] = df['sqft'].str.replace('-','').str.replace('[A-Za-z]+','').str.replace(',','')"
      ],
      "execution_count": 1083,
      "outputs": []
    },
    {
      "cell_type": "code",
      "metadata": {
        "id": "MgP1MPahpfUc"
      },
      "source": [
        "df['sqft'] = df['sqft'].str.strip().apply(lambda x: None if x is None else \n",
        "                                          None if x == '' else int(x))"
      ],
      "execution_count": 1084,
      "outputs": []
    },
    {
      "cell_type": "code",
      "metadata": {
        "colab": {
          "base_uri": "https://localhost:8080/"
        },
        "id": "NsuUp4aIXmZe",
        "outputId": "e985a0bf-e605-44dc-81e1-227e28e56dd6"
      },
      "source": [
        "df['sqft'].value_counts()"
      ],
      "execution_count": 1085,
      "outputs": [
        {
          "output_type": "execute_result",
          "data": {
            "text/plain": [
              "0.0         11854\n",
              "1200.0       1426\n",
              "1000.0       1027\n",
              "1500.0       1014\n",
              "1800.0        988\n",
              "            ...  \n",
              "8966.0          1\n",
              "11089.0         1\n",
              "123275.0        1\n",
              "44351.0         1\n",
              "32767.0         1\n",
              "Name: sqft, Length: 9897, dtype: int64"
            ]
          },
          "metadata": {
            "tags": []
          },
          "execution_count": 1085
        }
      ]
    },
    {
      "cell_type": "markdown",
      "metadata": {
        "id": "QGaLQyherF6A"
      },
      "source": [
        "zipcode"
      ]
    },
    {
      "cell_type": "code",
      "metadata": {
        "colab": {
          "base_uri": "https://localhost:8080/"
        },
        "id": "ebx3JkAsrA8G",
        "outputId": "5addfc48-012a-4998-84df-4605a73feea1"
      },
      "source": [
        "df['zipcode'].value_counts()"
      ],
      "execution_count": 1086,
      "outputs": [
        {
          "output_type": "execute_result",
          "data": {
            "text/plain": [
              "32137         2141\n",
              "33131         1563\n",
              "34747         1488\n",
              "78245         1390\n",
              "34759         1333\n",
              "              ... \n",
              "91763            1\n",
              "27703-7978       1\n",
              "79401            1\n",
              "41759            1\n",
              "77369            1\n",
              "Name: zipcode, Length: 4549, dtype: int64"
            ]
          },
          "metadata": {
            "tags": []
          },
          "execution_count": 1086
        }
      ]
    },
    {
      "cell_type": "code",
      "metadata": {
        "id": "S2ogd09Sx6ar"
      },
      "source": [
        "df['zipcode'] = df['zipcode'].str.replace('\\-[0-9]*', '').apply(lambda x: None if x is None else None if x == '' else int(x))"
      ],
      "execution_count": 1087,
      "outputs": []
    },
    {
      "cell_type": "markdown",
      "metadata": {
        "id": "tUy9qm4JywQ8"
      },
      "source": [
        "beds"
      ]
    },
    {
      "cell_type": "code",
      "metadata": {
        "id": "wvpHVzR-xYi7"
      },
      "source": [
        "df['beds'] = df['beds'].apply(lambda x: None if x is np.nan else x).str.lower()"
      ],
      "execution_count": 1088,
      "outputs": []
    },
    {
      "cell_type": "code",
      "metadata": {
        "colab": {
          "base_uri": "https://localhost:8080/"
        },
        "id": "BwACF0KWzBvB",
        "outputId": "a06b96c7-2b37-4fa8-f473-f922ca62e433"
      },
      "source": [
        "df['beds'].value_counts(dropna=False)"
      ],
      "execution_count": 1089,
      "outputs": [
        {
          "output_type": "execute_result",
          "data": {
            "text/plain": [
              "NaN           91282\n",
              "3 beds        53459\n",
              "4 beds        35418\n",
              "3             31406\n",
              "2 beds        26362\n",
              "              ...  \n",
              "3,120 sqft        1\n",
              "5.43 acres        1\n",
              "7,352 sqft        1\n",
              "7 acres           1\n",
              "6,377 sqft        1\n",
              "Name: beds, Length: 1185, dtype: int64"
            ]
          },
          "metadata": {
            "tags": []
          },
          "execution_count": 1089
        }
      ]
    },
    {
      "cell_type": "code",
      "metadata": {
        "id": "2iO9cAP-zPl6"
      },
      "source": [
        "index_sqft = df.loc[(df['sqft'].isna()) & (df['beds'].str.contains('sqft')), ['sqft','beds']].index\n",
        "new_sqft = df.loc[(df['sqft'].isna()) & (df['beds'].str.contains('sqft')), ['sqft','beds']]\n",
        "new_sqft['sqft'] = new_sqft['beds'].str.strip().str.replace(',', '.').str.findall('[0-9]+\\.*[0-9]*').apply(lambda x: None if len(x) == 0 else x[0]).astype(float)\n",
        "\n",
        "df.loc[(df['sqft'].isna()) & (df['beds'].str.contains('sqft')), 'sqft'] = new_sqft['sqft']\n",
        "df.loc[(df['beds'].isna()==False) & (df['beds'].str.contains('sqft')), 'beds'] = None"
      ],
      "execution_count": 1090,
      "outputs": []
    },
    {
      "cell_type": "code",
      "metadata": {
        "id": "DNruJWw8z5z7"
      },
      "source": [
        "index_sqft = df.loc[(df['sqft'].isna()) & (df['beds'].str.contains('acre')), ['sqft','beds']].index\n",
        "new_sqft = df.loc[(df['sqft'].isna()) & (df['beds'].str.contains('acre')), ['sqft','beds']]\n",
        "new_sqft['sqft'] = new_sqft['beds'].str.strip().str.replace(',', '.').str.findall('[0-9]+\\.*[0-9]*').apply(lambda x: None if len(x) == 0 else x[0]).astype(float)\n",
        "new_sqft['sqft'] = (new_sqft['sqft'] * 43560).astype(int)\n",
        "\n",
        "df.loc[(df['sqft'].isna()) & (df['beds'].str.contains('acre')), 'sqft'] = new_sqft['sqft']\n",
        "df.loc[(df['beds'].isna()==False) & (df['beds'].str.contains('acre')), 'beds'] = None"
      ],
      "execution_count": 1091,
      "outputs": []
    },
    {
      "cell_type": "code",
      "metadata": {
        "id": "ce4-zy-Zfl0d"
      },
      "source": [
        "df['beds'] = df['beds'].str.replace('bedrooms', 'beds').str.replace('bd', 'beds')"
      ],
      "execution_count": 1092,
      "outputs": []
    },
    {
      "cell_type": "code",
      "metadata": {
        "id": "Pq61g_IU0YZk"
      },
      "source": [
        "df.loc[(df['beds'].isna()==False) & (df['beds'].str.strip().str.contains('^[a-z,\\-%@#_:;~ ]+$')), 'beds'] = None"
      ],
      "execution_count": 1093,
      "outputs": []
    },
    {
      "cell_type": "code",
      "metadata": {
        "colab": {
          "base_uri": "https://localhost:8080/"
        },
        "id": "kfjeW_UVcLQm",
        "outputId": "96a37c6d-b0bc-405b-f4c9-0bc7c6193fb1"
      },
      "source": [
        "df['beds'].value_counts(dropna=False)[:20]"
      ],
      "execution_count": 1094,
      "outputs": [
        {
          "output_type": "execute_result",
          "data": {
            "text/plain": [
              "NaN       111390\n",
              "3 beds     66336\n",
              "4 beds     43683\n",
              "2 beds     31605\n",
              "3          31406\n",
              "4          20030\n",
              "2          16110\n",
              "5 beds     13904\n",
              "3.0         8088\n",
              "5           6424\n",
              "4.0         5231\n",
              "1           4610\n",
              "6 beds      4466\n",
              "2.0         2430\n",
              "6           1806\n",
              "5.0         1372\n",
              "7 beds      1247\n",
              "0           1230\n",
              "1 beds      1081\n",
              "8 beds       856\n",
              "Name: beds, dtype: int64"
            ]
          },
          "metadata": {
            "tags": []
          },
          "execution_count": 1094
        }
      ]
    },
    {
      "cell_type": "code",
      "metadata": {
        "colab": {
          "base_uri": "https://localhost:8080/"
        },
        "id": "2kdMd2lk1deC",
        "outputId": "267844cb-e650-403a-939c-f7603eea1e99"
      },
      "source": [
        "new_bath = df.loc[(df['baths_new'].isna()) & (df['beds'].str.contains('bath')), 'beds'].str.findall('[0-9a-z ]+ bath').apply(lambda x: x[0].split()[0]).astype(float)\n",
        "df.loc[new_bath.index, 'baths_new'] = new_bath\n",
        "df.loc[new_bath.index, 'baths_new']"
      ],
      "execution_count": 1095,
      "outputs": [
        {
          "output_type": "execute_result",
          "data": {
            "text/plain": [
              "18787     1.0\n",
              "124819    1.0\n",
              "172605    1.0\n",
              "238222    1.0\n",
              "279149    2.0\n",
              "325249    1.0\n",
              "Name: baths_new, dtype: float64"
            ]
          },
          "metadata": {
            "tags": []
          },
          "execution_count": 1095
        }
      ]
    },
    {
      "cell_type": "code",
      "metadata": {
        "colab": {
          "base_uri": "https://localhost:8080/"
        },
        "id": "eWo-mftActlm",
        "outputId": "d048fdfe-92cb-4c86-8979-bec8de00aee8"
      },
      "source": [
        "new_beds = pd.concat([(df.loc[(df['beds'].isna()==False) & (df['beds'].str.strip().str.contains('[0-9 a-z]+bed[a-z]*,')), 'beds']),\n",
        "                      df.loc[(df['beds'].isna()==False) & (df['beds'].str.strip().str.contains(',[0-9 a-z]+bed[a-z]*')), 'beds']\n",
        "                      ],\n",
        "                     ).reset_index()\n",
        "new_beds = new_beds.drop_duplicates().set_index('index')\n",
        "new_beds['beds'] = new_beds['beds'].str.replace('or more ', '').str.findall('[0-9 ]+bed').apply(lambda x: x[0].split()[0]).astype(float)\n",
        "\n",
        "df.loc[new_beds.index, 'beds'] = new_beds['beds']\n",
        "df.loc[new_beds.index, 'beds']"
      ],
      "execution_count": 1096,
      "outputs": [
        {
          "output_type": "execute_result",
          "data": {
            "text/plain": [
              "index\n",
              "18787     2\n",
              "172605    2\n",
              "200331    3\n",
              "238222    3\n",
              "325249    2\n",
              "124819    2\n",
              "279149    3\n",
              "Name: beds, dtype: object"
            ]
          },
          "metadata": {
            "tags": []
          },
          "execution_count": 1096
        }
      ]
    },
    {
      "cell_type": "code",
      "metadata": {
        "colab": {
          "base_uri": "https://localhost:8080/"
        },
        "id": "aRH-Z607JfVy",
        "outputId": "2fd17033-269d-4e36-e28d-917de26049c1"
      },
      "source": [
        "punct = '!@#_,:;&'\n",
        "df.loc[(df['beds'].isna()==False) & (df['beds'].str.contains('[{}]'.format(punct))), 'beds'] = None\n",
        "punct = '\\-'\n",
        "new_beds = df.loc[(df['beds'].isna()==False) & (df['beds'].str.contains('[{}]'.format(punct))), 'beds'].str.findall('[0-9]+').apply(lambda x: x[-1]).astype(float)\n",
        "df.loc[new_beds.index, 'beds'] = new_beds\n",
        "df.loc[new_beds.index, 'beds']"
      ],
      "execution_count": 1097,
      "outputs": [
        {
          "output_type": "execute_result",
          "data": {
            "text/plain": [
              "330468    2\n",
              "Name: beds, dtype: object"
            ]
          },
          "metadata": {
            "tags": []
          },
          "execution_count": 1097
        }
      ]
    },
    {
      "cell_type": "code",
      "metadata": {
        "id": "zgBvOZk4Gh8s"
      },
      "source": [
        "df['beds'] = df['beds'].str.replace('or more ', '')\n",
        "df['beds'] = df['beds'].str.replace('beds','').str.strip().apply(lambda x: None if x is None else\n",
        "                                                                 None if x == '' else x).astype(float)"
      ],
      "execution_count": 1098,
      "outputs": []
    },
    {
      "cell_type": "markdown",
      "metadata": {
        "id": "JwsNx8q4Ph1M"
      },
      "source": [
        "state"
      ]
    },
    {
      "cell_type": "code",
      "metadata": {
        "colab": {
          "base_uri": "https://localhost:8080/"
        },
        "id": "eXqI6_T-NP66",
        "outputId": "51cb0b57-4c8e-4c68-ddbc-0f8dc5de9329"
      },
      "source": [
        "df['state'].value_counts(dropna=False)[-20:]"
      ],
      "execution_count": 1099,
      "outputs": [
        {
          "output_type": "execute_result",
          "data": {
            "text/plain": [
              "UT    1325\n",
              "MD    1090\n",
              "VT     868\n",
              "MO     866\n",
              "VA     801\n",
              "WI     452\n",
              "NJ     436\n",
              "ME     259\n",
              "IA     242\n",
              "KY      90\n",
              "OK      49\n",
              "MS      40\n",
              "SC      28\n",
              "MT       7\n",
              "DE       5\n",
              "OS       1\n",
              "OT       1\n",
              "AL       1\n",
              "Fl       1\n",
              "BA       1\n",
              "Name: state, dtype: int64"
            ]
          },
          "metadata": {
            "tags": []
          },
          "execution_count": 1099
        }
      ]
    },
    {
      "cell_type": "markdown",
      "metadata": {
        "id": "zFf8WBnrPr_e"
      },
      "source": [
        "stories"
      ]
    },
    {
      "cell_type": "code",
      "metadata": {
        "colab": {
          "base_uri": "https://localhost:8080/"
        },
        "id": "eSiNvWsVPkzx",
        "outputId": "a3c1c386-7a1b-4c76-829c-850ec7b55bd5"
      },
      "source": [
        "df['stories_dop'] = df['stories_dop'].apply(lambda x: None if x is None else x.split()[0]).astype(float)\n",
        "df['stories_dop'].value_counts()"
      ],
      "execution_count": 1100,
      "outputs": [
        {
          "output_type": "execute_result",
          "data": {
            "text/plain": [
              "1.0    4440\n",
              "2.0    3024\n",
              "3.0     140\n",
              "8.0      38\n",
              "7.0      15\n",
              "5.0       1\n",
              "Name: stories_dop, dtype: int64"
            ]
          },
          "metadata": {
            "tags": []
          },
          "execution_count": 1100
        }
      ]
    },
    {
      "cell_type": "code",
      "metadata": {
        "colab": {
          "base_uri": "https://localhost:8080/"
        },
        "id": "gLytSAWDP4gg",
        "outputId": "7e90da4d-759b-49e0-9a4d-1d8e47d1aac0"
      },
      "source": [
        "df['stories'] = df['stories'].str.lower()\n",
        "df['stories'].value_counts(dropna=False)\n",
        "\n",
        "# много пустых значений, не знаю, обрабатывать ли их"
      ],
      "execution_count": 1101,
      "outputs": [
        {
          "output_type": "execute_result",
          "data": {
            "text/plain": [
              "NaN                                           150715\n",
              "1.0                                            67454\n",
              "2.0                                            55283\n",
              "1                                              23086\n",
              "2                                              18146\n",
              "                                               ...  \n",
              "2 story, multi level                               1\n",
              "1 level, 1.5 level                                 1\n",
              "townhouse-2 story, t3-townhouse 3+ stories         1\n",
              "1.2                                                1\n",
              "apartments                                         1\n",
              "Name: stories, Length: 349, dtype: int64"
            ]
          },
          "metadata": {
            "tags": []
          },
          "execution_count": 1101
        }
      ]
    },
    {
      "cell_type": "code",
      "metadata": {
        "id": "nFpTZ8ShSWtH"
      },
      "source": [
        "# punct = '!|/_\\-:;'\n",
        "# df.loc[(df['stories'].isna()==False) & (df['stories'].str.contains('[{}]'.format(punct))), 'stories'].value_counts()\n",
        "# df.loc[(df['stories'].isna()==False) & (df['stories'].str.contains('[0-9 ]/[0-9 ]')), 'stories'].value_counts()\n",
        "# df.loc[(df['stories'].isna()==False) & (df['stories'].str.contains('half')), 'stories'].value_counts()\n",
        "# df.loc[(df['stories'].isna()==False) & (df['stories'].str.contains('multi')), 'stories'].value_counts()\n"
      ],
      "execution_count": 1102,
      "outputs": []
    },
    {
      "cell_type": "markdown",
      "metadata": {
        "id": "poldPvKAo53Z"
      },
      "source": [
        "MlsId"
      ]
    },
    {
      "cell_type": "code",
      "metadata": {
        "id": "mfQfEG2-S23g"
      },
      "source": [
        "df = df.drop('MlsId', axis=1)"
      ],
      "execution_count": 1103,
      "outputs": []
    },
    {
      "cell_type": "markdown",
      "metadata": {
        "id": "pjTtXvHrw8d8"
      },
      "source": [
        "homeFacts"
      ]
    },
    {
      "cell_type": "code",
      "metadata": {
        "id": "YgIQbmEow96n"
      },
      "source": [
        "df['homeFacts'] = df['homeFacts'].apply(lambda x: eval(x))"
      ],
      "execution_count": 1104,
      "outputs": []
    },
    {
      "cell_type": "code",
      "metadata": {
        "id": "CAmvgZMGzmuy"
      },
      "source": [
        "df['homeFacts_new'] = df['homeFacts'].apply(lambda x: list(x.values())[0])"
      ],
      "execution_count": 1105,
      "outputs": []
    },
    {
      "cell_type": "code",
      "metadata": {
        "id": "FYgPExig5f6_"
      },
      "source": [
        "list_columns = ['Year built', 'Remodeled year', 'Heating', 'Cooling', 'Parking', 'lotsize', 'Price/sqft']\n",
        "\n",
        "for column in enumerate(list_columns):\n",
        "  df[column[1]] = None\n",
        "  df[column[1]] = df['homeFacts_new'].apply(lambda x: None if x[column[0]].get('factValue') == '' else  x[column[0]].get('factValue'))"
      ],
      "execution_count": 1106,
      "outputs": []
    },
    {
      "cell_type": "markdown",
      "metadata": {
        "id": "rGfddbo3WybK"
      },
      "source": [
        "Year built"
      ]
    },
    {
      "cell_type": "code",
      "metadata": {
        "colab": {
          "base_uri": "https://localhost:8080/"
        },
        "id": "hyqY1vbGW0rA",
        "outputId": "e5cd1636-1c77-493e-d1a3-d3669a976fb6"
      },
      "source": [
        "df['Year built'].value_counts(dropna=False)"
      ],
      "execution_count": 1107,
      "outputs": [
        {
          "output_type": "execute_result",
          "data": {
            "text/plain": [
              "NaN     62374\n",
              "2019    32171\n",
              "2006     8008\n",
              "2005     7503\n",
              "2007     7152\n",
              "        ...  \n",
              "1788        1\n",
              "1780        1\n",
              "1805        1\n",
              "1808        1\n",
              "1060        1\n",
              "Name: Year built, Length: 230, dtype: int64"
            ]
          },
          "metadata": {
            "tags": []
          },
          "execution_count": 1107
        }
      ]
    },
    {
      "cell_type": "code",
      "metadata": {
        "id": "-w-EQyn0W8U3"
      },
      "source": [
        "df['Year built'] = df['Year built'].apply(lambda x: None if x is None else\n",
        "                                          None if 'No' in x else int(x))"
      ],
      "execution_count": 1108,
      "outputs": []
    },
    {
      "cell_type": "code",
      "metadata": {
        "colab": {
          "base_uri": "https://localhost:8080/"
        },
        "id": "BbaaJe9LYJsz",
        "outputId": "40015435-3b72-4471-cffd-f51b73473dd9"
      },
      "source": [
        "df['Year built'].value_counts(dropna=False)"
      ],
      "execution_count": 1109,
      "outputs": [
        {
          "output_type": "execute_result",
          "data": {
            "text/plain": [
              "NaN       63596\n",
              "2019.0    32171\n",
              "2006.0     8008\n",
              "2005.0     7503\n",
              "2007.0     7152\n",
              "          ...  \n",
              "1805.0        1\n",
              "1807.0        1\n",
              "1808.0        1\n",
              "1809.0        1\n",
              "1019.0        1\n",
              "Name: Year built, Length: 229, dtype: int64"
            ]
          },
          "metadata": {
            "tags": []
          },
          "execution_count": 1109
        }
      ]
    },
    {
      "cell_type": "markdown",
      "metadata": {
        "id": "KPJobTwLXyA4"
      },
      "source": [
        "Remodeled year"
      ]
    },
    {
      "cell_type": "code",
      "metadata": {
        "colab": {
          "base_uri": "https://localhost:8080/"
        },
        "id": "OT1jC79bX0kE",
        "outputId": "6570e853-537b-4029-e347-4c219a7eba4c"
      },
      "source": [
        "df['Remodeled year'].value_counts(dropna=False)\n",
        "\n",
        "# Слишком много пропусков, удалим потом столбец"
      ],
      "execution_count": 1110,
      "outputs": [
        {
          "output_type": "execute_result",
          "data": {
            "text/plain": [
              "NaN     226110\n",
              "2006      5538\n",
              "2005      4817\n",
              "2007      4387\n",
              "2008      3796\n",
              "         ...  \n",
              "1846         1\n",
              "1853         1\n",
              "1111         1\n",
              "1800         1\n",
              "1862         1\n",
              "Name: Remodeled year, Length: 154, dtype: int64"
            ]
          },
          "metadata": {
            "tags": []
          },
          "execution_count": 1110
        }
      ]
    },
    {
      "cell_type": "markdown",
      "metadata": {
        "id": "bmoNgA0WYBEF"
      },
      "source": [
        "Heating"
      ]
    },
    {
      "cell_type": "code",
      "metadata": {
        "colab": {
          "base_uri": "https://localhost:8080/"
        },
        "id": "itw_ArrnYbsW",
        "outputId": "3a3f3762-862c-4228-92b8-86253bb4e31b"
      },
      "source": [
        "df['Heating'].value_counts(dropna=False)[:10]\n",
        "\n",
        "# Слишком много пропусков и непоказательных данных, удалим потом столбец"
      ],
      "execution_count": 1111,
      "outputs": [
        {
          "output_type": "execute_result",
          "data": {
            "text/plain": [
              "NaN                 109332\n",
              "Forced Air           82807\n",
              "Forced air           51506\n",
              "Other                29623\n",
              "Electric             10211\n",
              "Gas                   9296\n",
              "No Data               8611\n",
              "Central Air           7814\n",
              "Central Electric      7112\n",
              "Central               6247\n",
              "Name: Heating, dtype: int64"
            ]
          },
          "metadata": {
            "tags": []
          },
          "execution_count": 1111
        }
      ]
    },
    {
      "cell_type": "markdown",
      "metadata": {
        "id": "zXExzL_sYz0S"
      },
      "source": [
        "Cooling"
      ]
    },
    {
      "cell_type": "code",
      "metadata": {
        "colab": {
          "base_uri": "https://localhost:8080/"
        },
        "id": "S6jLqyULY2df",
        "outputId": "62d1b642-6839-4b1c-a5d8-0b900c495534"
      },
      "source": [
        "df['Cooling'].value_counts(dropna=False)\n",
        "\n",
        "# Слишком много пропусков и непоказательных данных, удалим потом столбец"
      ],
      "execution_count": 1112,
      "outputs": [
        {
          "output_type": "execute_result",
          "data": {
            "text/plain": [
              "Central                                                                      158754\n",
              "NaN                                                                          123967\n",
              "Central Air                                                                   14384\n",
              "No Data                                                                       10616\n",
              "Has Cooling                                                                    9730\n",
              "                                                                              ...  \n",
              "Central, Evaporative, Solar                                                       1\n",
              "Heat Pump for A/C, Natural Gas                                                    1\n",
              "Baseboard, Propane, Radiant                                                       1\n",
              "Evaporative, Solar, Refrigeration                                                 1\n",
              "Central A/C, Programmable Thermostat Cooling, Zoned Cooling, Dehumidifier         1\n",
              "Name: Cooling, Length: 1445, dtype: int64"
            ]
          },
          "metadata": {
            "tags": []
          },
          "execution_count": 1112
        }
      ]
    },
    {
      "cell_type": "markdown",
      "metadata": {
        "id": "LyHFZsVjZ1Lz"
      },
      "source": [
        "Parking"
      ]
    },
    {
      "cell_type": "code",
      "metadata": {
        "colab": {
          "base_uri": "https://localhost:8080/"
        },
        "id": "TFUQ7Ke-Z5ln",
        "outputId": "5a5cb09a-d095-4d7d-e80c-a8bb14f7eb57"
      },
      "source": [
        "df['Parking'].value_counts(dropna=False)[:10]\n",
        "\n",
        "# Слишком много пропусков и непоказательных данных, удалим потом столбец"
      ],
      "execution_count": 1113,
      "outputs": [
        {
          "output_type": "execute_result",
          "data": {
            "text/plain": [
              "NaN                         175420\n",
              "Attached Garage              70752\n",
              "2 spaces                     28063\n",
              "1 space                      14252\n",
              "No Data                      13334\n",
              "Detached Garage              13201\n",
              "Carport                       7743\n",
              "3 spaces                      4724\n",
              "Off Street                    3622\n",
              "Carport, Attached Garage      3025\n",
              "Name: Parking, dtype: int64"
            ]
          },
          "metadata": {
            "tags": []
          },
          "execution_count": 1113
        }
      ]
    },
    {
      "cell_type": "markdown",
      "metadata": {
        "id": "6dRCkB31aHLg"
      },
      "source": [
        "lotsize sqft"
      ]
    },
    {
      "cell_type": "code",
      "metadata": {
        "colab": {
          "base_uri": "https://localhost:8080/",
          "height": 204
        },
        "id": "drAc8prEaIJn",
        "outputId": "d26f7861-84bb-4ebd-eabf-14345d7a9e0b"
      },
      "source": [
        "df[['lotsize', 'sqft']].sample(5)"
      ],
      "execution_count": 1114,
      "outputs": [
        {
          "output_type": "execute_result",
          "data": {
            "text/html": [
              "<div>\n",
              "<style scoped>\n",
              "    .dataframe tbody tr th:only-of-type {\n",
              "        vertical-align: middle;\n",
              "    }\n",
              "\n",
              "    .dataframe tbody tr th {\n",
              "        vertical-align: top;\n",
              "    }\n",
              "\n",
              "    .dataframe thead th {\n",
              "        text-align: right;\n",
              "    }\n",
              "</style>\n",
              "<table border=\"1\" class=\"dataframe\">\n",
              "  <thead>\n",
              "    <tr style=\"text-align: right;\">\n",
              "      <th></th>\n",
              "      <th>lotsize</th>\n",
              "      <th>sqft</th>\n",
              "    </tr>\n",
              "  </thead>\n",
              "  <tbody>\n",
              "    <tr>\n",
              "      <th>69869</th>\n",
              "      <td>0.26 acres</td>\n",
              "      <td>2854.0</td>\n",
              "    </tr>\n",
              "    <tr>\n",
              "      <th>125599</th>\n",
              "      <td>None</td>\n",
              "      <td>922.0</td>\n",
              "    </tr>\n",
              "    <tr>\n",
              "      <th>22629</th>\n",
              "      <td>10,454 sqft lot</td>\n",
              "      <td>NaN</td>\n",
              "    </tr>\n",
              "    <tr>\n",
              "      <th>127186</th>\n",
              "      <td>6,055 Sq. Ft.</td>\n",
              "      <td>2711.0</td>\n",
              "    </tr>\n",
              "    <tr>\n",
              "      <th>173659</th>\n",
              "      <td>6,031 sqft</td>\n",
              "      <td>1322.0</td>\n",
              "    </tr>\n",
              "  </tbody>\n",
              "</table>\n",
              "</div>"
            ],
            "text/plain": [
              "                lotsize    sqft\n",
              "69869        0.26 acres  2854.0\n",
              "125599             None   922.0\n",
              "22629   10,454 sqft lot     NaN\n",
              "127186    6,055 Sq. Ft.  2711.0\n",
              "173659       6,031 sqft  1322.0"
            ]
          },
          "metadata": {
            "tags": []
          },
          "execution_count": 1114
        }
      ]
    },
    {
      "cell_type": "code",
      "metadata": {
        "id": "I9Cl84xiA0d7"
      },
      "source": [
        "df['lotsize'] = df['lotsize'].str.lower().str.replace(r'[\\-,—]', '').str.strip().apply(lambda x: None if x is None else\n",
        "                                                                                      None if 'no' in x else\n",
        "                                                                                      None if x == '' else x)"
      ],
      "execution_count": 1115,
      "outputs": []
    },
    {
      "cell_type": "code",
      "metadata": {
        "id": "k7gRKmIqbaKo"
      },
      "source": [
        "# Заполним те значения признака sqft которые пустые из признака lotsize\n",
        "\n",
        "# acres\n",
        "new_lot_size = df.loc[(df['sqft'].isna()) & (df['lotsize'].isna()==False) & (df['lotsize'].str.contains('sq'))]['lotsize']\n",
        "new_lot_size = new_lot_size.str.lower().str.replace(r'[a-z \\.]', '').str.strip()\n",
        "new_lot_size = new_lot_size.apply(lambda x: None if x is None else \n",
        "                                  None if x is np.nan else\n",
        "                                  None if x == '' else int(float(x)))\n",
        "df.loc[new_lot_size.index, 'sqft'] = new_lot_size\n",
        "\n",
        "# acres\n",
        "new_lot_size = df.loc[(df['sqft'].isna()) & (df['lotsize'].isna()==False) & (df['lotsize'].str.contains('acre'))]['lotsize']\n",
        "new_lot_size = new_lot_size.str.lower().str.replace('[a-z ]', '').str.strip()\n",
        "new_lot_size = new_lot_size.apply(lambda x: None if x is None else float(x) * 43560).astype(int)\n",
        "df.loc[new_lot_size.index, 'sqft'] = new_lot_size\n",
        "\n",
        "# Другие!"
      ],
      "execution_count": 1116,
      "outputs": []
    },
    {
      "cell_type": "code",
      "metadata": {
        "colab": {
          "base_uri": "https://localhost:8080/"
        },
        "id": "Oc0YXT4xADlA",
        "outputId": "8cedd770-f26a-4263-b8b8-deecff7bd19d"
      },
      "source": [
        "df['sqft'].isna().sum()"
      ],
      "execution_count": 1117,
      "outputs": [
        {
          "output_type": "execute_result",
          "data": {
            "text/plain": [
              "11890"
            ]
          },
          "metadata": {
            "tags": []
          },
          "execution_count": 1117
        }
      ]
    },
    {
      "cell_type": "markdown",
      "metadata": {
        "id": "IQpRDrrzF19-"
      },
      "source": [
        "Price/sqft"
      ]
    },
    {
      "cell_type": "code",
      "metadata": {
        "colab": {
          "base_uri": "https://localhost:8080/"
        },
        "id": "z4cyDzjnF3CJ",
        "outputId": "5abad3c8-71f5-4d9b-ad6e-c0be49d15cc1"
      },
      "source": [
        "df['Price/sqft'].sample(10)"
      ],
      "execution_count": 1118,
      "outputs": [
        {
          "output_type": "execute_result",
          "data": {
            "text/plain": [
              "312783          $77/sqft\n",
              "282679              $359\n",
              "36917     $188 / Sq. Ft.\n",
              "57377               $384\n",
              "361158    $833 / Sq. Ft.\n",
              "56024          $311/sqft\n",
              "53140          $253/sqft\n",
              "31003               $291\n",
              "363684              None\n",
              "87489          $230/sqft\n",
              "Name: Price/sqft, dtype: object"
            ]
          },
          "metadata": {
            "tags": []
          },
          "execution_count": 1118
        }
      ]
    },
    {
      "cell_type": "code",
      "metadata": {
        "id": "iA25_OCnGccm"
      },
      "source": [
        "df['Price/sqft'] = df['Price/sqft'].str.lower().str.replace(r'[,/$a-z\\. ]', '').str.strip().apply(lambda x: None if x is None else\n",
        "                                                                                      None if x == '' else int(x))"
      ],
      "execution_count": 1119,
      "outputs": []
    },
    {
      "cell_type": "markdown",
      "metadata": {
        "id": "_7ZOy6-K8q2j"
      },
      "source": [
        "schools"
      ]
    },
    {
      "cell_type": "code",
      "metadata": {
        "id": "5OB1V2m_Ei4T"
      },
      "source": [
        "df['schools'] = df['schools'].apply(lambda x: eval(x)[0])"
      ],
      "execution_count": 1120,
      "outputs": []
    },
    {
      "cell_type": "code",
      "metadata": {
        "id": "75m0QOHg83So"
      },
      "source": [
        "list_keys = ['data', 'name', 'rating']\n",
        "# name не будем брать\n",
        "\n",
        "list_columns = ['Distance', 'Grades', 'rating']\n",
        "# Grades не будем брать слишком запутано\n",
        "\n",
        "df['Distance'] = df['schools'].apply(lambda x: None if x.get('data').get('Distance') is None else x.get('data').get('Distance'))\n",
        "df['rating'] = df['schools'].apply(lambda x: None if x.get('rating') is None else x.get('rating'))"
      ],
      "execution_count": 1121,
      "outputs": []
    },
    {
      "cell_type": "code",
      "metadata": {
        "id": "Y1LcCu6kPZgM"
      },
      "source": [
        "df['Distance'] = df['Distance'].apply(lambda x: [float(y.replace('mi', '').strip()) for y in x])"
      ],
      "execution_count": 1122,
      "outputs": []
    },
    {
      "cell_type": "code",
      "metadata": {
        "id": "MlMI9VAgnoUP"
      },
      "source": [
        "df['Distance'] = df['Distance'].apply(lambda x: list(filter(None, x)))"
      ],
      "execution_count": 1123,
      "outputs": []
    },
    {
      "cell_type": "code",
      "metadata": {
        "colab": {
          "base_uri": "https://localhost:8080/"
        },
        "id": "pMOzk5DzoiQc",
        "outputId": "b3856e6a-2cef-41df-eb03-ae120ca2bcd4"
      },
      "source": [
        "df['Distance'].sample(10)"
      ],
      "execution_count": 1124,
      "outputs": [
        {
          "output_type": "execute_result",
          "data": {
            "text/plain": [
              "195568                           [2.48, 2.8, 6.43]\n",
              "76841                                  [0.67, 0.1]\n",
              "158665                   [0.8, 1.6, 2.8, 1.8, 3.8]\n",
              "208146              [0.7, 1.4, 1.3, 0.4, 1.5, 3.0]\n",
              "284968    [0.5, 2.1, 3.1, 2.2, 2.3, 2.4, 1.2, 1.6]\n",
              "243215                                 [2.45, 0.8]\n",
              "23482                                  [0.5, 1.48]\n",
              "98791              [13.46, 2.21, 2.58, 1.48, 8.29]\n",
              "229279                                [0.15, 0.31]\n",
              "138972                          [0.88, 1.91, 0.34]\n",
              "Name: Distance, dtype: object"
            ]
          },
          "metadata": {
            "tags": []
          },
          "execution_count": 1124
        }
      ]
    },
    {
      "cell_type": "code",
      "metadata": {
        "id": "SbZpxHY6QJNw"
      },
      "source": [
        "df['rating'] = df['rating'].apply(lambda x: [None if \"NR\" in str(y) else\n",
        "                                             None if \"None\" in str(y) else\n",
        "                                             None if \"NA\" in str(y) else\n",
        "                                             None if str(y) == '' else\n",
        "                                             int(str(y).split('/')[0]) if \"/\" in str(y) else\n",
        "                                             int(y) for y in x])"
      ],
      "execution_count": 1125,
      "outputs": []
    },
    {
      "cell_type": "code",
      "metadata": {
        "id": "DiFUEr3FnpoN"
      },
      "source": [
        "df['rating'] = df['rating'].apply(lambda x: list(filter(None, x)))"
      ],
      "execution_count": 1126,
      "outputs": []
    },
    {
      "cell_type": "code",
      "metadata": {
        "id": "p0_jkrGKG_Az",
        "colab": {
          "base_uri": "https://localhost:8080/"
        },
        "outputId": "622df3f1-61b5-4dac-95ca-4cb90f2f31a7"
      },
      "source": [
        "df['rating'].sample(10)"
      ],
      "execution_count": 1127,
      "outputs": [
        {
          "output_type": "execute_result",
          "data": {
            "text/plain": [
              "275954             [4, 2, 3]\n",
              "67785           [8, 9, 7, 6]\n",
              "210002             [7, 6, 5]\n",
              "374552             [4, 2, 2]\n",
              "150370                [2, 1]\n",
              "369568    [5, 2, 6, 4, 7, 1]\n",
              "316966             [4, 2, 2]\n",
              "64773      [10, 7, 5, 6, 10]\n",
              "108162             [8, 7, 9]\n",
              "82937              [8, 5, 3]\n",
              "Name: rating, dtype: object"
            ]
          },
          "metadata": {
            "tags": []
          },
          "execution_count": 1127
        }
      ]
    },
    {
      "cell_type": "markdown",
      "metadata": {
        "id": "DLfZodXWpR6H"
      },
      "source": [
        "target"
      ]
    },
    {
      "cell_type": "code",
      "metadata": {
        "colab": {
          "base_uri": "https://localhost:8080/"
        },
        "id": "y1USgncfo-Qt",
        "outputId": "84dc2fcd-2040-4257-ef68-8464a68d3f87"
      },
      "source": [
        "df['target'].value_counts(dropna=False)"
      ],
      "execution_count": 1128,
      "outputs": [
        {
          "output_type": "execute_result",
          "data": {
            "text/plain": [
              "NaN          2481\n",
              "$225,000     1462\n",
              "$275,000     1355\n",
              "$250,000     1312\n",
              "$350,000     1296\n",
              "             ... \n",
              "$588,100+       1\n",
              "$436,484        1\n",
              "$448,704        1\n",
              "$184,902        1\n",
              "1,528,900       1\n",
              "Name: target, Length: 43940, dtype: int64"
            ]
          },
          "metadata": {
            "tags": []
          },
          "execution_count": 1128
        }
      ]
    },
    {
      "cell_type": "code",
      "metadata": {
        "id": "HFnwGMOopVE1"
      },
      "source": [
        "df['target'] = df['target'].apply(lambda x: None if x is np.nan else x)"
      ],
      "execution_count": 1129,
      "outputs": []
    },
    {
      "cell_type": "code",
      "metadata": {
        "colab": {
          "base_uri": "https://localhost:8080/"
        },
        "id": "NfFvxqkHpdh9",
        "outputId": "6b6e292e-75a8-4843-c49a-7caab4ad2923"
      },
      "source": [
        "df[(df['target'].isna()==False) & (df['target'].str.isdigit())]['target'].value_counts()"
      ],
      "execution_count": 1130,
      "outputs": [
        {
          "output_type": "execute_result",
          "data": {
            "text/plain": [
              "3      2\n",
              "1      2\n",
              "800    2\n",
              "20     1\n",
              "750    1\n",
              "29     1\n",
              "30     1\n",
              "25     1\n",
              "8      1\n",
              "825    1\n",
              "Name: target, dtype: int64"
            ]
          },
          "metadata": {
            "tags": []
          },
          "execution_count": 1130
        }
      ]
    },
    {
      "cell_type": "code",
      "metadata": {
        "id": "0xQnwkKanhpT"
      },
      "source": [
        "punct = '$,+\\-/'\n",
        "df['target'] = df['target'].str.replace('[a-z]', '').str.replace('[{}]'.format(punct), '').str.strip()"
      ],
      "execution_count": 1131,
      "outputs": []
    },
    {
      "cell_type": "code",
      "metadata": {
        "id": "QqIPaufFn3_K"
      },
      "source": [
        "df['target'] = df['target'].apply(lambda x: None if x is None else int(x.split()[0]))"
      ],
      "execution_count": 1132,
      "outputs": []
    },
    {
      "cell_type": "code",
      "metadata": {
        "id": "t8F1vVeKsu_8",
        "colab": {
          "base_uri": "https://localhost:8080/"
        },
        "outputId": "8e53a150-3a65-481f-c99a-c622305d62e0"
      },
      "source": [
        "df.loc[330468]['target']"
      ],
      "execution_count": 1133,
      "outputs": [
        {
          "output_type": "execute_result",
          "data": {
            "text/plain": [
              "1215.0"
            ]
          },
          "metadata": {
            "tags": []
          },
          "execution_count": 1133
        }
      ]
    },
    {
      "cell_type": "code",
      "metadata": {
        "colab": {
          "base_uri": "https://localhost:8080/"
        },
        "id": "nm6LI-D6mtYh",
        "outputId": "efc0b582-f4bd-4a00-cf51-dc7fb73fe9e1"
      },
      "source": [
        "df['target'].value_counts(dropna=False)"
      ],
      "execution_count": 1134,
      "outputs": [
        {
          "output_type": "execute_result",
          "data": {
            "text/plain": [
              "NaN         2481\n",
              "225000.0    1806\n",
              "275000.0    1650\n",
              "250000.0    1644\n",
              "350000.0    1641\n",
              "            ... \n",
              "9100.0         1\n",
              "515530.0       1\n",
              "195050.0       1\n",
              "780226.0       1\n",
              "374521.0       1\n",
              "Name: target, Length: 34233, dtype: int64"
            ]
          },
          "metadata": {
            "tags": []
          },
          "execution_count": 1134
        }
      ]
    },
    {
      "cell_type": "markdown",
      "metadata": {
        "id": "DR0jxCf7HgZl"
      },
      "source": [
        "target Price/sqft"
      ]
    },
    {
      "cell_type": "code",
      "metadata": {
        "id": "76n0Rxq6Hf8I"
      },
      "source": [
        "# Заполним те значения признака sqft которые пустые из признака Price/sqft и признака target\n",
        "\n",
        "new_lot_size = df.loc[(df['sqft'].isna()) & (df['target'].isna()==False) & (df['Price/sqft'].isna()==False)][['Price/sqft', 'target']]\n",
        "new_lot_size['sqft'] = (new_lot_size['target'] / new_lot_size['Price/sqft']).astype(int)\n",
        "df.loc[new_lot_size.index, 'sqft'] = new_lot_size['sqft']\n",
        "\n",
        "# Заполним те значения признака Price/sqft которые пустые из признака sqft и признака target\n",
        "\n",
        "new_prsq = df.loc[(df['sqft'].isna()==False) & (df['target'].isna()==False) & (df['Price/sqft'].isna())][['sqft', 'target']]\n",
        "new_prsq['Price/sqft'] = round(new_prsq['target'] / new_prsq['sqft'])\n",
        "df.loc[new_prsq.index, 'Price/sqft'] = new_prsq['Price/sqft']"
      ],
      "execution_count": 1135,
      "outputs": []
    },
    {
      "cell_type": "markdown",
      "metadata": {
        "id": "OiX9sC8e5DUi"
      },
      "source": [
        "future engeneer"
      ]
    },
    {
      "cell_type": "code",
      "metadata": {
        "colab": {
          "base_uri": "https://localhost:8080/",
          "height": 547
        },
        "id": "6SUBDZONnW6I",
        "outputId": "42c837b0-6079-49e2-e18f-5a67190548bb"
      },
      "source": [
        "df.sample(5)"
      ],
      "execution_count": 1136,
      "outputs": [
        {
          "output_type": "execute_result",
          "data": {
            "text/html": [
              "<div>\n",
              "<style scoped>\n",
              "    .dataframe tbody tr th:only-of-type {\n",
              "        vertical-align: middle;\n",
              "    }\n",
              "\n",
              "    .dataframe tbody tr th {\n",
              "        vertical-align: top;\n",
              "    }\n",
              "\n",
              "    .dataframe thead th {\n",
              "        text-align: right;\n",
              "    }\n",
              "</style>\n",
              "<table border=\"1\" class=\"dataframe\">\n",
              "  <thead>\n",
              "    <tr style=\"text-align: right;\">\n",
              "      <th></th>\n",
              "      <th>status</th>\n",
              "      <th>propertyType</th>\n",
              "      <th>street</th>\n",
              "      <th>baths</th>\n",
              "      <th>homeFacts</th>\n",
              "      <th>city</th>\n",
              "      <th>schools</th>\n",
              "      <th>sqft</th>\n",
              "      <th>zipcode</th>\n",
              "      <th>beds</th>\n",
              "      <th>state</th>\n",
              "      <th>stories</th>\n",
              "      <th>target</th>\n",
              "      <th>stories_dop</th>\n",
              "      <th>baths_new</th>\n",
              "      <th>homeFacts_new</th>\n",
              "      <th>Year built</th>\n",
              "      <th>Remodeled year</th>\n",
              "      <th>Heating</th>\n",
              "      <th>Cooling</th>\n",
              "      <th>Parking</th>\n",
              "      <th>lotsize</th>\n",
              "      <th>Price/sqft</th>\n",
              "      <th>Distance</th>\n",
              "      <th>rating</th>\n",
              "    </tr>\n",
              "  </thead>\n",
              "  <tbody>\n",
              "    <tr>\n",
              "      <th>331325</th>\n",
              "      <td>active</td>\n",
              "      <td>contemporary modern mediterranean</td>\n",
              "      <td>oak mews</td>\n",
              "      <td>None</td>\n",
              "      <td>{'atAGlanceFacts': [{'factValue': '2002', 'fac...</td>\n",
              "      <td>houston</td>\n",
              "      <td>{'rating': ['7', '5', '1'], 'data': {'Distance...</td>\n",
              "      <td>4073.0</td>\n",
              "      <td>77056.0</td>\n",
              "      <td>NaN</td>\n",
              "      <td>TX</td>\n",
              "      <td>2</td>\n",
              "      <td>1475000.0</td>\n",
              "      <td>NaN</td>\n",
              "      <td>NaN</td>\n",
              "      <td>[{'factValue': '2002', 'factLabel': 'Year buil...</td>\n",
              "      <td>2002.0</td>\n",
              "      <td>2002</td>\n",
              "      <td>Central Electric, Zoned</td>\n",
              "      <td>Central Gas, Zoned</td>\n",
              "      <td>None</td>\n",
              "      <td>8004 sq. ft.</td>\n",
              "      <td>362.0</td>\n",
              "      <td>[1.6, 0.7, 2.8]</td>\n",
              "      <td>[7, 5, 1]</td>\n",
              "    </tr>\n",
              "    <tr>\n",
              "      <th>370723</th>\n",
              "      <td>active</td>\n",
              "      <td>None</td>\n",
              "      <td>colony lane</td>\n",
              "      <td>None</td>\n",
              "      <td>{'atAGlanceFacts': [{'factValue': '2000', 'fac...</td>\n",
              "      <td>bratenahl</td>\n",
              "      <td>{'rating': ['2', '3', '2', '2', '2', '2', '4',...</td>\n",
              "      <td>23086.0</td>\n",
              "      <td>44108.0</td>\n",
              "      <td>NaN</td>\n",
              "      <td>OH</td>\n",
              "      <td>NaN</td>\n",
              "      <td>3900000.0</td>\n",
              "      <td>NaN</td>\n",
              "      <td>NaN</td>\n",
              "      <td>[{'factValue': '2000', 'factLabel': 'Year buil...</td>\n",
              "      <td>2000.0</td>\n",
              "      <td>2009</td>\n",
              "      <td>Central Air</td>\n",
              "      <td>Has Cooling</td>\n",
              "      <td>None</td>\n",
              "      <td>0.53 acres</td>\n",
              "      <td>169.0</td>\n",
              "      <td>[1.2, 1.6, 0.9, 1.5, 5.1, 1.4, 5.3, 1.9, 4.0]</td>\n",
              "      <td>[2, 3, 2, 2, 2, 2, 4, 2, 8]</td>\n",
              "    </tr>\n",
              "    <tr>\n",
              "      <th>318669</th>\n",
              "      <td>for sale</td>\n",
              "      <td>single family</td>\n",
              "      <td>juniper xing</td>\n",
              "      <td>4</td>\n",
              "      <td>{'atAGlanceFacts': [{'factValue': '2000', 'fac...</td>\n",
              "      <td>houston</td>\n",
              "      <td>{'rating': ['7/10', '5/10', '5/10'], 'data': {...</td>\n",
              "      <td>3002.0</td>\n",
              "      <td>77041.0</td>\n",
              "      <td>4.0</td>\n",
              "      <td>TX</td>\n",
              "      <td>2.0</td>\n",
              "      <td>305000.0</td>\n",
              "      <td>NaN</td>\n",
              "      <td>4.0</td>\n",
              "      <td>[{'factValue': '2000', 'factLabel': 'Year buil...</td>\n",
              "      <td>2000.0</td>\n",
              "      <td>2000</td>\n",
              "      <td>Other</td>\n",
              "      <td>Central</td>\n",
              "      <td>Detached Garage</td>\n",
              "      <td>7457 sqft</td>\n",
              "      <td>102.0</td>\n",
              "      <td>[0.56, 2.23, 1.75]</td>\n",
              "      <td>[7, 5, 5]</td>\n",
              "    </tr>\n",
              "    <tr>\n",
              "      <th>18046</th>\n",
              "      <td>active</td>\n",
              "      <td>single family</td>\n",
              "      <td>woodside street</td>\n",
              "      <td>1</td>\n",
              "      <td>{'atAGlanceFacts': [{'factValue': '1938', 'fac...</td>\n",
              "      <td>houston</td>\n",
              "      <td>{'rating': ['5', '3', '2', '6', '10', '10', 'N...</td>\n",
              "      <td>1247.0</td>\n",
              "      <td>77023.0</td>\n",
              "      <td>2.0</td>\n",
              "      <td>TX</td>\n",
              "      <td>1</td>\n",
              "      <td>235000.0</td>\n",
              "      <td>NaN</td>\n",
              "      <td>1.0</td>\n",
              "      <td>[{'factValue': '1938', 'factLabel': 'Year buil...</td>\n",
              "      <td>1938.0</td>\n",
              "      <td>None</td>\n",
              "      <td>None</td>\n",
              "      <td>Central Electric</td>\n",
              "      <td>None</td>\n",
              "      <td>5875</td>\n",
              "      <td>188.0</td>\n",
              "      <td>[0.3, 0.3, 0.4, 0.4, 0.3, 0.2, 1.1, 1.6]</td>\n",
              "      <td>[5, 3, 2, 6, 10, 10]</td>\n",
              "    </tr>\n",
              "    <tr>\n",
              "      <th>78788</th>\n",
              "      <td>for sale</td>\n",
              "      <td>single family</td>\n",
              "      <td>emerson avenue</td>\n",
              "      <td>None</td>\n",
              "      <td>{'atAGlanceFacts': [{'factValue': '1959', 'fac...</td>\n",
              "      <td>indianapolis</td>\n",
              "      <td>{'rating': ['7/10', '5/10', '5/10', '6/10'], '...</td>\n",
              "      <td>1344.0</td>\n",
              "      <td>46237.0</td>\n",
              "      <td>3.0</td>\n",
              "      <td>IN</td>\n",
              "      <td>NaN</td>\n",
              "      <td>200000.0</td>\n",
              "      <td>NaN</td>\n",
              "      <td>NaN</td>\n",
              "      <td>[{'factValue': '1959', 'factLabel': 'Year buil...</td>\n",
              "      <td>1959.0</td>\n",
              "      <td>1959</td>\n",
              "      <td>Other</td>\n",
              "      <td>Central</td>\n",
              "      <td>Attached Garage</td>\n",
              "      <td>0.77 acres</td>\n",
              "      <td>149.0</td>\n",
              "      <td>[2.93, 2.02, 3.46, 2.02]</td>\n",
              "      <td>[7, 5, 5, 6]</td>\n",
              "    </tr>\n",
              "  </tbody>\n",
              "</table>\n",
              "</div>"
            ],
            "text/plain": [
              "          status  ...                       rating\n",
              "331325    active  ...                    [7, 5, 1]\n",
              "370723    active  ...  [2, 3, 2, 2, 2, 2, 4, 2, 8]\n",
              "318669  for sale  ...                    [7, 5, 5]\n",
              "18046     active  ...         [5, 3, 2, 6, 10, 10]\n",
              "78788   for sale  ...                 [7, 5, 5, 6]\n",
              "\n",
              "[5 rows x 25 columns]"
            ]
          },
          "metadata": {
            "tags": []
          },
          "execution_count": 1136
        }
      ]
    },
    {
      "cell_type": "code",
      "metadata": {
        "id": "-JUnaK7Ub9s5"
      },
      "source": [
        "df = df.drop(['stories_dop', 'homeFacts', 'schools', 'stories_dop', 'baths_new', 'homeFacts_new'], axis=1)"
      ],
      "execution_count": 1137,
      "outputs": []
    },
    {
      "cell_type": "code",
      "metadata": {
        "id": "s8vgdv095Ift",
        "colab": {
          "base_uri": "https://localhost:8080/"
        },
        "outputId": "984f531a-ba1c-4df4-a4a3-493ca2dde05f"
      },
      "source": [
        "round(df.isna().sum() / df.shape[0] * 100, 1)"
      ],
      "execution_count": 1138,
      "outputs": [
        {
          "output_type": "execute_result",
          "data": {
            "text/plain": [
              "status             0.0\n",
              "propertyType      10.1\n",
              "street             1.9\n",
              "baths             28.6\n",
              "city               0.0\n",
              "sqft               3.1\n",
              "zipcode            0.0\n",
              "beds              29.7\n",
              "state              0.0\n",
              "stories           40.0\n",
              "target             0.7\n",
              "Year built        16.9\n",
              "Remodeled year    59.9\n",
              "Heating           29.0\n",
              "Cooling           32.9\n",
              "Parking           46.5\n",
              "lotsize           24.4\n",
              "Price/sqft         3.6\n",
              "Distance           0.0\n",
              "rating             0.0\n",
              "dtype: float64"
            ]
          },
          "metadata": {
            "tags": []
          },
          "execution_count": 1138
        }
      ]
    },
    {
      "cell_type": "code",
      "metadata": {
        "id": "N8THFBamMwtt"
      },
      "source": [
        "df = df.drop(['lotsize'], axis=1)\n",
        "df = df.drop(['stories', 'Remodeled year', 'Heating', 'Cooling', 'Parking'], axis=1)"
      ],
      "execution_count": 1139,
      "outputs": []
    },
    {
      "cell_type": "code",
      "metadata": {
        "id": "lppyqlGokqip"
      },
      "source": [
        "df = df.drop(['baths', 'beds', 'Year built'], axis=1)"
      ],
      "execution_count": 1140,
      "outputs": []
    },
    {
      "cell_type": "code",
      "metadata": {
        "colab": {
          "base_uri": "https://localhost:8080/"
        },
        "id": "m77xTDhWclcJ",
        "outputId": "8e2da291-9dcd-4ebd-a33c-d6e330d759cc"
      },
      "source": [
        "df[['status', 'propertyType', 'city', 'zipcode', 'state']].nunique()"
      ],
      "execution_count": 1141,
      "outputs": [
        {
          "output_type": "execute_result",
          "data": {
            "text/plain": [
              "status           104\n",
              "propertyType    1112\n",
              "city            1785\n",
              "zipcode         4267\n",
              "state             39\n",
              "dtype: int64"
            ]
          },
          "metadata": {
            "tags": []
          },
          "execution_count": 1141
        }
      ]
    },
    {
      "cell_type": "code",
      "metadata": {
        "id": "7g7gEnm2dSkH"
      },
      "source": [
        "# Содаем новые признаки\n",
        "\n",
        "import numpy as np\n",
        "\n",
        "df['dist_max'] = df['Distance'].apply(lambda x: None if x is None else \n",
        "                                      None if len(x) == 0 else max(x))\n",
        "df['dist_min'] = df['Distance'].apply(lambda x: None if x is None else \n",
        "                                      None if len(x) == 0 else min(x))\n",
        "df['dist_mean'] = df['Distance'].apply(lambda x: None if x is None else \n",
        "                                      None if len(x) == 0 else round(np.mean(list(filter(None, x))), 2))"
      ],
      "execution_count": 1142,
      "outputs": []
    },
    {
      "cell_type": "code",
      "metadata": {
        "id": "XvC_wX5YggqF"
      },
      "source": [
        "df['rate_max'] = df['rating'].apply(lambda x: None if x is None else \n",
        "                                      None if len(x) == 0 else max(x))\n",
        "df['rate_min'] = df['rating'].apply(lambda x: None if x is None else \n",
        "                                      None if len(x) == 0 else min(x))\n",
        "df['rate_mean'] = df['rating'].apply(lambda x: None if x is None else \n",
        "                                      None if len(x) == 0 else round(np.mean(list(filter(None, x))), 2))"
      ],
      "execution_count": 1143,
      "outputs": []
    },
    {
      "cell_type": "code",
      "metadata": {
        "id": "RFfDPxdPlARQ"
      },
      "source": [
        "df = df.drop(['Distance', 'rating'], axis=1)"
      ],
      "execution_count": 1144,
      "outputs": []
    },
    {
      "cell_type": "code",
      "metadata": {
        "colab": {
          "base_uri": "https://localhost:8080/"
        },
        "id": "1z6NslJ6hSVT",
        "outputId": "af104c6f-b20b-4a6a-b7d4-05ef0522cee8"
      },
      "source": [
        "df.info()"
      ],
      "execution_count": 1145,
      "outputs": [
        {
          "output_type": "stream",
          "text": [
            "<class 'pandas.core.frame.DataFrame'>\n",
            "RangeIndex: 377185 entries, 0 to 377184\n",
            "Data columns (total 15 columns):\n",
            " #   Column        Non-Null Count   Dtype  \n",
            "---  ------        --------------   -----  \n",
            " 0   status        377185 non-null  object \n",
            " 1   propertyType  338974 non-null  object \n",
            " 2   street        369978 non-null  object \n",
            " 3   city          377185 non-null  object \n",
            " 4   sqft          365652 non-null  float64\n",
            " 5   zipcode       377183 non-null  float64\n",
            " 6   state         377185 non-null  object \n",
            " 7   target        374704 non-null  float64\n",
            " 8   Price/sqft    363651 non-null  float64\n",
            " 9   dist_max      372900 non-null  float64\n",
            " 10  dist_min      372900 non-null  float64\n",
            " 11  dist_mean     372900 non-null  float64\n",
            " 12  rate_max      372033 non-null  float64\n",
            " 13  rate_min      372033 non-null  float64\n",
            " 14  rate_mean     372033 non-null  float64\n",
            "dtypes: float64(10), object(5)\n",
            "memory usage: 43.2+ MB\n"
          ],
          "name": "stdout"
        }
      ]
    },
    {
      "cell_type": "code",
      "metadata": {
        "id": "6i976MuIk-Fg",
        "colab": {
          "base_uri": "https://localhost:8080/"
        },
        "outputId": "a958b61b-801b-4be6-ea13-5ab5a8f6f8db"
      },
      "source": [
        "df[df['target'].isna()].isna().sum()\n",
        "\n",
        "# В столбце Price/sqft почти все значения null, удалим данный столбец"
      ],
      "execution_count": 1146,
      "outputs": [
        {
          "output_type": "execute_result",
          "data": {
            "text/plain": [
              "status             0\n",
              "propertyType     180\n",
              "street             3\n",
              "city               0\n",
              "sqft             128\n",
              "zipcode            0\n",
              "state              0\n",
              "target          2481\n",
              "Price/sqft      2129\n",
              "dist_max          27\n",
              "dist_min          27\n",
              "dist_mean         27\n",
              "rate_max          35\n",
              "rate_min          35\n",
              "rate_mean         35\n",
              "dtype: int64"
            ]
          },
          "metadata": {
            "tags": []
          },
          "execution_count": 1146
        }
      ]
    },
    {
      "cell_type": "code",
      "metadata": {
        "id": "WqiGwqYC1Voy"
      },
      "source": [
        "df = df.drop(['Price/sqft'], axis=1)"
      ],
      "execution_count": 1147,
      "outputs": []
    },
    {
      "cell_type": "markdown",
      "metadata": {
        "id": "0iWwGBGr4co5"
      },
      "source": [
        "Train Test"
      ]
    },
    {
      "cell_type": "code",
      "metadata": {
        "id": "nad2s_nf4e6N"
      },
      "source": [
        "df_train = df[df['target'].isna() == False].copy()\n",
        "df_test = df[df['target'].isna()].copy()\n",
        "df_test['target'] = 0"
      ],
      "execution_count": 1159,
      "outputs": []
    },
    {
      "cell_type": "code",
      "metadata": {
        "colab": {
          "base_uri": "https://localhost:8080/",
          "height": 204
        },
        "id": "-XruFdub4-cX",
        "outputId": "bb12621f-ddcc-434a-f9b4-41788fec643d"
      },
      "source": [
        "df_train.head()"
      ],
      "execution_count": 1160,
      "outputs": [
        {
          "output_type": "execute_result",
          "data": {
            "text/html": [
              "<div>\n",
              "<style scoped>\n",
              "    .dataframe tbody tr th:only-of-type {\n",
              "        vertical-align: middle;\n",
              "    }\n",
              "\n",
              "    .dataframe tbody tr th {\n",
              "        vertical-align: top;\n",
              "    }\n",
              "\n",
              "    .dataframe thead th {\n",
              "        text-align: right;\n",
              "    }\n",
              "</style>\n",
              "<table border=\"1\" class=\"dataframe\">\n",
              "  <thead>\n",
              "    <tr style=\"text-align: right;\">\n",
              "      <th></th>\n",
              "      <th>status</th>\n",
              "      <th>propertyType</th>\n",
              "      <th>street</th>\n",
              "      <th>city</th>\n",
              "      <th>sqft</th>\n",
              "      <th>zipcode</th>\n",
              "      <th>state</th>\n",
              "      <th>target</th>\n",
              "      <th>dist_max</th>\n",
              "      <th>dist_min</th>\n",
              "      <th>dist_mean</th>\n",
              "      <th>rate_max</th>\n",
              "      <th>rate_min</th>\n",
              "      <th>rate_mean</th>\n",
              "    </tr>\n",
              "  </thead>\n",
              "  <tbody>\n",
              "    <tr>\n",
              "      <th>0</th>\n",
              "      <td>active</td>\n",
              "      <td>single family</td>\n",
              "      <td>heather lane</td>\n",
              "      <td>southern pines</td>\n",
              "      <td>2900.0</td>\n",
              "      <td>28387.0</td>\n",
              "      <td>NC</td>\n",
              "      <td>418000.0</td>\n",
              "      <td>12.60</td>\n",
              "      <td>2.70</td>\n",
              "      <td>5.54</td>\n",
              "      <td>7.0</td>\n",
              "      <td>4.0</td>\n",
              "      <td>5.20</td>\n",
              "    </tr>\n",
              "    <tr>\n",
              "      <th>1</th>\n",
              "      <td>for sale</td>\n",
              "      <td>single family</td>\n",
              "      <td>heroy avenue</td>\n",
              "      <td>spokane valley</td>\n",
              "      <td>1947.0</td>\n",
              "      <td>99216.0</td>\n",
              "      <td>WA</td>\n",
              "      <td>310000.0</td>\n",
              "      <td>1.65</td>\n",
              "      <td>1.01</td>\n",
              "      <td>1.33</td>\n",
              "      <td>4.0</td>\n",
              "      <td>4.0</td>\n",
              "      <td>4.00</td>\n",
              "    </tr>\n",
              "    <tr>\n",
              "      <th>2</th>\n",
              "      <td>for sale</td>\n",
              "      <td>single family</td>\n",
              "      <td>westridge road</td>\n",
              "      <td>san antonio</td>\n",
              "      <td>3000.0</td>\n",
              "      <td>90049.0</td>\n",
              "      <td>CA</td>\n",
              "      <td>2895000.0</td>\n",
              "      <td>2.63</td>\n",
              "      <td>1.19</td>\n",
              "      <td>1.96</td>\n",
              "      <td>8.0</td>\n",
              "      <td>4.0</td>\n",
              "      <td>6.67</td>\n",
              "    </tr>\n",
              "    <tr>\n",
              "      <th>3</th>\n",
              "      <td>for sale</td>\n",
              "      <td>single family</td>\n",
              "      <td>livingston avenue</td>\n",
              "      <td>dallas</td>\n",
              "      <td>6457.0</td>\n",
              "      <td>75205.0</td>\n",
              "      <td>TX</td>\n",
              "      <td>2395000.0</td>\n",
              "      <td>1.05</td>\n",
              "      <td>0.10</td>\n",
              "      <td>0.75</td>\n",
              "      <td>10.0</td>\n",
              "      <td>9.0</td>\n",
              "      <td>9.25</td>\n",
              "    </tr>\n",
              "    <tr>\n",
              "      <th>4</th>\n",
              "      <td>for sale</td>\n",
              "      <td>lot land</td>\n",
              "      <td>kiscoe street</td>\n",
              "      <td>palm bay</td>\n",
              "      <td>10019.0</td>\n",
              "      <td>32908.0</td>\n",
              "      <td>FL</td>\n",
              "      <td>5000.0</td>\n",
              "      <td>5.96</td>\n",
              "      <td>3.03</td>\n",
              "      <td>4.08</td>\n",
              "      <td>5.0</td>\n",
              "      <td>4.0</td>\n",
              "      <td>4.67</td>\n",
              "    </tr>\n",
              "  </tbody>\n",
              "</table>\n",
              "</div>"
            ],
            "text/plain": [
              "     status   propertyType             street  ... rate_max  rate_min  rate_mean\n",
              "0    active  single family       heather lane  ...      7.0       4.0       5.20\n",
              "1  for sale  single family       heroy avenue  ...      4.0       4.0       4.00\n",
              "2  for sale  single family     westridge road  ...      8.0       4.0       6.67\n",
              "3  for sale  single family  livingston avenue  ...     10.0       9.0       9.25\n",
              "4  for sale       lot land      kiscoe street  ...      5.0       4.0       4.67\n",
              "\n",
              "[5 rows x 14 columns]"
            ]
          },
          "metadata": {
            "tags": []
          },
          "execution_count": 1160
        }
      ]
    },
    {
      "cell_type": "code",
      "metadata": {
        "colab": {
          "base_uri": "https://localhost:8080/"
        },
        "id": "MuYR3yGp5AN9",
        "outputId": "a18dd1b7-e2de-48f3-e397-a733384d6bdd"
      },
      "source": [
        "df_train.isna().sum()\n",
        "\n",
        "# Мало значений null удалим их"
      ],
      "execution_count": 1161,
      "outputs": [
        {
          "output_type": "execute_result",
          "data": {
            "text/plain": [
              "status              0\n",
              "propertyType    38031\n",
              "street           7204\n",
              "city                0\n",
              "sqft            11405\n",
              "zipcode             2\n",
              "state               0\n",
              "target              0\n",
              "dist_max         4258\n",
              "dist_min         4258\n",
              "dist_mean        4258\n",
              "rate_max         5117\n",
              "rate_min         5117\n",
              "rate_mean        5117\n",
              "dtype: int64"
            ]
          },
          "metadata": {
            "tags": []
          },
          "execution_count": 1161
        }
      ]
    },
    {
      "cell_type": "code",
      "metadata": {
        "colab": {
          "base_uri": "https://localhost:8080/"
        },
        "id": "z1fkBt3-6P5D",
        "outputId": "e90b9e22-5675-48d8-a9b5-4baf72509f9d"
      },
      "source": [
        "df_train = df_train.dropna(axis=0)\n",
        "df_train.info()"
      ],
      "execution_count": 1162,
      "outputs": [
        {
          "output_type": "stream",
          "text": [
            "<class 'pandas.core.frame.DataFrame'>\n",
            "Int64Index: 326765 entries, 0 to 377184\n",
            "Data columns (total 14 columns):\n",
            " #   Column        Non-Null Count   Dtype  \n",
            "---  ------        --------------   -----  \n",
            " 0   status        326765 non-null  object \n",
            " 1   propertyType  326765 non-null  object \n",
            " 2   street        326765 non-null  object \n",
            " 3   city          326765 non-null  object \n",
            " 4   sqft          326765 non-null  float64\n",
            " 5   zipcode       326765 non-null  float64\n",
            " 6   state         326765 non-null  object \n",
            " 7   target        326765 non-null  float64\n",
            " 8   dist_max      326765 non-null  float64\n",
            " 9   dist_min      326765 non-null  float64\n",
            " 10  dist_mean     326765 non-null  float64\n",
            " 11  rate_max      326765 non-null  float64\n",
            " 12  rate_min      326765 non-null  float64\n",
            " 13  rate_mean     326765 non-null  float64\n",
            "dtypes: float64(9), object(5)\n",
            "memory usage: 37.4+ MB\n"
          ],
          "name": "stdout"
        }
      ]
    },
    {
      "cell_type": "code",
      "metadata": {
        "colab": {
          "base_uri": "https://localhost:8080/"
        },
        "id": "WP6I4Nsb6d08",
        "outputId": "6bea2561-f26b-4978-9b32-1a3b320d4af7"
      },
      "source": [
        "df_test.isna().sum()\n",
        "\n",
        "# Мало нулевых значений, заполним их"
      ],
      "execution_count": 1163,
      "outputs": [
        {
          "output_type": "execute_result",
          "data": {
            "text/plain": [
              "status            0\n",
              "propertyType    180\n",
              "street            3\n",
              "city              0\n",
              "sqft            128\n",
              "zipcode           0\n",
              "state             0\n",
              "target            0\n",
              "dist_max         27\n",
              "dist_min         27\n",
              "dist_mean        27\n",
              "rate_max         35\n",
              "rate_min         35\n",
              "rate_mean        35\n",
              "dtype: int64"
            ]
          },
          "metadata": {
            "tags": []
          },
          "execution_count": 1163
        }
      ]
    },
    {
      "cell_type": "code",
      "metadata": {
        "colab": {
          "base_uri": "https://localhost:8080/",
          "height": 282
        },
        "id": "99vN5w_vHZWG",
        "outputId": "a5518d3f-ed0d-4276-a086-b312a090e85b"
      },
      "source": [
        "df_test['propertyType'].value_counts(ascending=True).plot.barh()"
      ],
      "execution_count": 1164,
      "outputs": [
        {
          "output_type": "execute_result",
          "data": {
            "text/plain": [
              "<matplotlib.axes._subplots.AxesSubplot at 0x7f18f3b31d50>"
            ]
          },
          "metadata": {
            "tags": []
          },
          "execution_count": 1164
        },
        {
          "output_type": "display_data",
          "data": {
            "image/png": "[encoded data removed]",
            "text/plain": [
              "<Figure size 432x288 with 1 Axes>"
            ]
          },
          "metadata": {
            "tags": [],
            "needs_background": "light"
          }
        }
      ]
    },
    {
      "cell_type": "code",
      "metadata": {
        "id": "AXw7NjPY9KNr"
      },
      "source": [
        "# Заменим null значения\n",
        "most_prop = df_test['propertyType'].value_counts().index[0]\n",
        "\n",
        "df_test.loc[df_test['propertyType'].isna(), 'propertyType'] = most_prop"
      ],
      "execution_count": 1165,
      "outputs": []
    },
    {
      "cell_type": "code",
      "metadata": {
        "id": "DucEoFbkC14X"
      },
      "source": [
        "# Можно из трейна удалить те значения propertyType, которых нет в тесте и удалить их\n",
        "# !!! на будущее"
      ],
      "execution_count": 1166,
      "outputs": []
    },
    {
      "cell_type": "code",
      "metadata": {
        "colab": {
          "base_uri": "https://localhost:8080/"
        },
        "id": "bjnGrRBaDIuF",
        "outputId": "d8892bb0-d7a4-43f7-8a95-ae2048820825"
      },
      "source": [
        "df_test['street'].value_counts(dropna=False)[:10]"
      ],
      "execution_count": 1167,
      "outputs": [
        {
          "output_type": "execute_result",
          "data": {
            "text/plain": [
              "street               17\n",
              "1st street           11\n",
              "12th street           9\n",
              "livingston street     9\n",
              "12th avenue           8\n",
              "9th street            7\n",
              "harrison street       7\n",
              "avenue                7\n",
              "2nd street            6\n",
              "collins avenue        6\n",
              "Name: street, dtype: int64"
            ]
          },
          "metadata": {
            "tags": []
          },
          "execution_count": 1167
        }
      ]
    },
    {
      "cell_type": "code",
      "metadata": {
        "id": "YuH8CLa1DNt8"
      },
      "source": [
        "most_street = df_test['street'].value_counts().index[0]\n",
        "\n",
        "df_test.loc[df_test['street'].isna(), 'street'] = most_street"
      ],
      "execution_count": 1168,
      "outputs": []
    },
    {
      "cell_type": "code",
      "metadata": {
        "id": "yQXbF9nEDZ0b"
      },
      "source": [
        "mean_sqft = round(df_test['sqft'].dropna().mean())\n",
        "\n",
        "df_test.loc[df_test['sqft'].isna(), 'sqft'] = mean_sqft"
      ],
      "execution_count": 1169,
      "outputs": []
    },
    {
      "cell_type": "code",
      "metadata": {
        "id": "S394-4LuDgOL"
      },
      "source": [
        "mean_dist_max = round(df_test['dist_max'].dropna().mean())\n",
        "\n",
        "df_test.loc[df_test['dist_max'].isna(), 'dist_max'] = mean_dist_max"
      ],
      "execution_count": 1170,
      "outputs": []
    },
    {
      "cell_type": "code",
      "metadata": {
        "id": "Iylli9fJKde-"
      },
      "source": [
        "mean_dist_min = round(df_test['dist_min'].dropna().mean())\n",
        "\n",
        "df_test.loc[df_test['dist_min'].isna(), 'dist_min'] = mean_dist_max"
      ],
      "execution_count": 1171,
      "outputs": []
    },
    {
      "cell_type": "code",
      "metadata": {
        "id": "dAKTHw0DKe-H"
      },
      "source": [
        "mean_dist_mean = round(df_test['dist_mean'].dropna().mean())\n",
        "\n",
        "df_test.loc[df_test['dist_mean'].isna(), 'dist_mean'] = mean_dist_max"
      ],
      "execution_count": 1172,
      "outputs": []
    },
    {
      "cell_type": "code",
      "metadata": {
        "id": "1tWwbK5RKmCt"
      },
      "source": [
        "mean_rate_max = round(df_test['rate_max'].dropna().mean())\n",
        "\n",
        "df_test.loc[df_test['rate_max'].isna(), 'rate_max'] = mean_dist_max"
      ],
      "execution_count": 1173,
      "outputs": []
    },
    {
      "cell_type": "code",
      "metadata": {
        "id": "QG_o-7e-K5MZ"
      },
      "source": [
        "mean_rate_min = round(df_test['rate_min'].dropna().mean())\n",
        "\n",
        "df_test.loc[df_test['rate_min'].isna(), 'rate_min'] = mean_dist_max"
      ],
      "execution_count": 1174,
      "outputs": []
    },
    {
      "cell_type": "code",
      "metadata": {
        "id": "7hURbFm7K5pS"
      },
      "source": [
        "mean_rate_mean = round(df_test['rate_mean'].dropna().mean())\n",
        "\n",
        "df_test.loc[df_test['rate_mean'].isna(), 'rate_mean'] = mean_dist_max"
      ],
      "execution_count": 1175,
      "outputs": []
    },
    {
      "cell_type": "code",
      "metadata": {
        "id": "w5WGKJykLAPk"
      },
      "source": [
        "# Дополнительно выделить столбцы с Null значениями"
      ],
      "execution_count": 1176,
      "outputs": []
    },
    {
      "cell_type": "markdown",
      "metadata": {
        "id": "dQdYiLazXYzR"
      },
      "source": [
        "Обработка финального датасета"
      ]
    },
    {
      "cell_type": "code",
      "metadata": {
        "colab": {
          "base_uri": "https://localhost:8080/",
          "height": 596
        },
        "id": "1jJCdNnKZ2ZG",
        "outputId": "5f6dba02-ac3a-4cc2-e704-1bc15fa1dd6b"
      },
      "source": [
        "# Рассмотрим матрицу корреляции для начального удаления сильно скоррелированных признаков\n",
        "\n",
        "plt.figure(figsize=(15,10))\n",
        "\n",
        "sns.heatmap(df_train.corr().abs(), annot=True, fmt='.2f', cmap='PuBu')\n",
        "plt.yticks(rotation=0)\n",
        "plt.show()"
      ],
      "execution_count": 1184,
      "outputs": [
        {
          "output_type": "display_data",
          "data": {
            "image/png": "[encoded data removed]",
            "text/plain": [
              "<Figure size 1080x720 with 2 Axes>"
            ]
          },
          "metadata": {
            "tags": [],
            "needs_background": "light"
          }
        }
      ]
    },
    {
      "cell_type": "code",
      "metadata": {
        "id": "XJBFXD1uXvVl"
      },
      "source": [
        "# Удаляем mean значения из dist и rate\n",
        "# Пока без токенайзера, поэтому не будем включать столбец street\n",
        "categorical_features = ['status', 'propertyType', 'city', 'zipcode', 'state']\n",
        "numerical_features = ['sqft', 'dist_max', 'dist_min', 'rate_max', 'rate_min']\n",
        "value = ['target']"
      ],
      "execution_count": 1190,
      "outputs": []
    },
    {
      "cell_type": "code",
      "metadata": {
        "colab": {
          "base_uri": "https://localhost:8080/",
          "height": 235
        },
        "id": "EHCrqsfUkNLn",
        "outputId": "dfeabda0-648f-4226-ab4c-e6f07695227f"
      },
      "source": [
        "# Смотрим выбросы\n",
        "\n",
        "data_out = data_outlier(numerical_features + value, df_train)\n",
        "data_out"
      ],
      "execution_count": 1196,
      "outputs": [
        {
          "output_type": "execute_result",
          "data": {
            "text/html": [
              "<div>\n",
              "<style scoped>\n",
              "    .dataframe tbody tr th:only-of-type {\n",
              "        vertical-align: middle;\n",
              "    }\n",
              "\n",
              "    .dataframe tbody tr th {\n",
              "        vertical-align: top;\n",
              "    }\n",
              "\n",
              "    .dataframe thead th {\n",
              "        text-align: right;\n",
              "    }\n",
              "</style>\n",
              "<table border=\"1\" class=\"dataframe\">\n",
              "  <thead>\n",
              "    <tr style=\"text-align: right;\">\n",
              "      <th></th>\n",
              "      <th>name</th>\n",
              "      <th>count</th>\n",
              "      <th>min</th>\n",
              "      <th>mean</th>\n",
              "      <th>max</th>\n",
              "      <th>low_range</th>\n",
              "      <th>upper_range</th>\n",
              "      <th>out_count</th>\n",
              "    </tr>\n",
              "  </thead>\n",
              "  <tbody>\n",
              "    <tr>\n",
              "      <th>0</th>\n",
              "      <td>sqft</td>\n",
              "      <td>326765.0</td>\n",
              "      <td>0.00</td>\n",
              "      <td>18722.49</td>\n",
              "      <td>7.959794e+08</td>\n",
              "      <td>-1016.00</td>\n",
              "      <td>5104.00</td>\n",
              "      <td>28661.0</td>\n",
              "    </tr>\n",
              "    <tr>\n",
              "      <th>1</th>\n",
              "      <td>dist_max</td>\n",
              "      <td>326765.0</td>\n",
              "      <td>0.02</td>\n",
              "      <td>4.98</td>\n",
              "      <td>1.591090e+03</td>\n",
              "      <td>-3.92</td>\n",
              "      <td>10.92</td>\n",
              "      <td>34693.0</td>\n",
              "    </tr>\n",
              "    <tr>\n",
              "      <th>2</th>\n",
              "      <td>dist_min</td>\n",
              "      <td>326765.0</td>\n",
              "      <td>0.01</td>\n",
              "      <td>1.19</td>\n",
              "      <td>1.590380e+03</td>\n",
              "      <td>-1.02</td>\n",
              "      <td>2.70</td>\n",
              "      <td>27885.0</td>\n",
              "    </tr>\n",
              "    <tr>\n",
              "      <th>3</th>\n",
              "      <td>rate_max</td>\n",
              "      <td>326765.0</td>\n",
              "      <td>1.00</td>\n",
              "      <td>6.70</td>\n",
              "      <td>1.000000e+01</td>\n",
              "      <td>-1.00</td>\n",
              "      <td>15.00</td>\n",
              "      <td>0.0</td>\n",
              "    </tr>\n",
              "    <tr>\n",
              "      <th>4</th>\n",
              "      <td>rate_min</td>\n",
              "      <td>326765.0</td>\n",
              "      <td>1.00</td>\n",
              "      <td>3.69</td>\n",
              "      <td>1.000000e+01</td>\n",
              "      <td>-2.50</td>\n",
              "      <td>9.50</td>\n",
              "      <td>557.0</td>\n",
              "    </tr>\n",
              "    <tr>\n",
              "      <th>5</th>\n",
              "      <td>target</td>\n",
              "      <td>326765.0</td>\n",
              "      <td>1.00</td>\n",
              "      <td>615877.95</td>\n",
              "      <td>1.950000e+08</td>\n",
              "      <td>-386000.00</td>\n",
              "      <td>1150000.00</td>\n",
              "      <td>31408.0</td>\n",
              "    </tr>\n",
              "  </tbody>\n",
              "</table>\n",
              "</div>"
            ],
            "text/plain": [
              "       name     count   min  ...  low_range  upper_range  out_count\n",
              "0      sqft  326765.0  0.00  ...   -1016.00      5104.00    28661.0\n",
              "1  dist_max  326765.0  0.02  ...      -3.92        10.92    34693.0\n",
              "2  dist_min  326765.0  0.01  ...      -1.02         2.70    27885.0\n",
              "3  rate_max  326765.0  1.00  ...      -1.00        15.00        0.0\n",
              "4  rate_min  326765.0  1.00  ...      -2.50         9.50      557.0\n",
              "5    target  326765.0  1.00  ... -386000.00   1150000.00    31408.0\n",
              "\n",
              "[6 rows x 8 columns]"
            ]
          },
          "metadata": {
            "tags": []
          },
          "execution_count": 1196
        }
      ]
    },
    {
      "cell_type": "code",
      "metadata": {
        "id": "x64SVctEMEcN"
      },
      "source": [
        "# Задаем типы переменных\n",
        "\n"
      ],
      "execution_count": 1019,
      "outputs": []
    },
    {
      "cell_type": "code",
      "metadata": {
        "id": "BpqTvUg9MI38"
      },
      "source": [
        ""
      ],
      "execution_count": 1019,
      "outputs": []
    }
  ]
}