{
  "nbformat": 4,
  "nbformat_minor": 0,
  "metadata": {
    "colab": {
      "name": "diplom_3v.ipynb",
      "provenance": [],
      "collapsed_sections": [],
      "authorship_tag": "ABX9TyMh4VSOh3XUEa8FwuX6IQ4V",
      "include_colab_link": true
    },
    "kernelspec": {
      "name": "python3",
      "display_name": "Python 3"
    },
    "language_info": {
      "name": "python"
    }
  },
  "cells": [
    {
      "cell_type": "markdown",
      "metadata": {
        "id": "view-in-github",
        "colab_type": "text"
      },
      "source": [
        "<a href=\"https://colab.research.google.com/github/TimeryaevaM/new_rep/blob/master/diplom_3v.ipynb\" target=\"_parent\"><img src=\"https://colab.research.google.com/assets/colab-badge.svg\" alt=\"Open In Colab\"/></a>"
      ]
    },
    {
      "cell_type": "code",
      "metadata": {
        "id": "1w30m-Auk6Ki"
      },
      "source": [
        "import pandas as pd\n",
        "import os\n",
        "import csv\n",
        "import numpy as np"
      ],
      "execution_count": 649,
      "outputs": []
    },
    {
      "cell_type": "code",
      "metadata": {
        "id": "MhmxFpvSlJYX"
      },
      "source": [
        "# df = pd.read_csv(\"/data_new.csv\", sep=\",\", quoting=csv.QUOTE_ALL, encoding='utf-8')\n",
        "\n",
        "df = pd.read_csv(\"/data_new.csv\")"
      ],
      "execution_count": 650,
      "outputs": []
    },
    {
      "cell_type": "code",
      "metadata": {
        "colab": {
          "base_uri": "https://localhost:8080/",
          "height": 391
        },
        "id": "mLaEOsPh-cZe",
        "outputId": "0a55be4c-df8e-4188-ebd3-f6de5ac444ac"
      },
      "source": [
        "df.head()"
      ],
      "execution_count": 651,
      "outputs": [
        {
          "output_type": "execute_result",
          "data": {
            "text/html": [
              "<div>\n",
              "<style scoped>\n",
              "    .dataframe tbody tr th:only-of-type {\n",
              "        vertical-align: middle;\n",
              "    }\n",
              "\n",
              "    .dataframe tbody tr th {\n",
              "        vertical-align: top;\n",
              "    }\n",
              "\n",
              "    .dataframe thead th {\n",
              "        text-align: right;\n",
              "    }\n",
              "</style>\n",
              "<table border=\"1\" class=\"dataframe\">\n",
              "  <thead>\n",
              "    <tr style=\"text-align: right;\">\n",
              "      <th></th>\n",
              "      <th>status</th>\n",
              "      <th>private pool</th>\n",
              "      <th>propertyType</th>\n",
              "      <th>street</th>\n",
              "      <th>baths</th>\n",
              "      <th>homeFacts</th>\n",
              "      <th>fireplace</th>\n",
              "      <th>city</th>\n",
              "      <th>schools</th>\n",
              "      <th>sqft</th>\n",
              "      <th>zipcode</th>\n",
              "      <th>beds</th>\n",
              "      <th>state</th>\n",
              "      <th>stories</th>\n",
              "      <th>mls-id</th>\n",
              "      <th>PrivatePool</th>\n",
              "      <th>MlsId</th>\n",
              "      <th>target</th>\n",
              "    </tr>\n",
              "  </thead>\n",
              "  <tbody>\n",
              "    <tr>\n",
              "      <th>0</th>\n",
              "      <td>Active</td>\n",
              "      <td>NaN</td>\n",
              "      <td>Single Family Home</td>\n",
              "      <td>240 Heather Ln</td>\n",
              "      <td>3.5</td>\n",
              "      <td>{'atAGlanceFacts': [{'factValue': '2019', 'fac...</td>\n",
              "      <td>Gas Logs</td>\n",
              "      <td>Southern Pines</td>\n",
              "      <td>[{'rating': ['4', '4', '7', 'NR', '4', '7', 'N...</td>\n",
              "      <td>2900</td>\n",
              "      <td>28387</td>\n",
              "      <td>4</td>\n",
              "      <td>NC</td>\n",
              "      <td>NaN</td>\n",
              "      <td>NaN</td>\n",
              "      <td>NaN</td>\n",
              "      <td>611019</td>\n",
              "      <td>$418,000</td>\n",
              "    </tr>\n",
              "    <tr>\n",
              "      <th>1</th>\n",
              "      <td>for sale</td>\n",
              "      <td>NaN</td>\n",
              "      <td>single-family home</td>\n",
              "      <td>12911 E Heroy Ave</td>\n",
              "      <td>3 Baths</td>\n",
              "      <td>{'atAGlanceFacts': [{'factValue': '2019', 'fac...</td>\n",
              "      <td>NaN</td>\n",
              "      <td>Spokane Valley</td>\n",
              "      <td>[{'rating': ['4/10', 'None/10', '4/10'], 'data...</td>\n",
              "      <td>1,947 sqft</td>\n",
              "      <td>99216</td>\n",
              "      <td>3 Beds</td>\n",
              "      <td>WA</td>\n",
              "      <td>2.0</td>\n",
              "      <td>NaN</td>\n",
              "      <td>NaN</td>\n",
              "      <td>201916904</td>\n",
              "      <td>$310,000</td>\n",
              "    </tr>\n",
              "    <tr>\n",
              "      <th>2</th>\n",
              "      <td>for sale</td>\n",
              "      <td>NaN</td>\n",
              "      <td>single-family home</td>\n",
              "      <td>2005 Westridge Rd</td>\n",
              "      <td>2 Baths</td>\n",
              "      <td>{'atAGlanceFacts': [{'factValue': '1961', 'fac...</td>\n",
              "      <td>yes</td>\n",
              "      <td>Los Angeles</td>\n",
              "      <td>[{'rating': ['8/10', '4/10', '8/10'], 'data': ...</td>\n",
              "      <td>3,000 sqft</td>\n",
              "      <td>90049</td>\n",
              "      <td>3 Beds</td>\n",
              "      <td>CA</td>\n",
              "      <td>1.0</td>\n",
              "      <td>NaN</td>\n",
              "      <td>yes</td>\n",
              "      <td>FR19221027</td>\n",
              "      <td>$2,895,000</td>\n",
              "    </tr>\n",
              "    <tr>\n",
              "      <th>3</th>\n",
              "      <td>for sale</td>\n",
              "      <td>NaN</td>\n",
              "      <td>single-family home</td>\n",
              "      <td>4311 Livingston Ave</td>\n",
              "      <td>8 Baths</td>\n",
              "      <td>{'atAGlanceFacts': [{'factValue': '2006', 'fac...</td>\n",
              "      <td>yes</td>\n",
              "      <td>Dallas</td>\n",
              "      <td>[{'rating': ['9/10', '9/10', '10/10', '9/10'],...</td>\n",
              "      <td>6,457 sqft</td>\n",
              "      <td>75205</td>\n",
              "      <td>5 Beds</td>\n",
              "      <td>TX</td>\n",
              "      <td>3.0</td>\n",
              "      <td>NaN</td>\n",
              "      <td>NaN</td>\n",
              "      <td>14191809</td>\n",
              "      <td>$2,395,000</td>\n",
              "    </tr>\n",
              "    <tr>\n",
              "      <th>4</th>\n",
              "      <td>for sale</td>\n",
              "      <td>NaN</td>\n",
              "      <td>lot/land</td>\n",
              "      <td>1524 Kiscoe St</td>\n",
              "      <td>NaN</td>\n",
              "      <td>{'atAGlanceFacts': [{'factValue': '', 'factLab...</td>\n",
              "      <td>NaN</td>\n",
              "      <td>Palm Bay</td>\n",
              "      <td>[{'rating': ['4/10', '5/10', '5/10'], 'data': ...</td>\n",
              "      <td>NaN</td>\n",
              "      <td>32908</td>\n",
              "      <td>NaN</td>\n",
              "      <td>FL</td>\n",
              "      <td>NaN</td>\n",
              "      <td>NaN</td>\n",
              "      <td>NaN</td>\n",
              "      <td>861745</td>\n",
              "      <td>$5,000</td>\n",
              "    </tr>\n",
              "  </tbody>\n",
              "</table>\n",
              "</div>"
            ],
            "text/plain": [
              "     status private pool  ...       MlsId      target\n",
              "0    Active          NaN  ...      611019    $418,000\n",
              "1  for sale          NaN  ...   201916904    $310,000\n",
              "2  for sale          NaN  ...  FR19221027  $2,895,000\n",
              "3  for sale          NaN  ...    14191809  $2,395,000\n",
              "4  for sale          NaN  ...      861745      $5,000\n",
              "\n",
              "[5 rows x 18 columns]"
            ]
          },
          "metadata": {
            "tags": []
          },
          "execution_count": 651
        }
      ]
    },
    {
      "cell_type": "code",
      "metadata": {
        "colab": {
          "base_uri": "https://localhost:8080/"
        },
        "id": "KO0u_3EW-okk",
        "outputId": "1b2b46ac-41c3-4861-9aa2-ba731ed488a6"
      },
      "source": [
        "df.shape"
      ],
      "execution_count": 652,
      "outputs": [
        {
          "output_type": "execute_result",
          "data": {
            "text/plain": [
              "(377185, 18)"
            ]
          },
          "metadata": {
            "tags": []
          },
          "execution_count": 652
        }
      ]
    },
    {
      "cell_type": "code",
      "metadata": {
        "id": "Egyx7KRmlMc9",
        "colab": {
          "base_uri": "https://localhost:8080/"
        },
        "outputId": "3e7c40c3-d795-493e-a736-22eeade0c714"
      },
      "source": [
        "df[df['target'].isna()].shape"
      ],
      "execution_count": 653,
      "outputs": [
        {
          "output_type": "execute_result",
          "data": {
            "text/plain": [
              "(2481, 18)"
            ]
          },
          "metadata": {
            "tags": []
          },
          "execution_count": 653
        }
      ]
    },
    {
      "cell_type": "code",
      "metadata": {
        "colab": {
          "base_uri": "https://localhost:8080/"
        },
        "id": "nP1wSjr_vQfi",
        "outputId": "bd256d4b-4523-437f-b547-cc0499dc90de"
      },
      "source": [
        "df.info()"
      ],
      "execution_count": 654,
      "outputs": [
        {
          "output_type": "stream",
          "text": [
            "<class 'pandas.core.frame.DataFrame'>\n",
            "RangeIndex: 377185 entries, 0 to 377184\n",
            "Data columns (total 18 columns):\n",
            " #   Column        Non-Null Count   Dtype \n",
            "---  ------        --------------   ----- \n",
            " 0   status        337267 non-null  object\n",
            " 1   private pool  4181 non-null    object\n",
            " 2   propertyType  342452 non-null  object\n",
            " 3   street        377183 non-null  object\n",
            " 4   baths         270847 non-null  object\n",
            " 5   homeFacts     377185 non-null  object\n",
            " 6   fireplace     103115 non-null  object\n",
            " 7   city          377151 non-null  object\n",
            " 8   schools       377185 non-null  object\n",
            " 9   sqft          336608 non-null  object\n",
            " 10  zipcode       377185 non-null  object\n",
            " 11  beds          285903 non-null  object\n",
            " 12  state         377185 non-null  object\n",
            " 13  stories       226470 non-null  object\n",
            " 14  mls-id        24942 non-null   object\n",
            " 15  PrivatePool   40311 non-null   object\n",
            " 16  MlsId         310305 non-null  object\n",
            " 17  target        374704 non-null  object\n",
            "dtypes: object(18)\n",
            "memory usage: 51.8+ MB\n"
          ],
          "name": "stdout"
        }
      ]
    },
    {
      "cell_type": "code",
      "metadata": {
        "colab": {
          "base_uri": "https://localhost:8080/"
        },
        "id": "DmT4P5r82xb5",
        "outputId": "13c7dc75-7d5c-4d10-f0ee-65bbb2e09794"
      },
      "source": [
        "print(\"Percent NULL values\\n\")\n",
        "round(df.isna().sum() / df.shape[0] * 100, 2)"
      ],
      "execution_count": 655,
      "outputs": [
        {
          "output_type": "stream",
          "text": [
            "Percent NULL values\n",
            "\n"
          ],
          "name": "stdout"
        },
        {
          "output_type": "execute_result",
          "data": {
            "text/plain": [
              "status          10.58\n",
              "private pool    98.89\n",
              "propertyType     9.21\n",
              "street           0.00\n",
              "baths           28.19\n",
              "homeFacts        0.00\n",
              "fireplace       72.66\n",
              "city             0.01\n",
              "schools          0.00\n",
              "sqft            10.76\n",
              "zipcode          0.00\n",
              "beds            24.20\n",
              "state            0.00\n",
              "stories         39.96\n",
              "mls-id          93.39\n",
              "PrivatePool     89.31\n",
              "MlsId           17.73\n",
              "target           0.66\n",
              "dtype: float64"
            ]
          },
          "metadata": {
            "tags": []
          },
          "execution_count": 655
        }
      ]
    },
    {
      "cell_type": "markdown",
      "metadata": {
        "id": "4SsjYfyy3ecP"
      },
      "source": [
        "Удаляем столбцы, где процент NULL значений больше 40%"
      ]
    },
    {
      "cell_type": "code",
      "metadata": {
        "id": "11b4aa6dK7q2"
      },
      "source": [
        "df.drop(['private pool', 'fireplace', 'mls-id', 'PrivatePool'], axis=1, inplace=True)"
      ],
      "execution_count": 656,
      "outputs": []
    },
    {
      "cell_type": "code",
      "metadata": {
        "colab": {
          "base_uri": "https://localhost:8080/"
        },
        "id": "HlT7wWfZ39we",
        "outputId": "7bf66df2-b84e-455c-c192-4c5f15d7e7ce"
      },
      "source": [
        "df.nunique()"
      ],
      "execution_count": 657,
      "outputs": [
        {
          "output_type": "execute_result",
          "data": {
            "text/plain": [
              "status             159\n",
              "propertyType      1280\n",
              "street          337076\n",
              "baths              229\n",
              "homeFacts       321009\n",
              "city              2026\n",
              "schools         297365\n",
              "sqft             25405\n",
              "zipcode           4549\n",
              "beds              1184\n",
              "state               39\n",
              "stories            348\n",
              "MlsId           232944\n",
              "target           43939\n",
              "dtype: int64"
            ]
          },
          "metadata": {
            "tags": []
          },
          "execution_count": 657
        }
      ]
    },
    {
      "cell_type": "markdown",
      "metadata": {
        "id": "jHEzEYMH1LyF"
      },
      "source": [
        "status"
      ]
    },
    {
      "cell_type": "code",
      "metadata": {
        "id": "2n1c-t7p4C-0"
      },
      "source": [
        "df['status'] = df['status'].str.lower()"
      ],
      "execution_count": 658,
      "outputs": []
    },
    {
      "cell_type": "code",
      "metadata": {
        "colab": {
          "base_uri": "https://localhost:8080/",
          "height": 35
        },
        "id": "9NBV6zdI95QT",
        "outputId": "e49b170a-5f56-43ec-8548-e027515bd4ef"
      },
      "source": [
        "import string\n",
        "string.punctuation\n",
        "string.digits"
      ],
      "execution_count": 659,
      "outputs": [
        {
          "output_type": "execute_result",
          "data": {
            "application/vnd.google.colaboratory.intrinsic+json": {
              "type": "string"
            },
            "text/plain": [
              "'0123456789'"
            ]
          },
          "metadata": {
            "tags": []
          },
          "execution_count": 659
        }
      ]
    },
    {
      "cell_type": "code",
      "metadata": {
        "colab": {
          "base_uri": "https://localhost:8080/"
        },
        "id": "gjVBpAcj_hvK",
        "outputId": "de8d4e11-ae6d-4602-e6f2-56e17f429401"
      },
      "source": [
        "df['status'] = df['status'].str.replace('[{}]'.format(string.punctuation), ' ').str.replace('[{}]'.format(string.digits), ' ').apply(lambda x: \" \".join(str(x).split()))\n",
        "df['status'].value_counts()"
      ],
      "execution_count": 660,
      "outputs": [
        {
          "output_type": "execute_result",
          "data": {
            "text/plain": [
              "for sale                   199571\n",
              "active                     105207\n",
              "nan                         39918\n",
              "foreclosure                  6769\n",
              "new construction             5475\n",
              "                            ...  \n",
              "pending backups wanted          1\n",
              "contingent sale of home         1\n",
              "pending take backups            1\n",
              "conting accpt backups           1\n",
              "under contract w bckp           1\n",
              "Name: status, Length: 104, dtype: int64"
            ]
          },
          "metadata": {
            "tags": []
          },
          "execution_count": 660
        }
      ]
    },
    {
      "cell_type": "code",
      "metadata": {
        "colab": {
          "base_uri": "https://localhost:8080/"
        },
        "id": "JwQBiVTSibVQ",
        "outputId": "d988d80f-c053-40a6-b57d-d0b6d1673c9b"
      },
      "source": [
        "df['status'].nunique()"
      ],
      "execution_count": 661,
      "outputs": [
        {
          "output_type": "execute_result",
          "data": {
            "text/plain": [
              "104"
            ]
          },
          "metadata": {
            "tags": []
          },
          "execution_count": 661
        }
      ]
    },
    {
      "cell_type": "markdown",
      "metadata": {
        "id": "Vfiig-gf1Ix2"
      },
      "source": [
        "propertyType "
      ]
    },
    {
      "cell_type": "code",
      "metadata": {
        "id": "2drMoTn31Sv0"
      },
      "source": [
        "df['propertyType'] = df['propertyType'].str.lower()\n",
        "df['propertyType'] = df['propertyType'].str.replace('[{}]'.format(string.punctuation), ' ').apply(lambda x: \" \".join(str(x).split()))\n",
        "df['propertyType'] = df['propertyType'].str.replace('one', '1').str.replace('two', '2')"
      ],
      "execution_count": 662,
      "outputs": []
    },
    {
      "cell_type": "code",
      "metadata": {
        "colab": {
          "base_uri": "https://localhost:8080/"
        },
        "id": "6adUWZNnCEu4",
        "outputId": "59d7e09d-811b-4692-ec60-fe1836f0ecca"
      },
      "source": [
        "df['propertyType'].value_counts()[20:40]"
      ],
      "execution_count": 663,
      "outputs": [
        {
          "output_type": "execute_result",
          "data": {
            "text/plain": [
              "contemporary modern           1010\n",
              "apartment                      922\n",
              "2 stories                      911\n",
              "mfd mobile home                792\n",
              "single detached                751\n",
              "detached 2 story               638\n",
              "2 story                        596\n",
              "transitional                   560\n",
              "cooperative                    535\n",
              "florida                        530\n",
              "bungalow                       442\n",
              "farms ranches                  371\n",
              "garden home                    305\n",
              "cape cod                       281\n",
              "2 stories traditional          280\n",
              "spanish mediterranean          272\n",
              "other style                    249\n",
              "1 story traditional            238\n",
              "other                          232\n",
              "condo townhome traditional     225\n",
              "Name: propertyType, dtype: int64"
            ]
          },
          "metadata": {
            "tags": []
          },
          "execution_count": 663
        }
      ]
    },
    {
      "cell_type": "code",
      "metadata": {
        "colab": {
          "base_uri": "https://localhost:8080/"
        },
        "id": "bUIKI--bHHOm",
        "outputId": "4d705536-fee8-4d85-d585-8e6dfcc9f91b"
      },
      "source": [
        "df['stories_dop'] = df['propertyType'].str.findall(r'[a-z0-9]+ story|[a-z0-9]+ stories').apply(lambda x: None if len(x) == 0 else x[-1])\n",
        "#.str.replace('one', '1').str.replace('two', '2')\n",
        "df['stories_dop'].value_counts(dropna=False)"
      ],
      "execution_count": 664,
      "outputs": [
        {
          "output_type": "execute_result",
          "data": {
            "text/plain": [
              "NaN          369527\n",
              "1 story        4440\n",
              "2 stories      1558\n",
              "2 story        1466\n",
              "3 stories       134\n",
              "8 stories        38\n",
              "7 stories        15\n",
              "3 story           6\n",
              "5 story           1\n",
              "Name: stories_dop, dtype: int64"
            ]
          },
          "metadata": {
            "tags": []
          },
          "execution_count": 664
        }
      ]
    },
    {
      "cell_type": "code",
      "metadata": {
        "id": "W1zAHyISN2sg"
      },
      "source": [
        "set_story = set(df['stories_dop'].dropna())\n",
        "for y in set_story:\n",
        "  df['propertyType'] = df['propertyType'].str.replace(y, '')"
      ],
      "execution_count": 665,
      "outputs": []
    },
    {
      "cell_type": "code",
      "metadata": {
        "colab": {
          "base_uri": "https://localhost:8080/"
        },
        "id": "MWm2qcUB27s8",
        "outputId": "5fb20b6e-d68f-46ec-a826-fa555e1f2506"
      },
      "source": [
        "df[df['propertyType'].str.contains('home')]['propertyType'].value_counts()"
      ],
      "execution_count": 666,
      "outputs": [
        {
          "output_type": "execute_result",
          "data": {
            "text/plain": [
              "single family home                                           123934\n",
              "condo townhome row home co op                                  7701\n",
              "multi family home                                              1501\n",
              "mfd mobile home                                                 792\n",
              "garden home                                                     305\n",
              "                                                              ...  \n",
              "condo townhome spanish                                            1\n",
              "condo townhome a frame traditional                                1\n",
              "single detached vacation home                                     1\n",
              "designated historical home colonial traditional victorian         1\n",
              "apartment condo townhome garden zero lot line                     1\n",
              "Name: propertyType, Length: 137, dtype: int64"
            ]
          },
          "metadata": {
            "tags": []
          },
          "execution_count": 666
        }
      ]
    },
    {
      "cell_type": "code",
      "metadata": {
        "id": "VNsnUVuBX64m"
      },
      "source": [
        "df['propertyType'] = df['propertyType'].str.replace('home', '')\n",
        "df['propertyType'] = df['propertyType'].apply(lambda x: None if x == '' else  \" \".join(str(x).split()))"
      ],
      "execution_count": 667,
      "outputs": []
    },
    {
      "cell_type": "code",
      "metadata": {
        "colab": {
          "base_uri": "https://localhost:8080/"
        },
        "id": "dZ-XFKT9XRqE",
        "outputId": "afa70606-0c8b-4505-9d8d-e8260b6bb181"
      },
      "source": [
        "df['propertyType'].nunique()"
      ],
      "execution_count": 668,
      "outputs": [
        {
          "output_type": "execute_result",
          "data": {
            "text/plain": [
              "1113"
            ]
          },
          "metadata": {
            "tags": []
          },
          "execution_count": 668
        }
      ]
    },
    {
      "cell_type": "markdown",
      "metadata": {
        "id": "dp5t10jcZCCK"
      },
      "source": [
        "street"
      ]
    },
    {
      "cell_type": "code",
      "metadata": {
        "colab": {
          "base_uri": "https://localhost:8080/"
        },
        "id": "17rgvZ3JXw-8",
        "outputId": "1e8542b9-db2f-460c-a41a-99f9727ffae7"
      },
      "source": [
        "df['street'].value_counts(dropna=False)[1200:]"
      ],
      "execution_count": 669,
      "outputs": [
        {
          "output_type": "execute_result",
          "data": {
            "text/plain": [
              "2964 Rusk St               3\n",
              "3617 W 155th St            3\n",
              "18 Hermann Park Ct         3\n",
              "3124 W 88th St             3\n",
              "7210 Granvia Dr            3\n",
              "                          ..\n",
              "101 Mulberry St APT 220    1\n",
              "34 S Grande Pointe Dr      1\n",
              "12720 Banting Ter          1\n",
              "12233 Pheon St             1\n",
              "821 Kodak Dr               1\n",
              "Name: street, Length: 335877, dtype: int64"
            ]
          },
          "metadata": {
            "tags": []
          },
          "execution_count": 669
        }
      ]
    },
    {
      "cell_type": "code",
      "metadata": {
        "id": "-sHPD6TZ6l48"
      },
      "source": [
        "df['street'] = df['street'].str.lower()\n",
        "df['street'] = df['street'].apply(lambda x: None if 'not disclosed' in str(x) else \n",
        "                                  None if 'undisclosed' in str(x) else\n",
        "                                  None if 'not available' in str(x) else\n",
        "                                  None if 'unknown' in str(x) else str(x))"
      ],
      "execution_count": 670,
      "outputs": []
    },
    {
      "cell_type": "code",
      "metadata": {
        "id": "J-963uSjL8iB"
      },
      "source": [
        "df.loc[(df['street'].isna()==False) & (df['street'].str.contains(r'mls ')), 'street'] = None"
      ],
      "execution_count": 671,
      "outputs": []
    },
    {
      "cell_type": "code",
      "metadata": {
        "colab": {
          "base_uri": "https://localhost:8080/",
          "height": 35
        },
        "id": "GbgWmS1esbxU",
        "outputId": "b119ecb6-98d9-4af3-926a-575743f004b1"
      },
      "source": [
        "df.loc[81361, 'street']"
      ],
      "execution_count": 672,
      "outputs": [
        {
          "output_type": "execute_result",
          "data": {
            "application/vnd.google.colaboratory.intrinsic+json": {
              "type": "string"
            },
            "text/plain": [
              "'1131 w 24th street st unit c '"
            ]
          },
          "metadata": {
            "tags": []
          },
          "execution_count": 672
        }
      ]
    },
    {
      "cell_type": "code",
      "metadata": {
        "id": "Lezwat9yAWuu"
      },
      "source": [
        "punct = string.punctuation\n",
        "df['street'] = df['street'].str.replace('[{}]'.format(string.punctuation), ' ').str.replace(r'\\b[0-9]+\\b', '').str.replace('  ', ' ').str.strip()"
      ],
      "execution_count": 673,
      "outputs": []
    },
    {
      "cell_type": "code",
      "metadata": {
        "id": "zIj1LeBMRHcX"
      },
      "source": [
        "street_list_tuple = [('st', 'street'), ('dr', 'drive'), ('ave', 'avenue'), ('rd', 'road'), ('rdg', 'ridge'), ('blvd', 'boulevard'), ('pkwy', 'parkway'), \n",
        "                   ('cir', 'circle'), ('hwy', 'highway'), ('ln', 'lane'), ('lndg', 'landing'), ('trl', 'trail'), ('ter', 'terrace'), ('ct', 'court'), \n",
        "                   ('crk', 'creek'), ('pl', 'place'), ('rds', 'roads'), ('bnd', 'bend'), ('fls', 'falls'), ('clf', 'cliff'), ('clfs', 'cliff'), ('mtn', 'mountain'), \n",
        "                   ('crst', 'crest'), ('hl', 'hill'), ('ml', 'mill'), ('mnr', 'manor'), ('hts', 'heights')]       \n",
        "                          "
      ],
      "execution_count": 674,
      "outputs": []
    },
    {
      "cell_type": "code",
      "metadata": {
        "id": "1E-BO1T0-TP9"
      },
      "source": [
        "def street_replace(df, st_tupl):\n",
        "\n",
        "  # Функция замены коротких синонимов на полные названия и удаление дубликатов\n",
        "\n",
        "  df['street'] = df['street'].str.replace(rf'\\b{st_tupl[0]}\\b', st_tupl[1]).str.replace(rf'\\b{st_tupl[1]}\\b \\b{st_tupl[1]}\\b', st_tupl[1])\n",
        "  df['street'] = df['street'].str.replace('  ', ' ').str.strip()\n",
        "\n",
        "  # print(f'replace {st_tupl[0]} to {st_tupl[1]}')"
      ],
      "execution_count": 675,
      "outputs": []
    },
    {
      "cell_type": "code",
      "metadata": {
        "id": "-TXrE9VA9y-V"
      },
      "source": [
        "for x in street_list_tuple:\n",
        "  street_replace(df, x)"
      ],
      "execution_count": 676,
      "outputs": []
    },
    {
      "cell_type": "code",
      "metadata": {
        "id": "IFBTRMTnP5MM"
      },
      "source": [
        "def del_dropwords_street(df, dropword):\n",
        "\n",
        "  # Удаляем dropword из признака street\n",
        "  df['street'] = df['street'].str.replace(rf'\\b{dropword}\\b', '').str.replace(r'  ', ' ').str.strip()\n",
        "\n",
        "  print(f\"Drop {dropword}\")"
      ],
      "execution_count": 677,
      "outputs": []
    },
    {
      "cell_type": "code",
      "metadata": {
        "colab": {
          "base_uri": "https://localhost:8080/"
        },
        "id": "qwv2r3M6MiJE",
        "outputId": "b47785c0-8f48-4aee-a965-a63ab2f86c9c"
      },
      "source": [
        "dropwords = ['lot', 'lots', 'collections', 'collection', 'plan', 'apt', 'unit', 'buildable', 'the']\n",
        "\n",
        "for x in dropwords:\n",
        "  del_dropwords_street(df, x)"
      ],
      "execution_count": 678,
      "outputs": [
        {
          "output_type": "stream",
          "text": [
            "Drop lot\n",
            "Drop lots\n",
            "Drop collections\n",
            "Drop collection\n",
            "Drop plan\n",
            "Drop apt\n",
            "Drop unit\n",
            "Drop buildable\n",
            "Drop the\n"
          ],
          "name": "stdout"
        }
      ]
    },
    {
      "cell_type": "code",
      "metadata": {
        "id": "PtEsZXfg_YW4"
      },
      "source": [
        "# Удаляем мусор из строк, чтобы легче паттерны было выделять\n",
        "df['street'] = df['street'].str.replace(r'\\b[a-z]{1,2}\\b', '').str.replace('  ', ' ').str.strip()\n",
        "df['street'] = df['street'].str.replace(r'\\b[0-9]+[a-z]\\b', '').str.replace(r'\\b[a-z]+[0-9]\\b', '').str.replace(r'\\b[0-9]+ft\\b', '')\n",
        "df['street'] = df['street'].str.replace(r'  ', ' ').str.strip()"
      ],
      "execution_count": 679,
      "outputs": []
    },
    {
      "cell_type": "code",
      "metadata": {
        "id": "M7mp668lXZ7n"
      },
      "source": [
        "df['street'] = df['street'].apply(lambda x: None if x is None else\n",
        "                                  None if x.strip() == '' else x)"
      ],
      "execution_count": 680,
      "outputs": []
    },
    {
      "cell_type": "code",
      "metadata": {
        "colab": {
          "base_uri": "https://localhost:8080/"
        },
        "id": "0yEgzpl9P_gC",
        "outputId": "b12266e2-bdc3-4b33-c8c4-d95efa697cb1"
      },
      "source": [
        "df['street'].sample(10)"
      ],
      "execution_count": 681,
      "outputs": [
        {
          "output_type": "execute_result",
          "data": {
            "text/plain": [
              "282858    swift valley ranch express\n",
              "370303             stibbs cross road\n",
              "342715              delmar boulevard\n",
              "55358          brookhurst street spc\n",
              "233578             belvoir boulevard\n",
              "291353             forest dale drive\n",
              "374140               horse trap lane\n",
              "157731                    3rd street\n",
              "264661                cocoanut drive\n",
              "340253                       highway\n",
              "Name: street, dtype: object"
            ]
          },
          "metadata": {
            "tags": []
          },
          "execution_count": 681
        }
      ]
    },
    {
      "cell_type": "code",
      "metadata": {
        "id": "bFEUQ1HMZZ3R"
      },
      "source": [
        "# tokenizer\n",
        "\n",
        "# ! pip install tokenizer\n",
        "\n",
        "from keras.preprocessing.text import Tokenizer"
      ],
      "execution_count": 682,
      "outputs": []
    },
    {
      "cell_type": "code",
      "metadata": {
        "id": "1JbarXzsuA_-"
      },
      "source": [
        "# The maximum number of words to be used. (most frequent)\n",
        "MAX_WORDS = 10000\n",
        "# Max number of words in each complaint.\n",
        "MAX_SEQUENCE_LENGTH = 10"
      ],
      "execution_count": 683,
      "outputs": []
    },
    {
      "cell_type": "code",
      "metadata": {
        "id": "sf8FVG5SYaPI"
      },
      "source": [
        "street_nlp = df[df['street'].isna() == False]['street'].copy()"
      ],
      "execution_count": 684,
      "outputs": []
    },
    {
      "cell_type": "code",
      "metadata": {
        "id": "__1Pio2HY0wj"
      },
      "source": [
        "tokenize = Tokenizer(num_words=MAX_WORDS)\n",
        "tokenize.fit_on_texts(street_nlp)"
      ],
      "execution_count": 685,
      "outputs": []
    },
    {
      "cell_type": "code",
      "metadata": {
        "id": "GFbDTDdtaw4w"
      },
      "source": [
        "# tokenize.word_index\n",
        "\n",
        "# Токенайзер введем позже"
      ],
      "execution_count": 686,
      "outputs": []
    },
    {
      "cell_type": "markdown",
      "metadata": {
        "id": "x-vwUj9Tirgi"
      },
      "source": [
        "baths"
      ]
    },
    {
      "cell_type": "code",
      "metadata": {
        "colab": {
          "base_uri": "https://localhost:8080/"
        },
        "id": "72-rA4zkcziq",
        "outputId": "a01e5fbc-73ce-4d9d-fcf4-0304096f43d4"
      },
      "source": [
        "df['baths'] = df['baths'].apply(lambda x: None if x is np.nan else x)\n",
        "df['baths'].value_counts(dropna=False)"
      ],
      "execution_count": 687,
      "outputs": [
        {
          "output_type": "execute_result",
          "data": {
            "text/plain": [
              "NaN                      106338\n",
              "2 Baths                   52466\n",
              "3 Baths                   35506\n",
              "2                         20452\n",
              "2.0                       16576\n",
              "                          ...  \n",
              "2.25 ba                       1\n",
              "1.8 Baths                     1\n",
              "2-1 / 2-1 / 1-1 / 1-1         1\n",
              "23                            1\n",
              "5.25 Baths                    1\n",
              "Name: baths, Length: 230, dtype: int64"
            ]
          },
          "metadata": {
            "tags": []
          },
          "execution_count": 687
        }
      ]
    },
    {
      "cell_type": "code",
      "metadata": {
        "id": "dB_Ii709XnKe"
      },
      "source": [
        "punct = '~—\\-:'"
      ],
      "execution_count": 688,
      "outputs": []
    },
    {
      "cell_type": "code",
      "metadata": {
        "id": "jmhHX5o4iv-f"
      },
      "source": [
        "df['baths'] = df['baths'].str.lower().str.replace('[a-z]+\\.?', '').str.replace(',', '.').str.replace('[{}]'.format(punct), ' ')\n",
        "df['baths'] = df['baths'].apply(lambda x: None if str(x).strip() =='' else x)"
      ],
      "execution_count": 689,
      "outputs": []
    },
    {
      "cell_type": "code",
      "metadata": {
        "colab": {
          "base_uri": "https://localhost:8080/"
        },
        "id": "OM9QISiVi9Rp",
        "outputId": "ec6e37cb-a38d-4f33-8e21-53b9d4d207cd"
      },
      "source": [
        "df['baths_new'] = df['baths'].str.findall('[0-9]+\\.?[0-9]*')\n",
        "df['baths_new'] = df['baths_new'].apply(lambda x: None if x is None else x[0]).astype(float)\n",
        "df['baths_new'].value_counts()\n",
        "\n",
        "# df['baths_new'].to_csv('out.csv')\n",
        "# ванна 0.5 проверить"
      ],
      "execution_count": 690,
      "outputs": [
        {
          "output_type": "execute_result",
          "data": {
            "text/plain": [
              "2.0     103519\n",
              "3.0      66683\n",
              "4.0      26333\n",
              "1.0      17787\n",
              "2.5      13786\n",
              "         ...  \n",
              "1.8          1\n",
              "64.0         1\n",
              "14.5         1\n",
              "0.5          1\n",
              "42.0         1\n",
              "Name: baths_new, Length: 84, dtype: int64"
            ]
          },
          "metadata": {
            "tags": []
          },
          "execution_count": 690
        }
      ]
    },
    {
      "cell_type": "markdown",
      "metadata": {
        "id": "Z8H573yK-5Ra"
      },
      "source": [
        "city"
      ]
    },
    {
      "cell_type": "code",
      "metadata": {
        "id": "tx4GJMim-xfC"
      },
      "source": [
        "df['city'] = df['city'].str.lower().str.strip()\n",
        "df['city'] = df['city'].str.replace('\\-', ' ')"
      ],
      "execution_count": 691,
      "outputs": []
    },
    {
      "cell_type": "code",
      "metadata": {
        "id": "50sSBa0CCy35"
      },
      "source": [
        "df['city'] = df['city'].str.replace(' city', '').str.replace(' town+[a-z]*', '')\n",
        "df['city'] = df['city'].str.replace('st\\.', 'saint').str.replace(' twp.', '').str.replace('e. ', '').str.replace('ft.', 'fort').str.replace('s.a.', 'san antonio')\n",
        "df['city'] = df['city'].str.replace(' twp', '').str.replace(' vlg', ' village')\n",
        "df['city'] = df['city'].str.replace(' hts', 'heights').str.replace(' pt', 'point').str.replace('pt ', 'port ')\n",
        "df['city'] = df['city'].str.replace('^st ', 'saint ')"
      ],
      "execution_count": 692,
      "outputs": []
    },
    {
      "cell_type": "code",
      "metadata": {
        "id": "fQ9mVNQdLtvv"
      },
      "source": [
        "df.loc[(df['city'].isna()==False) & (df['city'].str.contains('san antonio')), 'city'] = 'san antonio'"
      ],
      "execution_count": 693,
      "outputs": []
    },
    {
      "cell_type": "code",
      "metadata": {
        "id": "X_UHuzr2NcFB"
      },
      "source": [
        "df['city'] = df['city'].str.replace('p c ', 'panama ').str.replace('^n ', 'north ').str.replace(\"town 'n' country\", 'town north country')\n",
        "df['city'] = df['city'].str.replace('nyork', 'new york').str.replace('nyc', 'new york')\n",
        "df['city'] = df['city'].str.replace('bed-stuy', 'brooklyn').str.replace('collegepoint', 'college point')\n",
        "df['city'] = df['city'].str.replace('othvalue [ a-z]*', 'othvalue')"
      ],
      "execution_count": 694,
      "outputs": []
    },
    {
      "cell_type": "code",
      "metadata": {
        "id": "127ZGrVM_PHv"
      },
      "source": [
        "df['city'] = df['city'].apply(lambda x: \" \".join(str(x).split()))"
      ],
      "execution_count": 695,
      "outputs": []
    },
    {
      "cell_type": "code",
      "metadata": {
        "colab": {
          "base_uri": "https://localhost:8080/"
        },
        "id": "Zjiaw16guWeV",
        "outputId": "4ff4f116-b8e3-47c2-d118-119077f36b71"
      },
      "source": [
        "df['city'].value_counts()"
      ],
      "execution_count": 696,
      "outputs": [
        {
          "output_type": "execute_result",
          "data": {
            "text/plain": [
              "san antonio        30033\n",
              "houston            24442\n",
              "miami              15528\n",
              "jacksonville       10032\n",
              "dallas              8858\n",
              "                   ...  \n",
              "hollywood hills        1\n",
              "downtown pgh           1\n",
              "sand lake              1\n",
              "plato center           1\n",
              "prairie grove          1\n",
              "Name: city, Length: 1785, dtype: int64"
            ]
          },
          "metadata": {
            "tags": []
          },
          "execution_count": 696
        }
      ]
    },
    {
      "cell_type": "markdown",
      "metadata": {
        "id": "T7pcOLqTWbxg"
      },
      "source": [
        "sqft"
      ]
    },
    {
      "cell_type": "code",
      "metadata": {
        "colab": {
          "base_uri": "https://localhost:8080/"
        },
        "id": "RER3b6qMWJMn",
        "outputId": "46d50a48-cc49-40f6-d170-81170048301b"
      },
      "source": [
        "df['sqft'].value_counts()"
      ],
      "execution_count": 697,
      "outputs": [
        {
          "output_type": "execute_result",
          "data": {
            "text/plain": [
              "0             11854\n",
              "1,200 sqft      839\n",
              "1,000 sqft      654\n",
              "1,100 sqft      573\n",
              "1,800 sqft      563\n",
              "              ...  \n",
              "35 sqft           1\n",
              "9,893             1\n",
              "5,825             1\n",
              "4664              1\n",
              "7,049 sqft        1\n",
              "Name: sqft, Length: 25405, dtype: int64"
            ]
          },
          "metadata": {
            "tags": []
          },
          "execution_count": 697
        }
      ]
    },
    {
      "cell_type": "code",
      "metadata": {
        "id": "GP4EeNuxWd-v"
      },
      "source": [
        "df['sqft'] = df['sqft'].apply(lambda x: None if x is np.nan else x)"
      ],
      "execution_count": 698,
      "outputs": []
    },
    {
      "cell_type": "code",
      "metadata": {
        "id": "GDNi00qLYEs9"
      },
      "source": [
        "df['sqft'] = df['sqft'].str.replace('[a-z ]*: ', '')\n",
        "df['sqft'] = df['sqft'].str.replace('-','').str.replace('[A-Za-z]+','').str.replace(',','')"
      ],
      "execution_count": 699,
      "outputs": []
    },
    {
      "cell_type": "code",
      "metadata": {
        "id": "MgP1MPahpfUc"
      },
      "source": [
        "df['sqft'] = df['sqft'].str.strip().apply(lambda x: None if x is None else \n",
        "                                          None if x == '' else int(x))"
      ],
      "execution_count": 700,
      "outputs": []
    },
    {
      "cell_type": "code",
      "metadata": {
        "colab": {
          "base_uri": "https://localhost:8080/"
        },
        "id": "NsuUp4aIXmZe",
        "outputId": "f000705d-ef5f-4b86-d25f-69458fd87037"
      },
      "source": [
        "df['sqft'].value_counts()"
      ],
      "execution_count": 701,
      "outputs": [
        {
          "output_type": "execute_result",
          "data": {
            "text/plain": [
              "0.0         11854\n",
              "1200.0       1426\n",
              "1000.0       1027\n",
              "1500.0       1014\n",
              "1800.0        988\n",
              "            ...  \n",
              "8966.0          1\n",
              "11089.0         1\n",
              "123275.0        1\n",
              "44351.0         1\n",
              "32767.0         1\n",
              "Name: sqft, Length: 9897, dtype: int64"
            ]
          },
          "metadata": {
            "tags": []
          },
          "execution_count": 701
        }
      ]
    },
    {
      "cell_type": "markdown",
      "metadata": {
        "id": "QGaLQyherF6A"
      },
      "source": [
        "zipcode"
      ]
    },
    {
      "cell_type": "code",
      "metadata": {
        "colab": {
          "base_uri": "https://localhost:8080/"
        },
        "id": "ebx3JkAsrA8G",
        "outputId": "84d6210f-9286-42a5-88ea-8909d48685df"
      },
      "source": [
        "df['zipcode'].value_counts()"
      ],
      "execution_count": 702,
      "outputs": [
        {
          "output_type": "execute_result",
          "data": {
            "text/plain": [
              "32137         2141\n",
              "33131         1563\n",
              "34747         1488\n",
              "78245         1390\n",
              "34759         1333\n",
              "              ... \n",
              "3316             1\n",
              "27712-3137       1\n",
              "77613            1\n",
              "27617-8314       1\n",
              "79755            1\n",
              "Name: zipcode, Length: 4549, dtype: int64"
            ]
          },
          "metadata": {
            "tags": []
          },
          "execution_count": 702
        }
      ]
    },
    {
      "cell_type": "code",
      "metadata": {
        "id": "S2ogd09Sx6ar"
      },
      "source": [
        "df['zipcode'] = df['zipcode'].str.replace('\\-[0-9]*', '').apply(lambda x: None if x is None else None if x == '' else int(x))"
      ],
      "execution_count": 703,
      "outputs": []
    },
    {
      "cell_type": "markdown",
      "metadata": {
        "id": "tUy9qm4JywQ8"
      },
      "source": [
        "beds"
      ]
    },
    {
      "cell_type": "code",
      "metadata": {
        "id": "wvpHVzR-xYi7"
      },
      "source": [
        "df['beds'] = df['beds'].apply(lambda x: None if x is np.nan else x).str.lower()"
      ],
      "execution_count": 704,
      "outputs": []
    },
    {
      "cell_type": "code",
      "metadata": {
        "colab": {
          "base_uri": "https://localhost:8080/"
        },
        "id": "BwACF0KWzBvB",
        "outputId": "ebefb46e-4b1c-4ca3-b7c9-72f2e7200ca1"
      },
      "source": [
        "df['beds'].value_counts(dropna=False)"
      ],
      "execution_count": 705,
      "outputs": [
        {
          "output_type": "execute_result",
          "data": {
            "text/plain": [
              "NaN            91282\n",
              "3 beds         53459\n",
              "4 beds         35418\n",
              "3              31406\n",
              "2 beds         26362\n",
              "               ...  \n",
              "540 sqft           1\n",
              "2.71 acres         1\n",
              "1,385 sqft         1\n",
              "10,367 sqft        1\n",
              "8,023 sqft         1\n",
              "Name: beds, Length: 1185, dtype: int64"
            ]
          },
          "metadata": {
            "tags": []
          },
          "execution_count": 705
        }
      ]
    },
    {
      "cell_type": "code",
      "metadata": {
        "id": "2iO9cAP-zPl6"
      },
      "source": [
        "index_sqft = df.loc[(df['sqft'].isna()) & (df['beds'].str.contains('sqft')), ['sqft','beds']].index\n",
        "new_sqft = df.loc[(df['sqft'].isna()) & (df['beds'].str.contains('sqft')), ['sqft','beds']]\n",
        "new_sqft['sqft'] = new_sqft['beds'].str.strip().str.replace(',', '.').str.findall('[0-9]+\\.*[0-9]*').apply(lambda x: None if len(x) == 0 else x[0]).astype(float)\n",
        "\n",
        "df.loc[(df['sqft'].isna()) & (df['beds'].str.contains('sqft')), 'sqft'] = new_sqft['sqft']\n",
        "df.loc[(df['beds'].isna()==False) & (df['beds'].str.contains('sqft')), 'beds'] = None"
      ],
      "execution_count": 706,
      "outputs": []
    },
    {
      "cell_type": "code",
      "metadata": {
        "id": "DNruJWw8z5z7"
      },
      "source": [
        "index_sqft = df.loc[(df['sqft'].isna()) & (df['beds'].str.contains('acre')), ['sqft','beds']].index\n",
        "new_sqft = df.loc[(df['sqft'].isna()) & (df['beds'].str.contains('acre')), ['sqft','beds']]\n",
        "new_sqft['sqft'] = new_sqft['beds'].str.strip().str.replace(',', '.').str.findall('[0-9]+\\.*[0-9]*').apply(lambda x: None if len(x) == 0 else x[0]).astype(float)\n",
        "new_sqft['sqft'] = (new_sqft['sqft'] * 43560).astype(int)\n",
        "\n",
        "df.loc[(df['sqft'].isna()) & (df['beds'].str.contains('acre')), 'sqft'] = new_sqft['sqft']\n",
        "df.loc[(df['beds'].isna()==False) & (df['beds'].str.contains('acre')), 'beds'] = None"
      ],
      "execution_count": 707,
      "outputs": []
    },
    {
      "cell_type": "code",
      "metadata": {
        "id": "ce4-zy-Zfl0d"
      },
      "source": [
        "df['beds'] = df['beds'].str.replace('bedrooms', 'beds').str.replace('bd', 'beds')"
      ],
      "execution_count": 708,
      "outputs": []
    },
    {
      "cell_type": "code",
      "metadata": {
        "id": "Pq61g_IU0YZk"
      },
      "source": [
        "df.loc[(df['beds'].isna()==False) & (df['beds'].str.strip().str.contains('^[a-z,\\-%@#_:;~ ]+$')), 'beds'] = None"
      ],
      "execution_count": 709,
      "outputs": []
    },
    {
      "cell_type": "code",
      "metadata": {
        "colab": {
          "base_uri": "https://localhost:8080/"
        },
        "id": "kfjeW_UVcLQm",
        "outputId": "d79820a6-3291-4c2d-e389-8b43c9c6b610"
      },
      "source": [
        "df['beds'].value_counts(dropna=False)[:20]"
      ],
      "execution_count": 710,
      "outputs": [
        {
          "output_type": "execute_result",
          "data": {
            "text/plain": [
              "NaN       111390\n",
              "3 beds     66336\n",
              "4 beds     43683\n",
              "2 beds     31605\n",
              "3          31406\n",
              "4          20030\n",
              "2          16110\n",
              "5 beds     13904\n",
              "3.0         8088\n",
              "5           6424\n",
              "4.0         5231\n",
              "1           4610\n",
              "6 beds      4466\n",
              "2.0         2430\n",
              "6           1806\n",
              "5.0         1372\n",
              "7 beds      1247\n",
              "0           1230\n",
              "1 beds      1081\n",
              "8 beds       856\n",
              "Name: beds, dtype: int64"
            ]
          },
          "metadata": {
            "tags": []
          },
          "execution_count": 710
        }
      ]
    },
    {
      "cell_type": "code",
      "metadata": {
        "colab": {
          "base_uri": "https://localhost:8080/"
        },
        "id": "2kdMd2lk1deC",
        "outputId": "09a68d52-33ae-4717-b3df-704c30b5f70e"
      },
      "source": [
        "new_bath = df.loc[(df['baths_new'].isna()) & (df['beds'].str.contains('bath')), 'beds'].str.findall('[0-9a-z ]+ bath').apply(lambda x: x[0].split()[0]).astype(float)\n",
        "df.loc[new_bath.index, 'baths_new'] = new_bath\n",
        "df.loc[new_bath.index, 'baths_new']"
      ],
      "execution_count": 711,
      "outputs": [
        {
          "output_type": "execute_result",
          "data": {
            "text/plain": [
              "18787     1.0\n",
              "124819    1.0\n",
              "172605    1.0\n",
              "238222    1.0\n",
              "279149    2.0\n",
              "325249    1.0\n",
              "Name: baths_new, dtype: float64"
            ]
          },
          "metadata": {
            "tags": []
          },
          "execution_count": 711
        }
      ]
    },
    {
      "cell_type": "code",
      "metadata": {
        "colab": {
          "base_uri": "https://localhost:8080/"
        },
        "id": "eWo-mftActlm",
        "outputId": "657a5173-321d-4865-a250-6698d20afeba"
      },
      "source": [
        "new_beds = pd.concat([(df.loc[(df['beds'].isna()==False) & (df['beds'].str.strip().str.contains('[0-9 a-z]+bed[a-z]*,')), 'beds']),\n",
        "                      df.loc[(df['beds'].isna()==False) & (df['beds'].str.strip().str.contains(',[0-9 a-z]+bed[a-z]*')), 'beds']\n",
        "                      ],\n",
        "                     ).reset_index()\n",
        "new_beds = new_beds.drop_duplicates().set_index('index')\n",
        "new_beds['beds'] = new_beds['beds'].str.replace('or more ', '').str.findall('[0-9 ]+bed').apply(lambda x: x[0].split()[0]).astype(float)\n",
        "\n",
        "df.loc[new_beds.index, 'beds'] = new_beds['beds']\n",
        "df.loc[new_beds.index, 'beds']"
      ],
      "execution_count": 712,
      "outputs": [
        {
          "output_type": "execute_result",
          "data": {
            "text/plain": [
              "index\n",
              "18787     2\n",
              "172605    2\n",
              "200331    3\n",
              "238222    3\n",
              "325249    2\n",
              "124819    2\n",
              "279149    3\n",
              "Name: beds, dtype: object"
            ]
          },
          "metadata": {
            "tags": []
          },
          "execution_count": 712
        }
      ]
    },
    {
      "cell_type": "code",
      "metadata": {
        "colab": {
          "base_uri": "https://localhost:8080/"
        },
        "id": "aRH-Z607JfVy",
        "outputId": "2858dfb9-b944-43b6-8a6f-1d109e60beed"
      },
      "source": [
        "punct = '!@#_,:;&'\n",
        "df.loc[(df['beds'].isna()==False) & (df['beds'].str.contains('[{}]'.format(punct))), 'beds'] = None\n",
        "punct = '\\-'\n",
        "new_beds = df.loc[(df['beds'].isna()==False) & (df['beds'].str.contains('[{}]'.format(punct))), 'beds'].str.findall('[0-9]+').apply(lambda x: x[-1]).astype(float)\n",
        "df.loc[new_beds.index, 'beds'] = new_beds\n",
        "df.loc[new_beds.index, 'beds']"
      ],
      "execution_count": 713,
      "outputs": [
        {
          "output_type": "execute_result",
          "data": {
            "text/plain": [
              "330468    2\n",
              "Name: beds, dtype: object"
            ]
          },
          "metadata": {
            "tags": []
          },
          "execution_count": 713
        }
      ]
    },
    {
      "cell_type": "code",
      "metadata": {
        "id": "zgBvOZk4Gh8s"
      },
      "source": [
        "df['beds'] = df['beds'].str.replace('or more ', '')\n",
        "df['beds'] = df['beds'].str.replace('beds','').str.strip().apply(lambda x: None if x is None else\n",
        "                                                                 None if x == '' else x).astype(float)"
      ],
      "execution_count": 714,
      "outputs": []
    },
    {
      "cell_type": "markdown",
      "metadata": {
        "id": "JwsNx8q4Ph1M"
      },
      "source": [
        "state"
      ]
    },
    {
      "cell_type": "code",
      "metadata": {
        "colab": {
          "base_uri": "https://localhost:8080/"
        },
        "id": "eXqI6_T-NP66",
        "outputId": "81c4e6c6-3f59-4be4-fb0f-ea867592a82b"
      },
      "source": [
        "df['state'].value_counts(dropna=False)[-20:]"
      ],
      "execution_count": 715,
      "outputs": [
        {
          "output_type": "execute_result",
          "data": {
            "text/plain": [
              "UT    1325\n",
              "MD    1090\n",
              "VT     868\n",
              "MO     866\n",
              "VA     801\n",
              "WI     452\n",
              "NJ     436\n",
              "ME     259\n",
              "IA     242\n",
              "KY      90\n",
              "OK      49\n",
              "MS      40\n",
              "SC      28\n",
              "MT       7\n",
              "DE       5\n",
              "OS       1\n",
              "AL       1\n",
              "Fl       1\n",
              "OT       1\n",
              "BA       1\n",
              "Name: state, dtype: int64"
            ]
          },
          "metadata": {
            "tags": []
          },
          "execution_count": 715
        }
      ]
    },
    {
      "cell_type": "markdown",
      "metadata": {
        "id": "zFf8WBnrPr_e"
      },
      "source": [
        "stories"
      ]
    },
    {
      "cell_type": "code",
      "metadata": {
        "colab": {
          "base_uri": "https://localhost:8080/"
        },
        "id": "eSiNvWsVPkzx",
        "outputId": "8460c690-6ea4-47d0-af08-77b71b0f41b0"
      },
      "source": [
        "df['stories_dop'] = df['stories_dop'].apply(lambda x: None if x is None else x.split()[0]).astype(float)\n",
        "df['stories_dop'].value_counts(dropna=False)"
      ],
      "execution_count": 716,
      "outputs": [
        {
          "output_type": "execute_result",
          "data": {
            "text/plain": [
              "NaN    369527\n",
              "1.0      4440\n",
              "2.0      3024\n",
              "3.0       140\n",
              "8.0        38\n",
              "7.0        15\n",
              "5.0         1\n",
              "Name: stories_dop, dtype: int64"
            ]
          },
          "metadata": {
            "tags": []
          },
          "execution_count": 716
        }
      ]
    },
    {
      "cell_type": "code",
      "metadata": {
        "colab": {
          "base_uri": "https://localhost:8080/"
        },
        "id": "gLytSAWDP4gg",
        "outputId": "8eed8393-ec80-4555-f7ff-8abde7187bbb"
      },
      "source": [
        "df['stories'] = df['stories'].str.lower()\n",
        "df['stories'].value_counts(dropna=False)"
      ],
      "execution_count": 717,
      "outputs": [
        {
          "output_type": "execute_result",
          "data": {
            "text/plain": [
              "NaN                                150715\n",
              "1.0                                 67454\n",
              "2.0                                 55283\n",
              "1                                   23086\n",
              "2                                   18146\n",
              "                                    ...  \n",
              "65.0                                    1\n",
              "2.20                                    1\n",
              "t3-townhouse 3+ stories                 1\n",
              "one and one half, three or more         1\n",
              "ground level, two                       1\n",
              "Name: stories, Length: 349, dtype: int64"
            ]
          },
          "metadata": {
            "tags": []
          },
          "execution_count": 717
        }
      ]
    },
    {
      "cell_type": "code",
      "metadata": {
        "colab": {
          "base_uri": "https://localhost:8080/"
        },
        "id": "nFpTZ8ShSWtH",
        "outputId": "69dd8295-ba57-4095-9224-e2fa92ccc584"
      },
      "source": [
        "punct = '!|/_\\-:;'\n",
        "df.loc[(df['stories'].isna()==False) & (df['stories'].str.contains('[{}]'.format(punct))), 'stories'].value_counts()\n",
        "df.loc[(df['stories'].isna()==False) & (df['stories'].str.contains('[0-9 ]/[0-9 ]')), 'stories'].value_counts()\n",
        "df.loc[(df['stories'].isna()==False) & (df['stories'].str.contains('half')), 'stories'].value_counts()\n",
        "df.loc[(df['stories'].isna()==False) & (df['stories'].str.contains('multi')), 'stories'].value_counts()\n",
        "\n",
        "# много пустых значений, не знаю, обрабатывать ли их"
      ],
      "execution_count": 718,
      "outputs": [
        {
          "output_type": "execute_result",
          "data": {
            "text/plain": [
              "multi/split                   271\n",
              "multi-level                    57\n",
              "other multi-unit               19\n",
              "three or more, multi/split      7\n",
              "multi level                     6\n",
              "multi-story                     3\n",
              "two, multi/split                3\n",
              "multi level, three or more      1\n",
              "2 story, multi level            1\n",
              "multi-level, new englander      1\n",
              "multi/split, two                1\n",
              "one, two, multi/split           1\n",
              "other, two, multi/split         1\n",
              "tri/multi level                 1\n",
              "1 story, multi level            1\n",
              "3 story, multi level            1\n",
              "multi level, tri level          1\n",
              "Name: stories, dtype: int64"
            ]
          },
          "metadata": {
            "tags": []
          },
          "execution_count": 718
        }
      ]
    },
    {
      "cell_type": "markdown",
      "metadata": {
        "id": "poldPvKAo53Z"
      },
      "source": [
        "MlsId"
      ]
    },
    {
      "cell_type": "code",
      "metadata": {
        "id": "mfQfEG2-S23g"
      },
      "source": [
        "df = df.drop('MlsId', axis=1)"
      ],
      "execution_count": 719,
      "outputs": []
    },
    {
      "cell_type": "markdown",
      "metadata": {
        "id": "pjTtXvHrw8d8"
      },
      "source": [
        "homeFacts"
      ]
    },
    {
      "cell_type": "code",
      "metadata": {
        "id": "YgIQbmEow96n"
      },
      "source": [
        "df['homeFacts'] = df['homeFacts'].apply(lambda x: eval(x))"
      ],
      "execution_count": 720,
      "outputs": []
    },
    {
      "cell_type": "code",
      "metadata": {
        "id": "CAmvgZMGzmuy"
      },
      "source": [
        "df['homeFacts_new'] = df['homeFacts'].apply(lambda x: list(x.values())[0])"
      ],
      "execution_count": 721,
      "outputs": []
    },
    {
      "cell_type": "code",
      "metadata": {
        "id": "FYgPExig5f6_"
      },
      "source": [
        "list_columns = ['Year built', 'Remodeled year', 'Heating', 'Cooling', 'Parking', 'lotsize', 'Price/sqft']\n",
        "\n",
        "for column in enumerate(list_columns):\n",
        "  df[column[1]] = None\n",
        "  df[column[1]] = df['homeFacts_new'].apply(lambda x: None if x[column[0]].get('factValue') == '' else  x[column[0]].get('factValue'))"
      ],
      "execution_count": 722,
      "outputs": []
    },
    {
      "cell_type": "markdown",
      "metadata": {
        "id": "rGfddbo3WybK"
      },
      "source": [
        "Year built"
      ]
    },
    {
      "cell_type": "code",
      "metadata": {
        "colab": {
          "base_uri": "https://localhost:8080/"
        },
        "id": "hyqY1vbGW0rA",
        "outputId": "adfa7da4-8663-422d-efca-f37b1e870e17"
      },
      "source": [
        "df['Year built'].value_counts(dropna=False)"
      ],
      "execution_count": 723,
      "outputs": [
        {
          "output_type": "execute_result",
          "data": {
            "text/plain": [
              "NaN     62374\n",
              "2019    32171\n",
              "2006     8008\n",
              "2005     7503\n",
              "2007     7152\n",
              "        ...  \n",
              "1735        1\n",
              "1208        1\n",
              "1804        1\n",
              "1809        1\n",
              "1807        1\n",
              "Name: Year built, Length: 230, dtype: int64"
            ]
          },
          "metadata": {
            "tags": []
          },
          "execution_count": 723
        }
      ]
    },
    {
      "cell_type": "code",
      "metadata": {
        "id": "-w-EQyn0W8U3"
      },
      "source": [
        "df['Year built'] = df['Year built'].apply(lambda x: None if x is None else\n",
        "                                          None if 'No' in x else int(x))"
      ],
      "execution_count": 724,
      "outputs": []
    },
    {
      "cell_type": "code",
      "metadata": {
        "colab": {
          "base_uri": "https://localhost:8080/"
        },
        "id": "BbaaJe9LYJsz",
        "outputId": "e8aa0717-d5cf-49dd-8b2a-4ff748350da7"
      },
      "source": [
        "df['Year built'].value_counts(dropna=False)"
      ],
      "execution_count": 725,
      "outputs": [
        {
          "output_type": "execute_result",
          "data": {
            "text/plain": [
              "NaN       63596\n",
              "2019.0    32171\n",
              "2006.0     8008\n",
              "2005.0     7503\n",
              "2007.0     7152\n",
              "          ...  \n",
              "1805.0        1\n",
              "1807.0        1\n",
              "1808.0        1\n",
              "1809.0        1\n",
              "1019.0        1\n",
              "Name: Year built, Length: 229, dtype: int64"
            ]
          },
          "metadata": {
            "tags": []
          },
          "execution_count": 725
        }
      ]
    },
    {
      "cell_type": "markdown",
      "metadata": {
        "id": "KPJobTwLXyA4"
      },
      "source": [
        "Remodeled year"
      ]
    },
    {
      "cell_type": "code",
      "metadata": {
        "colab": {
          "base_uri": "https://localhost:8080/"
        },
        "id": "OT1jC79bX0kE",
        "outputId": "2a124787-ebeb-4819-e875-4aac67ebe488"
      },
      "source": [
        "df['Remodeled year'].value_counts(dropna=False)\n",
        "\n",
        "# Слишком много пропусков, удалим потом столбец"
      ],
      "execution_count": 726,
      "outputs": [
        {
          "output_type": "execute_result",
          "data": {
            "text/plain": [
              "NaN     226110\n",
              "2006      5538\n",
              "2005      4817\n",
              "2007      4387\n",
              "2008      3796\n",
              "         ...  \n",
              "1888         1\n",
              "1853         1\n",
              "1845         1\n",
              "1870         1\n",
              "1738         1\n",
              "Name: Remodeled year, Length: 154, dtype: int64"
            ]
          },
          "metadata": {
            "tags": []
          },
          "execution_count": 726
        }
      ]
    },
    {
      "cell_type": "markdown",
      "metadata": {
        "id": "bmoNgA0WYBEF"
      },
      "source": [
        "Heating"
      ]
    },
    {
      "cell_type": "code",
      "metadata": {
        "colab": {
          "base_uri": "https://localhost:8080/"
        },
        "id": "itw_ArrnYbsW",
        "outputId": "951a96de-a8cf-4115-eb8c-73e2b9eeb96e"
      },
      "source": [
        "df['Heating'].value_counts(dropna=False)[:10]\n",
        "\n",
        "# Слишком много пропусков и непоказательных данных, удалим потом столбец"
      ],
      "execution_count": 727,
      "outputs": [
        {
          "output_type": "execute_result",
          "data": {
            "text/plain": [
              "NaN                 109332\n",
              "Forced Air           82807\n",
              "Forced air           51506\n",
              "Other                29623\n",
              "Electric             10211\n",
              "Gas                   9296\n",
              "No Data               8611\n",
              "Central Air           7814\n",
              "Central Electric      7112\n",
              "Central               6247\n",
              "Name: Heating, dtype: int64"
            ]
          },
          "metadata": {
            "tags": []
          },
          "execution_count": 727
        }
      ]
    },
    {
      "cell_type": "markdown",
      "metadata": {
        "id": "zXExzL_sYz0S"
      },
      "source": [
        "Cooling"
      ]
    },
    {
      "cell_type": "code",
      "metadata": {
        "colab": {
          "base_uri": "https://localhost:8080/"
        },
        "id": "S6jLqyULY2df",
        "outputId": "ceff3edc-4928-42a1-b0e0-4b71322b89bc"
      },
      "source": [
        "df['Cooling'].value_counts(dropna=False)\n",
        "\n",
        "# Слишком много пропусков и непоказательных данных, удалим потом столбец"
      ],
      "execution_count": 728,
      "outputs": [
        {
          "output_type": "execute_result",
          "data": {
            "text/plain": [
              "Central                                                                                         158754\n",
              "NaN                                                                                             123967\n",
              "Central Air                                                                                      14384\n",
              "No Data                                                                                          10616\n",
              "Has Cooling                                                                                       9730\n",
              "                                                                                                 ...  \n",
              "Gas (Hot Air), Window Unit                                                                           1\n",
              "2 Air Conditioners                                                                                   1\n",
              "Central Air, Electric Hot Air, Gas (Hot Air), Heat Pump for A/C, Heat Pump for Heat, Propane         1\n",
              "Central Air, Heat Pump - AC, Humidifier, Multizone A/C, Natural Gas                                  1\n",
              "Space Heater, Stove Heat                                                                             1\n",
              "Name: Cooling, Length: 1445, dtype: int64"
            ]
          },
          "metadata": {
            "tags": []
          },
          "execution_count": 728
        }
      ]
    },
    {
      "cell_type": "markdown",
      "metadata": {
        "id": "LyHFZsVjZ1Lz"
      },
      "source": [
        "Parking"
      ]
    },
    {
      "cell_type": "code",
      "metadata": {
        "colab": {
          "base_uri": "https://localhost:8080/"
        },
        "id": "TFUQ7Ke-Z5ln",
        "outputId": "b346fbcd-cc55-4789-a8e9-82168e137a2d"
      },
      "source": [
        "df['Parking'].value_counts(dropna=False)[:10]\n",
        "\n",
        "# Слишком много пропусков и непоказательных данных, удалим потом столбец"
      ],
      "execution_count": 729,
      "outputs": [
        {
          "output_type": "execute_result",
          "data": {
            "text/plain": [
              "NaN                         175420\n",
              "Attached Garage              70752\n",
              "2 spaces                     28063\n",
              "1 space                      14252\n",
              "No Data                      13334\n",
              "Detached Garage              13201\n",
              "Carport                       7743\n",
              "3 spaces                      4724\n",
              "Off Street                    3622\n",
              "Carport, Attached Garage      3025\n",
              "Name: Parking, dtype: int64"
            ]
          },
          "metadata": {
            "tags": []
          },
          "execution_count": 729
        }
      ]
    },
    {
      "cell_type": "markdown",
      "metadata": {
        "id": "6dRCkB31aHLg"
      },
      "source": [
        "lotsize sqft"
      ]
    },
    {
      "cell_type": "code",
      "metadata": {
        "colab": {
          "base_uri": "https://localhost:8080/",
          "height": 204
        },
        "id": "drAc8prEaIJn",
        "outputId": "b274c0af-e0ef-41e9-8dfc-83c422a85c0a"
      },
      "source": [
        "df[['lotsize', 'sqft']].sample(5)"
      ],
      "execution_count": 730,
      "outputs": [
        {
          "output_type": "execute_result",
          "data": {
            "text/html": [
              "<div>\n",
              "<style scoped>\n",
              "    .dataframe tbody tr th:only-of-type {\n",
              "        vertical-align: middle;\n",
              "    }\n",
              "\n",
              "    .dataframe tbody tr th {\n",
              "        vertical-align: top;\n",
              "    }\n",
              "\n",
              "    .dataframe thead th {\n",
              "        text-align: right;\n",
              "    }\n",
              "</style>\n",
              "<table border=\"1\" class=\"dataframe\">\n",
              "  <thead>\n",
              "    <tr style=\"text-align: right;\">\n",
              "      <th></th>\n",
              "      <th>lotsize</th>\n",
              "      <th>sqft</th>\n",
              "    </tr>\n",
              "  </thead>\n",
              "  <tbody>\n",
              "    <tr>\n",
              "      <th>175667</th>\n",
              "      <td>10,200 Sq. Ft.</td>\n",
              "      <td>NaN</td>\n",
              "    </tr>\n",
              "    <tr>\n",
              "      <th>13556</th>\n",
              "      <td>0.33 acres</td>\n",
              "      <td>1600.0</td>\n",
              "    </tr>\n",
              "    <tr>\n",
              "      <th>324435</th>\n",
              "      <td>4,064 sqft</td>\n",
              "      <td>2386.0</td>\n",
              "    </tr>\n",
              "    <tr>\n",
              "      <th>374364</th>\n",
              "      <td>5,663 sqft</td>\n",
              "      <td>2087.0</td>\n",
              "    </tr>\n",
              "    <tr>\n",
              "      <th>130805</th>\n",
              "      <td>None</td>\n",
              "      <td>1212.0</td>\n",
              "    </tr>\n",
              "  </tbody>\n",
              "</table>\n",
              "</div>"
            ],
            "text/plain": [
              "               lotsize    sqft\n",
              "175667  10,200 Sq. Ft.     NaN\n",
              "13556       0.33 acres  1600.0\n",
              "324435      4,064 sqft  2386.0\n",
              "374364      5,663 sqft  2087.0\n",
              "130805            None  1212.0"
            ]
          },
          "metadata": {
            "tags": []
          },
          "execution_count": 730
        }
      ]
    },
    {
      "cell_type": "code",
      "metadata": {
        "id": "I9Cl84xiA0d7"
      },
      "source": [
        "df['lotsize'] = df['lotsize'].str.lower().str.replace(r'[\\-,—]', '').str.strip().apply(lambda x: None if x is None else\n",
        "                                                                                      None if 'no' in x else\n",
        "                                                                                      None if x == '' else x)"
      ],
      "execution_count": 731,
      "outputs": []
    },
    {
      "cell_type": "code",
      "metadata": {
        "id": "k7gRKmIqbaKo"
      },
      "source": [
        "# Заполним те значения признака sqft которые пустые из признака lotsize\n",
        "\n",
        "# acres\n",
        "new_lot_size = df.loc[(df['sqft'].isna()) & (df['lotsize'].isna()==False) & (df['lotsize'].str.contains('sq'))]['lotsize']\n",
        "new_lot_size = new_lot_size.str.lower().str.replace(r'[a-z \\.]', '').str.strip()\n",
        "new_lot_size = new_lot_size.apply(lambda x: None if x is None else \n",
        "                                  None if x is np.nan else\n",
        "                                  None if x == '' else int(float(x)))\n",
        "df.loc[new_lot_size.index, 'sqft'] = new_lot_size\n",
        "\n",
        "# acres\n",
        "new_lot_size = df.loc[(df['sqft'].isna()) & (df['lotsize'].isna()==False) & (df['lotsize'].str.contains('acre'))]['lotsize']\n",
        "new_lot_size = new_lot_size.str.lower().str.replace('[a-z ]', '').str.strip()\n",
        "new_lot_size = new_lot_size.apply(lambda x: None if x is None else float(x) * 43560).astype(int)\n",
        "df.loc[new_lot_size.index, 'sqft'] = new_lot_size\n",
        "\n",
        "# Другие!"
      ],
      "execution_count": 732,
      "outputs": []
    },
    {
      "cell_type": "code",
      "metadata": {
        "colab": {
          "base_uri": "https://localhost:8080/"
        },
        "id": "Oc0YXT4xADlA",
        "outputId": "21e09478-1bd1-4643-a838-bbdee13ab483"
      },
      "source": [
        "df['sqft'].isna().sum()"
      ],
      "execution_count": 733,
      "outputs": [
        {
          "output_type": "execute_result",
          "data": {
            "text/plain": [
              "11890"
            ]
          },
          "metadata": {
            "tags": []
          },
          "execution_count": 733
        }
      ]
    },
    {
      "cell_type": "markdown",
      "metadata": {
        "id": "IQpRDrrzF19-"
      },
      "source": [
        "Price/sqft"
      ]
    },
    {
      "cell_type": "code",
      "metadata": {
        "colab": {
          "base_uri": "https://localhost:8080/"
        },
        "id": "z4cyDzjnF3CJ",
        "outputId": "29f6ef80-b192-40e6-957a-026eb1d496f0"
      },
      "source": [
        "df['Price/sqft'].sample(10)"
      ],
      "execution_count": 734,
      "outputs": [
        {
          "output_type": "execute_result",
          "data": {
            "text/plain": [
              "194476              $186\n",
              "29568               None\n",
              "265085              None\n",
              "240838         $109/sqft\n",
              "167384              $128\n",
              "56389     $151 / Sq. Ft.\n",
              "33426               $177\n",
              "143295              $192\n",
              "50540                $84\n",
              "326226              $155\n",
              "Name: Price/sqft, dtype: object"
            ]
          },
          "metadata": {
            "tags": []
          },
          "execution_count": 734
        }
      ]
    },
    {
      "cell_type": "code",
      "metadata": {
        "id": "iA25_OCnGccm"
      },
      "source": [
        "df['Price/sqft'] = df['Price/sqft'].str.lower().str.replace(r'[,/$a-z\\. ]', '').str.strip().apply(lambda x: None if x is None else\n",
        "                                                                                      None if x == '' else int(x))"
      ],
      "execution_count": 735,
      "outputs": []
    },
    {
      "cell_type": "markdown",
      "metadata": {
        "id": "_7ZOy6-K8q2j"
      },
      "source": [
        "schools"
      ]
    },
    {
      "cell_type": "code",
      "metadata": {
        "id": "5OB1V2m_Ei4T"
      },
      "source": [
        "df['schools'] = df['schools'].apply(lambda x: eval(x)[0])"
      ],
      "execution_count": 736,
      "outputs": []
    },
    {
      "cell_type": "code",
      "metadata": {
        "id": "75m0QOHg83So"
      },
      "source": [
        "list_keys = ['data', 'name', 'rating']\n",
        "# name не будем брать\n",
        "\n",
        "list_columns = ['Distance', 'Grades', 'rating']\n",
        "# Grades не будем брать слишком запутано\n",
        "\n",
        "df['Distance'] = df['schools'].apply(lambda x: None if x.get('data').get('Distance') is None else x.get('data').get('Distance'))\n",
        "df['rating'] = df['schools'].apply(lambda x: None if x.get('rating') is None else x.get('rating'))"
      ],
      "execution_count": 737,
      "outputs": []
    },
    {
      "cell_type": "code",
      "metadata": {
        "id": "Y1LcCu6kPZgM"
      },
      "source": [
        "df['Distance'] = df['Distance'].apply(lambda x: [float(y.replace('mi', '').strip()) for y in x])"
      ],
      "execution_count": 738,
      "outputs": []
    },
    {
      "cell_type": "code",
      "metadata": {
        "id": "MlMI9VAgnoUP"
      },
      "source": [
        "df['Distance'] = df['Distance'].apply(lambda x: list(filter(None, x)))"
      ],
      "execution_count": 739,
      "outputs": []
    },
    {
      "cell_type": "code",
      "metadata": {
        "colab": {
          "base_uri": "https://localhost:8080/"
        },
        "id": "pMOzk5DzoiQc",
        "outputId": "0f8dcc7c-e6be-4c6d-c502-98c1b7e49012"
      },
      "source": [
        "df['Distance'].sample(10)"
      ],
      "execution_count": 742,
      "outputs": [
        {
          "output_type": "execute_result",
          "data": {
            "text/plain": [
              "144401                                      [0.29]\n",
              "257921                          [1.59, 1.21, 0.26]\n",
              "163861                             [0.2, 0.5, 0.9]\n",
              "369642                          [1.95, 1.55, 1.22]\n",
              "61178     [0.5, 0.5, 2.4, 0.7, 1.5, 1.8, 1.3, 1.5]\n",
              "102041                          [4.42, 5.96, 0.32]\n",
              "198176            [0.41, 1.49, 1.41, 33.16, 27.64]\n",
              "371195              [1.0, 4.5, 1.9, 4.7, 1.9, 9.0]\n",
              "59771     [0.5, 2.6, 1.0, 0.7, 1.1, 1.0, 0.8, 1.5]\n",
              "346625                             [0.7, 0.5, 1.3]\n",
              "Name: Distance, dtype: object"
            ]
          },
          "metadata": {
            "tags": []
          },
          "execution_count": 742
        }
      ]
    },
    {
      "cell_type": "code",
      "metadata": {
        "id": "SbZpxHY6QJNw"
      },
      "source": [
        "df['rating'] = df['rating'].apply(lambda x: [None if \"NR\" in str(y) else\n",
        "                                             None if \"None\" in str(y) else\n",
        "                                             None if \"NA\" in str(y) else\n",
        "                                             None if str(y) == '' else\n",
        "                                             int(str(y).split('/')[0]) if \"/\" in str(y) else\n",
        "                                             int(y) for y in x])"
      ],
      "execution_count": 743,
      "outputs": []
    },
    {
      "cell_type": "code",
      "metadata": {
        "id": "DiFUEr3FnpoN"
      },
      "source": [
        "df['rating'] = df['rating'].apply(lambda x: list(filter(None, x)))"
      ],
      "execution_count": 744,
      "outputs": []
    },
    {
      "cell_type": "code",
      "metadata": {
        "id": "p0_jkrGKG_Az",
        "colab": {
          "base_uri": "https://localhost:8080/"
        },
        "outputId": "c65c930c-61f4-4e5e-9c26-99f591277251"
      },
      "source": [
        "df['rating'].sample(10)"
      ],
      "execution_count": 745,
      "outputs": [
        {
          "output_type": "execute_result",
          "data": {
            "text/plain": [
              "111864                                           [10, 5, 7]\n",
              "170743                                            [4, 3, 2]\n",
              "226740                                            [5, 7, 5]\n",
              "184055                                            [5, 7, 6]\n",
              "172608    [4, 2, 3, 2, 3, 6, 2, 2, 5, 5, 5, 4, 3, 5, 4, ...\n",
              "79842                                             [5, 5, 9]\n",
              "172669                                            [3, 6, 7]\n",
              "204512                                            [5, 6, 7]\n",
              "293744                                            [2, 4, 3]\n",
              "357097                                            [2, 3, 2]\n",
              "Name: rating, dtype: object"
            ]
          },
          "metadata": {
            "tags": []
          },
          "execution_count": 745
        }
      ]
    },
    {
      "cell_type": "markdown",
      "metadata": {
        "id": "DLfZodXWpR6H"
      },
      "source": [
        "target"
      ]
    },
    {
      "cell_type": "code",
      "metadata": {
        "colab": {
          "base_uri": "https://localhost:8080/"
        },
        "id": "y1USgncfo-Qt",
        "outputId": "2ec109ff-89c8-4501-8a33-3aea669d7a7d"
      },
      "source": [
        "df['target'].value_counts(dropna=False)"
      ],
      "execution_count": 626,
      "outputs": [
        {
          "output_type": "execute_result",
          "data": {
            "text/plain": [
              "NaN           2481\n",
              "$225,000      1462\n",
              "$275,000      1355\n",
              "$250,000      1312\n",
              "$350,000      1296\n",
              "              ... \n",
              "$418,464         1\n",
              "$54,472          1\n",
              "18,800,000       1\n",
              "$372,078         1\n",
              "$3,396,000       1\n",
              "Name: target, Length: 43940, dtype: int64"
            ]
          },
          "metadata": {
            "tags": []
          },
          "execution_count": 626
        }
      ]
    },
    {
      "cell_type": "code",
      "metadata": {
        "id": "HFnwGMOopVE1"
      },
      "source": [
        "df['target'] = df['target'].apply(lambda x: None if x is np.nan else x)"
      ],
      "execution_count": 627,
      "outputs": []
    },
    {
      "cell_type": "code",
      "metadata": {
        "colab": {
          "base_uri": "https://localhost:8080/"
        },
        "id": "NfFvxqkHpdh9",
        "outputId": "d5a594fa-d971-4b75-e706-ff3950ae5f87"
      },
      "source": [
        "df[(df['target'].isna()==False) & (df['target'].str.isdigit())]['target'].value_counts()"
      ],
      "execution_count": 628,
      "outputs": [
        {
          "output_type": "execute_result",
          "data": {
            "text/plain": [
              "800    2\n",
              "3      2\n",
              "1      2\n",
              "825    1\n",
              "20     1\n",
              "29     1\n",
              "8      1\n",
              "750    1\n",
              "25     1\n",
              "30     1\n",
              "Name: target, dtype: int64"
            ]
          },
          "metadata": {
            "tags": []
          },
          "execution_count": 628
        }
      ]
    },
    {
      "cell_type": "code",
      "metadata": {
        "id": "0xQnwkKanhpT"
      },
      "source": [
        "punct = '$,+\\-/'\n",
        "df['target'] = df['target'].str.replace('[a-z]', '').str.replace('[{}]'.format(punct), '').str.strip()"
      ],
      "execution_count": 629,
      "outputs": []
    },
    {
      "cell_type": "code",
      "metadata": {
        "id": "QqIPaufFn3_K"
      },
      "source": [
        "df['target'] = df['target'].apply(lambda x: None if x is None else int(x.split()[0]))"
      ],
      "execution_count": 630,
      "outputs": []
    },
    {
      "cell_type": "code",
      "metadata": {
        "id": "t8F1vVeKsu_8",
        "colab": {
          "base_uri": "https://localhost:8080/"
        },
        "outputId": "317452a0-eca8-495e-ac66-afcff9a82724"
      },
      "source": [
        "df.loc[330468]['target']"
      ],
      "execution_count": 631,
      "outputs": [
        {
          "output_type": "execute_result",
          "data": {
            "text/plain": [
              "1215.0"
            ]
          },
          "metadata": {
            "tags": []
          },
          "execution_count": 631
        }
      ]
    },
    {
      "cell_type": "code",
      "metadata": {
        "colab": {
          "base_uri": "https://localhost:8080/"
        },
        "id": "nm6LI-D6mtYh",
        "outputId": "9ad9ef6a-6830-4a10-a055-a6eba984f687"
      },
      "source": [
        "df['target'].value_counts(dropna=False)"
      ],
      "execution_count": 632,
      "outputs": [
        {
          "output_type": "execute_result",
          "data": {
            "text/plain": [
              "NaN         2481\n",
              "225000.0    1806\n",
              "275000.0    1650\n",
              "250000.0    1644\n",
              "350000.0    1641\n",
              "            ... \n",
              "9100.0         1\n",
              "515530.0       1\n",
              "195050.0       1\n",
              "780226.0       1\n",
              "374521.0       1\n",
              "Name: target, Length: 34233, dtype: int64"
            ]
          },
          "metadata": {
            "tags": []
          },
          "execution_count": 632
        }
      ]
    },
    {
      "cell_type": "markdown",
      "metadata": {
        "id": "DR0jxCf7HgZl"
      },
      "source": [
        "target Price/sqft"
      ]
    },
    {
      "cell_type": "code",
      "metadata": {
        "id": "76n0Rxq6Hf8I"
      },
      "source": [
        "# Заполним те значения признака sqft которые пустые из признака Price/sqft и признака target\n",
        "\n",
        "new_lot_size = df.loc[(df['sqft'].isna()) & (df['target'].isna()==False) & (df['Price/sqft'].isna()==False)][['Price/sqft', 'target']]\n",
        "new_lot_size['sqft'] = (new_lot_size['target'] / new_lot_size['Price/sqft']).astype(int)\n",
        "df.loc[new_lot_size.index, 'sqft'] = new_lot_size['sqft']\n",
        "\n",
        "# Заполним те значения признака Price/sqft которые пустые из признака sqft и признака target\n",
        "\n",
        "new_prsq = df.loc[(df['sqft'].isna()==False) & (df['target'].isna()==False) & (df['Price/sqft'].isna())][['sqft', 'target']]\n",
        "new_prsq['Price/sqft'] = round(new_prsq['target'] / new_prsq['sqft'])\n",
        "df.loc[new_prsq.index, 'Price/sqft'] = new_prsq['Price/sqft']"
      ],
      "execution_count": 633,
      "outputs": []
    },
    {
      "cell_type": "markdown",
      "metadata": {
        "id": "OiX9sC8e5DUi"
      },
      "source": [
        "future engeneer"
      ]
    },
    {
      "cell_type": "code",
      "metadata": {
        "colab": {
          "base_uri": "https://localhost:8080/",
          "height": 547
        },
        "id": "6SUBDZONnW6I",
        "outputId": "2af52b0b-7961-4e40-db80-74b3cb4e6eeb"
      },
      "source": [
        "df.sample(5)"
      ],
      "execution_count": 634,
      "outputs": [
        {
          "output_type": "execute_result",
          "data": {
            "text/html": [
              "<div>\n",
              "<style scoped>\n",
              "    .dataframe tbody tr th:only-of-type {\n",
              "        vertical-align: middle;\n",
              "    }\n",
              "\n",
              "    .dataframe tbody tr th {\n",
              "        vertical-align: top;\n",
              "    }\n",
              "\n",
              "    .dataframe thead th {\n",
              "        text-align: right;\n",
              "    }\n",
              "</style>\n",
              "<table border=\"1\" class=\"dataframe\">\n",
              "  <thead>\n",
              "    <tr style=\"text-align: right;\">\n",
              "      <th></th>\n",
              "      <th>status</th>\n",
              "      <th>propertyType</th>\n",
              "      <th>street</th>\n",
              "      <th>baths</th>\n",
              "      <th>homeFacts</th>\n",
              "      <th>city</th>\n",
              "      <th>schools</th>\n",
              "      <th>sqft</th>\n",
              "      <th>zipcode</th>\n",
              "      <th>beds</th>\n",
              "      <th>state</th>\n",
              "      <th>stories</th>\n",
              "      <th>target</th>\n",
              "      <th>stories_dop</th>\n",
              "      <th>baths_new</th>\n",
              "      <th>homeFacts_new</th>\n",
              "      <th>Year built</th>\n",
              "      <th>Remodeled year</th>\n",
              "      <th>Heating</th>\n",
              "      <th>Cooling</th>\n",
              "      <th>Parking</th>\n",
              "      <th>lotsize</th>\n",
              "      <th>Price/sqft</th>\n",
              "      <th>Distance</th>\n",
              "      <th>rating</th>\n",
              "    </tr>\n",
              "  </thead>\n",
              "  <tbody>\n",
              "    <tr>\n",
              "      <th>158269</th>\n",
              "      <td>for sale</td>\n",
              "      <td>condo</td>\n",
              "      <td>peachtree road</td>\n",
              "      <td>4.0</td>\n",
              "      <td>{'atAGlanceFacts': [{'factValue': '2007', 'fac...</td>\n",
              "      <td>atlanta</td>\n",
              "      <td>{'rating': ['5/10', '6/10', '6/10'], 'data': {...</td>\n",
              "      <td>2579.0</td>\n",
              "      <td>30305.0</td>\n",
              "      <td>3.0</td>\n",
              "      <td>GA</td>\n",
              "      <td>2</td>\n",
              "      <td>1350000.0</td>\n",
              "      <td>NaN</td>\n",
              "      <td>4.00</td>\n",
              "      <td>[{'factValue': '2007', 'factLabel': 'Year buil...</td>\n",
              "      <td>2007.0</td>\n",
              "      <td>None</td>\n",
              "      <td>Forced air</td>\n",
              "      <td>Central</td>\n",
              "      <td>4 spaces</td>\n",
              "      <td>None</td>\n",
              "      <td>523.0</td>\n",
              "      <td>[0.4, 1.3, 1.3]</td>\n",
              "      <td>[5, 6, 6]</td>\n",
              "    </tr>\n",
              "    <tr>\n",
              "      <th>209481</th>\n",
              "      <td>for sale</td>\n",
              "      <td>townhouse</td>\n",
              "      <td>plateau place</td>\n",
              "      <td>3.5</td>\n",
              "      <td>{'atAGlanceFacts': [{'factValue': '', 'factLab...</td>\n",
              "      <td>atlanta</td>\n",
              "      <td>{'rating': ['6/10', '7/10', '6/10'], 'data': {...</td>\n",
              "      <td>2643.0</td>\n",
              "      <td>30309.0</td>\n",
              "      <td>2.0</td>\n",
              "      <td>GA</td>\n",
              "      <td>NaN</td>\n",
              "      <td>775000.0</td>\n",
              "      <td>NaN</td>\n",
              "      <td>3.50</td>\n",
              "      <td>[{'factValue': '', 'factLabel': 'Year built'},...</td>\n",
              "      <td>NaN</td>\n",
              "      <td>None</td>\n",
              "      <td>None</td>\n",
              "      <td>None</td>\n",
              "      <td>None</td>\n",
              "      <td>None</td>\n",
              "      <td>293.0</td>\n",
              "      <td>[5.57, 1.9, 2.66]</td>\n",
              "      <td>[6, 7, 6]</td>\n",
              "    </tr>\n",
              "    <tr>\n",
              "      <th>301427</th>\n",
              "      <td>active</td>\n",
              "      <td>nan</td>\n",
              "      <td>cleveland street</td>\n",
              "      <td>1.750</td>\n",
              "      <td>{'atAGlanceFacts': [{'factValue': '', 'factLab...</td>\n",
              "      <td>houston</td>\n",
              "      <td>{'rating': ['3', '9', '3', '5', '3'], 'data': ...</td>\n",
              "      <td>NaN</td>\n",
              "      <td>77019.0</td>\n",
              "      <td>NaN</td>\n",
              "      <td>TX</td>\n",
              "      <td>NaN</td>\n",
              "      <td>145000.0</td>\n",
              "      <td>NaN</td>\n",
              "      <td>1.75</td>\n",
              "      <td>[{'factValue': '', 'factLabel': 'Year built'},...</td>\n",
              "      <td>NaN</td>\n",
              "      <td>None</td>\n",
              "      <td>None</td>\n",
              "      <td>None</td>\n",
              "      <td>None</td>\n",
              "      <td>None</td>\n",
              "      <td>NaN</td>\n",
              "      <td>[0.2, 0.4, 0.7, 1.0, 2.9]</td>\n",
              "      <td>[3, 9, 3, 5, 3]</td>\n",
              "    </tr>\n",
              "    <tr>\n",
              "      <th>52975</th>\n",
              "      <td>active</td>\n",
              "      <td>nan</td>\n",
              "      <td>spring creek road</td>\n",
              "      <td>None</td>\n",
              "      <td>{'atAGlanceFacts': [{'factValue': '1950', 'fac...</td>\n",
              "      <td>chattanooga</td>\n",
              "      <td>{'rating': ['3', '4', '2'], 'data': {'Distance...</td>\n",
              "      <td>1079.0</td>\n",
              "      <td>37411.0</td>\n",
              "      <td>NaN</td>\n",
              "      <td>TN</td>\n",
              "      <td>1 level</td>\n",
              "      <td>104900.0</td>\n",
              "      <td>NaN</td>\n",
              "      <td>NaN</td>\n",
              "      <td>[{'factValue': '1950', 'factLabel': 'Year buil...</td>\n",
              "      <td>1950.0</td>\n",
              "      <td>1976</td>\n",
              "      <td>Central, Electric</td>\n",
              "      <td>Central, Electric</td>\n",
              "      <td>None</td>\n",
              "      <td>8540 sq. ft.</td>\n",
              "      <td>97.0</td>\n",
              "      <td>[0.9, 1.9, 2.0]</td>\n",
              "      <td>[3, 4, 2]</td>\n",
              "    </tr>\n",
              "    <tr>\n",
              "      <th>141846</th>\n",
              "      <td>for sale</td>\n",
              "      <td>condo</td>\n",
              "      <td>69th street</td>\n",
              "      <td>11</td>\n",
              "      <td>{'atAGlanceFacts': [{'factValue': '1926', 'fac...</td>\n",
              "      <td>new york</td>\n",
              "      <td>{'rating': ['10/10', '3/10', '8/10'], 'data': ...</td>\n",
              "      <td>6241.0</td>\n",
              "      <td>10021.0</td>\n",
              "      <td>4.0</td>\n",
              "      <td>NY</td>\n",
              "      <td>17.0</td>\n",
              "      <td>38500000.0</td>\n",
              "      <td>NaN</td>\n",
              "      <td>11.00</td>\n",
              "      <td>[{'factValue': '1926', 'factLabel': 'Year buil...</td>\n",
              "      <td>1926.0</td>\n",
              "      <td>2008</td>\n",
              "      <td>Baseboard</td>\n",
              "      <td>Solar</td>\n",
              "      <td>Carport</td>\n",
              "      <td>None</td>\n",
              "      <td>6169.0</td>\n",
              "      <td>[0.5, 1.6, 2.8]</td>\n",
              "      <td>[10, 3, 8]</td>\n",
              "    </tr>\n",
              "  </tbody>\n",
              "</table>\n",
              "</div>"
            ],
            "text/plain": [
              "          status propertyType  ...                   Distance           rating\n",
              "158269  for sale        condo  ...            [0.4, 1.3, 1.3]        [5, 6, 6]\n",
              "209481  for sale    townhouse  ...          [5.57, 1.9, 2.66]        [6, 7, 6]\n",
              "301427    active          nan  ...  [0.2, 0.4, 0.7, 1.0, 2.9]  [3, 9, 3, 5, 3]\n",
              "52975     active          nan  ...            [0.9, 1.9, 2.0]        [3, 4, 2]\n",
              "141846  for sale        condo  ...            [0.5, 1.6, 2.8]       [10, 3, 8]\n",
              "\n",
              "[5 rows x 25 columns]"
            ]
          },
          "metadata": {
            "tags": []
          },
          "execution_count": 634
        }
      ]
    },
    {
      "cell_type": "code",
      "metadata": {
        "id": "-JUnaK7Ub9s5"
      },
      "source": [
        "df = df.drop(['stories_dop', 'homeFacts', 'schools', 'stories_dop', 'baths_new', 'homeFacts_new'], axis=1)"
      ],
      "execution_count": 635,
      "outputs": []
    },
    {
      "cell_type": "code",
      "metadata": {
        "id": "s8vgdv095Ift",
        "colab": {
          "base_uri": "https://localhost:8080/"
        },
        "outputId": "8c9db1c4-5359-4441-f7f8-2bce9acffe26"
      },
      "source": [
        "round(df.isna().sum() / df.shape[0] * 100, 1)"
      ],
      "execution_count": 748,
      "outputs": [
        {
          "output_type": "execute_result",
          "data": {
            "text/plain": [
              "status             0.0\n",
              "propertyType       0.9\n",
              "street             1.9\n",
              "baths             28.6\n",
              "homeFacts          0.0\n",
              "city               0.0\n",
              "schools            0.0\n",
              "sqft               3.2\n",
              "zipcode            0.0\n",
              "beds              29.7\n",
              "state              0.0\n",
              "stories           40.0\n",
              "target             0.7\n",
              "stories_dop       98.0\n",
              "baths_new         28.6\n",
              "homeFacts_new      0.0\n",
              "Year built        16.9\n",
              "Remodeled year    59.9\n",
              "Heating           29.0\n",
              "Cooling           32.9\n",
              "Parking           46.5\n",
              "lotsize           24.4\n",
              "Price/sqft        17.5\n",
              "Distance           0.0\n",
              "rating             0.0\n",
              "dist_max           1.1\n",
              "dist_min           1.1\n",
              "dist_mean          1.1\n",
              "rate_max           1.4\n",
              "rate_min           1.4\n",
              "rate_mean          1.4\n",
              "dtype: float64"
            ]
          },
          "metadata": {
            "tags": []
          },
          "execution_count": 748
        }
      ]
    },
    {
      "cell_type": "code",
      "metadata": {
        "id": "N8THFBamMwtt"
      },
      "source": [
        "df = df.drop(['lotsize'], axis=1)\n",
        "df = df.drop(['stories', 'Remodeled year', 'Heating', 'Cooling', 'Parking'], axis=1)"
      ],
      "execution_count": 637,
      "outputs": []
    },
    {
      "cell_type": "code",
      "metadata": {
        "id": "lppyqlGokqip"
      },
      "source": [
        "df = df.drop(['baths', 'beds', 'Year built'], axis=1)"
      ],
      "execution_count": 638,
      "outputs": []
    },
    {
      "cell_type": "code",
      "metadata": {
        "colab": {
          "base_uri": "https://localhost:8080/"
        },
        "id": "m77xTDhWclcJ",
        "outputId": "170b7055-03a3-4e03-980f-7f51ecb9413b"
      },
      "source": [
        "df[['status', 'propertyType', 'city', 'zipcode', 'state']].nunique()"
      ],
      "execution_count": 639,
      "outputs": [
        {
          "output_type": "execute_result",
          "data": {
            "text/plain": [
              "status           104\n",
              "propertyType    1113\n",
              "city            1785\n",
              "zipcode         4267\n",
              "state             39\n",
              "dtype: int64"
            ]
          },
          "metadata": {
            "tags": []
          },
          "execution_count": 639
        }
      ]
    },
    {
      "cell_type": "code",
      "metadata": {
        "id": "7g7gEnm2dSkH"
      },
      "source": [
        "# Содаем новые признаки\n",
        "\n",
        "import numpy as np\n",
        "\n",
        "df['dist_max'] = df['Distance'].apply(lambda x: None if x is None else \n",
        "                                      None if len(x) == 0 else max(x))\n",
        "df['dist_min'] = df['Distance'].apply(lambda x: None if x is None else \n",
        "                                      None if len(x) == 0 else min(x))\n",
        "df['dist_mean'] = df['Distance'].apply(lambda x: None if x is None else \n",
        "                                      None if len(x) == 0 else np.mean(list(filter(None, x))))"
      ],
      "execution_count": 746,
      "outputs": []
    },
    {
      "cell_type": "code",
      "metadata": {
        "id": "XvC_wX5YggqF"
      },
      "source": [
        "df['rate_max'] = df['rating'].apply(lambda x: None if x is None else \n",
        "                                      None if len(x) == 0 else max(x))\n",
        "df['rate_min'] = df['rating'].apply(lambda x: None if x is None else \n",
        "                                      None if len(x) == 0 else min(x))\n",
        "df['rate_mean'] = df['rating'].apply(lambda x: None if x is None else \n",
        "                                      None if len(x) == 0 else np.mean(list(filter(None, x))))"
      ],
      "execution_count": 747,
      "outputs": []
    },
    {
      "cell_type": "code",
      "metadata": {
        "id": "RFfDPxdPlARQ"
      },
      "source": [
        ""
      ],
      "execution_count": 641,
      "outputs": []
    },
    {
      "cell_type": "code",
      "metadata": {
        "colab": {
          "base_uri": "https://localhost:8080/"
        },
        "id": "1z6NslJ6hSVT",
        "outputId": "ed458026-dec3-4e7a-b42b-2ef4203d9388"
      },
      "source": [
        "df.info()"
      ],
      "execution_count": 642,
      "outputs": [
        {
          "output_type": "stream",
          "text": [
            "<class 'pandas.core.frame.DataFrame'>\n",
            "RangeIndex: 377185 entries, 0 to 377184\n",
            "Data columns (total 17 columns):\n",
            " #   Column        Non-Null Count   Dtype  \n",
            "---  ------        --------------   -----  \n",
            " 0   status        377185 non-null  object \n",
            " 1   propertyType  373707 non-null  object \n",
            " 2   street        369978 non-null  object \n",
            " 3   city          377185 non-null  object \n",
            " 4   sqft          365652 non-null  float64\n",
            " 5   zipcode       377183 non-null  float64\n",
            " 6   state         377185 non-null  object \n",
            " 7   target        374704 non-null  float64\n",
            " 8   Price/sqft    363651 non-null  float64\n",
            " 9   Distance      377185 non-null  object \n",
            " 10  rating        377185 non-null  object \n",
            " 11  dist_max      372900 non-null  float64\n",
            " 12  dist_min      372900 non-null  float64\n",
            " 13  dist_mean     372900 non-null  float64\n",
            " 14  rate_max      363595 non-null  float64\n",
            " 15  rate_min      363595 non-null  float64\n",
            " 16  rate_mean     282353 non-null  float64\n",
            "dtypes: float64(10), object(7)\n",
            "memory usage: 48.9+ MB\n"
          ],
          "name": "stdout"
        }
      ]
    },
    {
      "cell_type": "code",
      "metadata": {
        "id": "6i976MuIk-Fg"
      },
      "source": [
        ""
      ],
      "execution_count": 642,
      "outputs": []
    }
  ]
}